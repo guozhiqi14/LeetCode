{
 "cells": [
  {
   "cell_type": "markdown",
   "metadata": {},
   "source": [
    "## [289. Game of Life](https://leetcode.com/problems/game-of-life/description/)"
   ]
  },
  {
   "cell_type": "markdown",
   "metadata": {},
   "source": [
    "According to the Wikipedia's article: \"The Game of Life, also known simply as Life, is a cellular automaton devised by the British mathematician John Horton Conway in 1970.\"\n",
    "\n",
    "Given a board with m by n cells, each cell has an initial state live (1) or dead (0). Each cell interacts with its eight neighbors (horizontal, vertical, diagonal) using the following four rules (taken from the above Wikipedia article):\n",
    "\n",
    "1. Any live cell with fewer than two live neighbors dies, as if caused by under-population.\n",
    "2. Any live cell with two or three live neighbors lives on to the next generation.\n",
    "3. Any live cell with more than three live neighbors dies, as if by over-population..\n",
    "4. Any dead cell with exactly three live neighbors becomes a live cell, as if by reproduction. \n",
    "\n",
    "Write a function to compute the next state (after one update) of the board given its current state. The next state is created by applying the above rules simultaneously to every cell in the current state, where births and deaths occur simultaneously."
   ]
  },
  {
   "cell_type": "raw",
   "metadata": {},
   "source": [
    "Example:\n",
    "\n",
    "Input: \n",
    "[\n",
    "  [0,1,0],\n",
    "  [0,0,1],\n",
    "  [1,1,1],\n",
    "  [0,0,0]\n",
    "]\n",
    "Output: \n",
    "[\n",
    "  [0,0,0],\n",
    "  [1,0,1],\n",
    "  [0,1,1],\n",
    "  [0,1,0]\n",
    "]\n"
   ]
  },
  {
   "cell_type": "markdown",
   "metadata": {},
   "source": [
    "Follow up:\n",
    "\n",
    "1. Could you solve it in-place? Remember that the board needs to be updated at the same time: You cannot update some cells first and then use their updated values to update other cells.\n",
    "2. In this question, we represent the board using a 2D array. In principle, the board is infinite, which would cause problems when the active area encroaches the border of the array. How would you address these problems?"
   ]
  },
  {
   "cell_type": "markdown",
   "metadata": {},
   "source": [
    "## Extra Space"
   ]
  },
  {
   "cell_type": "code",
   "execution_count": 133,
   "metadata": {
    "collapsed": true
   },
   "outputs": [],
   "source": [
    "from copy import deepcopy\n",
    "class Solution:\n",
    "    def gameOfLife(self, board):\n",
    "        \"\"\"\n",
    "        :type board: List[List[int]]\n",
    "        :rtype: void Do not return anything, modify board in-place instead.\n",
    "        \"\"\"\n",
    "        copy = deepcopy(board)\n",
    "        row,col = len(copy),len(copy[0])\n",
    "        for i in range(row):\n",
    "            for j in range(col):\n",
    "                count = 0\n",
    "                \n",
    "                #check Up\n",
    "                if i > 0:\n",
    "                    if copy[i-1][j] == 1:\n",
    "                        count += 1\n",
    "                #check Bottom:\n",
    "                if i < row-1:\n",
    "                    if copy[i+1][j] == 1:\n",
    "                        count += 1\n",
    "                #check left:\n",
    "                if j > 0:\n",
    "                    if copy[i][j-1] == 1:\n",
    "                        count += 1\n",
    "                #check right:\n",
    "                if j < col-1:\n",
    "                    if copy[i][j+1] == 1:\n",
    "                        count += 1\n",
    "                \n",
    "                #check UpLeft\n",
    "                if i > 0 and j >0:\n",
    "                    if copy[i-1][j-1] == 1:\n",
    "                        count += 1\n",
    "                \n",
    "                #check UpRight\n",
    "                if i > 0  and j < col-1:\n",
    "                    if copy[i-1][j+1] == 1:\n",
    "                        count += 1\n",
    "                #check downLeft\n",
    "                if i < row -1 and j > 0:\n",
    "                    if copy[i+1][j-1] == 1:\n",
    "                        count += 1\n",
    "                #check downRight\n",
    "                if i < row-1 and j < col-1:\n",
    "                    if copy[i+1][j+1] == 1:\n",
    "                        count += 1 \n",
    "                \n",
    "                if copy[i][j] == 1:\n",
    "                    if count < 2:\n",
    "                        board[i][j] = 0\n",
    "                    elif count ==2 or count ==3:\n",
    "                        board[i][j] = 1\n",
    "                    else:\n",
    "                        board[i][j] = 0\n",
    "                else:\n",
    "                    if count == 3:\n",
    "                         board[i][j] = 1\n",
    "                  \n",
    "                    \n",
    "        "
   ]
  },
  {
   "cell_type": "code",
   "execution_count": 136,
   "metadata": {
    "collapsed": false
   },
   "outputs": [],
   "source": [
    "s = Solution() \n",
    "s.gameOfLife([[0,0,0],[0,1,0],[0,0,0]])"
   ]
  },
  {
   "cell_type": "markdown",
   "metadata": {},
   "source": [
    "## [In Place](https://leetcode.com/problems/game-of-life/discuss/150121/Python-tm-())   \n",
    "\n",
    "若是不允许申请空间，我们必须在不改变原始棋盘状态的情况下，记录出每个cell应该怎么变化；\n",
    "\n",
    "使用不同数值（十进制）代表状态 0 ：dead； 10 ：dead—>live； 11：live—>live； 1：live；"
   ]
  },
  {
   "cell_type": "code",
   "execution_count": 137,
   "metadata": {
    "collapsed": true
   },
   "outputs": [],
   "source": [
    "class Solution(object):\n",
    "    def gameOfLife(self, board):\n",
    "        m, n = len(board), len(board[0])\n",
    "        for i in range(m):\n",
    "            for j in range(n):\n",
    "                neighbors = self.getNeighbors(board, i, j)\n",
    "                # Currently Dead\n",
    "                if board[i][j] == 0:\n",
    "                    if neighbors == 3:\n",
    "                        board[i][j] += 10  # Dead -> Live\n",
    "                # Currently Live\n",
    "                else:\n",
    "                    if neighbors == 2 or neighbors == 3:\n",
    "                        board[i][j] += 10  # Live -> Live\n",
    "        \n",
    "        # In-place bitwise operation\n",
    "        for i in range(m):\n",
    "            for j in range(n):\n",
    "                board[i][j] //= 10\n",
    "        return\n",
    "    \n",
    "    def getNeighbors(self, board, row, col):\n",
    "        m, n = len(board), len(board[0])\n",
    "        cnt = 0 \n",
    "        for i in [row-1, row, row+1]:\n",
    "            for j in [col-1, col, col+1]:\n",
    "                if i == row and j == col or i < 0 or j < 0 or i >= m or j >= n:\n",
    "                    continue\n",
    "                if board[i][j] % 10 == 1:\n",
    "                    cnt += 1\n",
    "        return cnt"
   ]
  },
  {
   "cell_type": "code",
   "execution_count": null,
   "metadata": {
    "collapsed": true
   },
   "outputs": [],
   "source": []
  }
 ],
 "metadata": {
  "kernelspec": {
   "display_name": "Python [Root]",
   "language": "python",
   "name": "Python [Root]"
  },
  "language_info": {
   "codemirror_mode": {
    "name": "ipython",
    "version": 3
   },
   "file_extension": ".py",
   "mimetype": "text/x-python",
   "name": "python",
   "nbconvert_exporter": "python",
   "pygments_lexer": "ipython3",
   "version": "3.5.5"
  }
 },
 "nbformat": 4,
 "nbformat_minor": 0
}
