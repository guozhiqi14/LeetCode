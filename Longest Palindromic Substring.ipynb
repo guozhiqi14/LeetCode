{
 "cells": [
  {
   "cell_type": "markdown",
   "metadata": {},
   "source": [
    "## [Longest Palindromic Substring](https://leetcode.com/explore/interview/card/top-interview-questions-medium/103/array-and-strings/780/)"
   ]
  },
  {
   "cell_type": "markdown",
   "metadata": {},
   "source": [
    "Given a string s, find the longest palindromic substring in s. You may assume that the maximum length of s is 1000."
   ]
  },
  {
   "cell_type": "raw",
   "metadata": {},
   "source": [
    "Example 1:\n",
    "\n",
    "Input: \"babad\"\n",
    "Output: \"bab\"\n",
    "Note: \"aba\" is also a valid answer.\n",
    "\n",
    "Example 2:\n",
    "\n",
    "Input: \"cbbd\"\n",
    "Output: \"bb\""
   ]
  },
  {
   "cell_type": "markdown",
   "metadata": {},
   "source": [
    "### [视频](https://www.youtube.com/watch?v=bSNhTqzgCq4)"
   ]
  },
  {
   "cell_type": "code",
   "execution_count": 10,
   "metadata": {
    "collapsed": true
   },
   "outputs": [],
   "source": [
    "class Solution:\n",
    "    def longestPalindrome(self, s):\n",
    "        \"\"\"\n",
    "        :type s: str\n",
    "        :rtype: str\n",
    "        \"\"\"\n",
    "        self.longestSize = 0\n",
    "        self.longestStart = 0\n",
    "        for index,value in enumerate(s):\n",
    "            self.checkOdd(s,index) \n",
    "            self.checkEven(s,index)\n",
    "        return s[self.longestStart:self.longestStart+self.longestSize+1]  \n",
    "            \n",
    "    def checkOdd(self,s,index):\n",
    "        start = index\n",
    "        end = index\n",
    "        while start >= 1 and end < len(s)-1 and s[start-1] == s[end+1]:\n",
    "            start -= 1\n",
    "            end += 1\n",
    "        if end - start > self.longestSize:\n",
    "            self.longestSize = end - start\n",
    "            self.longestStart = start\n",
    "    \n",
    "    def checkEven(self,s,index):\n",
    "        start = index\n",
    "        end  = min(index+1,len(s)-1)\n",
    "        while start >=1 and end < len(s)-1 and s[start] == s[end] and s[start-1]==s[end+1]:\n",
    "            start -= 1\n",
    "            end += 1\n",
    "        if end -start > self.longestSize and s[start] == s[end]:\n",
    "            self.longestSize = end - start\n",
    "            self.longestStart = start "
   ]
  },
  {
   "cell_type": "code",
   "execution_count": null,
   "metadata": {
    "collapsed": true
   },
   "outputs": [],
   "source": []
  },
  {
   "cell_type": "code",
   "execution_count": null,
   "metadata": {
    "collapsed": true
   },
   "outputs": [],
   "source": []
  },
  {
   "cell_type": "code",
   "execution_count": null,
   "metadata": {
    "collapsed": true
   },
   "outputs": [],
   "source": []
  },
  {
   "cell_type": "code",
   "execution_count": null,
   "metadata": {
    "collapsed": true
   },
   "outputs": [],
   "source": []
  },
  {
   "cell_type": "code",
   "execution_count": null,
   "metadata": {
    "collapsed": true
   },
   "outputs": [],
   "source": []
  },
  {
   "cell_type": "code",
   "execution_count": 36,
   "metadata": {
    "collapsed": true
   },
   "outputs": [],
   "source": [
    "class Solution:\n",
    "    def longestPalindrome(self, s):\n",
    "        \"\"\"\n",
    "        :type s: str\n",
    "        :rtype: str\n",
    "        \"\"\"\n",
    "        self.longestSize = 0\n",
    "        self.longestStart = 0\n",
    "        \n",
    "        for index,value in enumerate(s):\n",
    "            self.checkOdd(s,index)\n",
    "            self.checkEven(s,index)\n",
    "#         print(self.longestSize)\n",
    "        return s[self.longestStart:self.longestStart+self.longestSize]\n",
    "        \n",
    "    def checkOdd(self,s,index):\n",
    "        start,end = index,index\n",
    "        while start > 0 and end < len(s)-1 and s[start-1] == s[end+1]:\n",
    "            start -= 1\n",
    "            end += 1\n",
    "        if end-start+1 > self.longestSize:\n",
    "            self.longestStart = start\n",
    "            self.longestSize = end-start+1\n",
    "    \n",
    "    def checkEven(self,s,index):\n",
    "        start = index\n",
    "        end = min(index+1,len(s)-1)\n",
    "        while start > 0 and end < len(s)-1 and s[start]==s[end] and s[start-1] == s[end+1]:\n",
    "            start-=1\n",
    "            end+=1 \n",
    "        if end-start+1 > self.longestSize and s[start] == s[end]:\n",
    "            self.longestStart = start\n",
    "            self.longestSize = end-start+1   \n",
    "            \n",
    "            \n",
    "        "
   ]
  },
  {
   "cell_type": "code",
   "execution_count": 37,
   "metadata": {
    "collapsed": false
   },
   "outputs": [
    {
     "data": {
      "text/plain": [
       "'bb'"
      ]
     },
     "execution_count": 37,
     "metadata": {},
     "output_type": "execute_result"
    }
   ],
   "source": [
    "sol = Solution()\n",
    "sol.longestPalindrome(\"cbbd\") "
   ]
  },
  {
   "cell_type": "code",
   "execution_count": null,
   "metadata": {
    "collapsed": true
   },
   "outputs": [],
   "source": []
  }
 ],
 "metadata": {
  "anaconda-cloud": {},
  "kernelspec": {
   "display_name": "Python [Root]",
   "language": "python",
   "name": "Python [Root]"
  },
  "language_info": {
   "codemirror_mode": {
    "name": "ipython",
    "version": 3
   },
   "file_extension": ".py",
   "mimetype": "text/x-python",
   "name": "python",
   "nbconvert_exporter": "python",
   "pygments_lexer": "ipython3",
   "version": "3.5.5"
  }
 },
 "nbformat": 4,
 "nbformat_minor": 0
}
