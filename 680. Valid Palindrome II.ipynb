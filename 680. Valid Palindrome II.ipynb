{
 "cells": [
  {
   "cell_type": "markdown",
   "metadata": {},
   "source": [
    "## [680. Valid Palindrome II](https://leetcode.com/problems/valid-palindrome-ii/description/)"
   ]
  },
  {
   "cell_type": "markdown",
   "metadata": {},
   "source": [
    "### Brutal Force. TLE"
   ]
  },
  {
   "cell_type": "code",
   "execution_count": null,
   "metadata": {
    "collapsed": true
   },
   "outputs": [],
   "source": [
    "class Solution:\n",
    "    def validPalindrome(self, s):\n",
    "        \"\"\"\n",
    "        :type s: str\n",
    "        :rtype: bool\n",
    "        \"\"\"\n",
    "        def checkPalindrome(s):\n",
    "            left,right = 0,len(s)-1\n",
    "            while left <= right:\n",
    "                if s[left] != s[right]:\n",
    "                    return False\n",
    "                left,right = left+1,right-1\n",
    "            return True\n",
    "        \n",
    "        if checkPalindrome(s):\n",
    "            return True\n",
    "        else:\n",
    "            for i in range(len(s)):\n",
    "                if checkPalindrome(s[:i]+s[i+1:]):\n",
    "                    return True\n",
    "            return False\n",
    "        "
   ]
  },
  {
   "cell_type": "markdown",
   "metadata": {},
   "source": [
    "### [Greedy](https://www.youtube.com/watch?v=hvI-rJyG4ik)"
   ]
  },
  {
   "cell_type": "code",
   "execution_count": 7,
   "metadata": {
    "collapsed": true
   },
   "outputs": [],
   "source": [
    "class Solution:\n",
    "    def validPalindrome(self, s):\n",
    "        \"\"\"\n",
    "        :type s: str\n",
    "        :rtype: bool\n",
    "        \"\"\"\n",
    "        def checkPalindrome(l,r):\n",
    "            return s[l:r+1] == s[l:r+1][::-1]\n",
    "        \n",
    "        l,r = 0,len(s)-1\n",
    "        while l <= r:\n",
    "            if s[l] != s[r]:\n",
    "                return checkPalindrome(l+1,r) or checkPalindrome(l,r-1)\n",
    "            l,r = l+1,r-1\n",
    "        return True"
   ]
  },
  {
   "cell_type": "code",
   "execution_count": null,
   "metadata": {
    "collapsed": true
   },
   "outputs": [],
   "source": []
  }
 ],
 "metadata": {
  "kernelspec": {
   "display_name": "Python [Root]",
   "language": "python",
   "name": "Python [Root]"
  },
  "language_info": {
   "codemirror_mode": {
    "name": "ipython",
    "version": 3
   },
   "file_extension": ".py",
   "mimetype": "text/x-python",
   "name": "python",
   "nbconvert_exporter": "python",
   "pygments_lexer": "ipython3",
   "version": "3.5.5"
  }
 },
 "nbformat": 4,
 "nbformat_minor": 0
}
