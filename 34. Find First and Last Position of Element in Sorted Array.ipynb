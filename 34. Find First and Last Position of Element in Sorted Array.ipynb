{
 "cells": [
  {
   "cell_type": "markdown",
   "metadata": {},
   "source": [
    "## [34. Find First and Last Position of Element in Sorted Array](https://leetcode.com/problems/find-first-and-last-position-of-element-in-sorted-array/description/)"
   ]
  },
  {
   "cell_type": "markdown",
   "metadata": {},
   "source": [
    "### O(n) 算法  不合格"
   ]
  },
  {
   "cell_type": "code",
   "execution_count": 5,
   "metadata": {
    "collapsed": true
   },
   "outputs": [],
   "source": [
    "class Solution:\n",
    "    def searchRange(self, nums, target):\n",
    "        \"\"\"\n",
    "        :type nums: List[int]\n",
    "        :type target: int\n",
    "        :rtype: List[int]\n",
    "        \"\"\"\n",
    "        for i in range(len(nums)):\n",
    "            if nums[i] == target:\n",
    "                left = i\n",
    "                break\n",
    "        else:\n",
    "            return [-1,-1]\n",
    "        \n",
    "        for i in range(len(nums)-1,-1,-1):\n",
    "            if nums[i] == target:\n",
    "                right = i\n",
    "                break\n",
    "        else:\n",
    "            return [-1,-1]\n",
    "        \n",
    "        return [left,right]"
   ]
  },
  {
   "cell_type": "code",
   "execution_count": 6,
   "metadata": {
    "collapsed": false
   },
   "outputs": [
    {
     "data": {
      "text/plain": [
       "[3, 4]"
      ]
     },
     "execution_count": 6,
     "metadata": {},
     "output_type": "execute_result"
    }
   ],
   "source": [
    "Solution.searchRange(_,[5,7,7,8,8,10],8)"
   ]
  },
  {
   "cell_type": "code",
   "execution_count": null,
   "metadata": {
    "collapsed": true
   },
   "outputs": [],
   "source": []
  },
  {
   "cell_type": "markdown",
   "metadata": {},
   "source": [
    "[解法二](https://blog.csdn.net/alicelmx/article/details/81092868)\n",
    "\n",
    "看到O(logn)的时间复杂度的查找，就首先想到二分查找，刚好这道题中数字是升序的，所以可以直接拿来用，但是我们要进行一点点小修改。当我们使用传统二分查找思路找到和target相等的值的索引的时候，我们继续分头向前向后循环，直到找到不等于target的值，此时就能找到我们需要的索引对。"
   ]
  },
  {
   "cell_type": "code",
   "execution_count": 12,
   "metadata": {
    "collapsed": false
   },
   "outputs": [],
   "source": [
    "class Solution:\n",
    "    def searchRange(self, nums, target):\n",
    "        \"\"\"\n",
    "        :type nums: List[int]\n",
    "        :type target: int\n",
    "        :rtype: List[int]\n",
    "        \"\"\"\n",
    "        left = 0\n",
    "        right = len(nums)-1\n",
    "        \n",
    "        while left <= right:\n",
    "            mid = (left+right)//2\n",
    "            \n",
    "            if nums[mid] == target:\n",
    "                l_index,r_index = mid,mid\n",
    "                while l_index - 1 >= 0 and nums[l_index-1] == target:\n",
    "                    l_index -= 1\n",
    "                while r_index + 1 <= len(nums)-1 and nums[r_index + 1] == target:\n",
    "                    r_index += 1\n",
    "                return [l_index,r_index]\n",
    "            elif nums[mid] > target:\n",
    "                right = mid - 1\n",
    "            else:\n",
    "                left = mid + 1\n",
    "        else:\n",
    "            return [-1,-1]"
   ]
  },
  {
   "cell_type": "code",
   "execution_count": 13,
   "metadata": {
    "collapsed": false
   },
   "outputs": [
    {
     "data": {
      "text/plain": [
       "[3, 4]"
      ]
     },
     "execution_count": 13,
     "metadata": {},
     "output_type": "execute_result"
    }
   ],
   "source": [
    "Solution.searchRange(_,[5,7,7,8,8,10],8)"
   ]
  },
  {
   "cell_type": "code",
   "execution_count": 14,
   "metadata": {
    "collapsed": false
   },
   "outputs": [
    {
     "data": {
      "text/plain": [
       "[-1, -1]"
      ]
     },
     "execution_count": 14,
     "metadata": {},
     "output_type": "execute_result"
    }
   ],
   "source": [
    "Solution.searchRange(_,[5,7,7,8,8,10],3)"
   ]
  },
  {
   "cell_type": "markdown",
   "metadata": {},
   "source": [
    "## [三个binary search](https://www.youtube.com/watch?v=kE6DBnYTrIU)"
   ]
  },
  {
   "cell_type": "code",
   "execution_count": 53,
   "metadata": {
    "collapsed": true
   },
   "outputs": [],
   "source": [
    "class Solution:\n",
    "    def searchRange(self, nums, target):\n",
    "        \"\"\"\n",
    "        :type nums: List[int]\n",
    "        :type target: int\n",
    "        :rtype: List[int]\n",
    "        \"\"\"\n",
    "        left = 0\n",
    "        right = len(nums)-1\n",
    "        \n",
    "        while left <= right:\n",
    "            mid = (left+right)//2\n",
    "            if nums[mid] > target:\n",
    "                right = mid - 1\n",
    "            elif nums[mid] < target:\n",
    "                left = mid + 1\n",
    "            else:\n",
    "                return(self.find_left(nums,0,mid,target),self.find_right(nums,mid,len(nums)-1,target))\n",
    "        return [-1,-1]\n",
    "    def find_left(self,nums,left,right,target):\n",
    "        while left<right:\n",
    "            mid = (left+right)//2\n",
    "            if nums[mid] < target:\n",
    "                left = mid+1\n",
    "            elif nums[mid-1] < target:\n",
    "                return mid\n",
    "            else:\n",
    "                right = mid - 1\n",
    "        return left\n",
    "    def find_right(self,nums,left,right,target):\n",
    "        while left < right:\n",
    "            mid = (left+right)//2\n",
    "            if nums[mid] > target:\n",
    "                right = mid -1\n",
    "            elif nums[mid+1]>target:\n",
    "                return mid\n",
    "            else:\n",
    "                left = mid + 1\n",
    "        return right "
   ]
  },
  {
   "cell_type": "code",
   "execution_count": 54,
   "metadata": {
    "collapsed": false
   },
   "outputs": [
    {
     "data": {
      "text/plain": [
       "[-1, -1]"
      ]
     },
     "execution_count": 54,
     "metadata": {},
     "output_type": "execute_result"
    }
   ],
   "source": [
    "c = Solution()\n",
    "\n",
    "c.searchRange([],0)"
   ]
  },
  {
   "cell_type": "code",
   "execution_count": null,
   "metadata": {
    "collapsed": true
   },
   "outputs": [],
   "source": []
  },
  {
   "cell_type": "code",
   "execution_count": null,
   "metadata": {
    "collapsed": true
   },
   "outputs": [],
   "source": []
  },
  {
   "cell_type": "markdown",
   "metadata": {},
   "source": [
    "## [直接用两个binary search找左右边界](http://bangbingsyb.blogspot.com/2014/11/leetcode-search-for-range.html)   \n",
    "\n",
    "* 总结的规律就是：\n",
    "二分查找时特殊处理target = A[mid]的情况\n",
    "对搜索left：如果target = A[mid]则继续向左找，否则向右找。直到搜索结束，left = start\n",
    "对搜索right：如果target = A[mid]则继续向右找，否则向左找。直到搜索结束，right = end\n",
    "最后判断如果A[left], A[right] != target，则表明target不存在于数组中, left = right = -1\n",
    "\n"
   ]
  },
  {
   "cell_type": "code",
   "execution_count": 67,
   "metadata": {
    "collapsed": true
   },
   "outputs": [],
   "source": [
    "class Solution:\n",
    "    def searchRange(self, nums, target):\n",
    "        \"\"\"\n",
    "        :type nums: List[int]\n",
    "        :type target: int\n",
    "        :rtype: List[int]\n",
    "        \"\"\"\n",
    "        return [self.find_left(nums,target),self.find_right(nums,target)]\n",
    "    \n",
    "    def find_left(self,nums,target):\n",
    "        left,right = 0,len(nums)-1\n",
    "        while left<=right:\n",
    "            mid = (left+right)//2\n",
    "            if nums[mid]<target:\n",
    "                left = mid + 1\n",
    "            elif nums[mid]>target:\n",
    "                right = mid - 1\n",
    "            else:\n",
    "                right = mid - 1\n",
    "        if left>=0 and left<len(nums) and nums[left] == target:\n",
    "            return left\n",
    "        else:\n",
    "            return -1\n",
    "    def find_right(self,nums,target):\n",
    "        left,right = 0,len(nums)-1\n",
    "        while left<=right:\n",
    "            mid = (left+right)//2\n",
    "            if nums[mid] < target:\n",
    "                left = mid + 1\n",
    "            elif nums[mid] > target:\n",
    "                right = mid - 1\n",
    "            else:\n",
    "                left = mid + 1\n",
    "        if right>=0 and right<len(nums) and nums[right] == target:\n",
    "            return right\n",
    "        else:\n",
    "            return -1"
   ]
  },
  {
   "cell_type": "code",
   "execution_count": 68,
   "metadata": {
    "collapsed": false
   },
   "outputs": [
    {
     "data": {
      "text/plain": [
       "[-1, -1]"
      ]
     },
     "execution_count": 68,
     "metadata": {},
     "output_type": "execute_result"
    }
   ],
   "source": [
    "c = Solution()\n",
    "\n",
    "c.searchRange([2,2],3)"
   ]
  },
  {
   "cell_type": "code",
   "execution_count": null,
   "metadata": {
    "collapsed": true
   },
   "outputs": [],
   "source": []
  },
  {
   "cell_type": "code",
   "execution_count": null,
   "metadata": {
    "collapsed": true
   },
   "outputs": [],
   "source": []
  }
 ],
 "metadata": {
  "kernelspec": {
   "display_name": "Python [Root]",
   "language": "python",
   "name": "Python [Root]"
  },
  "language_info": {
   "codemirror_mode": {
    "name": "ipython",
    "version": 3
   },
   "file_extension": ".py",
   "mimetype": "text/x-python",
   "name": "python",
   "nbconvert_exporter": "python",
   "pygments_lexer": "ipython3",
   "version": "3.5.5"
  }
 },
 "nbformat": 4,
 "nbformat_minor": 0
}
