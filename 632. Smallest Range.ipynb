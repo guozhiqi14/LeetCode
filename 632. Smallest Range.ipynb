{
 "cells": [
  {
   "cell_type": "markdown",
   "metadata": {},
   "source": [
    "## [632. Smallest Range](https://leetcode.com/problems/smallest-range/description/)"
   ]
  },
  {
   "cell_type": "markdown",
   "metadata": {},
   "source": [
    "## [视频](https://www.youtube.com/watch?v=csJXQZFYklE)"
   ]
  },
  {
   "cell_type": "code",
   "execution_count": 26,
   "metadata": {
    "collapsed": true
   },
   "outputs": [],
   "source": [
    "import heapq\n",
    "class Solution(object):\n",
    "    def smallestRange(self, nums):\n",
    "        \"\"\"\n",
    "        :type nums: List[List[int]]\n",
    "        :rtype: List[int]\n",
    "        \"\"\"\n",
    "        iters = [iter(l) for l in nums]\n",
    "        \n",
    "        heap = [(next(it), i) for i,it in enumerate(iters)]\n",
    "        print(heap)\n",
    "        heapq.heapify(heap)\n",
    "\n",
    "        lo, hi = 0, float('inf')\n",
    "        rbound = max(heap)[0]\n",
    "        print(rbound)\n",
    "        while True:\n",
    "            lbound, i = heap[0]\n",
    "            if rbound - lbound < hi - lo:\n",
    "                lo, hi = lbound, rbound\n",
    "            nxt = next(iters[i], None)\n",
    "            if nxt is None:\n",
    "                return [lo, hi]\n",
    "            rbound = max(rbound, nxt)\n",
    "            heapq.heappushpop(heap, (nxt,i))"
   ]
  },
  {
   "cell_type": "code",
   "execution_count": 27,
   "metadata": {
    "collapsed": false
   },
   "outputs": [
    {
     "name": "stdout",
     "output_type": "stream",
     "text": [
      "[(4, 0), (0, 1), (5, 2)]\n",
      "5\n"
     ]
    },
    {
     "data": {
      "text/plain": [
       "[20, 24]"
      ]
     },
     "execution_count": 27,
     "metadata": {},
     "output_type": "execute_result"
    }
   ],
   "source": [
    "s = Solution()\n",
    "s.smallestRange([[4,10,15,24,26], [0,9,12,20], [5,18,22,30]])"
   ]
  },
  {
   "cell_type": "code",
   "execution_count": 29,
   "metadata": {
    "collapsed": true
   },
   "outputs": [],
   "source": [
    "import heapq\n",
    "class Solution(object):\n",
    "    def smallestRange(self, A):\n",
    "        pq = [(row[0], i, 0) for i, row in enumerate(A)]\n",
    "        heapq.heapify(pq)\n",
    "\n",
    "        ans = -1e9, 1e9\n",
    "        right = max(row[0] for row in A)\n",
    "        while pq:\n",
    "            left, i, j = heapq.heappop(pq)\n",
    "            if right - left < ans[1] - ans[0]:\n",
    "                ans = left, right\n",
    "            if j + 1 == len(A[i]):\n",
    "                return ans\n",
    "            v = A[i][j+1]\n",
    "            right = max(right, v)\n",
    "            heapq.heappush(pq, (v, i, j+1))\n"
   ]
  },
  {
   "cell_type": "code",
   "execution_count": 30,
   "metadata": {
    "collapsed": false
   },
   "outputs": [
    {
     "data": {
      "text/plain": [
       "(20, 24)"
      ]
     },
     "execution_count": 30,
     "metadata": {},
     "output_type": "execute_result"
    }
   ],
   "source": [
    "s = Solution()\n",
    "s.smallestRange([[4,10,15,24,26], [0,9,12,20], [5,18,22,30]])"
   ]
  },
  {
   "cell_type": "code",
   "execution_count": 31,
   "metadata": {
    "collapsed": true
   },
   "outputs": [],
   "source": [
    "A = [[4,10,15,24,26], [0,9,12,20], [5,18,22,30]]\n",
    "pq = [(row[0], i, 0) for i, row in enumerate(A)]"
   ]
  },
  {
   "cell_type": "code",
   "execution_count": 32,
   "metadata": {
    "collapsed": false
   },
   "outputs": [
    {
     "data": {
      "text/plain": [
       "[(4, 0, 0), (0, 1, 0), (5, 2, 0)]"
      ]
     },
     "execution_count": 32,
     "metadata": {},
     "output_type": "execute_result"
    }
   ],
   "source": [
    "pq"
   ]
  },
  {
   "cell_type": "code",
   "execution_count": 36,
   "metadata": {
    "collapsed": false
   },
   "outputs": [
    {
     "name": "stdout",
     "output_type": "stream",
     "text": [
      "0 [4, 10, 15, 24, 26]\n",
      "1 [0, 9, 12, 20]\n",
      "2 [5, 18, 22, 30]\n"
     ]
    }
   ],
   "source": [
    "for i,row in enumerate(A):\n",
    "    print(i,row)"
   ]
  },
  {
   "cell_type": "code",
   "execution_count": 38,
   "metadata": {
    "collapsed": false
   },
   "outputs": [
    {
     "data": {
      "text/plain": [
       "True"
      ]
     },
     "execution_count": 38,
     "metadata": {},
     "output_type": "execute_result"
    }
   ],
   "source": [
    "5 < float('inf')- float('-inf')"
   ]
  },
  {
   "cell_type": "code",
   "execution_count": null,
   "metadata": {
    "collapsed": true
   },
   "outputs": [],
   "source": []
  }
 ],
 "metadata": {
  "kernelspec": {
   "display_name": "Python [Root]",
   "language": "python",
   "name": "Python [Root]"
  },
  "language_info": {
   "codemirror_mode": {
    "name": "ipython",
    "version": 3
   },
   "file_extension": ".py",
   "mimetype": "text/x-python",
   "name": "python",
   "nbconvert_exporter": "python",
   "pygments_lexer": "ipython3",
   "version": "3.5.5"
  }
 },
 "nbformat": 4,
 "nbformat_minor": 0
}
