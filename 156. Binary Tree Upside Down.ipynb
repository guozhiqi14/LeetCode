{
 "cells": [
  {
   "cell_type": "markdown",
   "metadata": {},
   "source": [
    "## [156. Binary Tree Upside Down](https://leetcode.com/problems/binary-tree-upside-down/description/)"
   ]
  },
  {
   "cell_type": "markdown",
   "metadata": {},
   "source": [
    "Given a binary tree where all the right nodes are either leaf nodes with a sibling (a left node that shares the same parent node) or empty, flip it upside down and turn it into a tree where the original right nodes turned into left leaf nodes. Return the new root."
   ]
  },
  {
   "cell_type": "raw",
   "metadata": {},
   "source": [
    "Example:\n",
    "\n",
    "Input: [1,2,3,4,5]\n",
    "\n",
    "    1\n",
    "   / \\\n",
    "  2   3\n",
    " / \\\n",
    "4   5\n",
    "\n",
    "Output: return the root of the binary tree [4,5,2,#,#,3,1]\n",
    "\n",
    "   4\n",
    "  / \\\n",
    " 5   2\n",
    "    / \\\n",
    "   3   1  "
   ]
  },
  {
   "cell_type": "markdown",
   "metadata": {},
   "source": [
    "Clarification:\n",
    "\n",
    "Confused what [4,5,2,#,#,3,1] means? Read more below on how binary tree is serialized on OJ.\n",
    "\n",
    "The serialization of a binary tree follows a level order traversal, where '#' signifies a path terminator where no node exists below.\n",
    "\n",
    "Here's an example:"
   ]
  },
  {
   "cell_type": "raw",
   "metadata": {},
   "source": [
    "  1\n",
    "  / \\\n",
    " 2   3\n",
    "    /\n",
    "   4\n",
    "    \\\n",
    "     5"
   ]
  },
  {
   "cell_type": "code",
   "execution_count": 1,
   "metadata": {
    "collapsed": true
   },
   "outputs": [],
   "source": [
    "# Definition for a binary tree node.\n",
    "# class TreeNode:\n",
    "#     def __init__(self, x):\n",
    "#         self.val = x\n",
    "#         self.left = None\n",
    "#         self.right = None\n",
    "\n",
    "class Solution:\n",
    "    def upsideDownBinaryTree(self, root):\n",
    "        \"\"\"\n",
    "        :type root: TreeNode\n",
    "        :rtype: TreeNode\n",
    "        \"\"\"\n",
    "        if not root:\n",
    "            return\n",
    "        if not root.left and not root.right:\n",
    "            return root\n",
    "        \n",
    "        leftroot = self.upsideDownBinaryTree(root.left)\n",
    "        root.left.left = root.right\n",
    "        root.left.right = root\n",
    "        root.left = None\n",
    "        root.right = None\n",
    "        \n",
    "        return leftroot"
   ]
  },
  {
   "cell_type": "code",
   "execution_count": null,
   "metadata": {
    "collapsed": true
   },
   "outputs": [],
   "source": []
  }
 ],
 "metadata": {
  "kernelspec": {
   "display_name": "Python [Root]",
   "language": "python",
   "name": "Python [Root]"
  },
  "language_info": {
   "codemirror_mode": {
    "name": "ipython",
    "version": 3
   },
   "file_extension": ".py",
   "mimetype": "text/x-python",
   "name": "python",
   "nbconvert_exporter": "python",
   "pygments_lexer": "ipython3",
   "version": "3.5.5"
  }
 },
 "nbformat": 4,
 "nbformat_minor": 0
}
