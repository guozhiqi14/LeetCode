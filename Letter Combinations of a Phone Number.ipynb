{
 "cells": [
  {
   "cell_type": "markdown",
   "metadata": {},
   "source": [
    "## [Letter Combinations of a Phone Number](https://leetcode.com/explore/interview/card/top-interview-questions-medium/109/backtracking/793/)"
   ]
  },
  {
   "cell_type": "markdown",
   "metadata": {},
   "source": [
    "Given a string containing digits from 2-9 inclusive, return all possible letter combinations that the number could represent.\n",
    "\n",
    "A mapping of digit to letters (just like on the telephone buttons) is given below. Note that 1 does not map to any letters.\n",
    "\n"
   ]
  },
  {
   "cell_type": "raw",
   "metadata": {},
   "source": [
    "Example:\n",
    "\n",
    "Input: \"23\"\n",
    "Output: [\"ad\", \"ae\", \"af\", \"bd\", \"be\", \"bf\", \"cd\", \"ce\", \"cf\"].\n",
    "    \n",
    "Note:\n",
    "\n",
    "Although the above answer is in lexicographical order, your answer could be in any order you want."
   ]
  },
  {
   "cell_type": "markdown",
   "metadata": {},
   "source": [
    "### [LaiOff](https://www.youtube.com/watch?v=uMmFXWs_ZMY)"
   ]
  },
  {
   "cell_type": "code",
   "execution_count": null,
   "metadata": {
    "collapsed": true
   },
   "outputs": [],
   "source": [
    "class Solution:\n",
    "    def letterCombinations(self, digits):\n",
    "        \"\"\"\n",
    "        :type digits: str\n",
    "        :rtype: List[str]\n",
    "        \"\"\"\n",
    "        if not digits:\n",
    "            return []\n",
    "\n",
    "        self.mapping = {'2':'abc','3':'def','4':'ghi','5':'jkl','6':'mno','7':'pqrs','8':'tuv','9':'wxyz'}\n",
    "        res,cur = [],[]\n",
    "        self.bt(digits,res,cur,0)\n",
    "        return res\n",
    "    \n",
    "    def bt(self,digits,res,cur,index):\n",
    "        if index == len(digits):\n",
    "            res.append(''.join(cur[:]))\n",
    "            return\n",
    "        # for i in digits[index]:\n",
    "        #     com_i = self.mapping[i]\n",
    "        #     for j in com_i:\n",
    "        #         res.append(j)\n",
    "        #         self.bt(digits,res,cur,index+1)\n",
    "        #         res.pop()\n",
    "        char = digits[index]\n",
    "        values = self.mapping[char]\n",
    "        for i in values:\n",
    "            cur.append(i)\n",
    "            self.bt(digits,res,cur,index+1)\n",
    "            cur.pop()"
   ]
  },
  {
   "cell_type": "markdown",
   "metadata": {},
   "source": [
    "### [周瑜](https://leetcode.com/explore/interview/card/top-interview-questions-medium/109/backtracking/793/)"
   ]
  },
  {
   "cell_type": "code",
   "execution_count": 2,
   "metadata": {
    "collapsed": true
   },
   "outputs": [],
   "source": [
    "class Solution:\n",
    "    def letterCombinations(self, digits):\n",
    "        \"\"\"\n",
    "        :type digits: str\n",
    "        :rtype: List[str]\n",
    "        \"\"\"\n",
    "        if not digits:\n",
    "            return []\n",
    "        mapping = {'2':'abc','3':'def','4':'ghi','5':'jkl','6':'mno','7':'pqrs','8':'tuv','9':'wxyz'}\n",
    "        self.ans = []\n",
    "        \n",
    "        def dfs(digits,index,temp):\n",
    "            if len(temp) == len(digits):\n",
    "                self.ans.append(''.join(temp))\n",
    "                return\n",
    "            for char in mapping[digits[index]]:\n",
    "                temp.append(char)\n",
    "                dfs(digits,index+1,temp)\n",
    "                temp.pop()\n",
    "        \n",
    "        dfs(digits,0,[])\n",
    "        return self.ans"
   ]
  },
  {
   "cell_type": "code",
   "execution_count": null,
   "metadata": {
    "collapsed": true
   },
   "outputs": [],
   "source": []
  }
 ],
 "metadata": {
  "kernelspec": {
   "display_name": "Python [Root]",
   "language": "python",
   "name": "Python [Root]"
  },
  "language_info": {
   "codemirror_mode": {
    "name": "ipython",
    "version": 3
   },
   "file_extension": ".py",
   "mimetype": "text/x-python",
   "name": "python",
   "nbconvert_exporter": "python",
   "pygments_lexer": "ipython3",
   "version": "3.5.5"
  }
 },
 "nbformat": 4,
 "nbformat_minor": 0
}
