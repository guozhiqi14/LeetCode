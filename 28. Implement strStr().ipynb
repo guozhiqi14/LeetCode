{
 "cells": [
  {
   "cell_type": "markdown",
   "metadata": {},
   "source": [
    "## [28. Implement strStr()](https://leetcode.com/problems/implement-strstr/description/)"
   ]
  },
  {
   "cell_type": "markdown",
   "metadata": {},
   "source": [
    "Implement strStr().\n",
    "\n",
    "Return the index of the first occurrence of needle in haystack, or -1 if needle is not part of haystack.\n",
    "\n"
   ]
  },
  {
   "cell_type": "raw",
   "metadata": {},
   "source": [
    "# Example 1:\n",
    "\n",
    "Input: haystack = \"hello\", needle = \"ll\"\n",
    "Output: 2\n",
    "\n",
    "\n",
    "Example 2:\n",
    "\n",
    "Input: haystack = \"aaaaa\", needle = \"bba\"\n",
    "Output: -1"
   ]
  },
  {
   "cell_type": "markdown",
   "metadata": {},
   "source": [
    "Clarification:\n",
    "\n",
    "What should we return when needle is an empty string? This is a great question to ask during an interview.\n",
    "\n",
    "For the purpose of this problem, we will return 0 when needle is an empty string. This is consistent to C's strstr() and Java's indexOf()."
   ]
  },
  {
   "cell_type": "markdown",
   "metadata": {},
   "source": [
    "## Approach 1   \n",
    "\n",
    "Build-in Function"
   ]
  },
  {
   "cell_type": "code",
   "execution_count": 2,
   "metadata": {
    "collapsed": true
   },
   "outputs": [],
   "source": [
    "class Solution:\n",
    "    def strStr(self, haystack, needle):\n",
    "        \"\"\"\n",
    "        :type haystack: str\n",
    "        :type needle: str\n",
    "        :rtype: int\n",
    "        \"\"\"\n",
    "        return haystack.find(needle)"
   ]
  },
  {
   "cell_type": "code",
   "execution_count": 4,
   "metadata": {
    "collapsed": false
   },
   "outputs": [
    {
     "data": {
      "text/plain": [
       "-1"
      ]
     },
     "execution_count": 4,
     "metadata": {},
     "output_type": "execute_result"
    }
   ],
   "source": [
    "haystack = \"aaaaa\"\n",
    "needle = \"bba\"\n",
    "Solution.strStr(_, haystack, needle)"
   ]
  },
  {
   "cell_type": "code",
   "execution_count": null,
   "metadata": {
    "collapsed": true
   },
   "outputs": [],
   "source": []
  },
  {
   "cell_type": "markdown",
   "metadata": {},
   "source": [
    "## Approach 2   \n",
    "\n",
    "扫描haystack，当遇到与needle首字符相同的位置时，检查haystack从该位置开始的与needle长度相同的块，与needle是否相同。"
   ]
  },
  {
   "cell_type": "code",
   "execution_count": 16,
   "metadata": {
    "collapsed": true
   },
   "outputs": [],
   "source": [
    "class Solution:\n",
    "    def strStr(self, haystack, needle):\n",
    "        \"\"\"\n",
    "        :type haystack: str\n",
    "        :type needle: str\n",
    "        :rtype: int\n",
    "        \"\"\"\n",
    "        for i in range(0, len(haystack)-len(needle)+1):\n",
    "            if haystack[i:i+len(needle)] == needle:\n",
    "                return i\n",
    "        return -1\n",
    "        "
   ]
  },
  {
   "cell_type": "code",
   "execution_count": 18,
   "metadata": {
    "collapsed": false
   },
   "outputs": [
    {
     "data": {
      "text/plain": [
       "2"
      ]
     },
     "execution_count": 18,
     "metadata": {},
     "output_type": "execute_result"
    }
   ],
   "source": [
    "haystack = \"hello\"\n",
    "needle = \"ll\"\n",
    "Solution.strStr(_, haystack, needle)"
   ]
  },
  {
   "cell_type": "code",
   "execution_count": null,
   "metadata": {
    "collapsed": true
   },
   "outputs": [],
   "source": []
  },
  {
   "cell_type": "markdown",
   "metadata": {},
   "source": [
    "### Approach 3   \n",
    "\n",
    "[KMP实现](https://blog.csdn.net/handsomekang/article/details/40978213)"
   ]
  },
  {
   "cell_type": "markdown",
   "metadata": {},
   "source": [
    "[for else Syntax](http://book.pythontips.com/en/latest/for_-_else.html)"
   ]
  },
  {
   "cell_type": "code",
   "execution_count": 27,
   "metadata": {
    "collapsed": false
   },
   "outputs": [
    {
     "name": "stdout",
     "output_type": "stream",
     "text": [
      "[0, 0, 0, 0, 1, 2, 0]\n",
      "15\n"
     ]
    }
   ],
   "source": [
    "def kmp_match(s, p):\n",
    "    m = len(s); n = len(p)\n",
    "    cur = 0#起始指针cur\n",
    "    table = partial_table(p)\n",
    "    while cur<=m-n:\n",
    "        for i in range(n):\n",
    "            if s[i+cur]!=p[i]:\n",
    "                #　　移动位数 = 已匹配的字符数 - 对应的部分匹配值\n",
    "                cur += max(i - table[i-1], 1)#有了部分匹配表,我们不只是单纯的1位1位往右移,可以一次移动多位\n",
    "                break\n",
    "        else:\n",
    "            return cur\n",
    "    return -1\n",
    "\n",
    "#部分匹配表\n",
    "def partial_table(p):\n",
    "    '''partial_table(\"ABCDABD\") -> [0, 0, 0, 0, 1, 2, 0]'''\n",
    "    prefix = set()\n",
    "    postfix = set()\n",
    "    ret = [0]\n",
    "    for i in range(1,len(p)):\n",
    "        prefix.add(p[:i])\n",
    "        postfix = {p[j:i+1] for j in range(1,i+1)}\n",
    "        ret.append(len((prefix&postfix or {''}).pop()))\n",
    "    return ret\n",
    "\n",
    "#print(naive_match(\"BBC ABCDAB ABCDABCDABDE\", \"ABCDABD\"))\n",
    "print(partial_table(\"ABCDABD\"))\n",
    "print(kmp_match(\"BBC ABCDAB ABCDABCDABDE\", \"ABCDABD\"))\n",
    "\n",
    "\n"
   ]
  },
  {
   "cell_type": "code",
   "execution_count": 28,
   "metadata": {
    "collapsed": false
   },
   "outputs": [
    {
     "name": "stdout",
     "output_type": "stream",
     "text": [
      "[0, 1]\n",
      "2\n"
     ]
    }
   ],
   "source": [
    "haystack = \"hello\"\n",
    "needle = \"ll\"\n",
    "print(partial_table(needle))\n",
    "print(kmp_match(haystack,needle))"
   ]
  },
  {
   "cell_type": "code",
   "execution_count": null,
   "metadata": {
    "collapsed": true
   },
   "outputs": [],
   "source": []
  },
  {
   "cell_type": "code",
   "execution_count": null,
   "metadata": {
    "collapsed": true
   },
   "outputs": [],
   "source": []
  },
  {
   "cell_type": "code",
   "execution_count": null,
   "metadata": {
    "collapsed": true
   },
   "outputs": [],
   "source": []
  }
 ],
 "metadata": {
  "anaconda-cloud": {},
  "kernelspec": {
   "display_name": "Python [Root]",
   "language": "python",
   "name": "Python [Root]"
  },
  "language_info": {
   "codemirror_mode": {
    "name": "ipython",
    "version": 3
   },
   "file_extension": ".py",
   "mimetype": "text/x-python",
   "name": "python",
   "nbconvert_exporter": "python",
   "pygments_lexer": "ipython3",
   "version": "3.5.4"
  }
 },
 "nbformat": 4,
 "nbformat_minor": 0
}
