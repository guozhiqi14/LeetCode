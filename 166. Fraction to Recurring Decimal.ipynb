{
 "cells": [
  {
   "cell_type": "markdown",
   "metadata": {},
   "source": [
    "##   [166. Fraction to Recurring Decimal](https://leetcode.com/problems/fraction-to-recurring-decimal/description/)"
   ]
  },
  {
   "cell_type": "markdown",
   "metadata": {},
   "source": [
    "Given two integers representing the numerator and denominator of a fraction, return the fraction in string format.\n",
    "\n",
    "If the fractional part is repeating, enclose the repeating part in parentheses."
   ]
  },
  {
   "cell_type": "raw",
   "metadata": {},
   "source": [
    "Example 1:\n",
    "\n",
    "Input: numerator = 1, denominator = 2\n",
    "Output: \"0.5\"\n",
    "Example 2:\n",
    "\n",
    "Input: numerator = 2, denominator = 1\n",
    "Output: \"2\"\n",
    "Example 3:\n",
    "\n",
    "Input: numerator = 2, denominator = 3\n",
    "Output: \"0.(6)\"\n"
   ]
  },
  {
   "cell_type": "markdown",
   "metadata": {},
   "source": [
    "## [思路](https://shenjie1993.gitbooks.io/leetcode-python/166%20Fraction%20to%20Recurring%20Decimal.html)  \n",
    "* 能够除尽的很简单，就是模拟一个除法操作。 \n",
    "* 对于无限循环小数，如果哪一次的余数在之前已经出现过了，那么继续算下去就会出现循环，这时候就可以停止运算，并将这两位之间的数添加到括号中。整数部分不存在循环问题，所以可以先单独计算，符号也可以先确定。因为是判断是否有重复的余数，对于能够除尽的情况，重复的余数是除尽后的0，所以末尾会多个\"(0)\"，要去掉。而能够整除的情况，要把小数点也去掉。"
   ]
  },
  {
   "cell_type": "markdown",
   "metadata": {},
   "source": [
    "## Approach 1   \n",
    "用list来记录余数"
   ]
  },
  {
   "cell_type": "code",
   "execution_count": 119,
   "metadata": {
    "collapsed": true
   },
   "outputs": [],
   "source": [
    "class Solution(object):\n",
    "    def fractionToDecimal(self, numerator, denominator):\n",
    "        \"\"\"\n",
    "        :type numerator: int\n",
    "        :type denominator: int\n",
    "        :rtype: str\n",
    "        \"\"\"\n",
    "        sign = '-' if numerator * denominator < 0 else ''\n",
    "        numerator,denominator = abs(numerator),abs(denominator)\n",
    "        n , remainder = divmod(numerator,denominator)\n",
    "        ans = [sign+str(n),'.']\n",
    "        stack = []\n",
    "        \n",
    "        while remainder not in stack:\n",
    "            stack.append(remainder)\n",
    "            n, remainder = divmod(remainder*10, denominator)\n",
    "            ans.append(str(n))\n",
    "        \n",
    "        \n",
    "        index = stack.index(remainder)\n",
    "        print(index)\n",
    "        ans.insert(index+2, '(')\n",
    "        ans.append( ')')\n",
    "        return ''.join(ans).replace('(0)','').rstrip('.')\n",
    "        \n",
    "        "
   ]
  },
  {
   "cell_type": "code",
   "execution_count": 120,
   "metadata": {
    "collapsed": false
   },
   "outputs": [
    {
     "name": "stdout",
     "output_type": "stream",
     "text": [
      "0\n"
     ]
    },
    {
     "data": {
      "text/plain": [
       "'-0.(3)'"
      ]
     },
     "execution_count": 120,
     "metadata": {},
     "output_type": "execute_result"
    }
   ],
   "source": [
    "Solution.fractionToDecimal(_,-1,3)"
   ]
  },
  {
   "cell_type": "markdown",
   "metadata": {},
   "source": [
    "## Approach 2   \n",
    "用dictionary来记录余数"
   ]
  },
  {
   "cell_type": "code",
   "execution_count": 127,
   "metadata": {
    "collapsed": true
   },
   "outputs": [],
   "source": [
    "class Solution(object):\n",
    "    def fractionToDecimal(self, numerator, denominator):\n",
    "        \"\"\"\n",
    "        :type numerator: int\n",
    "        :type denominator: int\n",
    "        :rtype: str\n",
    "        \"\"\"\n",
    "        sign = '-' if numerator * denominator < 0 else ''\n",
    "        numerator,denominator = abs(numerator),abs(denominator)\n",
    "        n , remainder = divmod(numerator,denominator)\n",
    "        ans = [sign+str(n),'.']\n",
    "        table = {}\n",
    "        count = 0\n",
    "        \n",
    "        while remainder not in table:\n",
    "            table[remainder] = count\n",
    "            n, remainder = divmod(remainder*10, denominator)\n",
    "            count += 1\n",
    "            ans.append(str(n))\n",
    "        \n",
    "        \n",
    "        index = table[remainder]\n",
    "#         print(index)\n",
    "#         print(ans)\n",
    "        ans.insert(index+2, '(')\n",
    "        ans.append( ')')\n",
    "        return ''.join(ans).replace('(0)','').rstrip('.')\n",
    "        \n",
    "        "
   ]
  },
  {
   "cell_type": "code",
   "execution_count": 128,
   "metadata": {
    "collapsed": false
   },
   "outputs": [
    {
     "data": {
      "text/plain": [
       "'-0.(3)'"
      ]
     },
     "execution_count": 128,
     "metadata": {},
     "output_type": "execute_result"
    }
   ],
   "source": [
    "Solution.fractionToDecimal(_,-1,3)"
   ]
  },
  {
   "cell_type": "code",
   "execution_count": null,
   "metadata": {
    "collapsed": true
   },
   "outputs": [],
   "source": []
  }
 ],
 "metadata": {
  "kernelspec": {
   "display_name": "Python [Root]",
   "language": "python",
   "name": "Python [Root]"
  },
  "language_info": {
   "codemirror_mode": {
    "name": "ipython",
    "version": 3
   },
   "file_extension": ".py",
   "mimetype": "text/x-python",
   "name": "python",
   "nbconvert_exporter": "python",
   "pygments_lexer": "ipython3",
   "version": "3.5.4"
  }
 },
 "nbformat": 4,
 "nbformat_minor": 0
}
