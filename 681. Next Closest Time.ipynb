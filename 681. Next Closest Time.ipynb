{
 "cells": [
  {
   "cell_type": "markdown",
   "metadata": {},
   "source": [
    "## [681. Next Closest Time](https://leetcode.com/problems/next-closest-time/description/)"
   ]
  },
  {
   "cell_type": "markdown",
   "metadata": {},
   "source": [
    "Given a time represented in the format \"HH:MM\", form the next closest time by reusing the current digits. There is no limit on how many times a digit can be reused.\n",
    "\n",
    "You may assume the given input string is always valid. For example, \"01:34\", \"12:09\" are all valid. \"1:34\", \"12:9\" are all invalid."
   ]
  },
  {
   "cell_type": "markdown",
   "metadata": {},
   "source": [
    "Example 1:\n",
    "\n",
    "Input: \"19:34\"\n",
    "Output: \"19:39\"\n",
    "Explanation: The next closest time choosing from digits 1, 9, 3, 4, is 19:39, which occurs 5 minutes later.  It is not 19:33, because this occurs 23 hours and 59 minutes later.   \n",
    "\n",
    "\n",
    "Example 2:\n",
    "\n",
    "Input: \"23:59\"\n",
    "Output: \"22:22\"\n",
    "Explanation: The next closest time choosing from digits 2, 3, 5, 9, is 22:22. It may be assumed that the returned time is next day's time since it is smaller than the input time numerically.\n"
   ]
  },
  {
   "cell_type": "markdown",
   "metadata": {},
   "source": [
    "### [视频](https://www.youtube.com/watch?v=IAet94C1FCc)"
   ]
  },
  {
   "cell_type": "markdown",
   "metadata": {},
   "source": [
    "### Brutal Force"
   ]
  },
  {
   "cell_type": "code",
   "execution_count": 1,
   "metadata": {
    "collapsed": true
   },
   "outputs": [],
   "source": [
    "class Solution:\n",
    "    def nextClosestTime(self, time):\n",
    "        \"\"\"\n",
    "        :type time: str\n",
    "        :rtype: str\n",
    "        \"\"\"\n",
    "        s = set(time)\n",
    "        hour,minute = int(time[:2]),int(time[3:])\n",
    "        while True:\n",
    "            minute += 1\n",
    "            if minute == 60:\n",
    "                minute = 0\n",
    "                if hour == 23:\n",
    "                    hour = 0\n",
    "                else:\n",
    "                    hour += 1\n",
    "            time = '{:02d}:{:02d}'.format(hour,minute)\n",
    "            if set(time) <= s:\n",
    "                return time\n",
    "        "
   ]
  },
  {
   "cell_type": "markdown",
   "metadata": {},
   "source": [
    "### Combination"
   ]
  },
  {
   "cell_type": "code",
   "execution_count": 12,
   "metadata": {
    "collapsed": true
   },
   "outputs": [],
   "source": [
    "import itertools\n",
    "class Solution(object):\n",
    "    def nextClosestTime(self, time):\n",
    "        ans = start = 60 * int(time[:2]) + int(time[3:])\n",
    "        elapsed = 24 * 60\n",
    "        allowed = {int(x) for x in time if x != ':'}\n",
    "        for h1, h2, m1, m2 in itertools.product(allowed, repeat = 4):\n",
    "            hours, mins = 10 * h1 + h2, 10 * m1 + m2\n",
    "            if hours < 24 and mins < 60:\n",
    "                cur = hours * 60 + mins\n",
    "                cand_elapsed = (cur - start) % (24 * 60)\n",
    "                #Caution that cand_elapsed must > 0, since there might be exactily same timing, need avoid\n",
    "                if 0 < cand_elapsed < elapsed:\n",
    "                    ans = cur\n",
    "                    elapsed = cand_elapsed\n",
    "        print(ans)\n",
    "        return \"{:02d}:{:02d}\".format(divmod(ans, 60)[0],divmod(ans, 60)[1])"
   ]
  },
  {
   "cell_type": "code",
   "execution_count": 13,
   "metadata": {
    "collapsed": false
   },
   "outputs": [
    {
     "name": "stdout",
     "output_type": "stream",
     "text": [
      "100\n"
     ]
    },
    {
     "data": {
      "text/plain": [
       "'01:40'"
      ]
     },
     "execution_count": 13,
     "metadata": {},
     "output_type": "execute_result"
    }
   ],
   "source": [
    "Solution.nextClosestTime(_,'01:34')"
   ]
  },
  {
   "cell_type": "code",
   "execution_count": 14,
   "metadata": {
    "collapsed": false
   },
   "outputs": [
    {
     "data": {
      "text/plain": [
       "1420"
      ]
     },
     "execution_count": 14,
     "metadata": {},
     "output_type": "execute_result"
    }
   ],
   "source": [
    "-20 % (24 * 60)"
   ]
  },
  {
   "cell_type": "code",
   "execution_count": null,
   "metadata": {
    "collapsed": true
   },
   "outputs": [],
   "source": []
  }
 ],
 "metadata": {
  "kernelspec": {
   "display_name": "Python [Root]",
   "language": "python",
   "name": "Python [Root]"
  },
  "language_info": {
   "codemirror_mode": {
    "name": "ipython",
    "version": 3
   },
   "file_extension": ".py",
   "mimetype": "text/x-python",
   "name": "python",
   "nbconvert_exporter": "python",
   "pygments_lexer": "ipython3",
   "version": "3.5.5"
  }
 },
 "nbformat": 4,
 "nbformat_minor": 0
}
