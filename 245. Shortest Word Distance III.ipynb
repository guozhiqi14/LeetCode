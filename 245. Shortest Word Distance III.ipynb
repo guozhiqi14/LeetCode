{
 "cells": [
  {
   "cell_type": "markdown",
   "metadata": {},
   "source": [
    "## [245. Shortest Word Distance III](https://leetcode.com/problems/shortest-word-distance-iii/description/)"
   ]
  },
  {
   "cell_type": "markdown",
   "metadata": {},
   "source": [
    "Given a list of words and two words word1 and word2, return the shortest distance between these two words in the list.\n",
    "\n",
    "word1 and word2 may be the same and they represent two individual words in the list."
   ]
  },
  {
   "cell_type": "raw",
   "metadata": {},
   "source": [
    "Example:\n",
    "Assume that words = [\"practice\", \"makes\", \"perfect\", \"coding\", \"makes\"]."
   ]
  },
  {
   "cell_type": "raw",
   "metadata": {},
   "source": [
    "Input: word1 = “makes”, word2 = “coding”\n",
    "Output: 1\n",
    "Input: word1 = \"makes\", word2 = \"makes\"\n",
    "Output: 3"
   ]
  },
  {
   "cell_type": "markdown",
   "metadata": {},
   "source": [
    "Note:\n",
    "\n",
    "You may assume word1 and word2 are both in the list.\n",
    "\n"
   ]
  },
  {
   "cell_type": "code",
   "execution_count": 1,
   "metadata": {
    "collapsed": true
   },
   "outputs": [],
   "source": [
    "class Solution(object):\n",
    "    def shortestWordDistance(self, words, word1, word2):\n",
    "        \"\"\"\n",
    "        :type words: List[str]\n",
    "        :type word1: str\n",
    "        :type word2: str\n",
    "        :rtype: int\n",
    "        \"\"\"\n",
    "        index_1 = -1\n",
    "        index_2 = -1\n",
    "        res = float('inf')\n",
    "        if word1 == word2:\n",
    "            for i in range(len(words)):\n",
    "                if words[i] == word1:\n",
    "                    if index_1 != -1:\n",
    "                        res = min(res,i-index_1)\n",
    "                    index_1 = i\n",
    "        else:\n",
    "            for i in range(len(words)):\n",
    "                if words[i] == word1:\n",
    "                    index_1 = i\n",
    "                    if index_2 != -1:\n",
    "                        res = min(res,abs(index_2-index_1))\n",
    "                        \n",
    "                if words[i] == word2:\n",
    "                    index_2 = i\n",
    "                    if index_1 != -1:\n",
    "                        res = min(res,abs(index_1-index_2))\n",
    "        return res\n",
    "                    "
   ]
  },
  {
   "cell_type": "code",
   "execution_count": null,
   "metadata": {
    "collapsed": true
   },
   "outputs": [],
   "source": []
  }
 ],
 "metadata": {
  "kernelspec": {
   "display_name": "Python [Root]",
   "language": "python",
   "name": "Python [Root]"
  },
  "language_info": {
   "codemirror_mode": {
    "name": "ipython",
    "version": 3
   },
   "file_extension": ".py",
   "mimetype": "text/x-python",
   "name": "python",
   "nbconvert_exporter": "python",
   "pygments_lexer": "ipython3",
   "version": "3.5.5"
  }
 },
 "nbformat": 4,
 "nbformat_minor": 0
}
