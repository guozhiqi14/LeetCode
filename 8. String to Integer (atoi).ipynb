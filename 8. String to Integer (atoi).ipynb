{
 "cells": [
  {
   "cell_type": "markdown",
   "metadata": {},
   "source": [
    "## [8. String to Integer (atoi)](https://leetcode.com/problems/string-to-integer-atoi/description/)"
   ]
  },
  {
   "cell_type": "markdown",
   "metadata": {},
   "source": [
    "Implement atoi which converts a string to an integer.\n",
    "\n",
    "The function first discards as many whitespace characters as necessary until the first non-whitespace character is found. Then, starting from this character, takes an optional initial plus or minus sign followed by as many numerical digits as possible, and interprets them as a numerical value.\n",
    "\n",
    "The string can contain additional characters after those that form the integral number, which are ignored and have no effect on the behavior of this function.\n",
    "\n",
    "If the first sequence of non-whitespace characters in str is not a valid integral number, or if no such sequence exists because either str is empty or it contains only whitespace characters, no conversion is performed.\n",
    "\n",
    "If no valid conversion could be performed, a zero value is returned.\n",
    "\n",
    "**Note:**\n",
    "\n",
    "* Only the space character ' ' is considered as whitespace character.\n",
    "* Assume we are dealing with an environment which could only store integers within the 32-bit signed integer range: [−231,  231 − 1]. If the numerical value is out of the range of representable values, INT_MAX (231 − 1) or INT_MIN (−231) is returned."
   ]
  },
  {
   "cell_type": "raw",
   "metadata": {},
   "source": [
    "Example 1:\n",
    "\n",
    "Input: \"42\"\n",
    "Output: 42\n",
    "Example 2:\n",
    "\n",
    "Input: \"   -42\"\n",
    "Output: -42\n",
    "Explanation: The first non-whitespace character is '-', which is the minus sign.\n",
    "             Then take as many numerical digits as possible, which gets 42.\n",
    "Example 3:\n",
    "\n",
    "Input: \"4193 with words\"\n",
    "Output: 4193\n",
    "Explanation: Conversion stops at digit '3' as the next character is not a numerical digit.\n",
    "Example 4:\n",
    "\n",
    "Input: \"words and 987\"\n",
    "Output: 0\n",
    "Explanation: The first non-whitespace character is 'w', which is not a numerical \n",
    "             digit or a +/- sign. Therefore no valid conversion could be performed.\n",
    "Example 5:\n",
    "\n",
    "Input: \"-91283472332\"\n",
    "Output: -2147483648\n",
    "Explanation: The number \"-91283472332\" is out of the range of a 32-bit signed integer.\n",
    "             Thefore INT_MIN (−231) is returned."
   ]
  },
  {
   "cell_type": "markdown",
   "metadata": {},
   "source": [
    "## Approach 1   \n",
    "Shitty but work"
   ]
  },
  {
   "cell_type": "code",
   "execution_count": 25,
   "metadata": {
    "collapsed": true
   },
   "outputs": [],
   "source": [
    "class Solution:\n",
    "    # @return an integer\n",
    "    def myAtoi(self, str):\n",
    "        str = str.strip()\n",
    "        if len(str) == 0:\n",
    "            return 0\n",
    "        sign = str[0]\n",
    "        ans = []\n",
    "        \n",
    "        if sign == '-':\n",
    "            sign = -1\n",
    "        else:\n",
    "            sign = 1\n",
    "            \n",
    "        if sign == -1 or str[0] == '+' :\n",
    "            for i in str[1:]:\n",
    "                if i.isdigit():\n",
    "                    ans.append(i)\n",
    "                else:\n",
    "                    break        \n",
    "        else:\n",
    "            for i in str:\n",
    "                if i.isdigit():\n",
    "                    ans.append(i)\n",
    "                else:\n",
    "                    break \n",
    "                    \n",
    "        if len(ans) == 0:\n",
    "            return 0\n",
    "        ans = sign * int(''.join(ans))\n",
    "        \n",
    "        if  ans > 2**31-1:\n",
    "            return 2**31-1\n",
    "        elif ans < -2**31:\n",
    "            return -2**31\n",
    "        else:\n",
    "            return ans"
   ]
  },
  {
   "cell_type": "code",
   "execution_count": 26,
   "metadata": {
    "collapsed": false
   },
   "outputs": [
    {
     "data": {
      "text/plain": [
       "2"
      ]
     },
     "execution_count": 26,
     "metadata": {},
     "output_type": "execute_result"
    }
   ],
   "source": [
    "Solution.myAtoi(_,\"+2\")"
   ]
  },
  {
   "cell_type": "markdown",
   "metadata": {},
   "source": [
    "## Approach 2   \n"
   ]
  },
  {
   "cell_type": "code",
   "execution_count": 87,
   "metadata": {
    "collapsed": true
   },
   "outputs": [],
   "source": [
    "class Solution:\n",
    "    # @return an integer\n",
    "    def myAtoi(self, str):\n",
    "        str = str.strip()\n",
    "        if len(str) == 0:\n",
    "            return 0\n",
    "        tmp = \"0\"\n",
    "        result = 0\n",
    "        i = 0\n",
    "        if str[0] in \"+-\":\n",
    "            tmp = str[0]\n",
    "            i = 1\n",
    "        MAX_INT = 2147483647\n",
    "        MIN_INT = -2147483648\n",
    "        for i in range(i, len(str)):\n",
    "            if str[i].isdigit():\n",
    "                tmp += str[i]\n",
    "            else:\n",
    "                break\n",
    "        if len(tmp) > 1:\n",
    "            result = int(tmp)\n",
    "        if result > MAX_INT > 0:\n",
    "            return MAX_INT\n",
    "        elif result < MIN_INT < 0:\n",
    "            return MIN_INT\n",
    "        else:\n",
    "            return result"
   ]
  },
  {
   "cell_type": "code",
   "execution_count": 88,
   "metadata": {
    "collapsed": false
   },
   "outputs": [
    {
     "data": {
      "text/plain": [
       "2"
      ]
     },
     "execution_count": 88,
     "metadata": {},
     "output_type": "execute_result"
    }
   ],
   "source": [
    "Solution.myAtoi(_,\"+2\")"
   ]
  },
  {
   "cell_type": "code",
   "execution_count": null,
   "metadata": {
    "collapsed": true
   },
   "outputs": [],
   "source": []
  },
  {
   "cell_type": "code",
   "execution_count": null,
   "metadata": {
    "collapsed": true
   },
   "outputs": [],
   "source": []
  },
  {
   "cell_type": "code",
   "execution_count": null,
   "metadata": {
    "collapsed": true
   },
   "outputs": [],
   "source": []
  },
  {
   "cell_type": "code",
   "execution_count": null,
   "metadata": {
    "collapsed": true
   },
   "outputs": [],
   "source": []
  }
 ],
 "metadata": {
  "kernelspec": {
   "display_name": "Python [Root]",
   "language": "python",
   "name": "Python [Root]"
  },
  "language_info": {
   "codemirror_mode": {
    "name": "ipython",
    "version": 3
   },
   "file_extension": ".py",
   "mimetype": "text/x-python",
   "name": "python",
   "nbconvert_exporter": "python",
   "pygments_lexer": "ipython3",
   "version": "3.5.5"
  }
 },
 "nbformat": 4,
 "nbformat_minor": 0
}
