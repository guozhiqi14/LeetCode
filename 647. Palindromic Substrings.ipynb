{
 "cells": [
  {
   "cell_type": "markdown",
   "metadata": {},
   "source": [
    "## [647. Palindromic Substrings](https://leetcode.com/problems/palindromic-substrings/description/)"
   ]
  },
  {
   "cell_type": "markdown",
   "metadata": {},
   "source": [
    "Given a string, your task is to count how many palindromic substrings in this string.\n",
    "\n",
    "The substrings with different start indexes or end indexes are counted as different substrings even they consist of same characters."
   ]
  },
  {
   "cell_type": "raw",
   "metadata": {},
   "source": [
    "Example 1:\n",
    "Input: \"abc\"\n",
    "Output: 3\n",
    "Explanation: Three palindromic strings: \"a\", \"b\", \"c\".\n",
    "        \n",
    "Example 2:\n",
    "Input: \"aaa\"\n",
    "Output: 6\n",
    "Explanation: Six palindromic strings: \"a\", \"a\", \"a\", \"aa\", \"aa\", \"aaa\"."
   ]
  },
  {
   "cell_type": "markdown",
   "metadata": {},
   "source": [
    "Note:\n",
    "\n",
    "The input string length won't exceed 1000."
   ]
  },
  {
   "cell_type": "markdown",
   "metadata": {},
   "source": [
    "## [Brutal Force](https://blog.csdn.net/fuxuemingzhu/article/details/79433960)"
   ]
  },
  {
   "cell_type": "code",
   "execution_count": 36,
   "metadata": {
    "collapsed": true
   },
   "outputs": [],
   "source": [
    "class Solution:\n",
    "    def countSubstrings(self, s):\n",
    "        \"\"\"\n",
    "        :type s: str\n",
    "        :rtype: int\n",
    "        \"\"\"\n",
    "        #abc\n",
    "        count = 0\n",
    "        for i in range(len(s)):\n",
    "            for j in range(i,len(s)):\n",
    "                sub = s[i:j+1]\n",
    "                if sub == sub[::-1]:\n",
    "                    count += 1\n",
    "        return count "
   ]
  },
  {
   "cell_type": "markdown",
   "metadata": {},
   "source": [
    "## [从中间开始按奇数偶数找](https://blog.csdn.net/fuxuemingzhu/article/details/79433960)"
   ]
  },
  {
   "cell_type": "code",
   "execution_count": 38,
   "metadata": {
    "collapsed": true
   },
   "outputs": [],
   "source": [
    "class Solution(object):\n",
    "    def countSubstrings(self, s):\n",
    "        \"\"\"\n",
    "        :type s: str\n",
    "        :rtype: int\n",
    "        \"\"\"\n",
    "        count = 0\n",
    "        for i in range(len(s)):\n",
    "            count += 1 \n",
    "            \n",
    "            #奇数\n",
    "            left,right = i-1,i+1\n",
    "            while left >= 0 and right < len(s) and s[left] == s[right]:\n",
    "                count += 1\n",
    "                left -= 1\n",
    "                right += 1\n",
    "            \n",
    "            #偶数\n",
    "            left,right = i,i+1 \n",
    "            while left >= 0 and right < len(s) and s[left] == s[right]:\n",
    "                count +=1 \n",
    "                left -= 1 \n",
    "                right += 1\n",
    "        return count "
   ]
  },
  {
   "cell_type": "code",
   "execution_count": null,
   "metadata": {
    "collapsed": true
   },
   "outputs": [],
   "source": []
  }
 ],
 "metadata": {
  "kernelspec": {
   "display_name": "Python [Root]",
   "language": "python",
   "name": "Python [Root]"
  },
  "language_info": {
   "codemirror_mode": {
    "name": "ipython",
    "version": 3
   },
   "file_extension": ".py",
   "mimetype": "text/x-python",
   "name": "python",
   "nbconvert_exporter": "python",
   "pygments_lexer": "ipython3",
   "version": "3.5.5"
  }
 },
 "nbformat": 4,
 "nbformat_minor": 0
}
