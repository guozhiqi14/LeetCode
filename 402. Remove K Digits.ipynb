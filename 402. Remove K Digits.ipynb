{
 "cells": [
  {
   "cell_type": "markdown",
   "metadata": {},
   "source": [
    "## [402. Remove K Digits](https://leetcode.com/problems/remove-k-digits/description/)"
   ]
  },
  {
   "cell_type": "markdown",
   "metadata": {},
   "source": [
    "Given a non-negative integer num represented as a string, remove k digits from the number so that the new number is the smallest possible.\n",
    "\n",
    "Note:\n",
    "* The length of num is less than 10002 and will be ≥ k.\n",
    "* The given num does not contain any leading zero."
   ]
  },
  {
   "cell_type": "raw",
   "metadata": {},
   "source": [
    "Example 1:\n",
    "\n",
    "Input: num = \"1432219\", k = 3\n",
    "Output: \"1219\"\n",
    "Explanation: Remove the three digits 4, 3, and 2 to form the new number 1219 which is the smallest.\n",
    "\n",
    "Example 2:\n",
    "\n",
    "Input: num = \"10200\", k = 1\n",
    "Output: \"200\"\n",
    "Explanation: Remove the leading 1 and the number is 200. Note that the output must not contain leading zeroes.\n",
    "\n",
    "Example 3:\n",
    "\n",
    "Input: num = \"10\", k = 2\n",
    "Output: \"0\"\n",
    "Explanation: Remove all the digits from the number and it is left with nothing which is 0."
   ]
  },
  {
   "cell_type": "code",
   "execution_count": 178,
   "metadata": {
    "collapsed": true
   },
   "outputs": [],
   "source": [
    "class Solution(object):\n",
    "    def removeKdigits(self, num, k):\n",
    "        \"\"\"\n",
    "        :type num: str\n",
    "        :type k: int\n",
    "        :rtype: str\n",
    "        \"\"\"\n",
    "        while k > 0:\n",
    "            j=0\n",
    "            for i in range(0,len(num)-1):\n",
    "                if num[i] > num[i+1]:\n",
    "                    break\n",
    "                \n",
    "                j+=1\n",
    "                print(i)\n",
    "                print(j)\n",
    "            \n",
    "            num = num[:j] + num[j+1:]\n",
    "            k-=1\n",
    "            \n",
    "        if len(num)==0:\n",
    "            return '0'\n",
    "        return str(int(num))"
   ]
  },
  {
   "cell_type": "code",
   "execution_count": 179,
   "metadata": {
    "collapsed": false
   },
   "outputs": [
    {
     "name": "stdout",
     "output_type": "stream",
     "text": [
      "0\n",
      "1\n",
      "1\n",
      "2\n",
      "2\n",
      "3\n",
      "0\n",
      "1\n",
      "1\n",
      "2\n",
      "2\n",
      "3\n",
      "0\n",
      "1\n",
      "1\n",
      "2\n"
     ]
    },
    {
     "data": {
      "text/plain": [
       "'1221'"
      ]
     },
     "execution_count": 179,
     "metadata": {},
     "output_type": "execute_result"
    }
   ],
   "source": [
    "Solution.removeKdigits(_,\"1235421\", 3)"
   ]
  },
  {
   "cell_type": "code",
   "execution_count": 162,
   "metadata": {
    "collapsed": true
   },
   "outputs": [],
   "source": [
    "def removeKdigits(self, num, k):\n",
    "        \"\"\"\n",
    "        :type num: str\n",
    "        :type k: int\n",
    "        :rtype: str\n",
    "        \"\"\"\n",
    "        stack = []\n",
    "        for i in range(len(num)):\n",
    "            \n",
    "            while True:\n",
    "                if  k == 0 or not stack:\n",
    "                    break\n",
    "                \n",
    "                if stack[-1] > num[i]:\n",
    "                    k -= 1\n",
    "                    stack.pop()\n",
    "                else:\n",
    "                    break\n",
    "            stack.append(num[i])\n",
    "        while k != 0:\n",
    "            stack.pop()\n",
    "            k -= 1\n",
    "        for i in range(len(stack)):\n",
    "            if stack[i] != \"0\":\n",
    "                break\n",
    "        stack = stack[i:]\n",
    "\n",
    "        if not stack:\n",
    "            return \"0\"\n",
    "        return \"\".join(stack)"
   ]
  },
  {
   "cell_type": "code",
   "execution_count": 192,
   "metadata": {
    "collapsed": true
   },
   "outputs": [],
   "source": [
    "class Solution(object):\n",
    "    def removeKdigits(self, num, k):\n",
    "        \"\"\"\n",
    "        :type num: str\n",
    "        :type k: int\n",
    "        :rtype: str\n",
    "        \"\"\"\n",
    "        if len(num) <= k:\n",
    "            return '0'\n",
    "        \n",
    "        stack = []\n",
    "        \n",
    "        for digit in num:\n",
    "            while stack and stack[-1] > digit and k>0:\n",
    "                stack.pop()\n",
    "                k-=1\n",
    "            stack.append(digit)\n",
    "        \n",
    "        while k >0:\n",
    "            stack.pop()\n",
    "            k-=1\n",
    "        return ''.join(stack).lstrip('0') or '0'\n",
    "        "
   ]
  },
  {
   "cell_type": "code",
   "execution_count": 193,
   "metadata": {
    "collapsed": false
   },
   "outputs": [
    {
     "data": {
      "text/plain": [
       "'11'"
      ]
     },
     "execution_count": 193,
     "metadata": {},
     "output_type": "execute_result"
    }
   ],
   "source": [
    "Solution.removeKdigits(_,\"112\", 1)"
   ]
  },
  {
   "cell_type": "code",
   "execution_count": null,
   "metadata": {
    "collapsed": true
   },
   "outputs": [],
   "source": []
  }
 ],
 "metadata": {
  "kernelspec": {
   "display_name": "Python [Root]",
   "language": "python",
   "name": "Python [Root]"
  },
  "language_info": {
   "codemirror_mode": {
    "name": "ipython",
    "version": 3
   },
   "file_extension": ".py",
   "mimetype": "text/x-python",
   "name": "python",
   "nbconvert_exporter": "python",
   "pygments_lexer": "ipython3",
   "version": "3.5.5"
  }
 },
 "nbformat": 4,
 "nbformat_minor": 0
}
