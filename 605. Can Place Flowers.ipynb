{
 "cells": [
  {
   "cell_type": "markdown",
   "metadata": {},
   "source": [
    "## [605. Can Place Flowers](https://leetcode.com/problems/can-place-flowers/description/)"
   ]
  },
  {
   "cell_type": "markdown",
   "metadata": {},
   "source": [
    "Suppose you have a long flowerbed in which some of the plots are planted and some are not. However, flowers cannot be planted in adjacent plots - they would compete for water and both would die.\n",
    "\n",
    "Given a flowerbed (represented as an array containing 0 and 1, where 0 means empty and 1 means not empty), and a number n, return if n new flowers can be planted in it without violating the no-adjacent-flowers rule."
   ]
  },
  {
   "cell_type": "raw",
   "metadata": {},
   "source": [
    "Example 1:\n",
    "Input: flowerbed = [1,0,0,0,1], n = 1\n",
    "Output: True\n",
    "Example 2:\n",
    "Input: flowerbed = [1,0,0,0,1], n = 2\n",
    "Output: False"
   ]
  },
  {
   "cell_type": "markdown",
   "metadata": {},
   "source": [
    "Note:\n",
    "* The input array won't violate no-adjacent-flowers rule.\n",
    "* The input array size is in the range of [1, 20000].\n",
    "* n is a non-negative integer which won't exceed the input array size."
   ]
  },
  {
   "cell_type": "code",
   "execution_count": 13,
   "metadata": {
    "collapsed": true
   },
   "outputs": [],
   "source": [
    "class Solution:\n",
    "    def canPlaceFlowers(self, flowerbed, n):\n",
    "        \"\"\"\n",
    "        :type flowerbed: List[int]\n",
    "        :type n: int\n",
    "        :rtype: bool\n",
    "        \"\"\"\n",
    "        cnt = 0\n",
    "        if len(flowerbed) == 1:\n",
    "            if flowerbed[0] == 0:\n",
    "                return True\n",
    "            else:\n",
    "                return n==0\n",
    "        \n",
    "        for i in range(len(flowerbed)):\n",
    "            if i == 0:\n",
    "                if flowerbed[i] == 0 and flowerbed[i+1] == 0:\n",
    "                    cnt += 1\n",
    "                    flowerbed[i] = 1\n",
    "                continue\n",
    "            if i == len(flowerbed)-1:\n",
    "                if flowerbed[i] == 0 and flowerbed[i-1] == 0:\n",
    "                    cnt += 1\n",
    "                    flowerbed[i] = 1\n",
    "                continue\n",
    "            if flowerbed[i-1] == 0 and flowerbed[i+1] == 0 and flowerbed[i]==0:\n",
    "                cnt += 1\n",
    "                flowerbed[i] = 1\n",
    "        return cnt >= n"
   ]
  },
  {
   "cell_type": "code",
   "execution_count": 12,
   "metadata": {
    "collapsed": false
   },
   "outputs": [
    {
     "data": {
      "text/plain": [
       "True"
      ]
     },
     "execution_count": 12,
     "metadata": {},
     "output_type": "execute_result"
    }
   ],
   "source": [
    "s = Solution()\n",
    "s.canPlaceFlowers([1,0,1,0,1,0,1],1)"
   ]
  },
  {
   "cell_type": "code",
   "execution_count": null,
   "metadata": {
    "collapsed": true
   },
   "outputs": [],
   "source": []
  },
  {
   "cell_type": "code",
   "execution_count": null,
   "metadata": {
    "collapsed": true
   },
   "outputs": [],
   "source": []
  }
 ],
 "metadata": {
  "kernelspec": {
   "display_name": "Python [Root]",
   "language": "python",
   "name": "Python [Root]"
  },
  "language_info": {
   "codemirror_mode": {
    "name": "ipython",
    "version": 3
   },
   "file_extension": ".py",
   "mimetype": "text/x-python",
   "name": "python",
   "nbconvert_exporter": "python",
   "pygments_lexer": "ipython3",
   "version": "3.5.5"
  }
 },
 "nbformat": 4,
 "nbformat_minor": 0
}
