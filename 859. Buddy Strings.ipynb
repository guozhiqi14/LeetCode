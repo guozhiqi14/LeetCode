{
 "cells": [
  {
   "cell_type": "markdown",
   "metadata": {},
   "source": [
    "## [859. Buddy Strings](https://leetcode.com/problems/buddy-strings/description/)"
   ]
  },
  {
   "cell_type": "markdown",
   "metadata": {},
   "source": [
    "Given two strings A and B of lowercase letters, return true if and only if we can swap two letters in A so that the result equals B.\n",
    "\n"
   ]
  },
  {
   "cell_type": "raw",
   "metadata": {},
   "source": [
    "Example 1:\n",
    "\n",
    "Input: A = \"ab\", B = \"ba\"\n",
    "Output: true\n",
    "Example 2:\n",
    "\n",
    "Input: A = \"ab\", B = \"ab\"\n",
    "Output: false\n",
    "Example 3:\n",
    "\n",
    "Input: A = \"aa\", B = \"aa\"\n",
    "Output: true\n",
    "Example 4:\n",
    "\n",
    "Input: A = \"aaaaaaabc\", B = \"aaaaaaacb\"\n",
    "Output: true\n",
    "Example 5:\n",
    "\n",
    "Input: A = \"\", B = \"aa\"\n",
    "Output: false"
   ]
  },
  {
   "cell_type": "markdown",
   "metadata": {},
   "source": [
    "Note:\n",
    "\n",
    "1. 0 <= A.length <= 20000\n",
    "2. 0 <= B.length <= 20000\n",
    "3. A and B consist only of lowercase letters.\n"
   ]
  },
  {
   "cell_type": "markdown",
   "metadata": {},
   "source": [
    "## Appoach 1  \n",
    "Exceed Time Limit"
   ]
  },
  {
   "cell_type": "code",
   "execution_count": 26,
   "metadata": {
    "collapsed": true
   },
   "outputs": [],
   "source": [
    "class Solution:\n",
    "    def buddyStrings(self, A, B):\n",
    "        \"\"\"\n",
    "        :type A: str\n",
    "        :type B: str\n",
    "        :rtype: bool\n",
    "        \"\"\"\n",
    "        if len(A) != len(B):\n",
    "            return False\n",
    "        if A == B:\n",
    "            return False\n",
    "        \n",
    "        A_lst = list(A)\n",
    "        B_lst = list(B)\n",
    "        \n",
    "        for i in range(len(A_lst)):\n",
    "            for j in range(i+1,len(A_lst)):\n",
    "                #print('A_lst:',A_lst)\n",
    "                tempA=A_lst.copy()\n",
    "                tempA[i],tempA[j] = tempA[j],tempA[i]\n",
    "                #print(tempA)\n",
    "                if tempA == B_lst:\n",
    "                    return True\n",
    "                \n",
    "        return False\n",
    "                \n",
    "                "
   ]
  },
  {
   "cell_type": "code",
   "execution_count": 27,
   "metadata": {
    "collapsed": false
   },
   "outputs": [
    {
     "data": {
      "text/plain": [
       "True"
      ]
     },
     "execution_count": 27,
     "metadata": {},
     "output_type": "execute_result"
    }
   ],
   "source": [
    "A = \"abc\"\n",
    "B = \"acb\"\n",
    "Solution.buddyStrings(_,A,B)"
   ]
  },
  {
   "cell_type": "code",
   "execution_count": 28,
   "metadata": {
    "collapsed": false
   },
   "outputs": [
    {
     "data": {
      "text/plain": [
       "True"
      ]
     },
     "execution_count": 28,
     "metadata": {},
     "output_type": "execute_result"
    }
   ],
   "source": [
    "A = \"ab\"\n",
    "B = \"ba\"\n",
    "Solution.buddyStrings(_,A,B)"
   ]
  },
  {
   "cell_type": "code",
   "execution_count": 29,
   "metadata": {
    "collapsed": false
   },
   "outputs": [
    {
     "data": {
      "text/plain": [
       "False"
      ]
     },
     "execution_count": 29,
     "metadata": {},
     "output_type": "execute_result"
    }
   ],
   "source": [
    "A = \"ab\"\n",
    "B = \"ab\"\n",
    "Solution.buddyStrings(_,A,B)"
   ]
  },
  {
   "cell_type": "code",
   "execution_count": 40,
   "metadata": {
    "collapsed": false
   },
   "outputs": [
    {
     "name": "stdout",
     "output_type": "stream",
     "text": [
      "a a\n",
      "b c\n",
      "c b\n"
     ]
    }
   ],
   "source": [
    "A = \"abc\"\n",
    "B = \"acb\"\n",
    "for a, b in zip(A, B):\n",
    "    print(a,b)"
   ]
  },
  {
   "cell_type": "markdown",
   "metadata": {},
   "source": [
    "## Approach 2"
   ]
  },
  {
   "cell_type": "code",
   "execution_count": null,
   "metadata": {
    "collapsed": true
   },
   "outputs": [],
   "source": [
    "class Solution:\n",
    "    def buddyStrings(self, A, B):\n",
    "        \"\"\"\n",
    "        :type A: str\n",
    "        :type B: str\n",
    "        :rtype: bool\n",
    "        \"\"\"\n",
    "        if len(A) != len(B):\n",
    "            return False\n",
    "        \n",
    "        if A == B:\n",
    "            seen = set()\n",
    "            for i in A:\n",
    "                if i in seen:\n",
    "                    return True\n",
    "                seen.add(i)\n",
    "            return False\n",
    "        else:\n",
    "            lst = []\n",
    "            for a,b in zip(A,B):\n",
    "                if a != b:\n",
    "                    lst.append((a,b))\n",
    "            if len(lst) != 2:\n",
    "                return False\n",
    "            else:\n",
    "                return lst[0] == lst[1][::-1]\n",
    "                    "
   ]
  },
  {
   "cell_type": "code",
   "execution_count": null,
   "metadata": {
    "collapsed": true
   },
   "outputs": [],
   "source": []
  }
 ],
 "metadata": {
  "kernelspec": {
   "display_name": "Python [Root]",
   "language": "python",
   "name": "Python [Root]"
  },
  "language_info": {
   "codemirror_mode": {
    "name": "ipython",
    "version": 3
   },
   "file_extension": ".py",
   "mimetype": "text/x-python",
   "name": "python",
   "nbconvert_exporter": "python",
   "pygments_lexer": "ipython3",
   "version": "3.5.4"
  }
 },
 "nbformat": 4,
 "nbformat_minor": 0
}
