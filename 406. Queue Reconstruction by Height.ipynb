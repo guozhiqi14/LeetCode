{
 "cells": [
  {
   "cell_type": "markdown",
   "metadata": {},
   "source": [
    "## [406. Queue Reconstruction by Height](https://leetcode.com/problems/queue-reconstruction-by-height/description/)"
   ]
  },
  {
   "cell_type": "markdown",
   "metadata": {},
   "source": [
    "## [思路](https://leetcode.com/problems/queue-reconstruction-by-height/discuss/89345/Easy-concept-with-PythonC++Java-Solution)   \n",
    "做法很简单 很巧妙 但是不知道怎么想的"
   ]
  },
  {
   "cell_type": "code",
   "execution_count": 84,
   "metadata": {
    "collapsed": true
   },
   "outputs": [],
   "source": [
    "from collections import defaultdict\n",
    "class Solution(object):\n",
    "    def reconstructQueue(self, people):\n",
    "        if not people: return []\n",
    "\n",
    "        # obtain everyone's info\n",
    "        # key=height, value=k-value, index in original array\n",
    "        peopledict = defaultdict(list)\n",
    "        res = []\n",
    "        height = []\n",
    "        \n",
    "        for i in range(len(people)):\n",
    "            person = people[i]\n",
    "            if person[0] in peopledict:\n",
    "                peopledict[person[0]].append((person[1],i))\n",
    "            else:\n",
    "                peopledict[person[0]] = [(person[1],i)]\n",
    "                height.append(person[0])\n",
    "        height.sort(reverse = True)\n",
    "        \n",
    "        for i in height:\n",
    "            grp = peopledict[i]\n",
    "            grp.sort()\n",
    "            for j in grp:\n",
    "                res.insert(j[0],people[j[1]])\n",
    "        return res"
   ]
  },
  {
   "cell_type": "code",
   "execution_count": 85,
   "metadata": {
    "collapsed": false
   },
   "outputs": [
    {
     "data": {
      "text/plain": [
       "[[5, 0], [7, 0], [5, 2], [6, 1], [4, 4], [7, 1]]"
      ]
     },
     "execution_count": 85,
     "metadata": {},
     "output_type": "execute_result"
    }
   ],
   "source": [
    "s = Solution()\n",
    "people = [[7,0], [4,4], [7,1], [5,0], [6,1], [5,2]]\n",
    "s.reconstructQueue(people)"
   ]
  },
  {
   "cell_type": "code",
   "execution_count": 86,
   "metadata": {
    "collapsed": false
   },
   "outputs": [],
   "source": [
    "peopledct, height, res = {}, [], []\n",
    "\n",
    "for i in range(len(people)):\n",
    "    p = people[i]\n",
    "    if p[0] in peopledct:\n",
    "        peopledct[p[0]] += (p[1], i),\n",
    "    else:\n",
    "        peopledct[p[0]] = [(p[1], i)]\n",
    "        height.append(p[0])"
   ]
  },
  {
   "cell_type": "code",
   "execution_count": 87,
   "metadata": {
    "collapsed": false
   },
   "outputs": [
    {
     "data": {
      "text/plain": [
       "{4: [(4, 1)], 5: [(0, 3), (2, 5)], 6: [(1, 4)], 7: [(0, 0), (1, 2)]}"
      ]
     },
     "execution_count": 87,
     "metadata": {},
     "output_type": "execute_result"
    }
   ],
   "source": [
    "peopledct"
   ]
  },
  {
   "cell_type": "code",
   "execution_count": null,
   "metadata": {
    "collapsed": true
   },
   "outputs": [],
   "source": []
  }
 ],
 "metadata": {
  "kernelspec": {
   "display_name": "Python [Root]",
   "language": "python",
   "name": "Python [Root]"
  },
  "language_info": {
   "codemirror_mode": {
    "name": "ipython",
    "version": 3
   },
   "file_extension": ".py",
   "mimetype": "text/x-python",
   "name": "python",
   "nbconvert_exporter": "python",
   "pygments_lexer": "ipython3",
   "version": "3.5.5"
  }
 },
 "nbformat": 4,
 "nbformat_minor": 0
}
