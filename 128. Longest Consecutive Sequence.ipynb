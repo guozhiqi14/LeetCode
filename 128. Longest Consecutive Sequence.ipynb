{
 "cells": [
  {
   "cell_type": "markdown",
   "metadata": {},
   "source": [
    "## [128. Longest Consecutive Sequence](https://leetcode.com/problems/longest-consecutive-sequence/description/)"
   ]
  },
  {
   "cell_type": "markdown",
   "metadata": {},
   "source": [
    "Given an unsorted array of integers, find the length of the longest consecutive elements sequence.\n",
    "\n",
    "Your algorithm should run in O(n) complexity."
   ]
  },
  {
   "cell_type": "raw",
   "metadata": {},
   "source": [
    "Example:\n",
    "\n",
    "Input: [100, 4, 200, 1, 3, 2]\n",
    "Output: 4\n",
    "\n",
    "Explanation: The longest consecutive elements sequence is [1, 2, 3, 4]. Therefore its length is 4."
   ]
  },
  {
   "cell_type": "code",
   "execution_count": 1,
   "metadata": {
    "collapsed": true
   },
   "outputs": [],
   "source": [
    "class Solution:\n",
    "    def longestConsecutive(self, nums):\n",
    "        \"\"\"\n",
    "        :type nums: List[int]\n",
    "        :rtype: int\n",
    "        \"\"\"\n",
    "        hashSet = set(nums)\n",
    "        res = 0\n",
    "        while hashSet:\n",
    "            elem = hashSet.pop()\n",
    "            high,low  = elem,elem\n",
    "            while low - 1 in hashSet:\n",
    "                hashSet.remove(low-1)\n",
    "                low -= 1\n",
    "                \n",
    "            while high + 1 in hashSet:\n",
    "                hashSet.remove(high+1)\n",
    "                high += 1\n",
    "            res = max(high-low+1,res)\n",
    "        return res"
   ]
  },
  {
   "cell_type": "code",
   "execution_count": null,
   "metadata": {
    "collapsed": true
   },
   "outputs": [],
   "source": []
  }
 ],
 "metadata": {
  "kernelspec": {
   "display_name": "Python [Root]",
   "language": "python",
   "name": "Python [Root]"
  },
  "language_info": {
   "codemirror_mode": {
    "name": "ipython",
    "version": 3
   },
   "file_extension": ".py",
   "mimetype": "text/x-python",
   "name": "python",
   "nbconvert_exporter": "python",
   "pygments_lexer": "ipython3",
   "version": "3.5.5"
  }
 },
 "nbformat": 4,
 "nbformat_minor": 0
}
