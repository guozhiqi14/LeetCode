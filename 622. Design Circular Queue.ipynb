{
 "cells": [
  {
   "cell_type": "markdown",
   "metadata": {},
   "source": [
    "## [622. Design Circular Queue](https://leetcode.com/problems/design-circular-queue/description/)"
   ]
  },
  {
   "cell_type": "markdown",
   "metadata": {},
   "source": [
    "Design your implementation of the circular queue. The circular queue is a linear data structure in which the operations are performed based on FIFO (First In First Out) principle and the last position is connected back to the first position to make a circle. It is also called \"Ring Buffer\".\n",
    "\n",
    "One of the benefits of the circular queue is that we can make use of the spaces in front of the queue. In a normal queue, once the queue becomes full, we cannot insert the next element even if there is a space in front of the queue. But using the circular queue, we can use the space to store new values.\n",
    "\n",
    "Your implementation should support following operations:\n",
    "\n",
    "* MyCircularQueue(k): Constructor, set the size of the queue to be k.\n",
    "* Front: Get the front item from the queue. If the queue is empty, return -1.\n",
    "* Rear: Get the last item from the queue. If the queue is empty, return -1.\n",
    "* enQueue(value): Insert an element into the circular queue. Return true if the operation is successful.\n",
    "* deQueue(): Delete an element from the circular queue. Return true if the operation is successful.\n",
    "* isEmpty(): Checks whether the circular queue is empty or not.\n",
    "* isFull(): Checks whether the circular queue is full or not."
   ]
  },
  {
   "cell_type": "raw",
   "metadata": {},
   "source": [
    "Example:\n",
    "\n",
    "MyCircularQueue circularQueue = new MycircularQueue(3); // set the size to be 3\n",
    "circularQueue.enQueue(1);  // return true\n",
    "circularQueue.enQueue(2);  // return true\n",
    "circularQueue.enQueue(3);  // return true\n",
    "circularQueue.enQueue(4);  // return false, the queue is full\n",
    "circularQueue.Rear();  // return 3\n",
    "circularQueue.isFull();  // return true\n",
    "circularQueue.deQueue();  // return true\n",
    "circularQueue.enQueue(4);  // return true\n",
    "circularQueue.Rear();  // return 4\n"
   ]
  },
  {
   "cell_type": "markdown",
   "metadata": {},
   "source": [
    "Note:\n",
    "\n",
    "All values will be in the range of [0, 1000].\n",
    "The number of operations will be in the range of [1, 1000].\n",
    "Please do not use the built-in Queue library."
   ]
  },
  {
   "cell_type": "code",
   "execution_count": 1,
   "metadata": {
    "collapsed": true
   },
   "outputs": [],
   "source": [
    "class MyCircularQueue:\n",
    "\n",
    "    def __init__(self, k):\n",
    "        self.size = 0\n",
    "        self.max_size = k\n",
    "        self.t = [0]*k\n",
    "        self.front = self.rear = -1\n",
    "        \n",
    "    def enQueue(self, value):\n",
    "        if self.size == self.max_size: return False\n",
    "        else:\n",
    "            if self.rear == -1:\n",
    "                self.rear = self.front = 0\n",
    "            else:\n",
    "                self.rear = (self.rear + 1)%self.max_size\n",
    "            self.t[self.rear] = value\n",
    "            self.size += 1\n",
    "            return True\n",
    "        \n",
    "    def deQueue(self):\n",
    "        if self.size == 0: return False\n",
    "        if self.front == self.rear:\n",
    "            self.front = self.rear = -1\n",
    "        else:\n",
    "            self.front = (self.front + 1)%self.max_size\n",
    "        self.size -= 1\n",
    "        return True\n",
    "        \n",
    "\n",
    "    def Front(self):\n",
    "        return self.t[self.front] if self.size != 0 else -1\n",
    "\n",
    "    def Rear(self):\n",
    "        return self.t[self.rear] if self.size != 0 else -1\n",
    "\n",
    "    def isEmpty(self):\n",
    "        return self.size == 0\n",
    "\n",
    "    def isFull(self):\n",
    "        return self.size == self.max_size"
   ]
  },
  {
   "cell_type": "code",
   "execution_count": null,
   "metadata": {
    "collapsed": true
   },
   "outputs": [],
   "source": []
  }
 ],
 "metadata": {
  "anaconda-cloud": {},
  "kernelspec": {
   "display_name": "Python [Root]",
   "language": "python",
   "name": "Python [Root]"
  },
  "language_info": {
   "codemirror_mode": {
    "name": "ipython",
    "version": 3
   },
   "file_extension": ".py",
   "mimetype": "text/x-python",
   "name": "python",
   "nbconvert_exporter": "python",
   "pygments_lexer": "ipython3",
   "version": "3.5.5"
  }
 },
 "nbformat": 4,
 "nbformat_minor": 0
}
