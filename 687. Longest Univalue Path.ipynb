{
 "cells": [
  {
   "cell_type": "markdown",
   "metadata": {},
   "source": [
    "## [687. Longest Univalue Path](https://leetcode.com/problems/longest-univalue-path/description/)"
   ]
  },
  {
   "cell_type": "markdown",
   "metadata": {},
   "source": [
    "Given a binary tree, find the length of the longest path where each node in the path has the same value. This path may or may not pass through the root.\n",
    "\n",
    "Note:   \n",
    "\n",
    "The length of path between two nodes is represented by the number of edges between them.\n",
    "\n"
   ]
  },
  {
   "cell_type": "raw",
   "metadata": {},
   "source": [
    "Example 1:\n",
    "\n",
    "Input:\n",
    "\n",
    "              5\n",
    "             / \\\n",
    "            4   5\n",
    "           / \\   \\\n",
    "          1   1   5\n",
    "Output:\n",
    "\n",
    "2\n",
    "\n",
    "Example 2:\n",
    "\n",
    "Input:\n",
    "\n",
    "              1\n",
    "             / \\\n",
    "            4   5\n",
    "           / \\   \\\n",
    "          4   4   5\n",
    "Output:\n",
    "\n",
    "2\n",
    "\n",
    "\n",
    "\n",
    "Note: The given binary tree has not more than 10000 nodes. The height of the tree is not more than 1000."
   ]
  },
  {
   "cell_type": "markdown",
   "metadata": {},
   "source": [
    "[Complexity Analysis](https://leetcode.com/problems/longest-univalue-path/solution/)\n",
    "\n",
    "* Time Complexity: O(N), where NN is the number of nodes in the tree. We process every node once.\n",
    "\n",
    "* Space Complexity: O(H), where HH is the height of the tree. Our recursive call stack could be up to HH layers deep."
   ]
  },
  {
   "cell_type": "code",
   "execution_count": null,
   "metadata": {
    "collapsed": true
   },
   "outputs": [],
   "source": [
    "# Definition for a binary tree node.\n",
    "# class TreeNode:\n",
    "#     def __init__(self, x):\n",
    "#         self.val = x\n",
    "#         self.left = None\n",
    "#         self.right = None\n",
    "class Solution(object):\n",
    "    def longestUnivaluePath(self, root):\n",
    "        \"\"\"\n",
    "        :type root: TreeNode\n",
    "        :rtype: int\n",
    "        \"\"\"\n",
    "        # Time: O(n)\n",
    "        # Space: O(n)\n",
    "        \n",
    "        def dfs(root):\n",
    "            left,right = 0,0\n",
    "            if not root:\n",
    "                return 0\n",
    "            leftPath = dfs(root.left)\n",
    "            rightPath = dfs(root.right)\n",
    "            \n",
    "            if root.left and root.left.val == root.val:\n",
    "                left = leftPath + 1 \n",
    "            if root.right and root.right.val == root.val:\n",
    "                right = rightPath + 1\n",
    "            self.longest = max(self.longest,left+right)\n",
    "            return max(left,right)\n",
    "        \n",
    "        self.longest = 0\n",
    "        dfs(root)\n",
    "        return self.longest\n",
    "    "
   ]
  },
  {
   "cell_type": "code",
   "execution_count": null,
   "metadata": {
    "collapsed": true
   },
   "outputs": [],
   "source": []
  }
 ],
 "metadata": {
  "kernelspec": {
   "display_name": "Python [Root]",
   "language": "python",
   "name": "Python [Root]"
  },
  "language_info": {
   "codemirror_mode": {
    "name": "ipython",
    "version": 3
   },
   "file_extension": ".py",
   "mimetype": "text/x-python",
   "name": "python",
   "nbconvert_exporter": "python",
   "pygments_lexer": "ipython3",
   "version": "3.5.5"
  }
 },
 "nbformat": 4,
 "nbformat_minor": 0
}
