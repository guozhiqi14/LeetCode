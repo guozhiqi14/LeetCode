{
 "cells": [
  {
   "cell_type": "code",
   "execution_count": 13,
   "metadata": {
    "collapsed": false
   },
   "outputs": [],
   "source": [
    "class _Node(object):\n",
    "    def __init__(self,key,value):\n",
    "        self.key = key\n",
    "        self.value = value\n",
    "        self.left = self.right = None\n",
    "class BinarySearchTree(object):\n",
    "    def __init(self):\n",
    "        # initialized the interval to become a valid empty bst.\n",
    "        self.__root = None\n",
    "    def __insert(self,root,key,value):\n",
    "        if not root:\n",
    "            return self._Node(key,value)\n",
    "        elif root.key > key:\n",
    "            root.left = self.__insert(root.left,key,value)\n",
    "        elif root.key < key:\n",
    "            root.right = self.__insert(root.right,key,value)\n",
    "        else:\n",
    "            root.value = value\n",
    "        return root\n",
    "            \n",
    "    def insert(self, key, value):\n",
    "        #if key is already in the tree, the associated value will be updated by our input value.\n",
    "        #otherwise, a new key value pair will be put into our tree\n",
    "        self.__root = self.__insert(self.__root,key,value)\n",
    "    \n",
    "    def __query(self,root,key):\n",
    "        if not root:\n",
    "            return None\n",
    "        if root.key > key:\n",
    "            return self.__query(root.left,key)\n",
    "        elif root.key < key:\n",
    "            return self.__query(root.right,key)\n",
    "        else:\n",
    "            return root.value\n",
    "    def query(self,key):\n",
    "        #if key is already presented in our tree, the associated value will be returned.\n",
    "        #otherwise, None will be return.\n",
    "        return self.__query(self.__root,key)\n",
    "    \n",
    "    def _deleteMin(self,root):\n",
    "        if not root.left:\n",
    "            return root.right\n",
    "        root.left = self.__deleteMin(root.left)\n",
    "        return root\n",
    "    \n",
    "    def __min(self,root):\n",
    "        if not root.left:\n",
    "            return root\n",
    "        return self.__min(root.left)\n",
    "    \n",
    "    def __delete(self,root,key):\n",
    "        if not root:\n",
    "            return None\n",
    "        if key < root.value:\n",
    "            root.left = self.__delete(root.left,key)\n",
    "        elif key > root.value:\n",
    "            root.right = self.__delete(root.right,key)\n",
    "        else:\n",
    "            if not root.left:\n",
    "                return root.right\n",
    "            if not root.right:\n",
    "                return root.left\n",
    "            t = root\n",
    "            root = self.__min(root.right)\n",
    "            root.right = self.__deleteMin(t.right)\n",
    "            root.left = t.left\n",
    "        return root \n",
    "    \n",
    "    def delete(self,key):\n",
    "        #if key is already presented in our tree, this key value pair will be removed.\n",
    "        #otherwise, this function is a no-op.\n",
    "        self.__root = self.__delete(self.__root,key)\n",
    "    "
   ]
  },
  {
   "cell_type": "code",
   "execution_count": null,
   "metadata": {
    "collapsed": true
   },
   "outputs": [],
   "source": [
    "## query iterativaly \n",
    "def query(self,key):\n",
    "    cur = self.__root\n",
    "    while cur:\n",
    "        if key < cur.key:\n",
    "            cur = cur.left\n",
    "        elif key > cur.key:\n",
    "            cur = cur.right\n",
    "        else:\n",
    "            return cur.value\n",
    "    return None"
   ]
  },
  {
   "cell_type": "markdown",
   "metadata": {},
   "source": [
    "### Find the first node contain a value that is larger than our target value."
   ]
  },
  {
   "cell_type": "code",
   "execution_count": 8,
   "metadata": {
    "collapsed": true
   },
   "outputs": [],
   "source": [
    "#Given root of BST, find node contains minimum value  \n",
    "def FindMinimum(root): \n",
    "    if not root:\n",
    "        return None\n",
    "    return FindMinimum(root.left) or root"
   ]
  },
  {
   "cell_type": "code",
   "execution_count": 9,
   "metadata": {
    "collapsed": true
   },
   "outputs": [],
   "source": [
    "def findFirstLargerThanTarget(root,target):\n",
    "    if not root:\n",
    "        return None\n",
    "    if root.value == target:\n",
    "        return FindMinimum(root.right)\n",
    "    elif root.value < target:\n",
    "        return findFirstLargerThanTarget(root.right,target)\n",
    "    else:\n",
    "        return findFirstLargerThanTarget(root.left,target) or root"
   ]
  },
  {
   "cell_type": "markdown",
   "metadata": {},
   "source": [
    "### Find the last node  contain a value that is smaller than our target value."
   ]
  },
  {
   "cell_type": "code",
   "execution_count": 10,
   "metadata": {
    "collapsed": true
   },
   "outputs": [],
   "source": [
    "def FindMaximum(root):\n",
    "    if not root:\n",
    "        return None\n",
    "    return FindMaximum(root.right) or root\n",
    "\n",
    "def findLastSmallerThanTarget(root,target):\n",
    "    if not root:\n",
    "        return None\n",
    "    if root.value == target:\n",
    "        return FindMaximum(root.left)\n",
    "    elif root.value > target:\n",
    "        return findLastSmallerThanTarget(root.left,target)\n",
    "    else:\n",
    "        return findLastSmallerThanTarget(root.right,target) or root"
   ]
  }
 ],
 "metadata": {
  "kernelspec": {
   "display_name": "Python [Root]",
   "language": "python",
   "name": "Python [Root]"
  },
  "language_info": {
   "codemirror_mode": {
    "name": "ipython",
    "version": 3
   },
   "file_extension": ".py",
   "mimetype": "text/x-python",
   "name": "python",
   "nbconvert_exporter": "python",
   "pygments_lexer": "ipython3",
   "version": "3.5.5"
  }
 },
 "nbformat": 4,
 "nbformat_minor": 0
}
