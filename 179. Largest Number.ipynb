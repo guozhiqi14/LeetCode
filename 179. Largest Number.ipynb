{
 "cells": [
  {
   "cell_type": "markdown",
   "metadata": {},
   "source": [
    "## [179. Largest Number](https://leetcode.com/problems/largest-number/description/)"
   ]
  },
  {
   "cell_type": "markdown",
   "metadata": {},
   "source": [
    "Given a list of non negative integers, arrange them such that they form the largest number.\n",
    "\n"
   ]
  },
  {
   "cell_type": "raw",
   "metadata": {},
   "source": [
    "Example 1:\n",
    "\n",
    "Input: [10,2]\n",
    "Output: \"210\"\n",
    "    \n",
    "Example 2:\n",
    "\n",
    "Input: [3,30,34,5,9]\n",
    "Output: \"9534330\""
   ]
  },
  {
   "cell_type": "markdown",
   "metadata": {},
   "source": [
    "Note:\n",
    "\n",
    "The result may be very large, so you need to return a string instead of an integer.\n",
    "\n"
   ]
  },
  {
   "cell_type": "code",
   "execution_count": 11,
   "metadata": {
    "collapsed": true
   },
   "outputs": [],
   "source": [
    "class LargerNumKey(str):\n",
    "    def __lt__(x, y):\n",
    "        return x+y > y+x\n",
    "        \n",
    "class Solution:\n",
    "    def largestNumber(self, nums):\n",
    "        nums = [str(i) for i in nums]\n",
    "        largest_num = ''.join(sorted(nums, key=LargerNumKey))\n",
    "        return '0' if largest_num[0] == '0' else largest_num"
   ]
  },
  {
   "cell_type": "code",
   "execution_count": 13,
   "metadata": {
    "collapsed": true
   },
   "outputs": [],
   "source": [
    "from functools import cmp_to_key \n",
    "\n",
    "def f(x, y):\n",
    "    return int(y + x) - int(x + y)\n",
    "\n",
    "class Solution:\n",
    "    def largestNumber(self, nums):\n",
    "        \"\"\"\n",
    "        :type nums: List[int]\n",
    "        :rtype: str\n",
    "        \"\"\"\n",
    "        nums = [str(n) for n in nums]\n",
    "        nums = sorted(nums,key=cmp_to_key(f))\n",
    "        return \"\".join(nums).lstrip('0') or '0'"
   ]
  },
  {
   "cell_type": "code",
   "execution_count": 42,
   "metadata": {
    "collapsed": true
   },
   "outputs": [],
   "source": [
    "def selectsort(A):\n",
    "\n",
    "    A1=[]\n",
    "\n",
    "    A2=A\n",
    "\n",
    "    for i in range(len(A)):\n",
    "        A1.append(min(A2))\n",
    "        A2.remove(min(A2))\n",
    "        print(A2)\n",
    "    print(A1)"
   ]
  },
  {
   "cell_type": "code",
   "execution_count": 43,
   "metadata": {
    "collapsed": false
   },
   "outputs": [
    {
     "name": "stdout",
     "output_type": "stream",
     "text": [
      "[3, 2, 1, 1, 4]\n",
      "[3, 2, 1, 4]\n",
      "[3, 2, 4]\n",
      "[3, 4]\n",
      "[4]\n",
      "[]\n",
      "[1, 1, 1, 2, 3, 4]\n"
     ]
    }
   ],
   "source": [
    "selectsort([3,2,1,1,1,4])"
   ]
  },
  {
   "cell_type": "code",
   "execution_count": 44,
   "metadata": {
    "collapsed": true
   },
   "outputs": [],
   "source": [
    "def selectsort(A):\n",
    "\n",
    "    A1=[]\n",
    "\n",
    "    A2=A\n",
    "\n",
    "    for i in A:\n",
    "        A1.append(min(A2))\n",
    "        A2.remove(min(A2))\n",
    "        print(i)\n",
    "    print(A1)"
   ]
  },
  {
   "cell_type": "code",
   "execution_count": 45,
   "metadata": {
    "collapsed": false
   },
   "outputs": [
    {
     "name": "stdout",
     "output_type": "stream",
     "text": [
      "3\n",
      "2\n",
      "1\n",
      "[1, 1, 1]\n"
     ]
    }
   ],
   "source": [
    "selectsort([3,2,1,1,1,4])"
   ]
  },
  {
   "cell_type": "code",
   "execution_count": null,
   "metadata": {
    "collapsed": true
   },
   "outputs": [],
   "source": []
  }
 ],
 "metadata": {
  "kernelspec": {
   "display_name": "Python [Root]",
   "language": "python",
   "name": "Python [Root]"
  },
  "language_info": {
   "codemirror_mode": {
    "name": "ipython",
    "version": 3
   },
   "file_extension": ".py",
   "mimetype": "text/x-python",
   "name": "python",
   "nbconvert_exporter": "python",
   "pygments_lexer": "ipython3",
   "version": "3.5.5"
  }
 },
 "nbformat": 4,
 "nbformat_minor": 0
}
