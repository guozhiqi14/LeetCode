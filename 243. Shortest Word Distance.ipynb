{
 "cells": [
  {
   "cell_type": "markdown",
   "metadata": {},
   "source": [
    "## [243. Shortest Word Distance](https://leetcode.com/problems/shortest-word-distance/description/)"
   ]
  },
  {
   "cell_type": "markdown",
   "metadata": {},
   "source": [
    "Given a list of words and two words word1 and word2, return the shortest distance between these two words in the list.\n",
    "\n"
   ]
  },
  {
   "cell_type": "raw",
   "metadata": {},
   "source": [
    "Example:\n",
    "Assume that words = [\"practice\", \"makes\", \"perfect\", \"coding\", \"makes\"].\n",
    "\n",
    "Input: word1 = “coding”, word2 = “practice”\n",
    "Output: 3\n",
    "\n",
    "Input: word1 = \"makes\", word2 = \"coding\"\n",
    "Output: 1"
   ]
  },
  {
   "cell_type": "markdown",
   "metadata": {},
   "source": [
    "Note:\n",
    "\n",
    "You may assume that word1 does not equal to word2, and word1 and word2 are both in the list."
   ]
  },
  {
   "cell_type": "markdown",
   "metadata": {},
   "source": [
    "## [视频](https://www.youtube.com/watch?v=URtu6Wqq_Mk&t=1640s)"
   ]
  },
  {
   "cell_type": "markdown",
   "metadata": {},
   "source": [
    "### Naive Solution   \n",
    "把target element的index都记下来存进list。\n",
    "相当于在两个sorted list里找最近的pair。  \n",
    "\n",
    "暴力for loop， worst case O(n^2)"
   ]
  },
  {
   "cell_type": "code",
   "execution_count": null,
   "metadata": {
    "collapsed": true
   },
   "outputs": [],
   "source": [
    "from collections import defaultdict\n",
    "class Solution:\n",
    "    def shortestDistance(self, words, word1, word2):\n",
    "        \"\"\"\n",
    "        :type words: List[str]\n",
    "        :type word1: str\n",
    "        :type word2: str\n",
    "        :rtype: int\n",
    "        \"\"\"\n",
    "        #   0           1         2         3         4\n",
    "        #[\"practice\", \"makes\", \"perfect\", \"coding\", \"makes\"].\n",
    "        hashMap = defaultdict(list)\n",
    "        for k,v in enumerate(words):\n",
    "            if v in [word1,word2]:\n",
    "                hashMap[v].append(k)\n",
    "        \n",
    "        dis1 = hashMap[word1]\n",
    "        dis2 = hashMap[word2]\n",
    "        res = float('inf')\n",
    "        for i in dis1:\n",
    "            for j in dis2:\n",
    "                res = min(abs(i-j),res)\n",
    "        return res"
   ]
  },
  {
   "cell_type": "markdown",
   "metadata": {},
   "source": [
    "### Optimized Solution than Naive nlog(n)   \n",
    "\n",
    "在两个sorted array 里找最近pair 就是用一个list的element去找另一个closeest number，可以用binary search"
   ]
  },
  {
   "cell_type": "code",
   "execution_count": 11,
   "metadata": {
    "collapsed": true
   },
   "outputs": [],
   "source": [
    "from collections import defaultdict\n",
    "class Solution:\n",
    "    def shortestDistance(self, words, word1, word2):\n",
    "        \"\"\"\n",
    "        :type words: List[str]\n",
    "        :type word1: str\n",
    "        :type word2: str\n",
    "        :rtype: int\n",
    "        \"\"\"\n",
    "        #   0           1         2         3         4\n",
    "        #[\"practice\", \"makes\", \"perfect\", \"coding\", \"makes\"].\n",
    "        hashMap = defaultdict(list)\n",
    "        for k,v in enumerate(words):\n",
    "            if v in [word1,word2]:\n",
    "                hashMap[v].append(k)\n",
    "        \n",
    "        dis1 = hashMap[word1]\n",
    "        dis2 = hashMap[word2]\n",
    "        res = float('inf')\n",
    "       \n",
    "        for i in range(len(dis1)):\n",
    "            b = self.findClosest(dis2,dis1[i])\n",
    "            res = min(abs(dis2[b]-dis1[i]),res)\n",
    "            \n",
    "        return res\n",
    "            \n",
    "        \n",
    "    def findClosest(self,arr,target):\n",
    "        left,right = 0,len(arr)-1\n",
    "        while left < right - 1:\n",
    "            mid = (left+right)//2\n",
    "            if arr[mid] == target:\n",
    "                return mid\n",
    "            elif arr[mid] > target:\n",
    "                right = mid\n",
    "            else:\n",
    "                left = mid\n",
    "        if abs(arr[left]-target) < abs(arr[right]-target):\n",
    "            return left\n",
    "        return right"
   ]
  },
  {
   "cell_type": "code",
   "execution_count": 12,
   "metadata": {
    "collapsed": false
   },
   "outputs": [
    {
     "data": {
      "text/plain": [
       "3"
      ]
     },
     "execution_count": 12,
     "metadata": {},
     "output_type": "execute_result"
    }
   ],
   "source": [
    "s = Solution()\n",
    "s.shortestDistance([\"practice\", \"makes\", \"perfect\", \"coding\", \"makes\"],\"coding\",\"practice\")"
   ]
  },
  {
   "cell_type": "markdown",
   "metadata": {},
   "source": [
    "### One pass O(n) Solution.  \n",
    "\n",
    "For each a, we need to get the recent position of b.   \n",
    "For each b, we need to get the recent position of a."
   ]
  },
  {
   "cell_type": "code",
   "execution_count": 13,
   "metadata": {
    "collapsed": true
   },
   "outputs": [],
   "source": [
    "class Solution:\n",
    "    def shortestDistance(self, words, word1, word2):\n",
    "        \"\"\"\n",
    "        :type words: List[str]\n",
    "        :type word1: str\n",
    "        :type word2: str\n",
    "        :rtype: int\n",
    "        \"\"\"\n",
    "        index_a = -1\n",
    "        index_b = -1\n",
    "        res = float('inf')\n",
    "        for i in range(len(words)):\n",
    "            if words[i] == words1:\n",
    "                index_a = i\n",
    "                if index_b != -1:\n",
    "                    res = min(res,abs(index_a-index_b))\n",
    "            if words[i] == words2:\n",
    "                index_b = i\n",
    "                if index_a != -1:\n",
    "                    res = min(res,abs(index_b-index_a))\n",
    "        return res"
   ]
  },
  {
   "cell_type": "code",
   "execution_count": null,
   "metadata": {
    "collapsed": true
   },
   "outputs": [],
   "source": []
  }
 ],
 "metadata": {
  "kernelspec": {
   "display_name": "Python [Root]",
   "language": "python",
   "name": "Python [Root]"
  },
  "language_info": {
   "codemirror_mode": {
    "name": "ipython",
    "version": 3
   },
   "file_extension": ".py",
   "mimetype": "text/x-python",
   "name": "python",
   "nbconvert_exporter": "python",
   "pygments_lexer": "ipython3",
   "version": "3.5.5"
  }
 },
 "nbformat": 4,
 "nbformat_minor": 0
}
