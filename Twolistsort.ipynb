{
 "cells": [
  {
   "cell_type": "markdown",
   "metadata": {},
   "source": [
    "## 不考虑绝对值"
   ]
  },
  {
   "cell_type": "code",
   "execution_count": 22,
   "metadata": {
    "collapsed": false
   },
   "outputs": [],
   "source": [
    "import numpy as np\n",
    "\n",
    "name = ['apple','amazon','facebook','alibaba','baidu','xiaomi','tencent','google','bytedance']\n",
    "price = [30,40,-20,-10,20,50,5,20,50] "
   ]
  },
  {
   "cell_type": "markdown",
   "metadata": {},
   "source": [
    "## 第一种"
   ]
  },
  {
   "cell_type": "code",
   "execution_count": 23,
   "metadata": {
    "collapsed": false
   },
   "outputs": [
    {
     "data": {
      "text/plain": [
       "array([-20, -10,   5,  20,  20,  30,  40,  50,  50])"
      ]
     },
     "execution_count": 23,
     "metadata": {},
     "output_type": "execute_result"
    }
   ],
   "source": [
    "np.sort(price)"
   ]
  },
  {
   "cell_type": "code",
   "execution_count": 24,
   "metadata": {
    "collapsed": false
   },
   "outputs": [
    {
     "data": {
      "text/plain": [
       "[(30, 'apple'),\n",
       " (40, 'amazon'),\n",
       " (-20, 'facebook'),\n",
       " (-10, 'alibaba'),\n",
       " (20, 'baidu'),\n",
       " (50, 'xiaomi'),\n",
       " (5, 'tencent'),\n",
       " (20, 'google'),\n",
       " (50, 'bytedance')]"
      ]
     },
     "execution_count": 24,
     "metadata": {},
     "output_type": "execute_result"
    }
   ],
   "source": [
    "list(zip(price,name))"
   ]
  },
  {
   "cell_type": "code",
   "execution_count": 25,
   "metadata": {
    "collapsed": false
   },
   "outputs": [],
   "source": [
    "info_dict = dict(zip(price,name)) "
   ]
  },
  {
   "cell_type": "code",
   "execution_count": 26,
   "metadata": {
    "collapsed": false
   },
   "outputs": [
    {
     "data": {
      "text/plain": [
       "{-20: 'facebook',\n",
       " -10: 'alibaba',\n",
       " 5: 'tencent',\n",
       " 20: 'google',\n",
       " 30: 'apple',\n",
       " 40: 'amazon',\n",
       " 50: 'bytedance'}"
      ]
     },
     "execution_count": 26,
     "metadata": {},
     "output_type": "execute_result"
    }
   ],
   "source": [
    "#注意：dictionary 不能有两个相同的key\n",
    "info_dict"
   ]
  },
  {
   "cell_type": "code",
   "execution_count": 27,
   "metadata": {
    "collapsed": false
   },
   "outputs": [],
   "source": [
    "top_3 = np.sort(price)\n",
    "top_3 = top_3[::-1][:3]"
   ]
  },
  {
   "cell_type": "code",
   "execution_count": 28,
   "metadata": {
    "collapsed": false
   },
   "outputs": [],
   "source": [
    "name_top3 = []\n",
    "for i in top_3:\n",
    "    name_top3.append(info_dict[i])"
   ]
  },
  {
   "cell_type": "code",
   "execution_count": 29,
   "metadata": {
    "collapsed": false
   },
   "outputs": [
    {
     "data": {
      "text/plain": [
       "['bytedance', 'bytedance', 'amazon']"
      ]
     },
     "execution_count": 29,
     "metadata": {},
     "output_type": "execute_result"
    }
   ],
   "source": [
    "name_top3"
   ]
  },
  {
   "cell_type": "code",
   "execution_count": 30,
   "metadata": {
    "collapsed": false
   },
   "outputs": [
    {
     "data": {
      "text/plain": [
       "array([50, 50, 40])"
      ]
     },
     "execution_count": 30,
     "metadata": {},
     "output_type": "execute_result"
    }
   ],
   "source": [
    "top_3"
   ]
  },
  {
   "cell_type": "markdown",
   "metadata": {},
   "source": [
    "## 第二种"
   ]
  },
  {
   "cell_type": "code",
   "execution_count": 31,
   "metadata": {
    "collapsed": false
   },
   "outputs": [],
   "source": [
    "info_tuple = []\n",
    "for i in range(len(price)):\n",
    "    info_tuple.append((name[i],price[i]))"
   ]
  },
  {
   "cell_type": "code",
   "execution_count": 32,
   "metadata": {
    "collapsed": false
   },
   "outputs": [
    {
     "data": {
      "text/plain": [
       "[('apple', 30),\n",
       " ('amazon', 40),\n",
       " ('facebook', -20),\n",
       " ('alibaba', -10),\n",
       " ('baidu', 20),\n",
       " ('xiaomi', 50),\n",
       " ('tencent', 5),\n",
       " ('google', 20),\n",
       " ('bytedance', 50)]"
      ]
     },
     "execution_count": 32,
     "metadata": {},
     "output_type": "execute_result"
    }
   ],
   "source": [
    "list(zip(name,price))"
   ]
  },
  {
   "cell_type": "code",
   "execution_count": 33,
   "metadata": {
    "collapsed": false
   },
   "outputs": [
    {
     "data": {
      "text/plain": [
       "[('apple', 30),\n",
       " ('amazon', 40),\n",
       " ('facebook', -20),\n",
       " ('alibaba', -10),\n",
       " ('baidu', 20),\n",
       " ('xiaomi', 50),\n",
       " ('tencent', 5),\n",
       " ('google', 20),\n",
       " ('bytedance', 50)]"
      ]
     },
     "execution_count": 33,
     "metadata": {},
     "output_type": "execute_result"
    }
   ],
   "source": [
    "info_tuple"
   ]
  },
  {
   "cell_type": "code",
   "execution_count": 34,
   "metadata": {
    "collapsed": false
   },
   "outputs": [],
   "source": [
    "sorted_list = sorted(info_tuple, key = lambda x:x[1], reverse = True)"
   ]
  },
  {
   "cell_type": "code",
   "execution_count": 35,
   "metadata": {
    "collapsed": false
   },
   "outputs": [
    {
     "data": {
      "text/plain": [
       "[('xiaomi', 50), ('bytedance', 50), ('amazon', 40)]"
      ]
     },
     "execution_count": 35,
     "metadata": {},
     "output_type": "execute_result"
    }
   ],
   "source": [
    "sorted_list[:3]"
   ]
  },
  {
   "cell_type": "code",
   "execution_count": 36,
   "metadata": {
    "collapsed": false
   },
   "outputs": [
    {
     "data": {
      "text/plain": [
       "[('xiaomi', 50),\n",
       " ('bytedance', 50),\n",
       " ('amazon', 40),\n",
       " ('apple', 30),\n",
       " ('baidu', 20),\n",
       " ('google', 20),\n",
       " ('tencent', 5),\n",
       " ('alibaba', -10),\n",
       " ('facebook', -20)]"
      ]
     },
     "execution_count": 36,
     "metadata": {},
     "output_type": "execute_result"
    }
   ],
   "source": [
    "sorted(info_tuple, key = lambda x: x[1],reverse=True)"
   ]
  },
  {
   "cell_type": "markdown",
   "metadata": {},
   "source": [
    "## 第三种 bubule sort O(N^2)"
   ]
  },
  {
   "cell_type": "code",
   "execution_count": 37,
   "metadata": {
    "collapsed": true
   },
   "outputs": [],
   "source": [
    "def bubbleSort(arr):\n",
    "    n = len(arr)\n",
    "  \n",
    "    # Traverse through all array elements\n",
    "    for i in range(n):\n",
    "        \n",
    " \n",
    "        # Last i elements are already\n",
    "        #  in place\n",
    "        for j in range(0, n-i-1):\n",
    "  \n",
    "            # traverse the array from 0 to\n",
    "            # n-i-1. Swap if the element \n",
    "            # found is greater than the\n",
    "            # next element\n",
    "            if arr[j] < arr[j+1] :\n",
    "                arr[j], arr[j+1] = arr[j+1], arr[j]\n",
    "               \n",
    "    return arr"
   ]
  },
  {
   "cell_type": "code",
   "execution_count": 38,
   "metadata": {
    "collapsed": false
   },
   "outputs": [
    {
     "data": {
      "text/plain": [
       "[50, 50, 40, 30, 20, 20, 5, -10, -20]"
      ]
     },
     "execution_count": 38,
     "metadata": {},
     "output_type": "execute_result"
    }
   ],
   "source": [
    "bubbleSort(price)"
   ]
  },
  {
   "cell_type": "code",
   "execution_count": 39,
   "metadata": {
    "collapsed": false
   },
   "outputs": [
    {
     "data": {
      "text/plain": [
       "[('apple', 30),\n",
       " ('amazon', 40),\n",
       " ('facebook', -20),\n",
       " ('alibaba', -10),\n",
       " ('baidu', 20),\n",
       " ('xiaomi', 50),\n",
       " ('tencent', 5),\n",
       " ('google', 20),\n",
       " ('bytedance', 50)]"
      ]
     },
     "execution_count": 39,
     "metadata": {},
     "output_type": "execute_result"
    }
   ],
   "source": [
    "info_tuple"
   ]
  },
  {
   "cell_type": "code",
   "execution_count": 40,
   "metadata": {
    "collapsed": true
   },
   "outputs": [],
   "source": [
    "def bubbleSort_tuple(arr):\n",
    "    n = len(arr)\n",
    "  \n",
    "    # Traverse through all array elements\n",
    "    for i in range(n):\n",
    "        \n",
    " \n",
    "        # Last i elements are already\n",
    "        #  in place\n",
    "        for j in range(0, n-i-1):\n",
    "  \n",
    "            # traverse the array from 0 to\n",
    "            # n-i-1. Swap if the element \n",
    "            # found is greater than the\n",
    "            # next element\n",
    "            if arr[j][1] < arr[j+1][1] :\n",
    "                arr[j], arr[j+1] = arr[j+1], arr[j]\n",
    "               \n",
    "    return arr"
   ]
  },
  {
   "cell_type": "code",
   "execution_count": 41,
   "metadata": {
    "collapsed": false
   },
   "outputs": [
    {
     "data": {
      "text/plain": [
       "[('xiaomi', 50),\n",
       " ('bytedance', 50),\n",
       " ('amazon', 40),\n",
       " ('apple', 30),\n",
       " ('baidu', 20),\n",
       " ('google', 20),\n",
       " ('tencent', 5),\n",
       " ('alibaba', -10),\n",
       " ('facebook', -20)]"
      ]
     },
     "execution_count": 41,
     "metadata": {},
     "output_type": "execute_result"
    }
   ],
   "source": [
    "bubbleSort_tuple(info_tuple)"
   ]
  },
  {
   "cell_type": "markdown",
   "metadata": {},
   "source": [
    "## 考虑绝对值"
   ]
  },
  {
   "cell_type": "code",
   "execution_count": 221,
   "metadata": {
    "collapsed": false
   },
   "outputs": [
    {
     "data": {
      "text/plain": [
       "array([30, 40, 20, 10, 20, 50,  5, 20])"
      ]
     },
     "execution_count": 221,
     "metadata": {},
     "output_type": "execute_result"
    }
   ],
   "source": [
    "name = ['apple','amazon','facebook','alibaba','baidu','xiaomi','tencent','google']\n",
    "price = [30,40,-20,-10,20,50,5,20] \n",
    "price_no_sign = np.abs(price)\n",
    "price_no_sign"
   ]
  },
  {
   "cell_type": "code",
   "execution_count": 219,
   "metadata": {
    "collapsed": false
   },
   "outputs": [],
   "source": [
    "list_info = []\n",
    "for i in range(len(price_no_sign)):\n",
    "    list_info.append((name[i],price_no_sign[i]))"
   ]
  },
  {
   "cell_type": "code",
   "execution_count": 220,
   "metadata": {
    "collapsed": false
   },
   "outputs": [
    {
     "data": {
      "text/plain": [
       "[('apple', 30),\n",
       " ('amazon', 40),\n",
       " ('facebook', 20),\n",
       " ('alibaba', 10),\n",
       " ('baidu', 20),\n",
       " ('xiaomi', 50),\n",
       " ('tencent', 5),\n",
       " ('google', 20)]"
      ]
     },
     "execution_count": 220,
     "metadata": {},
     "output_type": "execute_result"
    }
   ],
   "source": [
    "list_info"
   ]
  },
  {
   "cell_type": "code",
   "execution_count": 222,
   "metadata": {
    "collapsed": false
   },
   "outputs": [
    {
     "data": {
      "text/plain": [
       "[('xiaomi', 50),\n",
       " ('amazon', 40),\n",
       " ('apple', 30),\n",
       " ('facebook', 20),\n",
       " ('baidu', 20),\n",
       " ('google', 20),\n",
       " ('alibaba', 10),\n",
       " ('tencent', 5)]"
      ]
     },
     "execution_count": 222,
     "metadata": {},
     "output_type": "execute_result"
    }
   ],
   "source": [
    "bubbleSort_tuple(list_info)"
   ]
  },
  {
   "cell_type": "code",
   "execution_count": null,
   "metadata": {
    "collapsed": true
   },
   "outputs": [],
   "source": []
  },
  {
   "cell_type": "code",
   "execution_count": null,
   "metadata": {
    "collapsed": true
   },
   "outputs": [],
   "source": []
  },
  {
   "cell_type": "code",
   "execution_count": null,
   "metadata": {
    "collapsed": true
   },
   "outputs": [],
   "source": []
  },
  {
   "cell_type": "markdown",
   "metadata": {},
   "source": [
    "## MergeSort     \n",
    "### Big(O) = nlogn   \n",
    "### Space = n"
   ]
  },
  {
   "cell_type": "code",
   "execution_count": 62,
   "metadata": {
    "collapsed": true
   },
   "outputs": [],
   "source": [
    "def merge(a,b):\n",
    "    \"\"\" Function to merge two arrays \"\"\"\n",
    "    c = []\n",
    "    while len(a) != 0 and len(b) != 0:\n",
    "        if a[0] < b[0]:\n",
    "            c.append(a[0])\n",
    "            a.remove(a[0])\n",
    "        else:\n",
    "            c.append(b[0])\n",
    "            b.remove(b[0])\n",
    "    if len(a) == 0:\n",
    "        c += b\n",
    "    else:\n",
    "        c += a\n",
    "    return c\n",
    "\n",
    "# Code for merge sort\n",
    "\n",
    "def mergesort(x):\n",
    "    \"\"\" Function to sort an array using merge sort algorithm \"\"\"\n",
    "    if len(x) == 0 or len(x) == 1:\n",
    "        return x\n",
    "    else:\n",
    "        middle = len(x)//2\n",
    "        a = mergesort(x[:middle])\n",
    "        b = mergesort(x[middle:])\n",
    "        return merge(a,b)"
   ]
  },
  {
   "cell_type": "code",
   "execution_count": 63,
   "metadata": {
    "collapsed": false
   },
   "outputs": [
    {
     "data": {
      "text/plain": [
       "[1, 2, 3, 4, 5, 6, 7]"
      ]
     },
     "execution_count": 63,
     "metadata": {},
     "output_type": "execute_result"
    }
   ],
   "source": [
    "lst = [4,5,1,3,2,7,6]\n",
    "mergesort(lst)"
   ]
  },
  {
   "cell_type": "code",
   "execution_count": 137,
   "metadata": {
    "collapsed": false
   },
   "outputs": [
    {
     "data": {
      "text/plain": [
       "[1, 2, 3]"
      ]
     },
     "execution_count": 137,
     "metadata": {},
     "output_type": "execute_result"
    }
   ],
   "source": [
    "c = Solution()\n",
    "c.mergeSort([3,2,1])"
   ]
  },
  {
   "cell_type": "code",
   "execution_count": 138,
   "metadata": {
    "collapsed": false
   },
   "outputs": [],
   "source": [
    "def mergesort_tuple(x):\n",
    "    if len(x) == 0 or len(x) == 1:\n",
    "        return x\n",
    "    else:\n",
    "        middle = len(x) // 2\n",
    "        a = mergesort_tuple(x[:middle])\n",
    "        b = mergesort_tuple(x[middle:]) \n",
    "        \n",
    "        return merge_tuple(a,b)\n",
    "\n",
    "def merge_tuple(a,b):\n",
    "    c = []\n",
    "    \n",
    "    while len(a) != 0 and len(b) != 0:\n",
    "        if a[0][1] > b[0][1]:\n",
    "            c.append(a[0])\n",
    "            a.remove(a[0])\n",
    "        else:\n",
    "            c.append(b[0])\n",
    "            b.remove(b[0])\n",
    "    if len(a) == 0:\n",
    "        c += b\n",
    "    else:\n",
    "        c += a\n",
    "    return c"
   ]
  },
  {
   "cell_type": "code",
   "execution_count": 139,
   "metadata": {
    "collapsed": true
   },
   "outputs": [],
   "source": [
    "def mergesort_tuple(x):\n",
    "    if len(x) == 0 or len(x) == 1:\n",
    "        return x\n",
    "    else:\n",
    "        middle = len(x) // 2\n",
    "        a = mergesort_tuple(x[:middle])\n",
    "        b = mergesort_tuple(x[middle:]) \n",
    "        \n",
    "        return merge_tuple(a,b)\n",
    "\n",
    "def merge_tuple(a,b):\n",
    "    c = []\n",
    "    \n",
    "    while len(a) != 0 and len(b) != 0:\n",
    "        if a[0][1] > b[0][1]:\n",
    "            c.append(a[0])\n",
    "            a.remove(a[0])\n",
    "        else:\n",
    "            c.append(b[0])\n",
    "            b.remove(b[0])\n",
    "    if len(a) == 0:\n",
    "        c += b\n",
    "    else:\n",
    "        c += a\n",
    "    return c"
   ]
  },
  {
   "cell_type": "code",
   "execution_count": 140,
   "metadata": {
    "collapsed": false
   },
   "outputs": [
    {
     "data": {
      "text/plain": [
       "[1, 2, 3, 4]"
      ]
     },
     "execution_count": 140,
     "metadata": {},
     "output_type": "execute_result"
    }
   ],
   "source": [
    "c = Solution()\n",
    "c.mergeSort([1,2,4,3])"
   ]
  },
  {
   "cell_type": "code",
   "execution_count": 96,
   "metadata": {
    "collapsed": false
   },
   "outputs": [
    {
     "data": {
      "text/plain": [
       "[('apple', 50),\n",
       " ('amazon', 50),\n",
       " ('facebook', 40),\n",
       " ('alibaba', 30),\n",
       " ('baidu', 20),\n",
       " ('xiaomi', 20),\n",
       " ('tencent', 5),\n",
       " ('google', -10),\n",
       " ('bytedance', -20)]"
      ]
     },
     "execution_count": 96,
     "metadata": {},
     "output_type": "execute_result"
    }
   ],
   "source": [
    "list(zip(name,price))"
   ]
  },
  {
   "cell_type": "code",
   "execution_count": 108,
   "metadata": {
    "collapsed": true
   },
   "outputs": [],
   "source": [
    "def mergesort_tuple(x):\n",
    "    if len(x) == 0 or len(x) == 1:\n",
    "        return x\n",
    "    else:\n",
    "        middle = len(x) // 2\n",
    "        a = mergesort_tuple(x[:middle])\n",
    "        b = mergesort_tuple(x[middle:]) \n",
    "        \n",
    "        return merge_tuple(a,b)\n",
    "\n",
    "def merge_tuple(a,b):\n",
    "    c = []\n",
    "    \n",
    "    while len(a) != 0 and len(b) != 0:\n",
    "        if a[0][1] > b[0][1]:\n",
    "            c.append(a[0])\n",
    "            a.remove(a[0])\n",
    "        else:\n",
    "            c.append(b[0])\n",
    "            b.remove(b[0])\n",
    "    if len(a) == 0:\n",
    "        c += b\n",
    "    else:\n",
    "        c += a\n",
    "    return c"
   ]
  },
  {
   "cell_type": "code",
   "execution_count": 109,
   "metadata": {
    "collapsed": false
   },
   "outputs": [
    {
     "data": {
      "text/plain": [
       "[('amazon', 50),\n",
       " ('apple', 50),\n",
       " ('facebook', 40),\n",
       " ('alibaba', 30),\n",
       " ('xiaomi', 20),\n",
       " ('baidu', 20),\n",
       " ('tencent', 5),\n",
       " ('google', -10),\n",
       " ('bytedance', -20)]"
      ]
     },
     "execution_count": 109,
     "metadata": {},
     "output_type": "execute_result"
    }
   ],
   "source": [
    "mergesort_tuple(list(zip(name,price)))"
   ]
  },
  {
   "cell_type": "code",
   "execution_count": null,
   "metadata": {
    "collapsed": true
   },
   "outputs": [],
   "source": []
  },
  {
   "cell_type": "code",
   "execution_count": null,
   "metadata": {
    "collapsed": true
   },
   "outputs": [],
   "source": []
  },
  {
   "cell_type": "code",
   "execution_count": null,
   "metadata": {
    "collapsed": true
   },
   "outputs": [],
   "source": []
  },
  {
   "cell_type": "code",
   "execution_count": 114,
   "metadata": {
    "collapsed": false
   },
   "outputs": [
    {
     "data": {
      "text/plain": [
       "[('xiaomi', 50),\n",
       " ('bytedance', 50),\n",
       " ('amazon', 40),\n",
       " ('apple', 30),\n",
       " ('baidu', 20),\n",
       " ('google', 20),\n",
       " ('tencent', 5),\n",
       " ('alibaba', -10),\n",
       " ('facebook', -20)]"
      ]
     },
     "execution_count": 114,
     "metadata": {},
     "output_type": "execute_result"
    }
   ],
   "source": [
    "import numpy as np\n",
    "\n",
    "name = ['apple','amazon','facebook','alibaba','baidu','xiaomi','tencent','google','bytedance']\n",
    "price = [30,40,-20,-10,20,50,5,20,50]\n",
    "\n",
    "\n",
    "\n",
    "#不考虑绝对值\n",
    "sorted(list(zip(name,price)), key = lambda x:x[1],reverse = True)\n",
    "\n"
   ]
  },
  {
   "cell_type": "code",
   "execution_count": 115,
   "metadata": {
    "collapsed": false
   },
   "outputs": [
    {
     "data": {
      "text/plain": [
       "[('xiaomi', 50),\n",
       " ('bytedance', 50),\n",
       " ('amazon', 40),\n",
       " ('apple', 30),\n",
       " ('facebook', 20),\n",
       " ('baidu', 20),\n",
       " ('google', 20),\n",
       " ('alibaba', 10),\n",
       " ('tencent', 5)]"
      ]
     },
     "execution_count": 115,
     "metadata": {},
     "output_type": "execute_result"
    }
   ],
   "source": [
    "\n",
    "#考虑绝对值\n",
    "name = ['apple','amazon','facebook','alibaba','baidu','xiaomi','tencent','google','bytedance']\n",
    "price = [30,40,-20,-10,20,50,5,20,50]\n",
    "price_abs = np.abs(price) \n",
    "\n",
    "\n",
    "sorted(list(zip(name,price_abs)), key = lambda x:x[1],reverse = True)\n"
   ]
  },
  {
   "cell_type": "code",
   "execution_count": null,
   "metadata": {
    "collapsed": true
   },
   "outputs": [],
   "source": []
  },
  {
   "cell_type": "code",
   "execution_count": null,
   "metadata": {
    "collapsed": true
   },
   "outputs": [],
   "source": []
  },
  {
   "cell_type": "code",
   "execution_count": 116,
   "metadata": {
    "collapsed": true
   },
   "outputs": [],
   "source": [
    "def mergeSortTuple(x):\n",
    "    if len(x) == 0 or len(x) == 1:\n",
    "        return x\n",
    "    else:\n",
    "        middle = len(x) // 2\n",
    "        a = mergeSortTuple(x[:middle])\n",
    "        b = mergeSortTuple(x[middle:])\n",
    "        \n",
    "        return mergeTTuple(a,b)\n",
    "\n",
    "def mergeTTuple(a,b):\n",
    "    c = []\n",
    "    while len(a) != 0 and len(b) != 0:\n",
    "        if a[0][1] > b[0][1]:\n",
    "            c.append(a[0])\n",
    "            a.remove(a[0])\n",
    "        else:\n",
    "            c.append(b[0])\n",
    "            b.remove(b[0])\n",
    "    if len(a) == 0:\n",
    "        c += b\n",
    "    else:\n",
    "        c += a\n",
    "    return c"
   ]
  },
  {
   "cell_type": "code",
   "execution_count": 118,
   "metadata": {
    "collapsed": false
   },
   "outputs": [
    {
     "data": {
      "text/plain": [
       "[('bytedance', 50),\n",
       " ('xiaomi', 50),\n",
       " ('amazon', 40),\n",
       " ('apple', 30),\n",
       " ('google', 20),\n",
       " ('baidu', 20),\n",
       " ('tencent', 5),\n",
       " ('alibaba', -10),\n",
       " ('facebook', -20)]"
      ]
     },
     "execution_count": 118,
     "metadata": {},
     "output_type": "execute_result"
    }
   ],
   "source": [
    "mergeSortTuple(list(zip(name,price)))"
   ]
  },
  {
   "cell_type": "code",
   "execution_count": 122,
   "metadata": {
    "collapsed": true
   },
   "outputs": [],
   "source": [
    "def bubbleSortTuplee(x):\n",
    "    length = len(x)\n",
    "    for i in range(len(x)):\n",
    "        for j in range(length-i-1):\n",
    "            if x[j][1] < x[j+1][1]:\n",
    "                x[j] , x[j+1] =x[j+1] , x[j]\n",
    "    return x"
   ]
  },
  {
   "cell_type": "code",
   "execution_count": 123,
   "metadata": {
    "collapsed": false
   },
   "outputs": [
    {
     "data": {
      "text/plain": [
       "[('xiaomi', 50),\n",
       " ('bytedance', 50),\n",
       " ('amazon', 40),\n",
       " ('apple', 30),\n",
       " ('baidu', 20),\n",
       " ('google', 20),\n",
       " ('tencent', 5),\n",
       " ('alibaba', -10),\n",
       " ('facebook', -20)]"
      ]
     },
     "execution_count": 123,
     "metadata": {},
     "output_type": "execute_result"
    }
   ],
   "source": [
    "bubbleSortTuplee(list(zip(name,price)))"
   ]
  },
  {
   "cell_type": "code",
   "execution_count": null,
   "metadata": {
    "collapsed": true
   },
   "outputs": [],
   "source": []
  },
  {
   "cell_type": "markdown",
   "metadata": {},
   "source": [
    "## HeapSort Topk"
   ]
  },
  {
   "cell_type": "code",
   "execution_count": 139,
   "metadata": {
    "collapsed": false
   },
   "outputs": [
    {
     "name": "stdout",
     "output_type": "stream",
     "text": [
      "Creating array took 0.0115421 s\n",
      "[9999, 9998, 9997]\n",
      "Linear search took 0.00312495 s\n",
      "[9997, 9998, 9999]\n",
      "Heap search took 0.00123 s\n"
     ]
    }
   ],
   "source": [
    "import heapq\n",
    "import random\n",
    "import time\n",
    "\n",
    "def createArray():\n",
    "    array = list(range( 10 * 1000 ))\n",
    "    random.shuffle( array )\n",
    "    return array\n",
    "\n",
    "def linearSearch( bigArray, k ):\n",
    "    return sorted(bigArray, reverse=True)[:k]\n",
    "\n",
    "def heapSearch( bigArray, k ):\n",
    "    heap = []\n",
    "    # Note: below is for illustration. It can be replaced by \n",
    "    # heapq.nlargest( bigArray, k )\n",
    "    for item in bigArray:\n",
    "        # If we have not yet found k items, or the current item is larger than\n",
    "        # the smallest item on the heap,\n",
    "        if len(heap) < k or item > heap[0]:\n",
    "            # If the heap is full, remove the smallest element on the heap.\n",
    "            if len(heap) == k: heapq.heappop( heap )\n",
    "            # add the current element as the new smallest.\n",
    "            heapq.heappush( heap, item )\n",
    "    return heap\n",
    "\n",
    "start = time.time()\n",
    "bigArray = createArray()\n",
    "print (\"Creating array took %g s\" % (time.time() - start))\n",
    "\n",
    "start = time.time()\n",
    "print (linearSearch( bigArray, 3 ))    \n",
    "print (\"Linear search took %g s\" % (time.time() - start))\n",
    "\n",
    "start = time.time()\n",
    "print (heapSearch( bigArray, 3 ))    \n",
    "print (\"Heap search took %g s\" % (time.time() - start))"
   ]
  },
  {
   "cell_type": "code",
   "execution_count": null,
   "metadata": {
    "collapsed": true
   },
   "outputs": [],
   "source": []
  },
  {
   "cell_type": "code",
   "execution_count": 149,
   "metadata": {
    "collapsed": false
   },
   "outputs": [
    {
     "data": {
      "text/plain": [
       "[999990,\n",
       " 999992,\n",
       " 999991,\n",
       " 999994,\n",
       " 999993,\n",
       " 999995,\n",
       " 999999,\n",
       " 999997,\n",
       " 999998,\n",
       " 999996]"
      ]
     },
     "execution_count": 149,
     "metadata": {},
     "output_type": "execute_result"
    }
   ],
   "source": [
    "import heapq\n",
    "import random\n",
    "\n",
    "def create_List():\n",
    "    biglist = list(range(1000*1000))\n",
    "    random.shuffle(biglist) \n",
    "    \n",
    "    return biglist\n",
    "\n",
    "def heapSortK(arr,k):\n",
    "    heap = []\n",
    "    \n",
    "    for item in arr:\n",
    "        if len(heap) < k or item > heap[0]:\n",
    "            if len(heap) == k:\n",
    "                heapq.heappop(heap)\n",
    "            heapq.heappush(heap,item)\n",
    "    return heap\n",
    "\n",
    "    return heap\n",
    "\n",
    "heapSortK(create_List(),10)"
   ]
  },
  {
   "cell_type": "code",
   "execution_count": null,
   "metadata": {
    "collapsed": true
   },
   "outputs": [],
   "source": []
  },
  {
   "cell_type": "code",
   "execution_count": null,
   "metadata": {
    "collapsed": true
   },
   "outputs": [],
   "source": []
  }
 ],
 "metadata": {
  "anaconda-cloud": {},
  "kernelspec": {
   "display_name": "Python [Root]",
   "language": "python",
   "name": "Python [Root]"
  },
  "language_info": {
   "codemirror_mode": {
    "name": "ipython",
    "version": 3
   },
   "file_extension": ".py",
   "mimetype": "text/x-python",
   "name": "python",
   "nbconvert_exporter": "python",
   "pygments_lexer": "ipython3",
   "version": "3.5.5"
  }
 },
 "nbformat": 4,
 "nbformat_minor": 0
}
