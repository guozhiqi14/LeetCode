{
 "cells": [
  {
   "cell_type": "markdown",
   "metadata": {},
   "source": [
    "## [143. Reorder List](https://leetcode.com/problems/reorder-list/description/)"
   ]
  },
  {
   "cell_type": "markdown",
   "metadata": {},
   "source": [
    "Given a singly linked list L: L0→L1→…→Ln-1→Ln,\n",
    "\n",
    "reorder it to: L0→Ln→L1→Ln-1→L2→Ln-2→…\n",
    "\n",
    "You may not modify the values in the list's nodes, only nodes itself may be changed."
   ]
  },
  {
   "cell_type": "raw",
   "metadata": {},
   "source": [
    "Example 1:\n",
    "\n",
    "Given 1->2->3->4, reorder it to 1->4->2->3.\n",
    "\n",
    "Example 2:\n",
    "\n",
    "Given 1->2->3->4->5, reorder it to 1->5->2->4->3."
   ]
  },
  {
   "cell_type": "markdown",
   "metadata": {},
   "source": [
    "## [视频](https://www.youtube.com/watch?v=3wa9fa4IhOU)"
   ]
  },
  {
   "cell_type": "code",
   "execution_count": 1,
   "metadata": {
    "collapsed": true
   },
   "outputs": [],
   "source": [
    "# Definition for singly-linked list.\n",
    "# class ListNode:\n",
    "#     def __init__(self, x):\n",
    "#         self.val = x\n",
    "#         self.next = None\n",
    "\n",
    "class Solution:\n",
    "    def reorderList(self, head):\n",
    "        \"\"\"\n",
    "        :type head: ListNode\n",
    "        :rtype: void Do not return anything, modify head in-place instead.\n",
    "        \"\"\"\n",
    "        def findMidNode(head):\n",
    "            fast,slow = head,head\n",
    "            while fast and fast.next:\n",
    "                fast = fast.next.next\n",
    "                slow = slow.next\n",
    "            return slow\n",
    "        \n",
    "        def reverseNode(head):\n",
    "            newHead = None\n",
    "            while head:\n",
    "                temp = head.next\n",
    "                head.next = newHead\n",
    "                newHead = head\n",
    "                head = temp\n",
    "            return newHead\n",
    "            \n",
    "        #Corner Case    \n",
    "        if not head:\n",
    "            return None\n",
    "        \n",
    "\n",
    "        l1 = head\n",
    "        midNode = findMidNode(head)\n",
    "        l2 = midNode.next\n",
    "        midNode.next = None\n",
    "        l2 = reverseNode(l2)\n",
    "        \n",
    "        while l2 != None and l1 != None:\n",
    "            nextNode = l1.next\n",
    "            l1.next = l2\n",
    "            l2 = l2.next\n",
    "            l1.next.next = nextNode\n",
    "            l1 = nextNode\n",
    "            \n",
    "            \n",
    "                \n",
    "        "
   ]
  },
  {
   "cell_type": "code",
   "execution_count": null,
   "metadata": {
    "collapsed": true
   },
   "outputs": [],
   "source": []
  }
 ],
 "metadata": {
  "kernelspec": {
   "display_name": "Python [Root]",
   "language": "python",
   "name": "Python [Root]"
  },
  "language_info": {
   "codemirror_mode": {
    "name": "ipython",
    "version": 3
   },
   "file_extension": ".py",
   "mimetype": "text/x-python",
   "name": "python",
   "nbconvert_exporter": "python",
   "pygments_lexer": "ipython3",
   "version": "3.5.5"
  }
 },
 "nbformat": 4,
 "nbformat_minor": 0
}
