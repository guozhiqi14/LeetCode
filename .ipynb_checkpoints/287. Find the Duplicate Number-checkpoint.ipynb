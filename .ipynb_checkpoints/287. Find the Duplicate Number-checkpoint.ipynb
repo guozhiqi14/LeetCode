{
 "cells": [
  {
   "cell_type": "markdown",
   "metadata": {},
   "source": [
    "## [287. Find the Duplicate Number](https://leetcode.com/problems/find-the-duplicate-number/description/)"
   ]
  },
  {
   "cell_type": "markdown",
   "metadata": {},
   "source": [
    "Given an array nums containing n + 1 integers where each integer is between 1 and n (inclusive), prove that at least one duplicate number must exist. Assume that there is only one duplicate number, find the duplicate one.\n",
    "\n"
   ]
  },
  {
   "cell_type": "raw",
   "metadata": {},
   "source": [
    "Example 1:\n",
    "\n",
    "Input: [1,3,4,2,2]\n",
    "Output: 2\n",
    "    \n",
    "Example 2:\n",
    "\n",
    "Input: [3,1,3,4,2]\n",
    "Output: 3"
   ]
  },
  {
   "cell_type": "markdown",
   "metadata": {},
   "source": [
    "Note:\n",
    "\n",
    "* You must not modify the array (assume the array is read only).\n",
    "* You must use only constant, O(1) extra space.\n",
    "* Your runtime complexity should be less than O(n2).\n",
    "* There is only one duplicate number in the array, but it could be repeated more than once."
   ]
  },
  {
   "cell_type": "markdown",
   "metadata": {},
   "source": [
    "## O(n^2) TLE"
   ]
  },
  {
   "cell_type": "code",
   "execution_count": 10,
   "metadata": {
    "collapsed": true
   },
   "outputs": [],
   "source": [
    "class Solution:\n",
    "    def findDuplicate(self, nums):\n",
    "        \"\"\"\n",
    "        :type nums: List[int]\n",
    "        :rtype: int\n",
    "        \"\"\"\n",
    "        for i in range(0,len(nums)):\n",
    "            for j in range(i+1,len(nums)):\n",
    "                if nums[i] == nums[j]:\n",
    "                    return nums[i]"
   ]
  },
  {
   "cell_type": "code",
   "execution_count": 11,
   "metadata": {
    "collapsed": false
   },
   "outputs": [
    {
     "data": {
      "text/plain": [
       "2"
      ]
     },
     "execution_count": 11,
     "metadata": {},
     "output_type": "execute_result"
    }
   ],
   "source": [
    "s=Solution()\n",
    "s.findDuplicate([1,3,4,2,2])"
   ]
  },
  {
   "cell_type": "code",
   "execution_count": null,
   "metadata": {
    "collapsed": true
   },
   "outputs": [],
   "source": []
  },
  {
   "cell_type": "markdown",
   "metadata": {},
   "source": [
    "## [Binary Search O(nlogn)](https://nodelay.xyz/2016/03/30/leetcode-287-find-the-duplicate-number-%E6%99%BA%E5%95%86%E8%A2%AB%E7%A2%BE%E5%8E%8B%EF%BC%81/)  \n",
    "\n",
    "这个解法涉及到鸽巢原理。\n",
    "\n",
    "假设有n=10的一个数组（大小是n+1），那我目前的搜索范围是[1,10]，先找中间的数mid=5.现在我们遍历数组的所有元素并统计<=5的元素个数，记作n_lteq5好了，那么有：\n",
    "\n",
    "* 如果n_lteq5>5，那就有6个数字占了本来只有5个的坑位，那目标数字肯定是在[1,5]的范围内了；\n",
    "* 如果n_lteq5<=5，那前面的元素都挺守规矩的，得看看[6,10]里头哪个数字在作怪；\n",
    "\n",
    "这样每一次判断，问题的规模都会缩小一半，一共n+1个数字，时间复杂度是O(nlogn)"
   ]
  },
  {
   "cell_type": "code",
   "execution_count": 12,
   "metadata": {
    "collapsed": true
   },
   "outputs": [],
   "source": [
    "class Solution(object):\n",
    "    def findDuplicate(self, nums):\n",
    "        left,right = 0,len(nums)-1\n",
    "        while left <= right:\n",
    "            count = 0\n",
    "            mid = (left+right)//2\n",
    "            for i in nums:\n",
    "                if i <= mid:\n",
    "                    count += 1\n",
    "            if count > mid:\n",
    "                right = mid - 1\n",
    "            else:\n",
    "                left = mid + 1\n",
    "        return left\n",
    "                "
   ]
  },
  {
   "cell_type": "code",
   "execution_count": 13,
   "metadata": {
    "collapsed": true
   },
   "outputs": [],
   "source": [
    "class Solution(object):\n",
    "    def findDuplicate(self, nums):\n",
    "        left,right = 0,len(nums)-1\n",
    "        while left < right-1:\n",
    "            count = 0\n",
    "            mid = (left+right)//2\n",
    "            for i in nums:\n",
    "                if i <= mid:\n",
    "                    count += 1\n",
    "            if count > mid:\n",
    "                right = mid \n",
    "            else:\n",
    "                left = mid \n",
    "        return right\n",
    "                "
   ]
  },
  {
   "cell_type": "code",
   "execution_count": null,
   "metadata": {
    "collapsed": true
   },
   "outputs": [],
   "source": []
  }
 ],
 "metadata": {
  "kernelspec": {
   "display_name": "Python [Root]",
   "language": "python",
   "name": "Python [Root]"
  },
  "language_info": {
   "codemirror_mode": {
    "name": "ipython",
    "version": 3
   },
   "file_extension": ".py",
   "mimetype": "text/x-python",
   "name": "python",
   "nbconvert_exporter": "python",
   "pygments_lexer": "ipython3",
   "version": "3.5.5"
  }
 },
 "nbformat": 4,
 "nbformat_minor": 0
}
