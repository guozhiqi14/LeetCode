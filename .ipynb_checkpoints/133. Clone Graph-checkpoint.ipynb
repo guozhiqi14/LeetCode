{
 "cells": [
  {
   "cell_type": "markdown",
   "metadata": {},
   "source": [
    "## [133. Clone Graph](https://leetcode.com/problems/clone-graph/description/)"
   ]
  },
  {
   "cell_type": "markdown",
   "metadata": {},
   "source": [
    "Given the head of a graph, return a deep copy (clone) of the graph. Each node in the graph contains a label (int) and a list (List[UndirectedGraphNode]) of its neighbors. There is an edge between the given node and each of the nodes in its neighbors.\n",
    "\n",
    "\n",
    "OJ's undirected graph serialization (so you can understand error output):\n",
    "Nodes are labeled uniquely.\n",
    "\n",
    "We use # as a separator for each node, and , as a separator for node label and each neighbor of the node.\n",
    " \n",
    "\n",
    "As an example, consider the serialized graph {0,1,2#1,2#2,2}.\n",
    "\n",
    "The graph has a total of three nodes, and therefore contains three parts as separated by #.\n",
    "\n",
    "1. First node is labeled as 0. Connect node 0 to both nodes 1 and 2.\n",
    "2. Second node is labeled as 1. Connect node 1 to node 2.\n",
    "3. Third node is labeled as 2. Connect node 2 to node 2 (itself), thus forming a self-cycle."
   ]
  },
  {
   "cell_type": "raw",
   "metadata": {},
   "source": [
    "Visually, the graph looks like the following:\n",
    "\n",
    "       1\n",
    "      / \\\n",
    "     /   \\\n",
    "    0 --- 2\n",
    "         / \\\n",
    "         \\_/"
   ]
  },
  {
   "cell_type": "markdown",
   "metadata": {},
   "source": [
    "Note:    \n",
    "The information about the tree serialization is only meant so that you can understand error output if you get a wrong answer. You don't need to understand the serialization to solve the problem."
   ]
  },
  {
   "cell_type": "markdown",
   "metadata": {},
   "source": [
    "## [BFS视频](https://www.youtube.com/watch?v=_Zt6gwWRnHM)"
   ]
  },
  {
   "cell_type": "code",
   "execution_count": 1,
   "metadata": {
    "collapsed": true
   },
   "outputs": [],
   "source": [
    "# Definition for a undirected graph node\n",
    "# class UndirectedGraphNode:\n",
    "#     def __init__(self, x):\n",
    "#         self.label = x\n",
    "#         self.neighbors = []\n",
    "\n",
    "class Solution:\n",
    "    # @param node, a undirected graph node\n",
    "    # @return a undirected graph node\n",
    "    def cloneGraph(self, node):\n",
    "        if node == None: return None\n",
    "        queue = [node]; mapping = {}\n",
    "        mapping[node] = None\n",
    "        \n",
    "        while queue:\n",
    "            curr = queue.pop()\n",
    "            copy = UndirectedGraphNode(curr.label)\n",
    "            mapping[curr] = copy\n",
    "            for neighbor in curr.neighbors:\n",
    "                if neighbor not in mapping:\n",
    "                    queue.append(neighbor)\n",
    "                    mapping[neighbor] = None\n",
    "        for org in mapping:\n",
    "            copy = mapping[org]\n",
    "            for neigh in org.neighbors:\n",
    "                copy.neighbors.append(mapping[neigh])\n",
    "        return mapping[node]"
   ]
  },
  {
   "cell_type": "code",
   "execution_count": null,
   "metadata": {
    "collapsed": true
   },
   "outputs": [],
   "source": []
  },
  {
   "cell_type": "markdown",
   "metadata": {},
   "source": [
    "## [DFS](https://leetcode.com/problems/clone-graph/discuss/42314/Python-solutions-(BFS-DFS-iteratively-DFS-recursively).)"
   ]
  },
  {
   "cell_type": "code",
   "execution_count": 4,
   "metadata": {
    "collapsed": true
   },
   "outputs": [],
   "source": [
    "# Definition for a undirected graph node\n",
    "# class UndirectedGraphNode:\n",
    "#     def __init__(self, x):\n",
    "#         self.label = x\n",
    "#         self.neighbors = []\n",
    "\n",
    "class Solution:\n",
    "    # @param node, a undirected graph node\n",
    "    # @return a undirected graph node\n",
    "     # DFS recursively\n",
    "    def cloneGraph(self, node):\n",
    "        if not node:\n",
    "            return \n",
    "        nodeCopy = UndirectedGraphNode(node.label)\n",
    "        dic = {node: nodeCopy}\n",
    "        self.dfs(node, dic)\n",
    "        return nodeCopy\n",
    "\n",
    "    def dfs(self, node, dic):\n",
    "        for neighbor in node.neighbors:\n",
    "            if neighbor not in dic:\n",
    "                neighborCopy = UndirectedGraphNode(neighbor.label)\n",
    "                dic[neighbor] = neighborCopy\n",
    "                dic[node].neighbors.append(neighborCopy)\n",
    "                self.dfs(neighbor, dic)\n",
    "            else:\n",
    "                dic[node].neighbors.append(dic[neighbor])"
   ]
  },
  {
   "cell_type": "code",
   "execution_count": null,
   "metadata": {
    "collapsed": true
   },
   "outputs": [],
   "source": []
  },
  {
   "cell_type": "code",
   "execution_count": null,
   "metadata": {
    "collapsed": true
   },
   "outputs": [],
   "source": []
  }
 ],
 "metadata": {
  "kernelspec": {
   "display_name": "Python [Root]",
   "language": "python",
   "name": "Python [Root]"
  },
  "language_info": {
   "codemirror_mode": {
    "name": "ipython",
    "version": 3
   },
   "file_extension": ".py",
   "mimetype": "text/x-python",
   "name": "python",
   "nbconvert_exporter": "python",
   "pygments_lexer": "ipython3",
   "version": "3.5.5"
  }
 },
 "nbformat": 4,
 "nbformat_minor": 0
}
