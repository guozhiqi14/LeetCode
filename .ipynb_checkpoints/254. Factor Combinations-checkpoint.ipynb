{
 "cells": [
  {
   "cell_type": "markdown",
   "metadata": {},
   "source": [
    "## [254. Factor Combinations](https://leetcode.com/problems/factor-combinations/description/)"
   ]
  },
  {
   "cell_type": "markdown",
   "metadata": {},
   "source": [
    "Numbers can be regarded as product of its factors. For example,\n",
    "\n"
   ]
  },
  {
   "cell_type": "raw",
   "metadata": {},
   "source": [
    "8 = 2 x 2 x 2;\n",
    "  = 2 x 4.\n"
   ]
  },
  {
   "cell_type": "markdown",
   "metadata": {},
   "source": [
    "Write a function that takes an integer n and return all possible combinations of its factors.\n",
    "\n",
    "Note:\n",
    "\n",
    "You may assume that n is always positive.\n",
    "Factors should be greater than 1 and less than n."
   ]
  },
  {
   "cell_type": "raw",
   "metadata": {},
   "source": [
    "Example 1:\n",
    "\n",
    "Input: 1\n",
    "Output: []\n",
    "Example 2:\n",
    "\n",
    "Input: 37\n",
    "Output:[]\n",
    "Example 3:\n",
    "\n",
    "Input: 12\n",
    "Output:\n",
    "[\n",
    "  [2, 6],\n",
    "  [2, 2, 3],\n",
    "  [3, 4]\n",
    "]\n",
    "Example 4:\n",
    "\n",
    "Input: 32\n",
    "Output:\n",
    "[\n",
    "  [2, 16],\n",
    "  [2, 2, 8],\n",
    "  [2, 2, 2, 4],\n",
    "  [2, 2, 2, 2, 2],\n",
    "  [2, 4, 4],\n",
    "  [4, 8]\n",
    "]\n"
   ]
  },
  {
   "cell_type": "markdown",
   "metadata": {},
   "source": [
    "### Time Complexity太高过不了OJ"
   ]
  },
  {
   "cell_type": "code",
   "execution_count": 4,
   "metadata": {
    "collapsed": true
   },
   "outputs": [],
   "source": [
    "import math\n",
    "class Solution:\n",
    "    def getFactors(self, n):\n",
    "        \"\"\"\n",
    "        :type n: int\n",
    "        :rtype: List[List[int]]\n",
    "        \"\"\"\n",
    "      \n",
    "        solution,res = [],[]\n",
    "        def getFactorsHelper(n,index,solution,res):\n",
    "            if n == 1:\n",
    "                res.append(solution[:])\n",
    "                return \n",
    "            for i in range(index,n+1):\n",
    "                if n%i==0:\n",
    "                    solution.append(i)\n",
    "                    getFactorsHelper(n//i,i,solution,res)\n",
    "                    solution.pop()\n",
    "                    \n",
    "        getFactorsHelper(n,2,solution,res)\n",
    "        res.pop()\n",
    "        return res"
   ]
  },
  {
   "cell_type": "code",
   "execution_count": 5,
   "metadata": {
    "collapsed": false
   },
   "outputs": [
    {
     "data": {
      "text/plain": [
       "[[2, 2, 3], [2, 6], [3, 4]]"
      ]
     },
     "execution_count": 5,
     "metadata": {},
     "output_type": "execute_result"
    }
   ],
   "source": [
    "s = Solution()\n",
    "s.getFactors(12)"
   ]
  },
  {
   "cell_type": "code",
   "execution_count": 6,
   "metadata": {
    "collapsed": true
   },
   "outputs": [],
   "source": [
    "class Solution:\n",
    "    def getFactors(self, n):\n",
    "        \"\"\"\n",
    "        :type n: int\n",
    "        :rtype: List[List[int]]\n",
    "        \"\"\"\n",
    "        if n == 1: return []\n",
    "        res = []\n",
    "        def dfs(path=[], rest=2, target=n):\n",
    "            if len(path)>0:\n",
    "                res.append(path+[target])\n",
    "            for i in range(rest, int(math.sqrt(target))+1): # i <= target//i, i.e., i <= sqrt(target)\n",
    "                if target%i==0:\n",
    "                    dfs(path+[i], i, target//i)\n",
    "        dfs()\n",
    "        return res"
   ]
  },
  {
   "cell_type": "code",
   "execution_count": 7,
   "metadata": {
    "collapsed": false,
    "scrolled": true
   },
   "outputs": [
    {
     "data": {
      "text/plain": [
       "[[2, 6], [2, 2, 3], [3, 4]]"
      ]
     },
     "execution_count": 7,
     "metadata": {},
     "output_type": "execute_result"
    }
   ],
   "source": [
    "s = Solution()\n",
    "s.getFactors(12) "
   ]
  },
  {
   "cell_type": "code",
   "execution_count": null,
   "metadata": {
    "collapsed": true
   },
   "outputs": [],
   "source": []
  }
 ],
 "metadata": {
  "kernelspec": {
   "display_name": "Python [Root]",
   "language": "python",
   "name": "Python [Root]"
  },
  "language_info": {
   "codemirror_mode": {
    "name": "ipython",
    "version": 3
   },
   "file_extension": ".py",
   "mimetype": "text/x-python",
   "name": "python",
   "nbconvert_exporter": "python",
   "pygments_lexer": "ipython3",
   "version": "3.5.5"
  }
 },
 "nbformat": 4,
 "nbformat_minor": 0
}
