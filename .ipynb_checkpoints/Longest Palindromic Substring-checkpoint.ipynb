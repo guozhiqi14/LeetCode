{
 "cells": [
  {
   "cell_type": "markdown",
   "metadata": {},
   "source": [
    "## [Longest Palindromic Substring](https://leetcode.com/explore/interview/card/top-interview-questions-medium/103/array-and-strings/780/)"
   ]
  },
  {
   "cell_type": "markdown",
   "metadata": {},
   "source": [
    "Given a string s, find the longest palindromic substring in s. You may assume that the maximum length of s is 1000."
   ]
  },
  {
   "cell_type": "raw",
   "metadata": {},
   "source": [
    "Example 1:\n",
    "\n",
    "Input: \"babad\"\n",
    "Output: \"bab\"\n",
    "Note: \"aba\" is also a valid answer.\n",
    "\n",
    "Example 2:\n",
    "\n",
    "Input: \"cbbd\"\n",
    "Output: \"bb\""
   ]
  },
  {
   "cell_type": "markdown",
   "metadata": {},
   "source": [
    "### [视频](https://www.youtube.com/watch?v=bSNhTqzgCq4)"
   ]
  },
  {
   "cell_type": "code",
   "execution_count": 2,
   "metadata": {
    "collapsed": true
   },
   "outputs": [],
   "source": [
    "class Solution:\n",
    "    def longestPalindrome(self, s):\n",
    "        \"\"\"\n",
    "        :type s: str\n",
    "        :rtype: str\n",
    "        \"\"\"\n",
    "        self.longestSize = 0\n",
    "        self.longestStart = 0\n",
    "        for index,value in enumerate(s):\n",
    "            self.checkOdd(s,index) \n",
    "            self.checkEven(s,index)\n",
    "        return s[self.longestStart:self.longestStart+self.longestSize+1]  \n",
    "            \n",
    "    def checkOdd(self,s,index):\n",
    "        start = index\n",
    "        end = index\n",
    "        while start >= 1 and end < len(s)-1 and s[start-1] == s[end+1]:\n",
    "            start -= 1\n",
    "            end += 1\n",
    "        if end - start > self.longestSize:\n",
    "            self.longestSize = end - start\n",
    "            self.longestStart = start\n",
    "    \n",
    "    def checkEven(self,s,index):\n",
    "        start = index\n",
    "        end  = min(index+1,len(s)-1)\n",
    "        while start >=1 and end < len(s)-1 and s[start] == s[end] and s[start-1]==s[end+1]:\n",
    "            start -= 1\n",
    "            end += 1\n",
    "        if end -start > self.longestSize and s[start] == s[end]:\n",
    "            self.longestSize = end - start\n",
    "            self.longestStart = start "
   ]
  },
  {
   "cell_type": "code",
   "execution_count": null,
   "metadata": {
    "collapsed": true
   },
   "outputs": [],
   "source": []
  },
  {
   "cell_type": "code",
   "execution_count": null,
   "metadata": {
    "collapsed": true
   },
   "outputs": [],
   "source": []
  },
  {
   "cell_type": "code",
   "execution_count": null,
   "metadata": {
    "collapsed": true
   },
   "outputs": [],
   "source": []
  },
  {
   "cell_type": "code",
   "execution_count": null,
   "metadata": {
    "collapsed": true
   },
   "outputs": [],
   "source": []
  },
  {
   "cell_type": "code",
   "execution_count": null,
   "metadata": {
    "collapsed": true
   },
   "outputs": [],
   "source": []
  },
  {
   "cell_type": "code",
   "execution_count": null,
   "metadata": {
    "collapsed": true
   },
   "outputs": [],
   "source": []
  },
  {
   "cell_type": "code",
   "execution_count": 3,
   "metadata": {
    "collapsed": true
   },
   "outputs": [],
   "source": [
    "class Solution:\n",
    "    def longestPalindrome(self, s):\n",
    "        \"\"\"\n",
    "        :type s: str\n",
    "        :rtype: str\n",
    "        \"\"\"\n",
    "        self.longestSize = 0\n",
    "        self.longestStart = 0\n",
    "        \n",
    "        for index,value in enumerate(s):\n",
    "            self.checkOdd(s,index)\n",
    "            self.checkEven(s,index)\n",
    "        return s[self.longestStart:self.longestStart]\n",
    "        \n",
    "    def checkOdd(self,s,index):\n",
    "        start,end = index,index\n",
    "        while start > 0 and end < len(s)-1 and s[start-1] == s[end+1]:\n",
    "            start -= 1\n",
    "            end += 1\n",
    "        self.longestStart = min(self.longestStart,start)\n",
    "        self.longestSize = max(self.longestSize,end-start+1)\n",
    "    \n",
    "    def checkEven(self,s,index):\n",
    "        start = index\n",
    "        end = min(index+1,len(s)-1)\n",
    "        while start > 0 and end < len(s)-1 and s[start]==s[end] and s[start-1] == s[end+1]:\n",
    "            start-=1\n",
    "            end+=1 \n",
    "        self.longestStart = min(self.longestStart,start)\n",
    "        self.longestSize = max(self.longestSize,end-start+1)\n",
    "    \n",
    "        "
   ]
  },
  {
   "cell_type": "code",
   "execution_count": 5,
   "metadata": {
    "collapsed": false
   },
   "outputs": [
    {
     "ename": "AttributeError",
     "evalue": "'str' object has no attribute 'longestSize'",
     "output_type": "error",
     "traceback": [
      "\u001b[0;31m---------------------------------------------------------------------------\u001b[0m",
      "\u001b[0;31mAttributeError\u001b[0m                            Traceback (most recent call last)",
      "\u001b[0;32m<ipython-input-5-d6d28c64a203>\u001b[0m in \u001b[0;36m<module>\u001b[0;34m()\u001b[0m\n\u001b[0;32m----> 1\u001b[0;31m \u001b[0mSolution\u001b[0m\u001b[0;34m.\u001b[0m\u001b[0mlongestPalindrome\u001b[0m\u001b[0;34m(\u001b[0m\u001b[0m_\u001b[0m\u001b[0;34m,\u001b[0m\u001b[0;34m\"babad\"\u001b[0m\u001b[0;34m)\u001b[0m\u001b[0;34m\u001b[0m\u001b[0m\n\u001b[0m",
      "\u001b[0;32m<ipython-input-3-11b31e6b1294>\u001b[0m in \u001b[0;36mlongestPalindrome\u001b[0;34m(self, s)\u001b[0m\n\u001b[1;32m      5\u001b[0m         \u001b[0;34m:\u001b[0m\u001b[0mrtype\u001b[0m\u001b[0;34m:\u001b[0m \u001b[0mstr\u001b[0m\u001b[0;34m\u001b[0m\u001b[0m\n\u001b[1;32m      6\u001b[0m         \"\"\"\n\u001b[0;32m----> 7\u001b[0;31m         \u001b[0mself\u001b[0m\u001b[0;34m.\u001b[0m\u001b[0mlongestSize\u001b[0m \u001b[0;34m=\u001b[0m \u001b[0;36m0\u001b[0m\u001b[0;34m\u001b[0m\u001b[0m\n\u001b[0m\u001b[1;32m      8\u001b[0m         \u001b[0mself\u001b[0m\u001b[0;34m.\u001b[0m\u001b[0mlongestStart\u001b[0m \u001b[0;34m=\u001b[0m \u001b[0;36m0\u001b[0m\u001b[0;34m\u001b[0m\u001b[0m\n\u001b[1;32m      9\u001b[0m \u001b[0;34m\u001b[0m\u001b[0m\n",
      "\u001b[0;31mAttributeError\u001b[0m: 'str' object has no attribute 'longestSize'"
     ]
    }
   ],
   "source": [
    "Solution.longestPalindrome(_,\"babad\") "
   ]
  },
  {
   "cell_type": "code",
   "execution_count": null,
   "metadata": {
    "collapsed": true
   },
   "outputs": [],
   "source": []
  }
 ],
 "metadata": {
  "anaconda-cloud": {},
  "kernelspec": {
   "display_name": "Python [Root]",
   "language": "python",
   "name": "Python [Root]"
  },
  "language_info": {
   "codemirror_mode": {
    "name": "ipython",
    "version": 3
   },
   "file_extension": ".py",
   "mimetype": "text/x-python",
   "name": "python",
   "nbconvert_exporter": "python",
   "pygments_lexer": "ipython3",
   "version": "3.5.5"
  }
 },
 "nbformat": 4,
 "nbformat_minor": 0
}
