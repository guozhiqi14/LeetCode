{
 "cells": [
  {
   "cell_type": "markdown",
   "metadata": {},
   "source": [
    "## [167. Two Sum II - Input array is sorted](https://leetcode.com/problems/two-sum-ii-input-array-is-sorted/)"
   ]
  },
  {
   "cell_type": "markdown",
   "metadata": {},
   "source": [
    "Given an array of integers that is already sorted in ascending order, find two numbers such that they add up to a specific target number.\n",
    "\n",
    "The function twoSum should return indices of the two numbers such that they add up to the target, where index1 must be less than index2."
   ]
  },
  {
   "cell_type": "markdown",
   "metadata": {},
   "source": [
    "Note:\n",
    "\n",
    "* Your returned answers (both index1 and index2) are not zero-based.\n",
    "* You may assume that each input would have exactly one solution and you may not use the same element twice."
   ]
  },
  {
   "cell_type": "raw",
   "metadata": {},
   "source": [
    "Example:\n",
    "\n",
    "Input: numbers = [2,7,11,15], target = 9\n",
    "Output: [1,2]\n",
    "Explanation: The sum of 2 and 7 is 9. Therefore index1 = 1, index2 = 2."
   ]
  },
  {
   "cell_type": "markdown",
   "metadata": {},
   "source": [
    "### Two Pointer"
   ]
  },
  {
   "cell_type": "code",
   "execution_count": null,
   "metadata": {
    "collapsed": true
   },
   "outputs": [],
   "source": [
    "class Solution:\n",
    "    def twoSum(self, numbers, target):\n",
    "        \"\"\"\n",
    "        :type numbers: List[int]\n",
    "        :type target: int\n",
    "        :rtype: List[int]\n",
    "        \"\"\"\n",
    "        left,right = 0,len(numbers)-1\n",
    "        while left <= right:\n",
    "            if numbers[left] + numbers[right] == target:\n",
    "                return [left+1,right+1]\n",
    "            elif numbers[left]+numbers[right] > target:\n",
    "                right -= 1\n",
    "            else:\n",
    "                left += 1"
   ]
  },
  {
   "cell_type": "markdown",
   "metadata": {},
   "source": [
    "### Dictionary"
   ]
  },
  {
   "cell_type": "code",
   "execution_count": 1,
   "metadata": {
    "collapsed": true
   },
   "outputs": [],
   "source": [
    "class Solution:\n",
    "    def twoSum(self, numbers, target):\n",
    "        \"\"\"\n",
    "        :type numbers: List[int]\n",
    "        :type target: int\n",
    "        :rtype: List[int]\n",
    "        \"\"\"\n",
    "        dic = {}\n",
    "        for index,value in enumerate(numbers):\n",
    "            if target-value in dic:\n",
    "                return [dic[target-value]+1,index+1]\n",
    "            dic[value] = index"
   ]
  },
  {
   "cell_type": "code",
   "execution_count": null,
   "metadata": {
    "collapsed": true
   },
   "outputs": [],
   "source": []
  }
 ],
 "metadata": {
  "kernelspec": {
   "display_name": "Python [Root]",
   "language": "python",
   "name": "Python [Root]"
  },
  "language_info": {
   "codemirror_mode": {
    "name": "ipython",
    "version": 3
   },
   "file_extension": ".py",
   "mimetype": "text/x-python",
   "name": "python",
   "nbconvert_exporter": "python",
   "pygments_lexer": "ipython3",
   "version": "3.5.5"
  }
 },
 "nbformat": 4,
 "nbformat_minor": 0
}
