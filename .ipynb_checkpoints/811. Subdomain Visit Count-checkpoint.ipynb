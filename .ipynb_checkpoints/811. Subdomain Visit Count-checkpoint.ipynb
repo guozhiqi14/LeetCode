{
 "cells": [
  {
   "cell_type": "markdown",
   "metadata": {},
   "source": [
    "## [811. Subdomain Visit Count](https://leetcode.com/problems/subdomain-visit-count/description/)"
   ]
  },
  {
   "cell_type": "markdown",
   "metadata": {},
   "source": [
    "A website domain like \"discuss.leetcode.com\" consists of various subdomains. At the top level, we have \"com\", at the next level, we have \"leetcode.com\", and at the lowest level, \"discuss.leetcode.com\". When we visit a domain like \"discuss.leetcode.com\", we will also visit the parent domains \"leetcode.com\" and \"com\" implicitly.\n",
    "\n",
    "\n",
    "\n",
    "Now, call a \"count-paired domain\" to be a count (representing the number of visits this domain received), followed by a space, followed by the address. An example of a count-paired domain might be \"9001 discuss.leetcode.com\".\n",
    "\n",
    "\n",
    "\n",
    "We are given a list cpdomains of count-paired domains. We would like a list of count-paired domains, (in the same format as the input, and in any order), that explicitly counts the number of visits to each subdomain.\n",
    "\n"
   ]
  },
  {
   "cell_type": "raw",
   "metadata": {},
   "source": [
    "# Example 1:\n",
    "Input: \n",
    "[\"9001 discuss.leetcode.com\"]\n",
    "Output: \n",
    "[\"9001 discuss.leetcode.com\", \"9001 leetcode.com\", \"9001 com\"]\n",
    "Explanation: \n",
    "We only have one website domain: \"discuss.leetcode.com\". As discussed above, the subdomain \"leetcode.com\" and \"com\" will also be visited. So they will all be visited 9001 times.\n",
    "\n",
    "Example 2:\n",
    "Input: \n",
    "[\"900 google.mail.com\", \"50 yahoo.com\", \"1 intel.mail.com\", \"5 wiki.org\"]\n",
    "Output: \n",
    "[\"901 mail.com\",\"50 yahoo.com\",\"900 google.mail.com\",\"5 wiki.org\",\"5 org\",\"1 intel.mail.com\",\"951 com\"]\n",
    "Explanation: \n",
    "We will visit \"google.mail.com\" 900 times, \"yahoo.com\" 50 times, \"intel.mail.com\" once and \"wiki.org\" 5 times. For the subdomains, we will visit \"mail.com\" 900 + 1 = 901 times, \"com\" 900 + 50 + 1 = 951 times, and \"org\" 5 times.\n"
   ]
  },
  {
   "cell_type": "markdown",
   "metadata": {},
   "source": [
    "Notes:\n",
    "\n",
    "* The length of cpdomains will not exceed 100. \n",
    "* The length of each domain name will not exceed 100.\n",
    "* Each address will have either 1 or 2 \".\" characters.\n",
    "* The input count in any count-paired domain will not exceed 10000.\n",
    "* The answer output can be returned in any order."
   ]
  },
  {
   "cell_type": "code",
   "execution_count": 54,
   "metadata": {
    "collapsed": false
   },
   "outputs": [],
   "source": [
    "from collections import defaultdict\n",
    "class Solution:\n",
    "    def subdomainVisits(self, cpdomains):\n",
    "        \"\"\"\n",
    "        :type cpdomains: List[str]\n",
    "        :rtype: List[str]\n",
    "        \"\"\"\n",
    "        dic = defaultdict(int)\n",
    "        output = []\n",
    "        for domain in cpdomains:\n",
    "            count, visit = domain.split(' ')\n",
    "            for i in range(len(visit.split('.'))-1, -1, -1):\n",
    "                thing = visit.split('.')[i:]\n",
    "                item = \".\".join(thing)\n",
    "                dic[item] += int(count)\n",
    "                \n",
    "        for website,count in dic.items():\n",
    "            output.append(str(count) + \" \"+ str(website))\n",
    "        return output"
   ]
  },
  {
   "cell_type": "code",
   "execution_count": 55,
   "metadata": {
    "collapsed": false
   },
   "outputs": [
    {
     "data": {
      "text/plain": [
       "['5 wiki.org',\n",
       " '951 com',\n",
       " '901 mail.com',\n",
       " '50 yahoo.com',\n",
       " '1 intel.mail.com',\n",
       " '900 google.mail.com',\n",
       " '5 org']"
      ]
     },
     "execution_count": 55,
     "metadata": {},
     "output_type": "execute_result"
    }
   ],
   "source": [
    "cpdomains  = [\"900 google.mail.com\", \"50 yahoo.com\", \"1 intel.mail.com\", \"5 wiki.org\"]\n",
    "\n",
    "Solution.subdomainVisits(_,cpdomains)"
   ]
  },
  {
   "cell_type": "code",
   "execution_count": null,
   "metadata": {
    "collapsed": true
   },
   "outputs": [],
   "source": []
  }
 ],
 "metadata": {
  "kernelspec": {
   "display_name": "Python [Root]",
   "language": "python",
   "name": "Python [Root]"
  },
  "language_info": {
   "codemirror_mode": {
    "name": "ipython",
    "version": 3
   },
   "file_extension": ".py",
   "mimetype": "text/x-python",
   "name": "python",
   "nbconvert_exporter": "python",
   "pygments_lexer": "ipython3",
   "version": "3.5.4"
  }
 },
 "nbformat": 4,
 "nbformat_minor": 0
}
