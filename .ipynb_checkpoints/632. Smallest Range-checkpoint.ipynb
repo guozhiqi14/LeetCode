{
 "cells": [
  {
   "cell_type": "markdown",
   "metadata": {},
   "source": [
    "## [632. Smallest Range](https://leetcode.com/problems/smallest-range/description/)"
   ]
  },
  {
   "cell_type": "markdown",
   "metadata": {},
   "source": [
    "You have k lists of sorted integers in ascending order. Find the smallest range that includes at least one number from each of the k lists.\n",
    "\n",
    "We define the range [a,b] is smaller than range [c,d] if b-a < d-c or a < c if b-a == d-c."
   ]
  },
  {
   "cell_type": "raw",
   "metadata": {},
   "source": [
    "Example 1:\n",
    "Input:[[4,10,15,24,26], [0,9,12,20], [5,18,22,30]]\n",
    "Output: [20,24]\n",
    "Explanation: \n",
    "List 1: [4, 10, 15, 24,26], 24 is in range [20,24].\n",
    "List 2: [0, 9, 12, 20], 20 is in range [20,24].\n",
    "List 3: [5, 18, 22, 30], 22 is in range [20,24]."
   ]
  },
  {
   "cell_type": "markdown",
   "metadata": {},
   "source": [
    "Note:\n",
    "1. The given list may contain duplicates, so ascending order means >= here.\n",
    "2. 1 <= k <= 3500\n",
    "3. -105 <= value of elements <= 105.\n",
    "4. For Java users, please note that the input type has been changed to List<List<Integer>>. And after you reset the code template, you'll see this point."
   ]
  },
  {
   "cell_type": "markdown",
   "metadata": {},
   "source": [
    "## [视频](https://www.youtube.com/watch?v=csJXQZFYklE)"
   ]
  },
  {
   "cell_type": "code",
   "execution_count": 1,
   "metadata": {
    "collapsed": true
   },
   "outputs": [],
   "source": [
    "import heapq\n",
    "class Solution(object):\n",
    "    def smallestRange(self, A):\n",
    "        pq =  [(row[0],i,0) for i,row in enumerate(A)]\n",
    "        ans = [float('-inf'),float('inf')]\n",
    "        right = max([row[0] for row in A])\n",
    "        heapq.heapify(pq)\n",
    "        while pq:\n",
    "            left,rowIndex,numIndex = heapq.heappop(pq)\n",
    "            if right - left < ans[1]-ans[0]:\n",
    "                ans[1],ans[0] = right,left\n",
    "            if numIndex+1 == len(A[rowIndex]):\n",
    "                return ans\n",
    "            right = max(right,A[rowIndex][numIndex+1])\n",
    "            heapq.heappush(pq,(A[rowIndex][numIndex+1],rowIndex,numIndex+1))\n",
    "        return ans\n",
    "           "
   ]
  },
  {
   "cell_type": "code",
   "execution_count": null,
   "metadata": {
    "collapsed": true
   },
   "outputs": [],
   "source": []
  }
 ],
 "metadata": {
  "kernelspec": {
   "display_name": "Python [Root]",
   "language": "python",
   "name": "Python [Root]"
  },
  "language_info": {
   "codemirror_mode": {
    "name": "ipython",
    "version": 3
   },
   "file_extension": ".py",
   "mimetype": "text/x-python",
   "name": "python",
   "nbconvert_exporter": "python",
   "pygments_lexer": "ipython3",
   "version": "3.5.5"
  }
 },
 "nbformat": 4,
 "nbformat_minor": 0
}
