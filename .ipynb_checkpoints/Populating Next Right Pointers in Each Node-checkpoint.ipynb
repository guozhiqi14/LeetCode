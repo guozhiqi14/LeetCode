{
 "cells": [
  {
   "cell_type": "markdown",
   "metadata": {},
   "source": [
    "## [Populating Next Right Pointers in Each Node](https://leetcode.com/explore/interview/card/top-interview-questions-medium/108/trees-and-graphs/789/)"
   ]
  },
  {
   "cell_type": "markdown",
   "metadata": {},
   "source": [
    "Given a binary tree\n",
    "\n"
   ]
  },
  {
   "cell_type": "raw",
   "metadata": {},
   "source": [
    "struct TreeLinkNode {\n",
    "  TreeLinkNode *left;\n",
    "  TreeLinkNode *right;\n",
    "  TreeLinkNode *next;\n",
    "}\n"
   ]
  },
  {
   "cell_type": "markdown",
   "metadata": {},
   "source": [
    "Populate each next pointer to point to its next right node. If there is no next right node, the next pointer should be set to NULL.\n",
    "\n",
    "Initially, all next pointers are set to NULL.\n",
    "\n",
    "Note:\n",
    "\n",
    "* You may only use constant extra space.\n",
    "* Recursive approach is fine, implicit stack space does not count as extra space for this problem.\n",
    "* You may assume that it is a perfect binary tree (ie, all leaves are at the same level, and every parent has two children).   \n",
    "\n",
    "Example:\n",
    "\n",
    "Given the following perfect binary tree,"
   ]
  },
  {
   "cell_type": "raw",
   "metadata": {},
   "source": [
    "     1\n",
    "   /  \\\n",
    "  2    3\n",
    " / \\  / \\\n",
    "4  5  6  7\n",
    "\n",
    "After calling your function, the tree should look like:\n",
    "\n",
    "     1 -> NULL\n",
    "   /  \\\n",
    "  2 -> 3 -> NULL\n",
    " / \\  / \\\n",
    "4->5->6->7 -> NULL"
   ]
  },
  {
   "cell_type": "markdown",
   "metadata": {},
   "source": [
    "### [视频](https://www.youtube.com/watch?v=3MFL7L8HnUc)"
   ]
  },
  {
   "cell_type": "code",
   "execution_count": 1,
   "metadata": {
    "collapsed": true
   },
   "outputs": [],
   "source": [
    "# Definition for binary tree with next pointer.\n",
    "# class TreeLinkNode:\n",
    "#     def __init__(self, x):\n",
    "#         self.val = x\n",
    "#         self.left = None\n",
    "#         self.right = None\n",
    "#         self.next = None\n",
    "\n",
    "class Solution:\n",
    "    # @param root, a tree link node\n",
    "    # @return nothing\n",
    "    def connect(self, root):\n",
    "        if not root:\n",
    "            return None\n",
    "        \n",
    "        if root and root.left:\n",
    "            root.left.next = root.right\n",
    "        if root.next and root.right:\n",
    "            root.right.next = root.next.left\n",
    "        \n",
    "        self.connect(root.left)\n",
    "        self.connect(root.right)"
   ]
  },
  {
   "cell_type": "code",
   "execution_count": null,
   "metadata": {
    "collapsed": true
   },
   "outputs": [],
   "source": []
  }
 ],
 "metadata": {
  "kernelspec": {
   "display_name": "Python [Root]",
   "language": "python",
   "name": "Python [Root]"
  },
  "language_info": {
   "codemirror_mode": {
    "name": "ipython",
    "version": 3
   },
   "file_extension": ".py",
   "mimetype": "text/x-python",
   "name": "python",
   "nbconvert_exporter": "python",
   "pygments_lexer": "ipython3",
   "version": "3.5.5"
  }
 },
 "nbformat": 4,
 "nbformat_minor": 0
}
