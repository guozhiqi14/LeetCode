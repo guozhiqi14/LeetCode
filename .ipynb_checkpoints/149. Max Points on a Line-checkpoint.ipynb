{
 "cells": [
  {
   "cell_type": "markdown",
   "metadata": {},
   "source": [
    "## [149. Max Points on a Line](https://leetcode.com/problems/max-points-on-a-line/description/)"
   ]
  },
  {
   "cell_type": "markdown",
   "metadata": {},
   "source": [
    "Given n points on a 2D plane, find the maximum number of points that lie on the same straight line.\n",
    "\n"
   ]
  },
  {
   "cell_type": "raw",
   "metadata": {},
   "source": [
    "Example 1:\n",
    "\n",
    "Input: [[1,1],[2,2],[3,3]]\n",
    "Output: 3\n",
    "Explanation:\n",
    "^\n",
    "|\n",
    "|        o\n",
    "|     o\n",
    "|  o  \n",
    "+------------->\n",
    "0  1  2  3  4\n",
    "Example 2:\n",
    "\n",
    "Input: [[1,1],[3,2],[5,3],[4,1],[2,3],[1,4]]\n",
    "Output: 4\n",
    "Explanation:\n",
    "^\n",
    "|\n",
    "|  o\n",
    "|     o        o\n",
    "|        o\n",
    "|  o        o\n",
    "+------------------->\n",
    "0  1  2  3  4  5  6"
   ]
  },
  {
   "cell_type": "markdown",
   "metadata": {},
   "source": [
    "## 思路   \n",
    "[只需要记录slope就好](https://leetcode.com/problems/max-points-on-a-line/discuss/47247/Why-only-store-slope-in-hashmap)：   \n",
    "固定一个点，找出所有的combination，当另外一个点的slope与这个点的slope一样时， 说明他们在一条线上。"
   ]
  },
  {
   "cell_type": "code",
   "execution_count": 6,
   "metadata": {
    "collapsed": false
   },
   "outputs": [],
   "source": [
    "# Definition for a point.\n",
    "# class Point:\n",
    "#     def __init__(self, a=0, b=0):\n",
    "#         self.x = a\n",
    "#         self.y = b\n",
    "\n",
    "from collections import defaultdict\n",
    "class Solution(object):\n",
    "    def maxPoints(self, points):\n",
    "        \"\"\"\n",
    "        :type points: List[Point]\n",
    "        :rtype: int\n",
    "        \"\"\"\n",
    "        if len(points) <= 2:\n",
    "            return len(points)\n",
    "        \n",
    "        mm = defaultdict(int)\n",
    "        for i in points:\n",
    "            mm[(i.x,i.y)] += 1\n",
    "        \n",
    "        P = list(mm.keys())\n",
    "        \n",
    "        if len(P) == 1:\n",
    "            return mm[P[0]]\n",
    "        \n",
    "        maxP = 0\n",
    "        \n",
    "        for i in range(len(P)-1):\n",
    "            slopes = defaultdict(int)\n",
    "            for j in range(i+1,len(P)):\n",
    "                slope = None\n",
    "                dx,dy = P[i][0] - P[j][0], P[i][1]-P[j][1]\n",
    "                if dx == 0:\n",
    "                    slope = 'inf'\n",
    "                elif dy == 0:\n",
    "                    slope == 0\n",
    "                else:\n",
    "                    slope = float(dy)/dx\n",
    "                slopes[slope] += mm[P[j]]\n",
    "            maxP = max(maxP, max(slopes.values())+mm[P[i]])\n",
    "        return maxP"
   ]
  },
  {
   "cell_type": "code",
   "execution_count": null,
   "metadata": {
    "collapsed": true
   },
   "outputs": [],
   "source": []
  }
 ],
 "metadata": {
  "kernelspec": {
   "display_name": "Python [Root]",
   "language": "python",
   "name": "Python [Root]"
  },
  "language_info": {
   "codemirror_mode": {
    "name": "ipython",
    "version": 3
   },
   "file_extension": ".py",
   "mimetype": "text/x-python",
   "name": "python",
   "nbconvert_exporter": "python",
   "pygments_lexer": "ipython3",
   "version": "3.5.4"
  }
 },
 "nbformat": 4,
 "nbformat_minor": 0
}
