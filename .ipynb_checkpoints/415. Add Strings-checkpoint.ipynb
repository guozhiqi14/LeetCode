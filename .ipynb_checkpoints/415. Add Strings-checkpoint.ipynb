{
 "cells": [
  {
   "cell_type": "markdown",
   "metadata": {},
   "source": [
    "## [415. Add Strings](https://leetcode.com/problems/add-strings/description/)"
   ]
  },
  {
   "cell_type": "markdown",
   "metadata": {},
   "source": [
    "Given two non-negative integers num1 and num2 represented as string, return the sum of num1 and num2.\n",
    "\n",
    "Note:\n",
    "\n",
    "1. The length of both num1 and num2 is < 5100.\n",
    "2. Both num1 and num2 contains only digits 0-9.\n",
    "3. Both num1 and num2 does not contain any leading zero.\n",
    "4. You must not use any built-in BigInteger library or convert the inputs to integer directly."
   ]
  },
  {
   "cell_type": "code",
   "execution_count": 1,
   "metadata": {
    "collapsed": true
   },
   "outputs": [],
   "source": [
    "class Solution:\n",
    "    def addStrings(self, num1, num2):\n",
    "        \"\"\"\n",
    "        :type num1: str\n",
    "        :type num2: str\n",
    "        :rtype: str\n",
    "        \"\"\"\n",
    "        i,j = len(num1)-1, len(num2)-1\n",
    "        plus = 0\n",
    "        ans = ''\n",
    "        while i >= 0 or j >= 0 or plus:\n",
    "            if i >= 0:\n",
    "                plus += int(num1[i])\n",
    "            if j >= 0:\n",
    "                plus += int(num2[j])\n",
    "            ans = str(plus%10) + ans\n",
    "            i,j = i-1,j-1\n",
    "            plus = plus // 10\n",
    "        return ans"
   ]
  },
  {
   "cell_type": "code",
   "execution_count": null,
   "metadata": {
    "collapsed": true
   },
   "outputs": [],
   "source": []
  }
 ],
 "metadata": {
  "kernelspec": {
   "display_name": "Python [Root]",
   "language": "python",
   "name": "Python [Root]"
  },
  "language_info": {
   "codemirror_mode": {
    "name": "ipython",
    "version": 3
   },
   "file_extension": ".py",
   "mimetype": "text/x-python",
   "name": "python",
   "nbconvert_exporter": "python",
   "pygments_lexer": "ipython3",
   "version": "3.5.5"
  }
 },
 "nbformat": 4,
 "nbformat_minor": 0
}
