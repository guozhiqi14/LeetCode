{
 "cells": [
  {
   "cell_type": "markdown",
   "metadata": {},
   "source": [
    "## [760. Find Anagram Mappings](https://leetcode.com/problems/find-anagram-mappings/description/)"
   ]
  },
  {
   "cell_type": "markdown",
   "metadata": {},
   "source": [
    "Given two lists Aand B, and B is an anagram of A. B is an anagram of A means B is made by randomizing the order of the elements in A.\n",
    "\n",
    "We want to find an index mapping P, from A to B. A mapping P[i] = j means the ith element in A appears in B at index j.\n",
    "\n",
    "These lists A and B may contain duplicates. If there are multiple answers, output any of them."
   ]
  },
  {
   "cell_type": "raw",
   "metadata": {},
   "source": [
    "For example, given\n",
    "\n",
    "A = [12, 28, 46, 32, 50]\n",
    "B = [50, 12, 32, 46, 28]\n",
    "\n",
    "We should return\n",
    "[1, 4, 3, 2, 0]\n"
   ]
  },
  {
   "cell_type": "markdown",
   "metadata": {},
   "source": [
    "as P[0] = 1 because the 0th element of A appears at B[1], and P[1] = 4 because the 1st element of A appears at B[4], and so on.\n"
   ]
  },
  {
   "cell_type": "markdown",
   "metadata": {},
   "source": [
    "Note:\n",
    "\n",
    "* A, B have equal lengths in range [1, 100].\n",
    "* A[i], B[i] are integers in range [0, 10^5].\n"
   ]
  },
  {
   "cell_type": "code",
   "execution_count": 1,
   "metadata": {
    "collapsed": true
   },
   "outputs": [],
   "source": [
    "class Solution:\n",
    "    def anagramMappings(self, A, B):\n",
    "        \"\"\"\n",
    "        :type A: List[int]\n",
    "        :type B: List[int]\n",
    "        :rtype: List[int]\n",
    "        \"\"\"\n",
    "        mappingB,output = {},[]\n",
    "        for index,value in enumerate(B):\n",
    "            mappingB[value] = index\n",
    "        for value in A:\n",
    "            output.append(mappingB[value])\n",
    "        return output"
   ]
  },
  {
   "cell_type": "code",
   "execution_count": null,
   "metadata": {
    "collapsed": true
   },
   "outputs": [],
   "source": []
  }
 ],
 "metadata": {
  "kernelspec": {
   "display_name": "Python [Root]",
   "language": "python",
   "name": "Python [Root]"
  },
  "language_info": {
   "codemirror_mode": {
    "name": "ipython",
    "version": 3
   },
   "file_extension": ".py",
   "mimetype": "text/x-python",
   "name": "python",
   "nbconvert_exporter": "python",
   "pygments_lexer": "ipython3",
   "version": "3.5.5"
  }
 },
 "nbformat": 4,
 "nbformat_minor": 0
}
