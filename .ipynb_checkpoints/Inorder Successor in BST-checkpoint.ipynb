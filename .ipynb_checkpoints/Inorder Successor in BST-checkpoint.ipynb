{
 "cells": [
  {
   "cell_type": "markdown",
   "metadata": {},
   "source": [
    "## [Inorder Successor in BST](https://leetcode.com/explore/interview/card/top-interview-questions-medium/108/trees-and-graphs/791/)"
   ]
  },
  {
   "cell_type": "markdown",
   "metadata": {},
   "source": [
    "Given a binary search tree and a node in it, find the in-order successor of that node in the BST.\n",
    "\n",
    "Note: \n",
    "\n",
    "If the given node has no in-order successor in the tree, return null.\n",
    "\n"
   ]
  },
  {
   "cell_type": "raw",
   "metadata": {},
   "source": [
    "Example 1:\n",
    "\n",
    "Input: root = [2,1,3], p = 1\n",
    "\n",
    "  2\n",
    " / \\\n",
    "1   3\n",
    "\n",
    "Output: 2\n",
    "    \n",
    "    \n",
    "Example 2:\n",
    "\n",
    "Input: root = [5,3,6,2,4,null,null,1], p = 6\n",
    "\n",
    "      5\n",
    "     / \\\n",
    "    3   6\n",
    "   / \\\n",
    "  2   4\n",
    " /   \n",
    "1\n",
    "\n",
    "Output: null"
   ]
  },
  {
   "cell_type": "markdown",
   "metadata": {},
   "source": [
    "[优化DFS](https://leetcode.com/explore/interview/card/top-interview-questions-medium/108/trees-and-graphs/791/discuss/158315/Python-or-DFS-tm/176440)\n",
    "\n",
    "\n",
    "只要比p.val大，该root就可能成为p的继承者，不断的递归缩小root的值，最后就会返回比p.val大的最小值。\n",
    "如果没有比p.val大的值，直接返回None即可\n",
    "\n"
   ]
  },
  {
   "cell_type": "code",
   "execution_count": 1,
   "metadata": {
    "collapsed": true
   },
   "outputs": [],
   "source": [
    "class Solution:\n",
    "    def inorderSuccessor(self, root, p):\n",
    "        self.res = None\n",
    "        self.dfs(root,p)\n",
    "        return self.res\n",
    "    \n",
    "    def dfs(self,root,p):\n",
    "        if not root:\n",
    "            return \n",
    "        if root.val > p.val:\n",
    "            self.res = root\n",
    "            self.dfs(root.left,p)\n",
    "        else:\n",
    "            self.dfs(root.right,p)"
   ]
  },
  {
   "cell_type": "code",
   "execution_count": null,
   "metadata": {
    "collapsed": true
   },
   "outputs": [],
   "source": []
  }
 ],
 "metadata": {
  "kernelspec": {
   "display_name": "Python [Root]",
   "language": "python",
   "name": "Python [Root]"
  },
  "language_info": {
   "codemirror_mode": {
    "name": "ipython",
    "version": 3
   },
   "file_extension": ".py",
   "mimetype": "text/x-python",
   "name": "python",
   "nbconvert_exporter": "python",
   "pygments_lexer": "ipython3",
   "version": "3.5.5"
  }
 },
 "nbformat": 4,
 "nbformat_minor": 0
}
