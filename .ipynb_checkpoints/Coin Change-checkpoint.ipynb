{
 "cells": [
  {
   "cell_type": "markdown",
   "metadata": {},
   "source": [
    "## [Coin Change](https://leetcode.com/explore/interview/card/top-interview-questions-medium/111/dynamic-programming/809/)"
   ]
  },
  {
   "cell_type": "markdown",
   "metadata": {},
   "source": [
    "You are given coins of different denominations and a total amount of money amount. Write a function to compute the fewest number of coins that you need to make up that amount. If that amount of money cannot be made up by any combination of the coins, return -1."
   ]
  },
  {
   "cell_type": "raw",
   "metadata": {},
   "source": [
    "Example 1:\n",
    "\n",
    "Input: coins = [1, 2, 5], amount = 11\n",
    "Output: 3 \n",
    "Explanation: 11 = 5 + 5 + 1\n",
    "Example 2:\n",
    "\n",
    "Input: coins = [2], amount = 3\n",
    "Output: -1\n",
    "    \n",
    "    \n",
    "Note:\n",
    "You may assume that you have an infinite number of each kind of coin."
   ]
  },
  {
   "cell_type": "code",
   "execution_count": 8,
   "metadata": {
    "collapsed": true
   },
   "outputs": [],
   "source": [
    "class Solution:\n",
    "    def coinChange(self, coins, amount):\n",
    "        \"\"\"\n",
    "        :type coins: List[int]\n",
    "        :type amount: int\n",
    "        :rtype: int\n",
    "        \"\"\"\n",
    "        INVALID = float('inf')\n",
    "        dp = [INVALID] * (amount + 1)\n",
    "        dp[0] = 0\n",
    "        \n",
    "        for coin in coins:\n",
    "            for i in range(coin, amount + 1):\n",
    "                if dp[i - coin] >= dp[i]: continue\n",
    "                dp[i] = dp[i - coin] + 1\n",
    "        return -1 if dp[amount] == INVALID else dp[amount]\n"
   ]
  },
  {
   "cell_type": "code",
   "execution_count": 9,
   "metadata": {
    "collapsed": false
   },
   "outputs": [
    {
     "data": {
      "text/plain": [
       "3"
      ]
     },
     "execution_count": 9,
     "metadata": {},
     "output_type": "execute_result"
    }
   ],
   "source": [
    "Solution.coinChange(_,[1,2,5],11)"
   ]
  },
  {
   "cell_type": "code",
   "execution_count": null,
   "metadata": {
    "collapsed": true
   },
   "outputs": [],
   "source": []
  },
  {
   "cell_type": "code",
   "execution_count": null,
   "metadata": {
    "collapsed": true
   },
   "outputs": [],
   "source": []
  },
  {
   "cell_type": "markdown",
   "metadata": {},
   "source": [
    "### [来offer视频](https://www.youtube.com/watch?v=htdBJul3xoc&t=983s)"
   ]
  },
  {
   "cell_type": "markdown",
   "metadata": {},
   "source": [
    "## TLE "
   ]
  },
  {
   "cell_type": "code",
   "execution_count": 38,
   "metadata": {
    "collapsed": true
   },
   "outputs": [],
   "source": [
    "class Solution:\n",
    "    def coinChange(self, coins, amount):\n",
    "        \"\"\"\n",
    "        :type coins: List[int]\n",
    "        :type amount: int\n",
    "        :rtype: int\n",
    "        \"\"\"\n",
    "        f = [[float('inf')]*(amount+1) for i in range(len(coins)+1)]\n",
    "        f[len(coins)][0] = 0\n",
    "        \n",
    "        for i in range(len(coins)-1,-1,-1):\n",
    "            for j in range(amount+1):\n",
    "                f[i][j] = f[i+1][j]\n",
    "                maxK = j//coins[i]\n",
    "                for k in range(1,maxK+1):\n",
    "                    prev = f[i+1][j-k*coins[i]]+k\n",
    "                    if prev<float('inf'):\n",
    "                        f[i][j] = min(f[i][j],prev)\n",
    "        if f[0][-1] == float('inf'):\n",
    "            return -1\n",
    "        else:\n",
    "            return f[0][-1]"
   ]
  },
  {
   "cell_type": "code",
   "execution_count": 39,
   "metadata": {
    "collapsed": false
   },
   "outputs": [
    {
     "data": {
      "text/plain": [
       "3"
      ]
     },
     "execution_count": 39,
     "metadata": {},
     "output_type": "execute_result"
    }
   ],
   "source": [
    "Solution.coinChange(_,[1,2,5],11)"
   ]
  },
  {
   "cell_type": "markdown",
   "metadata": {},
   "source": [
    "### 优化时间"
   ]
  },
  {
   "cell_type": "code",
   "execution_count": 43,
   "metadata": {
    "collapsed": true
   },
   "outputs": [],
   "source": [
    "class Solution:\n",
    "    def coinChange(self, coins, amount):\n",
    "        \"\"\"\n",
    "        :type coins: List[int]\n",
    "        :type amount: int\n",
    "        :rtype: int\n",
    "        \"\"\"\n",
    "        f = [[float('inf')]*(amount+1) for i in range(len(coins)+1)]\n",
    "        f[len(coins)][0] = 0\n",
    "        \n",
    "        for i in range(len(coins)-1,-1,-1):\n",
    "            for j in range(amount+1):\n",
    "                f[i][j] = f[i+1][j]\n",
    "                if j >= coins[i]:\n",
    "                    prev = f[i][j-coins[i]] + 1\n",
    "                    if prev < float('inf'):\n",
    "                        f[i][j] = min(f[i][j],prev)\n",
    "        if f[0][-1] == float('inf'):\n",
    "            return -1\n",
    "        else:\n",
    "            return f[0][-1]"
   ]
  },
  {
   "cell_type": "code",
   "execution_count": 44,
   "metadata": {
    "collapsed": false
   },
   "outputs": [
    {
     "data": {
      "text/plain": [
       "19"
      ]
     },
     "execution_count": 44,
     "metadata": {},
     "output_type": "execute_result"
    }
   ],
   "source": [
    "Solution.coinChange(_,[233,408,101,448,235,339,40,211],7392)"
   ]
  },
  {
   "cell_type": "code",
   "execution_count": 45,
   "metadata": {
    "collapsed": true
   },
   "outputs": [],
   "source": [
    "class Solution:\n",
    "    def coinChange(self, coins, amount):\n",
    "        \"\"\"\n",
    "        :type coins: List[int]\n",
    "        :type amount: int\n",
    "        :rtype: int\n",
    "        \"\"\"\n",
    "        f = [float('inf')]*(amount+1)\n",
    "        f[0] = 0\n",
    "        \n",
    "        for i in range(len(coins)-1,-1,-1):\n",
    "            for j in range(amount+1):\n",
    "#                 f[i][j] = f[i+1][j]\n",
    "                if j >= coins[i]:\n",
    "                    prev = f[j-coins[i]] + 1\n",
    "                    if prev < float('inf'):\n",
    "                        f[j] = min(f[j],prev)\n",
    "        if f[-1] == float('inf'):\n",
    "            return -1\n",
    "        else:\n",
    "            return f[-1]"
   ]
  },
  {
   "cell_type": "code",
   "execution_count": null,
   "metadata": {
    "collapsed": true
   },
   "outputs": [],
   "source": []
  }
 ],
 "metadata": {
  "kernelspec": {
   "display_name": "Python [Root]",
   "language": "python",
   "name": "Python [Root]"
  },
  "language_info": {
   "codemirror_mode": {
    "name": "ipython",
    "version": 3
   },
   "file_extension": ".py",
   "mimetype": "text/x-python",
   "name": "python",
   "nbconvert_exporter": "python",
   "pygments_lexer": "ipython3",
   "version": "3.5.5"
  }
 },
 "nbformat": 4,
 "nbformat_minor": 0
}
