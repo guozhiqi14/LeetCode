{
 "cells": [
  {
   "cell_type": "markdown",
   "metadata": {},
   "source": [
    "## [29. Divide Two Integers](https://leetcode.com/problems/divide-two-integers/description/)"
   ]
  },
  {
   "cell_type": "markdown",
   "metadata": {},
   "source": [
    "Given two integers dividend and divisor, divide two integers without using multiplication, division and mod operator.\n",
    "\n",
    "Return the quotient after dividing dividend by divisor.\n",
    "\n",
    "The integer division should truncate toward zero."
   ]
  },
  {
   "cell_type": "raw",
   "metadata": {},
   "source": [
    "Example 1:\n",
    "\n",
    "Input: dividend = 10, divisor = 3\n",
    "Output: 3\n",
    "\n",
    "Example 2:\n",
    "\n",
    "Input: dividend = 7, divisor = -3\n",
    "Output: -2"
   ]
  },
  {
   "cell_type": "markdown",
   "metadata": {},
   "source": [
    "** Note:**\n",
    "\n",
    "* Both dividend and divisor will be 32-bit signed integers.\n",
    "* The divisor will never be 0.\n",
    "* Assume we are dealing with an environment which could only store integers within the 32-bit signed integer range: [−231,  231 − 1]. For the purpose of this problem, assume that your function returns 231 − 1 when the division result overflows.\n"
   ]
  },
  {
   "cell_type": "markdown",
   "metadata": {},
   "source": [
    "## Approach 1   \n",
    "[解题思路](https://blog.csdn.net/NXHYD/article/details/72539880)：不许用乘、除和求余实现两数的相除。那就只能用加和减了。正常思路是被除数一个一个的减除数，直到剩下的数比除数小为止，就得到了结果。这样是无法ac的，因为时间复杂度为O(n)，比如一个很大的数除1，就很慢。这里我们可以用二分查找的思路，可以说又是二分查找的变种。"
   ]
  },
  {
   "cell_type": "code",
   "execution_count": 79,
   "metadata": {
    "collapsed": false
   },
   "outputs": [],
   "source": [
    "class Solution:\n",
    "    def divide(self, dividend, divisor):\n",
    "        \"\"\"\n",
    "        :type dividend: int\n",
    "        :type divisor: int\n",
    "        :rtype: int\n",
    "        \"\"\"\n",
    "        #eg.7-3\n",
    "        sign = 1\n",
    "        if (dividend>0 and divisor<0) or (dividend<0 and divisor>0):\n",
    "            sign *= -1\n",
    "        ans=0\n",
    "        a,b = abs(dividend),abs(divisor)\n",
    "        \n",
    "        count = 0\n",
    "        summ = 0\n",
    "        \n",
    "        while a>=b:\n",
    "            summ = b\n",
    "            count = 1\n",
    "            while a >=  summ + summ:\n",
    "                summ += summ\n",
    "                count += count \n",
    "            \n",
    "            a -= summ\n",
    "            ans+= count\n",
    "        \n",
    "        if sign == -1:\n",
    "            ans = 0 - ans\n",
    "        if ans >= pow(2, 31)-1 and sign == 1: return pow(2, 31) - 1\n",
    "        if ans >= pow(2, 31) and sign == -1: return -pow(2, 31) \n",
    "        \n",
    "        return ans \n",
    "        \n",
    "        \n",
    "        "
   ]
  },
  {
   "cell_type": "code",
   "execution_count": 80,
   "metadata": {
    "collapsed": false
   },
   "outputs": [
    {
     "data": {
      "text/plain": [
       "-2147483648"
      ]
     },
     "execution_count": 80,
     "metadata": {},
     "output_type": "execute_result"
    }
   ],
   "source": [
    "Solution.divide(_,-2147483648,1)"
   ]
  },
  {
   "cell_type": "code",
   "execution_count": null,
   "metadata": {
    "collapsed": true
   },
   "outputs": [],
   "source": []
  },
  {
   "cell_type": "code",
   "execution_count": null,
   "metadata": {
    "collapsed": true
   },
   "outputs": [],
   "source": []
  },
  {
   "cell_type": "code",
   "execution_count": 120,
   "metadata": {
    "collapsed": true
   },
   "outputs": [],
   "source": [
    "class Solution:\n",
    "    def divide(self, dividend, divisor):\n",
    "        \"\"\"\n",
    "        :type dividend: int\n",
    "        :type divisor: int\n",
    "        :rtype: int\n",
    "        \"\"\"\n",
    "        sign = 1\n",
    "        if (dividend > 0 and divisor < 0) or (dividend < 0  and divisor > 0):\n",
    "            sign = -1\n",
    "        a,b = abs(dividend), abs(divisor)\n",
    "        ans = 0\n",
    "        count = 0\n",
    "        summation = 0\n",
    "        \n",
    "        while a >= b:\n",
    "            count = 1\n",
    "            summation = b\n",
    "            while a >= 2* summation:\n",
    "                summation *= 2\n",
    "                count *= 2\n",
    "                \n",
    "            ans += count \n",
    "            a -= summation\n",
    "        if sign == -1:\n",
    "            ans = 0-ans\n",
    "        if ans >= 2**31 -1 and sign == 1:\n",
    "            return 2**31-1\n",
    "        if ans >= 2**31 and sign == -1:\n",
    "            return 2**31\n",
    "        return ans \n",
    "            "
   ]
  },
  {
   "cell_type": "code",
   "execution_count": 121,
   "metadata": {
    "collapsed": false
   },
   "outputs": [
    {
     "data": {
      "text/plain": [
       "3"
      ]
     },
     "execution_count": 121,
     "metadata": {},
     "output_type": "execute_result"
    }
   ],
   "source": [
    "Solution.divide(_,16,5)"
   ]
  },
  {
   "cell_type": "code",
   "execution_count": null,
   "metadata": {
    "collapsed": true
   },
   "outputs": [],
   "source": []
  }
 ],
 "metadata": {
  "kernelspec": {
   "display_name": "Python [Root]",
   "language": "python",
   "name": "Python [Root]"
  },
  "language_info": {
   "codemirror_mode": {
    "name": "ipython",
    "version": 3
   },
   "file_extension": ".py",
   "mimetype": "text/x-python",
   "name": "python",
   "nbconvert_exporter": "python",
   "pygments_lexer": "ipython3",
   "version": "3.5.5"
  }
 },
 "nbformat": 4,
 "nbformat_minor": 0
}
