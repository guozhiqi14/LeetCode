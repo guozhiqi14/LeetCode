{
 "cells": [
  {
   "cell_type": "markdown",
   "metadata": {},
   "source": [
    "## [658. Find K Closest Elements](https://leetcode.com/problems/find-k-closest-elements/description/)"
   ]
  },
  {
   "cell_type": "markdown",
   "metadata": {},
   "source": [
    "Given a sorted array, two integers k and x, find the k closest elements to x in the array. The result should also be sorted in ascending order. If there is a tie, the smaller elements are always preferred."
   ]
  },
  {
   "cell_type": "raw",
   "metadata": {},
   "source": [
    "Example 1:\n",
    "Input: [1,2,3,4,5], k=4, x=3\n",
    "Output: [1,2,3,4]\n",
    "\n",
    "Example 2:\n",
    "Input: [1,2,3,4,5], k=4, x=-1\n",
    "Output: [1,2,3,4]\n"
   ]
  },
  {
   "cell_type": "markdown",
   "metadata": {},
   "source": [
    "Note:\n",
    "* The value k is positive and will always be smaller than the length of the sorted array.\n",
    "* Length of the given array is positive and will not exceed 104\n",
    "* Absolute value of elements in the array and x will not exceed 104\n"
   ]
  },
  {
   "cell_type": "markdown",
   "metadata": {},
   "source": [
    "## 先按照绝对值sort一遍"
   ]
  },
  {
   "cell_type": "code",
   "execution_count": 1,
   "metadata": {
    "collapsed": true
   },
   "outputs": [],
   "source": [
    "class Solution:\n",
    "    def findClosestElements(self, arr, k, x):\n",
    "        \"\"\"\n",
    "        :type arr: List[int]\n",
    "        :type k: int\n",
    "        :type x: int\n",
    "        :rtype: List[int]\n",
    "        \"\"\"\n",
    "        arr = sorted(arr,key = lambda a:abs(a-x))\n",
    "        return sorted(arr[:k])"
   ]
  },
  {
   "cell_type": "code",
   "execution_count": null,
   "metadata": {
    "collapsed": true
   },
   "outputs": [],
   "source": []
  },
  {
   "cell_type": "markdown",
   "metadata": {},
   "source": [
    "## [Binary Search](https://www.youtube.com/watch?v=3ifFNvdfjyg&t=687s)"
   ]
  },
  {
   "cell_type": "code",
   "execution_count": null,
   "metadata": {
    "collapsed": true
   },
   "outputs": [],
   "source": [
    "class Solution:\n",
    "    def findClosestElements(self, arr, k, x):\n",
    "        \"\"\"\n",
    "        :type arr: List[int]\n",
    "        :type k: int\n",
    "        :type x: int\n",
    "        :rtype: List[int]\n",
    "        \"\"\"\n",
    "        res = []\n",
    "        left,right = 0,len(arr)-k\n",
    "        while left < right:\n",
    "            mid = (left+right)//2\n",
    "            if x > arr[mid]:\n",
    "                if x - arr[mid] > arr[mid+k] - x:\n",
    "                    left = mid + 1\n",
    "                else:\n",
    "                    right = mid\n",
    "            else:\n",
    "                right = mid\n",
    "        return arr[left:left+k]"
   ]
  }
 ],
 "metadata": {
  "kernelspec": {
   "display_name": "Python [Root]",
   "language": "python",
   "name": "Python [Root]"
  },
  "language_info": {
   "codemirror_mode": {
    "name": "ipython",
    "version": 3
   },
   "file_extension": ".py",
   "mimetype": "text/x-python",
   "name": "python",
   "nbconvert_exporter": "python",
   "pygments_lexer": "ipython3",
   "version": "3.5.5"
  }
 },
 "nbformat": 4,
 "nbformat_minor": 0
}
