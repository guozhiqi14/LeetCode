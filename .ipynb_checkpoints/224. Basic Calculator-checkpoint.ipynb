{
 "cells": [
  {
   "cell_type": "markdown",
   "metadata": {},
   "source": [
    "## [224. Basic Calculator](https://leetcode.com/problems/basic-calculator/description/)"
   ]
  },
  {
   "cell_type": "markdown",
   "metadata": {},
   "source": [
    "Implement a basic calculator to evaluate a simple expression string.\n",
    "\n",
    "The expression string may contain open ( and closing parentheses ), the plus + or minus sign -, non-negative integers and empty spaces ."
   ]
  },
  {
   "cell_type": "raw",
   "metadata": {},
   "source": [
    "Example 1:\n",
    "\n",
    "Input: \"1 + 1\"\n",
    "Output: 2\n",
    "    \n",
    "Example 2:\n",
    "\n",
    "Input: \" 2-1 + 2 \"\n",
    "Output: 3\n",
    "    \n",
    "Example 3:\n",
    "\n",
    "Input: \"(1+(4+5+2)-3)+(6+8)\"\n",
    "Output: 23"
   ]
  },
  {
   "cell_type": "markdown",
   "metadata": {},
   "source": [
    "Note:\n",
    "\n",
    "You may assume that the given expression is always valid.\n",
    "Do not use the eval built-in library function."
   ]
  },
  {
   "cell_type": "markdown",
   "metadata": {},
   "source": [
    "### [题目思路](https://leetcode.com/problems/basic-calculator/discuss/62361/Iterative-Java-solution-with-stack)"
   ]
  },
  {
   "cell_type": "code",
   "execution_count": 28,
   "metadata": {
    "collapsed": true
   },
   "outputs": [],
   "source": [
    "class Solution(object):\n",
    "    def calculate(self, s):\n",
    "        stack = []\n",
    "        number = 0\n",
    "        result = 0\n",
    "        sign = 1\n",
    "        for c in s:\n",
    "            if c.isdigit():\n",
    "                number = (number * 10) + int(c)\n",
    "    \n",
    "            elif c == '+':\n",
    "                result += (sign * number)\n",
    "                number = 0\n",
    "                sign = 1\n",
    "    \n",
    "            elif c == '-':\n",
    "                result += (sign * number)\n",
    "                number = 0\n",
    "                sign = -1\n",
    "                \n",
    "            elif c == '(':\n",
    "                stack.append(result)\n",
    "                stack.append(sign)\n",
    "                result = 0\n",
    "                sign = 1\n",
    "            \n",
    "            elif c == ')':\n",
    "                result += (sign * number)\n",
    "                number = 0\n",
    "                result *= stack.pop()\n",
    "                result += stack.pop()\n",
    "        \n",
    "        if number != 0:\n",
    "            result += (sign * number)\n",
    "        return result"
   ]
  },
  {
   "cell_type": "code",
   "execution_count": null,
   "metadata": {
    "collapsed": true
   },
   "outputs": [],
   "source": []
  }
 ],
 "metadata": {
  "kernelspec": {
   "display_name": "Python [Root]",
   "language": "python",
   "name": "Python [Root]"
  },
  "language_info": {
   "codemirror_mode": {
    "name": "ipython",
    "version": 3
   },
   "file_extension": ".py",
   "mimetype": "text/x-python",
   "name": "python",
   "nbconvert_exporter": "python",
   "pygments_lexer": "ipython3",
   "version": "3.5.5"
  }
 },
 "nbformat": 4,
 "nbformat_minor": 0
}
