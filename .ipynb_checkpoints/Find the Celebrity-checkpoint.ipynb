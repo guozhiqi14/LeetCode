{
 "cells": [
  {
   "cell_type": "markdown",
   "metadata": {},
   "source": [
    "## [Find the Celebrity](https://leetcode.com/explore/interview/card/top-interview-questions-medium/114/others/825/)"
   ]
  },
  {
   "cell_type": "markdown",
   "metadata": {},
   "source": [
    "Suppose you are at a party with n people (labeled from 0 to n - 1) and among them, there may exist one celebrity. The definition of a celebrity is that all the other n - 1 people know him/her but he/she does not know any of them.\n",
    "\n",
    "Now you want to find out who the celebrity is or verify that there is not one. The only thing you are allowed to do is to ask questions like: \"Hi, A. Do you know B?\" to get information of whether A knows B. You need to find out the celebrity (or verify there is not one) by asking as few questions as possible (in the asymptotic sense).\n",
    "\n",
    "You are given a helper function bool knows(a, b) which tells you whether A knows B. Implement a function int findCelebrity(n), your function should minimize the number of calls to knows.\n",
    "\n",
    "Note: There will be exactly one celebrity if he/she is in the party. Return the celebrity's label if there is a celebrity in the party. If there is no celebrity, return -1.\n",
    "\n"
   ]
  },
  {
   "cell_type": "markdown",
   "metadata": {},
   "source": [
    "### [Brutal Force n^2](https://leetcode.com/explore/interview/card/top-interview-questions-medium/114/others/825/discuss/71289/Python-Brute-Force-Solution-Easy-Understanding)"
   ]
  },
  {
   "cell_type": "code",
   "execution_count": 7,
   "metadata": {
    "collapsed": true
   },
   "outputs": [],
   "source": [
    "# The knows API is already defined for you.\n",
    "# @param a, person a\n",
    "# @param b, person b\n",
    "# @return a boolean, whether a knows b\n",
    "# def knows(a, b):\n",
    "\n",
    "class Solution(object):\n",
    "    \"\"\"\n",
    "    :type n: int\n",
    "    :rtype: int\n",
    "    \"\"\"\n",
    "    def findCelebrity(self, n):\n",
    "        for a in range(n):\n",
    "            for b in range(n):\n",
    "                if a == b:\n",
    "                    continue\n",
    "                if [knows(a,b),knows(b,a)] != [False,True]:\n",
    "                    break\n",
    "            else:\n",
    "                return a\n",
    "        else:\n",
    "            return -1\n",
    "            "
   ]
  },
  {
   "cell_type": "markdown",
   "metadata": {},
   "source": [
    "## [O(n)算法](https://www.youtube.com/watch?v=QDehNYXlCAg&t=367s)"
   ]
  },
  {
   "cell_type": "code",
   "execution_count": 8,
   "metadata": {
    "collapsed": true
   },
   "outputs": [],
   "source": [
    "# The knows API is already defined for you.\n",
    "# @param a, person a\n",
    "# @param b, person b\n",
    "# @return a boolean, whether a knows b\n",
    "# def knows(a, b):\n",
    "\n",
    "class Solution(object):\n",
    "    \"\"\"\n",
    "    :type n: int\n",
    "    :rtype: int\n",
    "    \"\"\"\n",
    "    def findCelebrity(self, n):\n",
    "        candidate = 0\n",
    "        for i in range(1,n):\n",
    "            if knows(candidate,i):\n",
    "                candidate = i\n",
    "        \n",
    "        for i in range(n):\n",
    "            if i == candidate:\n",
    "                continue\n",
    "            if knows(i,candidate) != True or knows(candidate,i) == True:\n",
    "                return -1\n",
    "        return candidate"
   ]
  },
  {
   "cell_type": "code",
   "execution_count": null,
   "metadata": {
    "collapsed": true
   },
   "outputs": [],
   "source": []
  }
 ],
 "metadata": {
  "kernelspec": {
   "display_name": "Python [Root]",
   "language": "python",
   "name": "Python [Root]"
  },
  "language_info": {
   "codemirror_mode": {
    "name": "ipython",
    "version": 3
   },
   "file_extension": ".py",
   "mimetype": "text/x-python",
   "name": "python",
   "nbconvert_exporter": "python",
   "pygments_lexer": "ipython3",
   "version": "3.5.5"
  }
 },
 "nbformat": 4,
 "nbformat_minor": 0
}
