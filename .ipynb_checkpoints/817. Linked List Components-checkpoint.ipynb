{
 "cells": [
  {
   "cell_type": "markdown",
   "metadata": {},
   "source": [
    "## [817. Linked List Components](https://leetcode.com/problems/linked-list-components/)"
   ]
  },
  {
   "cell_type": "markdown",
   "metadata": {},
   "source": [
    "We are also given the list G, a subset of the values in the linked list.\n",
    "\n",
    "Return the number of connected components in G, where two values are connected if they appear consecutively in the linked list."
   ]
  },
  {
   "cell_type": "raw",
   "metadata": {},
   "source": [
    "Example 1:\n",
    "\n",
    "Input: \n",
    "head: 0->1->2->3\n",
    "G = [0, 1, 3]\n",
    "Output: 2\n",
    "Explanation: \n",
    "0 and 1 are connected, so [0, 1] and [3] are the two connected components.\n",
    "\n",
    "\n",
    "Example 2:\n",
    "\n",
    "Input: \n",
    "head: 0->1->2->3->4\n",
    "G = [0, 3, 1, 4]\n",
    "Output: 2\n",
    "Explanation: \n",
    "0 and 1 are connected, 3 and 4 are connected, so [0, 1] and [3, 4] are the two connected components.\n"
   ]
  },
  {
   "cell_type": "markdown",
   "metadata": {},
   "source": [
    "Note:\n",
    "\n",
    "* If N is the length of the linked list given by head, 1 <= N <= 10000.\n",
    "* The value of each node in the linked list will be in the range [0, N - 1].\n",
    "* 1 <= G.length <= 10000.\n",
    "* G is a subset of all values in the linked list."
   ]
  },
  {
   "cell_type": "markdown",
   "metadata": {},
   "source": [
    "### [视频](https://www.youtube.com/watch?v=y1_lFSkQNDc)"
   ]
  },
  {
   "cell_type": "code",
   "execution_count": 1,
   "metadata": {
    "collapsed": true
   },
   "outputs": [],
   "source": [
    "# Definition for singly-linked list.\n",
    "# class ListNode:\n",
    "#     def __init__(self, x):\n",
    "#         self.val = x\n",
    "#         self.next = None\n",
    "\n",
    "class Solution:\n",
    "    def numComponents(self, head, G):\n",
    "        \"\"\"\n",
    "        :type head: ListNode\n",
    "        :type G: List[int]\n",
    "        :rtype: int\n",
    "        \"\"\"\n",
    "        setG = set(G)\n",
    "        ans = 0\n",
    "        while head:\n",
    "            if head.val in setG and (head.next is None or head.next.val not in setG):\n",
    "                ans += 1\n",
    "            head = head.next\n",
    "        return ans"
   ]
  },
  {
   "cell_type": "code",
   "execution_count": null,
   "metadata": {
    "collapsed": true
   },
   "outputs": [],
   "source": []
  }
 ],
 "metadata": {
  "kernelspec": {
   "display_name": "Python [Root]",
   "language": "python",
   "name": "Python [Root]"
  },
  "language_info": {
   "codemirror_mode": {
    "name": "ipython",
    "version": 3
   },
   "file_extension": ".py",
   "mimetype": "text/x-python",
   "name": "python",
   "nbconvert_exporter": "python",
   "pygments_lexer": "ipython3",
   "version": "3.5.5"
  }
 },
 "nbformat": 4,
 "nbformat_minor": 0
}
