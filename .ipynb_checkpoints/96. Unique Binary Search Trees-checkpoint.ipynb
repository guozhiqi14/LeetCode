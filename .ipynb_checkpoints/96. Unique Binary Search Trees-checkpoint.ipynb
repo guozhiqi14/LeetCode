{
 "cells": [
  {
   "cell_type": "markdown",
   "metadata": {},
   "source": [
    "## [96. Unique Binary Search Trees](https://leetcode.com/problems/unique-binary-search-trees/description/)"
   ]
  },
  {
   "cell_type": "markdown",
   "metadata": {},
   "source": [
    "Given n, how many structurally unique BST's (binary search trees) that store values 1 ... n?\n",
    "\n"
   ]
  },
  {
   "cell_type": "raw",
   "metadata": {},
   "source": [
    "Example:\n",
    "\n",
    "Input: 3\n",
    "Output: 5\n",
    "Explanation:\n",
    "Given n = 3, there are a total of 5 unique BST's:\n",
    "\n",
    "   1         3     3      2      1\n",
    "    \\       /     /      / \\      \\\n",
    "     3     2     1      1   3      2\n",
    "    /     /       \\                 \\\n",
    "   2     1         2                 3"
   ]
  },
  {
   "cell_type": "markdown",
   "metadata": {},
   "source": [
    "[视频一](https://www.youtube.com/watch?v=HWJEMKWzy-Q)   \n",
    "\n",
    "[视频二](https://www.youtube.com/watch?v=ZAq5BoTes8o)  \n",
    "\n",
    "\n",
    "DP 问题"
   ]
  },
  {
   "cell_type": "code",
   "execution_count": 6,
   "metadata": {
    "collapsed": true
   },
   "outputs": [],
   "source": [
    "class Solution:\n",
    "    def numTrees(self, n):\n",
    "        \"\"\"\n",
    "        :type n: int\n",
    "        :rtype: int\n",
    "        \"\"\"\n",
    "        #i: represent total number\n",
    "        #j: represent left child tree node number\n",
    "        nums = [0] * (n+1)\n",
    "        nums[0],nums[1] = 1,1\n",
    "        \n",
    "        for i in range(2,n+1):\n",
    "            for j in range(i):\n",
    "                nums[i] += nums[j]*nums[i-j-1]\n",
    "        return nums[n]"
   ]
  },
  {
   "cell_type": "code",
   "execution_count": null,
   "metadata": {
    "collapsed": true
   },
   "outputs": [],
   "source": []
  }
 ],
 "metadata": {
  "anaconda-cloud": {},
  "kernelspec": {
   "display_name": "Python [Root]",
   "language": "python",
   "name": "Python [Root]"
  },
  "language_info": {
   "codemirror_mode": {
    "name": "ipython",
    "version": 3
   },
   "file_extension": ".py",
   "mimetype": "text/x-python",
   "name": "python",
   "nbconvert_exporter": "python",
   "pygments_lexer": "ipython3",
   "version": "3.5.5"
  }
 },
 "nbformat": 4,
 "nbformat_minor": 0
}
