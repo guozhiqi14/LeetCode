{
 "cells": [
  {
   "cell_type": "markdown",
   "metadata": {},
   "source": [
    "## [168. Excel Sheet Column Title](https://leetcode.com/problems/excel-sheet-column-title/description/)"
   ]
  },
  {
   "cell_type": "markdown",
   "metadata": {},
   "source": [
    "Given a positive integer, return its corresponding column title as appear in an Excel sheet.\n",
    "\n"
   ]
  },
  {
   "cell_type": "raw",
   "metadata": {},
   "source": [
    "For example:\n",
    "\n",
    "    1 -> A\n",
    "    2 -> B\n",
    "    3 -> C\n",
    "    ...\n",
    "    26 -> Z\n",
    "    27 -> AA\n",
    "    28 -> AB \n",
    "    ...\n",
    "    \n",
    "Example 1:\n",
    "\n",
    "Input: 1\n",
    "Output: \"A\"\n",
    "Example 2:\n",
    "\n",
    "Input: 28\n",
    "Output: \"AB\"\n",
    "Example 3:\n",
    "\n",
    "Input: 701\n",
    "Output: \"ZY\""
   ]
  },
  {
   "cell_type": "markdown",
   "metadata": {},
   "source": [
    "### [题解](https://leetcode.com/problems/excel-sheet-column-title/discuss/51404/Python-solution-with-explanation)"
   ]
  },
  {
   "cell_type": "code",
   "execution_count": 48,
   "metadata": {
    "collapsed": false
   },
   "outputs": [],
   "source": [
    "class Solution:\n",
    "    # @return a string\n",
    "    def convertToTitle(self, num):\n",
    "        res = []\n",
    "        capital = [chr(i) for i in range(ord('A'),ord('Z')+1)]\n",
    "        while num > 0:\n",
    "            res.append(capital[(num-1)%26])\n",
    "            num = (num-1)//26\n",
    "        res = res[::-1]\n",
    "        return ''.join(res)\n",
    "        "
   ]
  },
  {
   "cell_type": "code",
   "execution_count": null,
   "metadata": {
    "collapsed": true
   },
   "outputs": [],
   "source": []
  }
 ],
 "metadata": {
  "kernelspec": {
   "display_name": "Python [Root]",
   "language": "python",
   "name": "Python [Root]"
  },
  "language_info": {
   "codemirror_mode": {
    "name": "ipython",
    "version": 3
   },
   "file_extension": ".py",
   "mimetype": "text/x-python",
   "name": "python",
   "nbconvert_exporter": "python",
   "pygments_lexer": "ipython3",
   "version": "3.5.5"
  }
 },
 "nbformat": 4,
 "nbformat_minor": 0
}
