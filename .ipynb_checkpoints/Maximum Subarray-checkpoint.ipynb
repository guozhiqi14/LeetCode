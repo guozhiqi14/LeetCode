{
 "cells": [
  {
   "cell_type": "markdown",
   "metadata": {},
   "source": [
    "## [Maximum Subarray](https://leetcode.com/problems/maximum-subarray/description/)"
   ]
  },
  {
   "cell_type": "markdown",
   "metadata": {},
   "source": [
    "Given an integer array nums, find the contiguous subarray (containing at least one number) which has the largest sum and return its sum.\n",
    "\n",
    "* Example:\n",
    "\n",
    "Input: [-2,1,-3,4,-1,2,1,-5,4],   \n",
    "\n",
    "Output: 6   \n",
    "\n",
    "Explanation: [4,-1,2,1] has the largest sum = 6."
   ]
  },
  {
   "cell_type": "markdown",
   "metadata": {},
   "source": [
    "## 思路：Dynamic Programming"
   ]
  },
  {
   "cell_type": "markdown",
   "metadata": {},
   "source": [
    "解题思路\n",
    "Kadane Algorithm\n",
    "官方标签为动态规划，这种算不算正经动态规划待定。 \n",
    "可以理解为：\n",
    "\n",
    "dp[i] = dp[i-1] + s[i] (dp[i-1] >= 0)   \n",
    "\n",
    "dp[i] = s[i] (dp[i-1] < 0)\n",
    "\n",
    "\n",
    "一旦前面总和<0,说明前面的加进去也是没用的，所以全部抛弃  \n",
    "\n",
    "\n"
   ]
  },
  {
   "cell_type": "raw",
   "metadata": {},
   "source": [
    "| list    -2 1 -3 4 -1 2 1 -5  4|\n",
    "| current -2 1  0 4  3 5 6  1  5|\n",
    "| m       -2 1  1 4  4 5 6  6  6|"
   ]
  },
  {
   "cell_type": "code",
   "execution_count": 1,
   "metadata": {
    "collapsed": true
   },
   "outputs": [],
   "source": [
    "class Solution:\n",
    "    def maxSubArray(self, nums):\n",
    "        \"\"\"\n",
    "        :type nums: List[int]\n",
    "        :rtype: int\n",
    "        \"\"\"\n",
    "        maximum = -10000\n",
    "        current = 0\n",
    "        \n",
    "        for i in nums:\n",
    "            if current < 0:\n",
    "                current = 0\n",
    "            current += i\n",
    "            maximum = max(maximum,current)\n",
    "        return maximum"
   ]
  },
  {
   "cell_type": "code",
   "execution_count": 2,
   "metadata": {
    "collapsed": false
   },
   "outputs": [
    {
     "data": {
      "text/plain": [
       "6"
      ]
     },
     "execution_count": 2,
     "metadata": {},
     "output_type": "execute_result"
    }
   ],
   "source": [
    "Solution.maxSubArray(_,[-2,1,-3,4,-1,2,1,-5,4]) "
   ]
  },
  {
   "cell_type": "code",
   "execution_count": 12,
   "metadata": {
    "collapsed": true
   },
   "outputs": [],
   "source": [
    "class Solution:\n",
    "    def maxSubArray(self, nums):\n",
    "        \"\"\"\n",
    "        :type nums: List[int]\n",
    "        :rtype: int\n",
    "        \"\"\"\n",
    "        current = 0\n",
    "        maximum = -10000\n",
    "        for i in range(len(nums)):\n",
    "            current += nums[i]\n",
    "            if current < 0:\n",
    "                current = 0\n",
    "            maximum = max(maximum, current)\n",
    "        return maximum"
   ]
  },
  {
   "cell_type": "code",
   "execution_count": 13,
   "metadata": {
    "collapsed": false
   },
   "outputs": [
    {
     "data": {
      "text/plain": [
       "6"
      ]
     },
     "execution_count": 13,
     "metadata": {},
     "output_type": "execute_result"
    }
   ],
   "source": [
    "Solution.maxSubArray(_,[-2,1,-3,4,-1,2,1,-5,4]) "
   ]
  },
  {
   "cell_type": "code",
   "execution_count": null,
   "metadata": {
    "collapsed": true
   },
   "outputs": [],
   "source": []
  }
 ],
 "metadata": {
  "anaconda-cloud": {},
  "kernelspec": {
   "display_name": "Python [Root]",
   "language": "python",
   "name": "Python [Root]"
  },
  "language_info": {
   "codemirror_mode": {
    "name": "ipython",
    "version": 3
   },
   "file_extension": ".py",
   "mimetype": "text/x-python",
   "name": "python",
   "nbconvert_exporter": "python",
   "pygments_lexer": "ipython3",
   "version": "3.5.4"
  }
 },
 "nbformat": 4,
 "nbformat_minor": 0
}
