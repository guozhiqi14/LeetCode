{
 "cells": [
  {
   "cell_type": "markdown",
   "metadata": {},
   "source": [
    "## [23. Merge k Sorted Lists](https://leetcode.com/problems/merge-k-sorted-lists/description/)"
   ]
  },
  {
   "cell_type": "markdown",
   "metadata": {},
   "source": [
    "Merge k sorted linked lists and return it as one sorted list. Analyze and describe its complexity.\n",
    "\n"
   ]
  },
  {
   "cell_type": "raw",
   "metadata": {},
   "source": [
    "Example:\n",
    "\n",
    "Input:\n",
    "[\n",
    "  1->4->5,\n",
    "  1->3->4,\n",
    "  2->6\n",
    "]\n",
    "Output: 1->1->2->3->4->4->5->6"
   ]
  },
  {
   "cell_type": "markdown",
   "metadata": {},
   "source": [
    "## [视频](https://www.youtube.com/watch?v=Uz4fTr34270)"
   ]
  },
  {
   "cell_type": "markdown",
   "metadata": {},
   "source": [
    "### Brutal Sorting"
   ]
  },
  {
   "cell_type": "code",
   "execution_count": 1,
   "metadata": {
    "collapsed": true
   },
   "outputs": [],
   "source": [
    "# Definition for singly-linked list.\n",
    "# class ListNode:\n",
    "#     def __init__(self, x):\n",
    "#         self.val = x\n",
    "#         self.next = None\n",
    "\n",
    "class Solution:\n",
    "    def mergeKLists(self, lists):\n",
    "        \"\"\"\n",
    "        :type lists: List[ListNode]\n",
    "        :rtype: ListNode\n",
    "        \"\"\"\n",
    "        valueList = []\n",
    "        for arr in lists:\n",
    "            cur = arr\n",
    "            while cur:\n",
    "                valueList.append(cur.val)\n",
    "                cur = cur.next\n",
    "        valueList.sort()\n",
    "        dummy = ListNode(None)\n",
    "        cur = dummy\n",
    "        for i in valueList:\n",
    "            cur.next = ListNode(i)\n",
    "            cur = cur.next\n",
    "        return dummy.next"
   ]
  },
  {
   "cell_type": "code",
   "execution_count": null,
   "metadata": {
    "collapsed": true
   },
   "outputs": [],
   "source": []
  },
  {
   "cell_type": "markdown",
   "metadata": {},
   "source": [
    "### Comparison/Pointer"
   ]
  },
  {
   "cell_type": "code",
   "execution_count": 2,
   "metadata": {
    "collapsed": true
   },
   "outputs": [],
   "source": [
    "# Definition for singly-linked list.\n",
    "# class ListNode:\n",
    "#     def __init__(self, x):\n",
    "#         self.val = x\n",
    "#         self.next = None\n",
    "\n",
    "class Solution:\n",
    "    def mergeKLists(self, lists):\n",
    "        \"\"\"\n",
    "        :type lists: List[ListNode]\n",
    "        :rtype: ListNode\n",
    "        \"\"\"\n",
    "        dummy = ListNode(None)\n",
    "        cur = dummy\n",
    "        temp = self.findSmallestNode(lists)\n",
    "        while temp:\n",
    "            cur.next = temp\n",
    "            cur = cur.next\n",
    "            temp = self.findSmallestNode(lists)\n",
    "        return dummy.next\n",
    "    \n",
    "    def findSmallestNode(self,lists):\n",
    "        smallest = float('inf')\n",
    "        return_i = -1\n",
    "        for i in range(len(lists)):\n",
    "            \n",
    "            if not lists[i]:\n",
    "                continue\n",
    "            if lists[i].val < smallest:\n",
    "                smallest = lists[i].val\n",
    "                return_i = i\n",
    "        return_node = None\n",
    "        if return_i != -1:\n",
    "            return_node = lists[return_i]\n",
    "            lists[return_i] = lists[return_i].next\n",
    "        return return_node\n",
    "        "
   ]
  },
  {
   "cell_type": "markdown",
   "metadata": {},
   "source": [
    "### Using Heap   \n",
    "\n",
    "* py3 AC不了 py2可以"
   ]
  },
  {
   "cell_type": "markdown",
   "metadata": {},
   "source": [
    "Porting some old code from Python 2 to Python 3, The problem is indeed that sometimes two entries in the heap have the same val(first item), but a differently structured \"listnode\", once some symbols have been merged.\n",
    "\n",
    " \n",
    "\n",
    "Example: If the heap contains (0.2, ListNode(0.2)) and (0.2, ListNode(0.3)) then Python tries to compare strings and tuples. Python 2 will just \"sort\" the mismatched types by their type name, which does not make much sense, but does not hinder the algorithm, either. Python 3, on the other hand, is more strict and raises an exception.\n",
    "\n",
    " \n",
    "\n",
    "You must to explicitly define all comparison operators for a class in order to make it sortable: ==, !=, <, <=, > and >=:\n",
    "\n",
    "<code>class Node:\n",
    "    # ...\n",
    "\n",
    "    def __lt__(self, other):\n",
    "        # ...\n",
    "\n",
    "    # same for the other operators</code>\n"
   ]
  },
  {
   "cell_type": "code",
   "execution_count": 3,
   "metadata": {
    "collapsed": true
   },
   "outputs": [],
   "source": [
    "# Definition for singly-linked list.\n",
    "# class ListNode:\n",
    "#     def __init__(self, x):\n",
    "#         self.val = x\n",
    "#         self.next = None\n",
    "\n",
    "import heapq\n",
    "class Solution:\n",
    "    def mergeKLists(self, lists):\n",
    "        \"\"\"\n",
    "        :type lists: List[ListNode]\n",
    "        :rtype: ListNode\n",
    "        \"\"\"\n",
    "        heap = []\n",
    "        for arr in lists:\n",
    "            if arr:\n",
    "                heap.append((arr.val,arr))\n",
    "        heapq.heapify(heap)\n",
    "        \n",
    "        dummy = ListNode(None)\n",
    "        cur = dummy\n",
    "        while heap:\n",
    "            value,popNode = heapq.heappop(heap)\n",
    "            cur.next = popNode\n",
    "            cur = cur.next\n",
    "            if popNode.next:\n",
    "                heapq.heappush(heap,(popNode.next.val,popNode.next))\n",
    "        return dummy.next\n",
    "    "
   ]
  },
  {
   "cell_type": "markdown",
   "metadata": {},
   "source": [
    "### [Python3 能work的答案](https://leetcode.com/problems/merge-k-sorted-lists/discuss/181149/Python-heapq-solution)"
   ]
  },
  {
   "cell_type": "code",
   "execution_count": null,
   "metadata": {
    "collapsed": true
   },
   "outputs": [],
   "source": [
    "#Definition for singly-linked list.\n",
    "# class ListNode:\n",
    "#     def __init__(self, x):\n",
    "#         self.val = x\n",
    "#         self.next = None\n",
    "import heapq\n",
    "\n",
    "class MyListNode(ListNode):\n",
    "    def __init__(self, val, nex):\n",
    "        self.val = val\n",
    "        self.next = nex\n",
    "    \n",
    "    def __lt__(self, other):\n",
    "        return self.val < other.val\n",
    "\n",
    "class Solution:\n",
    "    def mergeKLists(self, lists):\n",
    "        \"\"\"\n",
    "        :type lists: List[ListNode]\n",
    "        :rtype: ListNode\n",
    "        \"\"\"\n",
    "        \n",
    "        heap = [MyListNode(l.val, l.next) for l in lists if l is not None]\n",
    "        heapq.heapify(heap)\n",
    "        \n",
    "        res = ListNode(-1)\n",
    "        cur = res\n",
    "        while heap:\n",
    "            smallest = heapq.heappop(heap)\n",
    "            if smallest.next is not None:\n",
    "                heapq.heappush(heap, MyListNode(smallest.next.val, smallest.next.next))\n",
    "            cur.next= smallest\n",
    "            cur = cur.next\n",
    "        cur.next = None\n",
    "        return res.next"
   ]
  }
 ],
 "metadata": {
  "kernelspec": {
   "display_name": "Python [Root]",
   "language": "python",
   "name": "Python [Root]"
  },
  "language_info": {
   "codemirror_mode": {
    "name": "ipython",
    "version": 3
   },
   "file_extension": ".py",
   "mimetype": "text/x-python",
   "name": "python",
   "nbconvert_exporter": "python",
   "pygments_lexer": "ipython3",
   "version": "3.5.5"
  }
 },
 "nbformat": 4,
 "nbformat_minor": 0
}
