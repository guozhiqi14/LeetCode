{
 "cells": [
  {
   "cell_type": "markdown",
   "metadata": {},
   "source": [
    "## [298. Binary Tree Longest Consecutive Sequence](https://leetcode.com/problems/binary-tree-longest-consecutive-sequence/description/)"
   ]
  },
  {
   "cell_type": "markdown",
   "metadata": {},
   "source": [
    "Given a binary tree, find the length of the longest consecutive sequence path.\n",
    "\n",
    "The path refers to any sequence of nodes from some starting node to any node in the tree along the parent-child connections. The longest consecutive path need to be from parent to child (cannot be the reverse)."
   ]
  },
  {
   "cell_type": "raw",
   "metadata": {},
   "source": [
    "Example 1:\n",
    "\n",
    "Input:\n",
    "\n",
    "   1\n",
    "    \\\n",
    "     3\n",
    "    / \\\n",
    "   2   4\n",
    "        \\\n",
    "         5\n",
    "\n",
    "Output: 3\n",
    "\n",
    "Explanation: Longest consecutive sequence path is 3-4-5, so return 3.\n",
    "\n",
    "Example 2:\n",
    "\n",
    "Input:\n",
    "\n",
    "   2\n",
    "    \\\n",
    "     3\n",
    "    / \n",
    "   2    \n",
    "  / \n",
    " 1\n",
    " \n",
    "\n",
    "Output: 2 \n",
    "\n",
    "Explanation: Longest consecutive sequence path is 2-3, not 3-2-1, so return 2."
   ]
  },
  {
   "cell_type": "markdown",
   "metadata": {},
   "source": [
    "### [思路](https://www.jianshu.com/p/ebabdeed9bca)"
   ]
  },
  {
   "cell_type": "code",
   "execution_count": 1,
   "metadata": {
    "collapsed": true
   },
   "outputs": [],
   "source": [
    "# Definition for a binary tree node.\n",
    "# class TreeNode:\n",
    "#     def __init__(self, x):\n",
    "#         self.val = x\n",
    "#         self.left = None\n",
    "#         self.right = None\n",
    "\n",
    "class Solution(object):\n",
    "    def longestConsecutive(self, root):\n",
    "        \"\"\"\n",
    "        :type root: TreeNode\n",
    "        :rtype: int\n",
    "        \"\"\"\n",
    "        if not root:\n",
    "            return 0\n",
    "\n",
    "        self.result = 0\n",
    "        self.helper(root, 1)\n",
    "\n",
    "        return self.result\n",
    "\n",
    "    def helper(self, root, curLen):\n",
    "        self.result = curLen if curLen > self.result else self.result\n",
    "        if root.left:\n",
    "            if root.left.val == root.val + 1:\n",
    "                self.helper(root.left, curLen + 1)\n",
    "            else:\n",
    "                self.helper(root.left, 1)\n",
    "        if root.right:\n",
    "            if root.right.val == root.val + 1:\n",
    "                self.helper(root.right, curLen + 1)\n",
    "            else:\n",
    "                self.helper(root.right, 1)\n",
    "\n",
    "            "
   ]
  },
  {
   "cell_type": "code",
   "execution_count": null,
   "metadata": {
    "collapsed": true
   },
   "outputs": [],
   "source": []
  }
 ],
 "metadata": {
  "kernelspec": {
   "display_name": "Python [Root]",
   "language": "python",
   "name": "Python [Root]"
  },
  "language_info": {
   "codemirror_mode": {
    "name": "ipython",
    "version": 3
   },
   "file_extension": ".py",
   "mimetype": "text/x-python",
   "name": "python",
   "nbconvert_exporter": "python",
   "pygments_lexer": "ipython3",
   "version": "3.5.5"
  }
 },
 "nbformat": 4,
 "nbformat_minor": 0
}
