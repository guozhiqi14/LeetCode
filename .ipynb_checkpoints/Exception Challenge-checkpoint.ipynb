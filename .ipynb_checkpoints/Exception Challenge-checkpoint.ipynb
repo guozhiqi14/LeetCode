{
 "cells": [
  {
   "cell_type": "code",
   "execution_count": 8,
   "metadata": {
    "collapsed": false
   },
   "outputs": [
    {
     "name": "stdout",
     "output_type": "stream",
     "text": [
      "0\n",
      "Exc 3\n"
     ]
    }
   ],
   "source": [
    "def foo(name, i):\n",
    "    try:\n",
    "        i = i - 5\n",
    "        print(i)\n",
    "    except:\n",
    "        print(\"Exc 1\")\n",
    "    z = 15 / i\n",
    "    try:\n",
    "        with open(name, \"w\") as fd:\n",
    "            fd.write(z)\n",
    "    except:\n",
    "        print(\"Exc 2\")\n",
    "    \n",
    "\n",
    "def bar(name, i):\n",
    "    foo(name, i)\n",
    "    \n",
    "\n",
    "def main():\n",
    "    try:\n",
    "        bar(\"file1.txt\", 5)\n",
    "        bar(\"file2.txt\", 10)\n",
    "    except:\n",
    "        print(\"Exc 3\")\n",
    "    \n",
    "main()\n",
    "\n"
   ]
  },
  {
   "cell_type": "code",
   "execution_count": 6,
   "metadata": {
    "collapsed": true
   },
   "outputs": [],
   "source": [
    "def foo( i):\n",
    "    try:\n",
    "        i = i - 5\n",
    "        print(i)\n",
    "    except:\n",
    "        print(\"Exc 1\")\n",
    "    z = 15 / i\n",
    "    try:\n",
    "        with open(name, \"w\") as fd:\n",
    "            fd.write(z)\n",
    "    except:\n",
    "        print(\"Exc 2\")"
   ]
  },
  {
   "cell_type": "code",
   "execution_count": null,
   "metadata": {
    "collapsed": true
   },
   "outputs": [],
   "source": []
  }
 ],
 "metadata": {
  "anaconda-cloud": {},
  "kernelspec": {
   "display_name": "Python [Root]",
   "language": "python",
   "name": "Python [Root]"
  },
  "language_info": {
   "codemirror_mode": {
    "name": "ipython",
    "version": 3
   },
   "file_extension": ".py",
   "mimetype": "text/x-python",
   "name": "python",
   "nbconvert_exporter": "python",
   "pygments_lexer": "ipython3",
   "version": "3.5.4"
  }
 },
 "nbformat": 4,
 "nbformat_minor": 0
}
