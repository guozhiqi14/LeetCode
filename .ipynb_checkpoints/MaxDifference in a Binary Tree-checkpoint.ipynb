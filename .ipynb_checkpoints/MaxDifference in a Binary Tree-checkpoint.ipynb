{
 "cells": [
  {
   "cell_type": "markdown",
   "metadata": {},
   "source": [
    "### Find the node with the max difference in the total number of descendents in its left subtree and right subtree."
   ]
  },
  {
   "cell_type": "code",
   "execution_count": 1,
   "metadata": {
    "collapsed": true
   },
   "outputs": [],
   "source": [
    "maxDiff = -1\n",
    "res = None\n",
    "\n",
    "def nodeDiff(root):\n",
    "    if not root:\n",
    "        return 0\n",
    "    left = nodeDiff(root.left)\n",
    "    right = nodeDiff(root.right)\n",
    "    \n",
    "    global maxDiff\n",
    "    global res\n",
    "    \n",
    "    if abs(left-right) > maxDiff:\n",
    "        maxDiff = abs(left-right)\n",
    "        res = root\n",
    "    return left+right+1"
   ]
  },
  {
   "cell_type": "code",
   "execution_count": null,
   "metadata": {
    "collapsed": true
   },
   "outputs": [],
   "source": []
  }
 ],
 "metadata": {
  "kernelspec": {
   "display_name": "Python [Root]",
   "language": "python",
   "name": "Python [Root]"
  },
  "language_info": {
   "codemirror_mode": {
    "name": "ipython",
    "version": 3
   },
   "file_extension": ".py",
   "mimetype": "text/x-python",
   "name": "python",
   "nbconvert_exporter": "python",
   "pygments_lexer": "ipython3",
   "version": "3.5.5"
  }
 },
 "nbformat": 4,
 "nbformat_minor": 0
}
