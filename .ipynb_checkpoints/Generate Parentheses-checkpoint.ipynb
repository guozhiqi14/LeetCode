{
 "cells": [
  {
   "cell_type": "markdown",
   "metadata": {},
   "source": [
    "## [Generate Parentheses](https://leetcode.com/explore/interview/card/top-interview-questions-medium/109/backtracking/794/)"
   ]
  },
  {
   "cell_type": "markdown",
   "metadata": {},
   "source": [
    "Given n pairs of parentheses, write a function to generate all combinations of well-formed parentheses.\n",
    "\n",
    "For example, given n = 3, a solution set is:"
   ]
  },
  {
   "cell_type": "raw",
   "metadata": {},
   "source": [
    "[\n",
    "  \"((()))\",\n",
    "  \"(()())\",\n",
    "  \"(())()\",\n",
    "  \"()(())\",\n",
    "  \"()()()\"\n",
    "]"
   ]
  },
  {
   "cell_type": "markdown",
   "metadata": {},
   "source": [
    "### [视频](https://www.youtube.com/watch?v=PCb1Ca_j6OU)"
   ]
  },
  {
   "cell_type": "code",
   "execution_count": 21,
   "metadata": {
    "collapsed": true
   },
   "outputs": [],
   "source": [
    "class Solution:\n",
    "    def generateParenthesis(self, n):\n",
    "        \"\"\"\n",
    "        :type n: int\n",
    "        :rtype: List[str]\n",
    "        \"\"\"\n",
    "        ans = []\n",
    "        S = ''\n",
    "        \n",
    "        def dfs(l,r,S):\n",
    "            if  len(S) == 2 * n:\n",
    "                ans.append(S)\n",
    "                return\n",
    "            if l < n:\n",
    "                # S += '('\n",
    "                dfs(l+1,r,S+ '(')\n",
    "            if r < l:\n",
    "                # S += ')'\n",
    "                dfs(l,r+1,S+ ')')\n",
    "                \n",
    "                \n",
    "        dfs(0,0,S)\n",
    "        return ans\n",
    "    \n",
    "        "
   ]
  },
  {
   "cell_type": "code",
   "execution_count": 22,
   "metadata": {
    "collapsed": true
   },
   "outputs": [],
   "source": [
    "class Solution:\n",
    "    def generateParenthesis(self, n):\n",
    "        \"\"\"\n",
    "        :type n: int\n",
    "        :rtype: List[str]\n",
    "        \"\"\"\n",
    "        self.ans = []\n",
    "        self.dfs(0,0,n,'')\n",
    "        return self.ans\n",
    "    def dfs(self,l,r,n,S):\n",
    "        if len(S) == n*2:\n",
    "            self.ans.append(S)\n",
    "            return\n",
    "        if l < n:\n",
    "            self.dfs(l+1,r,n,S+'(')\n",
    "        if r < l:\n",
    "            self.dfs(l,r+1,n,S+')')"
   ]
  },
  {
   "cell_type": "code",
   "execution_count": null,
   "metadata": {
    "collapsed": true
   },
   "outputs": [],
   "source": []
  }
 ],
 "metadata": {
  "kernelspec": {
   "display_name": "Python [Root]",
   "language": "python",
   "name": "Python [Root]"
  },
  "language_info": {
   "codemirror_mode": {
    "name": "ipython",
    "version": 3
   },
   "file_extension": ".py",
   "mimetype": "text/x-python",
   "name": "python",
   "nbconvert_exporter": "python",
   "pygments_lexer": "ipython3",
   "version": "3.5.5"
  }
 },
 "nbformat": 4,
 "nbformat_minor": 0
}
