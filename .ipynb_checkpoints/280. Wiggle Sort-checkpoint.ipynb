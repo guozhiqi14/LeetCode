{
 "cells": [
  {
   "cell_type": "markdown",
   "metadata": {},
   "source": [
    "## [280. Wiggle Sort](https://leetcode.com/problems/wiggle-sort/description/)"
   ]
  },
  {
   "cell_type": "markdown",
   "metadata": {},
   "source": [
    "Given an unsorted array nums, reorder it in-place such that nums[0] <= nums[1] >= nums[2] <= nums[3]....\n",
    "\n"
   ]
  },
  {
   "cell_type": "raw",
   "metadata": {},
   "source": [
    "Example:\n",
    "\n",
    "Input: nums = [3,5,2,1,6,4]\n",
    "Output: One possible answer is [3,5,1,6,2,4]\n"
   ]
  },
  {
   "cell_type": "code",
   "execution_count": 8,
   "metadata": {
    "collapsed": true
   },
   "outputs": [],
   "source": [
    "class Solution:\n",
    "    def wiggleSort(self, nums):\n",
    "        \"\"\"\n",
    "        :type nums: List[int]\n",
    "        :rtype: void Do not return anything, modify nums in-place instead.\n",
    "        \"\"\"\n",
    "        if not nums or len(nums) == 1:\n",
    "            return \n",
    "        #selection sort 会超时\n",
    "        # for i in range(len(nums)):\n",
    "        #     maxIndex=i\n",
    "        #     for j in range(i+1,len(nums)):\n",
    "        #         if nums[j] > nums[maxIndex]:\n",
    "        #             maxIndex = j\n",
    "        #     nums[i],nums[maxIndex] = nums[maxIndex],nums[i]\n",
    "        \n",
    "        nums.sort(reverse = True)\n",
    "       \n",
    "        for j in range(0,len(nums)-1,2):\n",
    "            nums[j],nums[j+1] = nums[j+1],nums[j]\n",
    "        "
   ]
  },
  {
   "cell_type": "code",
   "execution_count": null,
   "metadata": {
    "collapsed": true
   },
   "outputs": [],
   "source": []
  },
  {
   "cell_type": "markdown",
   "metadata": {},
   "source": [
    "### [One pass](http://www.cnblogs.com/grandyang/p/5177285.html)\n",
    "\n",
    "这道题还有一种O(n)的解法，根据题目要求的nums[0] <= nums[1] >= nums[2] <= nums[3]....，我们可以总结出如下规律：\n",
    "\n",
    "当i为奇数时，nums[i] >= nums[i - 1]\n",
    "\n",
    "当i为偶数时，nums[i] <= nums[i - 1]\n",
    "\n",
    "那么我们只要对每个数字，根据其奇偶性，跟其对应的条件比较，如果不符合就和前面的数交换位置即可，参见代码如下："
   ]
  },
  {
   "cell_type": "code",
   "execution_count": 17,
   "metadata": {
    "collapsed": true
   },
   "outputs": [],
   "source": [
    "class Solution:\n",
    "    def wiggleSort(self, nums):\n",
    "        \"\"\"\n",
    "        :type nums: List[int]\n",
    "        :rtype: void Do not return anything, modify nums in-place instead.\n",
    "        \"\"\"\n",
    "        if not nums or len(nums) == 1:\n",
    "            return \n",
    "        #selection sort 会超时\n",
    "        # for i in range(len(nums)):\n",
    "        #     maxIndex=i\n",
    "        #     for j in range(i+1,len(nums)):\n",
    "        #         if nums[j] > nums[maxIndex]:\n",
    "        #             maxIndex = j\n",
    "        #     nums[i],nums[maxIndex] = nums[maxIndex],nums[i]\n",
    "        \n",
    "        for i in range(1,len(nums)):\n",
    "            #当i为偶数时，nums[i] <= nums[i - 1]\n",
    "            if i % 2 == 0:\n",
    "                if nums[i] > nums[i - 1]:\n",
    "                    nums[i],nums[i-1] = nums[i-1],nums[i]\n",
    "            else:\n",
    "                #当i为奇数时，nums[i] >= nums[i - 1]\n",
    "                if nums[i] < nums[i-1]:\n",
    "                    nums[i],nums[i-1] = nums[i-1],nums[i]\n",
    "            print(nums)"
   ]
  },
  {
   "cell_type": "code",
   "execution_count": 18,
   "metadata": {
    "collapsed": false
   },
   "outputs": [
    {
     "name": "stdout",
     "output_type": "stream",
     "text": [
      "[1, 2, 3, 4, 5, 6]\n",
      "[1, 3, 2, 4, 5, 6]\n",
      "[1, 3, 2, 4, 5, 6]\n",
      "[1, 3, 2, 5, 4, 6]\n",
      "[1, 3, 2, 5, 4, 6]\n"
     ]
    }
   ],
   "source": [
    "nums = [1,2,3,4,5,6]\n",
    "s = Solution()\n",
    "s.wiggleSort(nums)"
   ]
  },
  {
   "cell_type": "code",
   "execution_count": null,
   "metadata": {
    "collapsed": true
   },
   "outputs": [],
   "source": []
  }
 ],
 "metadata": {
  "kernelspec": {
   "display_name": "Python [Root]",
   "language": "python",
   "name": "Python [Root]"
  },
  "language_info": {
   "codemirror_mode": {
    "name": "ipython",
    "version": 3
   },
   "file_extension": ".py",
   "mimetype": "text/x-python",
   "name": "python",
   "nbconvert_exporter": "python",
   "pygments_lexer": "ipython3",
   "version": "3.5.5"
  }
 },
 "nbformat": 4,
 "nbformat_minor": 0
}
