{
 "cells": [
  {
   "cell_type": "markdown",
   "metadata": {},
   "source": [
    "## [121 Best Time to Buy and Sell Stock](https://leetcode.com/problems/best-time-to-buy-and-sell-stock/description/)\n"
   ]
  },
  {
   "cell_type": "markdown",
   "metadata": {},
   "source": [
    "Say you have an array for which the ith element is the price of a given stock on day i.\n",
    "\n",
    "If you were only permitted to complete at most one transaction (i.e., buy one and sell one share of the stock), design an algorithm to find the maximum profit.\n",
    "\n",
    "Note that you cannot sell a stock before you buy one."
   ]
  },
  {
   "cell_type": "raw",
   "metadata": {},
   "source": [
    "Example 1:\n",
    "\n",
    "Input: [7,1,5,3,6,4]\n",
    "Output: 5\n",
    "Explanation: Buy on day 2 (price = 1) and sell on day 5 (price = 6), profit = 6-1 = 5.\n",
    "             Not 7-1 = 6, as selling price needs to be larger than buying price.\n",
    "Example 2:\n",
    "\n",
    "Input: [7,6,4,3,1]\n",
    "Output: 0\n",
    "Explanation: In this case, no transaction is done, i.e. max profit = 0."
   ]
  },
  {
   "cell_type": "markdown",
   "metadata": {},
   "source": [
    "## [视频](https://www.youtube.com/watch?v=8pVhUpF1INw&t=944s)"
   ]
  },
  {
   "cell_type": "raw",
   "metadata": {},
   "source": [
    "这道题非常直观也非常简单。想要通过一次买卖得到的利润，就是要找到一组 i 和 j，使得 prices[j] - prices[i] 最大，并且满足 i < j。因为第二个约束条件，我们不会傻到找一个最大值和最小值并且返回它们的差。\n",
    "\n",
    "假设 f[i] 为到第 i 天为止可以拿到的最大利润。对于第 i 天，有两种选择，即在当天卖掉股票，或者在第 i 天之前已经卖掉了。那么 f[i] 就是这两种选择中的最大值。如果在第 i 天卖掉股票，那么问题就是在哪天买股票，只要维护一个到第 i 天为止股价的最小值 minPrice 就可以了，此时 f[i] = prices[i] - minPrice；如果在第 i 天股票已经卖出，则 f[i] = f[i-1]。\n",
    "\n",
    "综上所述，令 f[i] 表示到第 i 天为止可以拿到的最大利润。状态转移方程为 f[i] = max(f[i-1], prices[i] - minPrice)，其中 minPrice 表示到第 i 天为止的最低股价，并且有 minPrice = min(minPrice, prices[i])。边界条件为 f[0] = 0, minPrice = prices[0]。最终结果为 f[n-1]。时间复杂度与空间复杂度均为 O(n)。\n",
    "\n",
    "观察状态方程可以发现，f[i] 的值只与 f 数组中的 f[i-1] 有关。也就是说，在计算 f[i] 时，只要保留 f[i-1] 的值就好了，其他的值都可以不保存。据此可以优化空间复杂度。\n",
    "\n",
    "令 profit 表示到第 i 天为止可以拿到的最大利润。状态转移方程为 profit = max(profit, prices[i] - minPrice)。profit 初始化为 0。最终结果即保存在 profit 中。时间复杂度为 O(n)，空间复杂度为 O(1)。"
   ]
  },
  {
   "cell_type": "code",
   "execution_count": 15,
   "metadata": {
    "collapsed": true
   },
   "outputs": [],
   "source": [
    "class Solution:\n",
    "    def maxProfit(self, prices):\n",
    "        \"\"\"\n",
    "        :type prices: List[int]\n",
    "        :rtype: int\n",
    "        \"\"\"\n",
    "        if not prices:\n",
    "            return 0\n",
    "        \n",
    "        maxprofit = 0\n",
    "        lowbuy = prices[0]\n",
    "        \n",
    "        for i in range(len(prices)):\n",
    "            maxprofit = max(maxprofit,prices[i]-lowbuy)\n",
    "            lowbuy = min(prices[i],lowbuy) \n",
    "            #maxprofit = max(maxprofit,prices[i]-lowbuy)\n",
    "        return maxprofit"
   ]
  },
  {
   "cell_type": "code",
   "execution_count": 16,
   "metadata": {
    "collapsed": false
   },
   "outputs": [
    {
     "data": {
      "text/plain": [
       "5"
      ]
     },
     "execution_count": 16,
     "metadata": {},
     "output_type": "execute_result"
    }
   ],
   "source": [
    "Solution.maxProfit(_,[7,1,5,3,6,4]) "
   ]
  },
  {
   "cell_type": "code",
   "execution_count": 17,
   "metadata": {
    "collapsed": false
   },
   "outputs": [
    {
     "data": {
      "text/plain": [
       "0"
      ]
     },
     "execution_count": 17,
     "metadata": {},
     "output_type": "execute_result"
    }
   ],
   "source": [
    "Solution.maxProfit(_,[7,6,4,3,1]) "
   ]
  },
  {
   "cell_type": "code",
   "execution_count": 31,
   "metadata": {
    "collapsed": true
   },
   "outputs": [],
   "source": [
    "class Solution:\n",
    "    def maxProfit(self, prices):\n",
    "        \"\"\"\n",
    "        :type prices: List[int]\n",
    "        :rtype: int\n",
    "        \"\"\"\n",
    "        \n",
    "        maxprofit = 0\n",
    "        lowbuy = prices[0]\n",
    "        if not prices:\n",
    "            return 0 \n",
    "        for i in range(len(prices)):\n",
    "            #maxprofit = max(maxprofit, prices[i] - lowbuy)\n",
    "            lowbuy = min(lowbuy,prices[i])\n",
    "            maxprofit = max(maxprofit, prices[i] - lowbuy)\n",
    "            \n",
    "        return maxprofit"
   ]
  },
  {
   "cell_type": "code",
   "execution_count": 32,
   "metadata": {
    "collapsed": false
   },
   "outputs": [
    {
     "data": {
      "text/plain": [
       "5"
      ]
     },
     "execution_count": 32,
     "metadata": {},
     "output_type": "execute_result"
    }
   ],
   "source": [
    "Solution.maxProfit(_,[7,1,5,3,6,4]) "
   ]
  },
  {
   "cell_type": "code",
   "execution_count": null,
   "metadata": {
    "collapsed": true
   },
   "outputs": [],
   "source": []
  }
 ],
 "metadata": {
  "kernelspec": {
   "display_name": "Python [Root]",
   "language": "python",
   "name": "Python [Root]"
  },
  "language_info": {
   "codemirror_mode": {
    "name": "ipython",
    "version": 3
   },
   "file_extension": ".py",
   "mimetype": "text/x-python",
   "name": "python",
   "nbconvert_exporter": "python",
   "pygments_lexer": "ipython3",
   "version": "3.5.5"
  }
 },
 "nbformat": 4,
 "nbformat_minor": 0
}
