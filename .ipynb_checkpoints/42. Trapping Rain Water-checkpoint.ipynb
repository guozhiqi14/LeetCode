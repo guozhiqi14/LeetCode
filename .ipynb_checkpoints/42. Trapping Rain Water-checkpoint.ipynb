{
 "cells": [
  {
   "cell_type": "markdown",
   "metadata": {},
   "source": [
    "## [42. Trapping Rain Water](https://leetcode.com/problems/trapping-rain-water/description/)"
   ]
  },
  {
   "cell_type": "markdown",
   "metadata": {},
   "source": [
    "Given n non-negative integers representing an elevation map where the width of each bar is 1, compute how much water it is able to trap after raining."
   ]
  },
  {
   "cell_type": "markdown",
   "metadata": {},
   "source": [
    "The above elevation map is represented by array [0,1,0,2,1,0,1,3,2,1,2,1]. In this case, 6 units of rain water (blue section) are being trapped. Thanks Marcos for contributing this image!"
   ]
  },
  {
   "cell_type": "raw",
   "metadata": {},
   "source": [
    "Example:\n",
    "\n",
    "Input: [0,1,0,2,1,0,1,3,2,1,2,1]\n",
    "Output: 6"
   ]
  },
  {
   "cell_type": "markdown",
   "metadata": {},
   "source": [
    "### [视频](https://www.youtube.com/watch?v=8BHqSdwyODs)"
   ]
  },
  {
   "cell_type": "markdown",
   "metadata": {},
   "source": [
    "### Brutal Force   \n",
    "TLE"
   ]
  },
  {
   "cell_type": "code",
   "execution_count": 1,
   "metadata": {
    "collapsed": true
   },
   "outputs": [],
   "source": [
    "class Solution:\n",
    "    def trap(self, height):\n",
    "        \"\"\"\n",
    "        :type height: List[int]\n",
    "        :rtype: int\n",
    "        \"\"\"\n",
    "        sum = 0\n",
    "        for i in range(len(height)):\n",
    "            left_most,right_most = 0,0\n",
    "            for j in range(0,i):\n",
    "                left_most = max(left_most,height[j])\n",
    "            for j in range(i+1,len(height)):\n",
    "                right_most = max(right_most,height[j])\n",
    "            if min(left_most,right_most) - height[i] > 0:\n",
    "                sum += min(left_most,right_most) - height[i]\n",
    "        return sum"
   ]
  },
  {
   "cell_type": "markdown",
   "metadata": {},
   "source": [
    "### Two Pointer"
   ]
  },
  {
   "cell_type": "code",
   "execution_count": 2,
   "metadata": {
    "collapsed": true
   },
   "outputs": [],
   "source": [
    "class Solution:\n",
    "    def trap(self, height):\n",
    "        \"\"\"\n",
    "        :type height: List[int]\n",
    "        :rtype: int\n",
    "        \"\"\"\n",
    "        water,maxLeft,maxRight = 0,0,0\n",
    "        l,r = 0,len(height)-1\n",
    "        \n",
    "        while l < r:\n",
    "            maxLeft = max(maxLeft,height[l])\n",
    "            maxRight = max(maxRight,height[r]) \n",
    "            if maxLeft < maxRight:\n",
    "                # if maxLeft - height[l] > 0:\n",
    "                water += maxLeft - height[l]  \n",
    "                l += 1\n",
    "            else:\n",
    "                # if maxRight - height[r] > 0:\n",
    "                water += maxRight - height[r] \n",
    "                r -= 1\n",
    "        return water\n",
    "        "
   ]
  },
  {
   "cell_type": "code",
   "execution_count": null,
   "metadata": {
    "collapsed": true
   },
   "outputs": [],
   "source": []
  }
 ],
 "metadata": {
  "kernelspec": {
   "display_name": "Python [Root]",
   "language": "python",
   "name": "Python [Root]"
  },
  "language_info": {
   "codemirror_mode": {
    "name": "ipython",
    "version": 3
   },
   "file_extension": ".py",
   "mimetype": "text/x-python",
   "name": "python",
   "nbconvert_exporter": "python",
   "pygments_lexer": "ipython3",
   "version": "3.5.5"
  }
 },
 "nbformat": 4,
 "nbformat_minor": 0
}
