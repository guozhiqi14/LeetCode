{
 "cells": [
  {
   "cell_type": "markdown",
   "metadata": {},
   "source": [
    "## [716. Max Stack](https://leetcode.com/problems/max-stack/description/)"
   ]
  },
  {
   "cell_type": "markdown",
   "metadata": {},
   "source": [
    "Design a max stack that supports push, pop, top, peekMax and popMax.\n",
    "\n",
    "1. push(x) -- Push element x onto stack.\n",
    "2. pop() -- Remove the element on top of the stack and return it.\n",
    "3. top() -- Get the element on the top.\n",
    "4. peekMax() -- Retrieve the maximum element in the stack.\n",
    "5. popMax() -- Retrieve the maximum element in the stack, and remove it. If you find more than one maximum elements, only remove the top-most one."
   ]
  },
  {
   "cell_type": "raw",
   "metadata": {},
   "source": [
    "Example 1:\n",
    "MaxStack stack = new MaxStack();\n",
    "stack.push(5); \n",
    "stack.push(1);\n",
    "stack.push(5);\n",
    "stack.top(); -> 5\n",
    "stack.popMax(); -> 5\n",
    "stack.top(); -> 1\n",
    "stack.peekMax(); -> 5\n",
    "stack.pop(); -> 1\n",
    "stack.top(); -> 5"
   ]
  },
  {
   "cell_type": "markdown",
   "metadata": {},
   "source": [
    "Note:\n",
    "1. -1e7 <= x <= 1e7\n",
    "2. Number of operations won't exceed 10000.\n",
    "3. The last four operations won't be called when stack is empty."
   ]
  },
  {
   "cell_type": "markdown",
   "metadata": {},
   "source": [
    "### [思路](https://zhuanlan.zhihu.com/p/46553913)"
   ]
  },
  {
   "cell_type": "code",
   "execution_count": 2,
   "metadata": {
    "collapsed": true
   },
   "outputs": [],
   "source": [
    "class MaxStack(object):\n",
    "\n",
    "    def __init__(self):\n",
    "        \"\"\"\n",
    "        initialize your data structure here.\n",
    "        \"\"\"\n",
    "        self.stack = []\n",
    "        self.maxstack = []\n",
    "\n",
    "    def push(self, x):\n",
    "        \"\"\"\n",
    "        :type x: int\n",
    "        :rtype: void\n",
    "        \"\"\"\n",
    "        self.stack.append(x)\n",
    "        if not self.maxstack:\n",
    "            self.maxstack.append(x)\n",
    "        else:\n",
    "            self.maxstack.append(max(x,self.maxstack[-1]))\n",
    "\n",
    "    def pop(self):\n",
    "        \"\"\"\n",
    "        :rtype: int\n",
    "        \"\"\"\n",
    "        self.maxstack.pop()\n",
    "        return self.stack.pop()\n",
    "\n",
    "    def top(self):\n",
    "        \"\"\"\n",
    "        :rtype: int\n",
    "        \"\"\"\n",
    "        return self.stack[-1]\n",
    "\n",
    "    def peekMax(self):\n",
    "        \"\"\"\n",
    "        :rtype: int\n",
    "        \"\"\"\n",
    "        return self.maxstack[-1]\n",
    "\n",
    "    def popMax(self):\n",
    "        \"\"\"\n",
    "        :rtype: int\n",
    "        \"\"\"\n",
    "        temp = []\n",
    "        while self.maxstack[-1] != self.stack[-1]:\n",
    "            self.maxstack.pop()\n",
    "            temp.append(self.stack.pop())\n",
    "        self.maxstack.pop()\n",
    "        maxEle = self.stack.pop()\n",
    "        while temp:\n",
    "            self.push(temp.pop())\n",
    "        return maxEle\n",
    "\n",
    "# Your MaxStack object will be instantiated and called as such:\n",
    "# obj = MaxStack()\n",
    "# obj.push(x)\n",
    "# param_2 = obj.pop()\n",
    "# param_3 = obj.top()\n",
    "# param_4 = obj.peekMax()\n",
    "# param_5 = obj.popMax()"
   ]
  },
  {
   "cell_type": "code",
   "execution_count": null,
   "metadata": {
    "collapsed": true
   },
   "outputs": [],
   "source": []
  }
 ],
 "metadata": {
  "kernelspec": {
   "display_name": "Python [Root]",
   "language": "python",
   "name": "Python [Root]"
  },
  "language_info": {
   "codemirror_mode": {
    "name": "ipython",
    "version": 3
   },
   "file_extension": ".py",
   "mimetype": "text/x-python",
   "name": "python",
   "nbconvert_exporter": "python",
   "pygments_lexer": "ipython3",
   "version": "3.5.5"
  }
 },
 "nbformat": 4,
 "nbformat_minor": 0
}
