{
 "cells": [
  {
   "cell_type": "markdown",
   "metadata": {},
   "source": [
    "## [266. Palindrome Permutation](https://leetcode.com/problems/palindrome-permutation/description/)"
   ]
  },
  {
   "cell_type": "markdown",
   "metadata": {},
   "source": [
    "Given a string, determine if a permutation of the string could form a palindrome.\n",
    "\n"
   ]
  },
  {
   "cell_type": "raw",
   "metadata": {},
   "source": [
    "Example 1:\n",
    "\n",
    "Input: \"code\"\n",
    "Output: false\n",
    "    \n",
    "Example 2:\n",
    "\n",
    "Input: \"aab\"\n",
    "Output: true\n",
    "    \n",
    "Example 3:\n",
    "\n",
    "Input: \"carerac\"\n",
    "Output: true"
   ]
  },
  {
   "cell_type": "code",
   "execution_count": 1,
   "metadata": {
    "collapsed": true
   },
   "outputs": [],
   "source": [
    "class Solution:\n",
    "    def canPermutePalindrome(self, s):\n",
    "        \"\"\"\n",
    "        :type s: str\n",
    "        :rtype: bool\n",
    "        \"\"\"\n",
    "        hashMap = {}\n",
    "        for i in s:\n",
    "            if i not in hashMap:\n",
    "                hashMap[i] = 1\n",
    "            else:\n",
    "                hashMap[i] += 1\n",
    "        count = 0\n",
    "        for k,v in hashMap.items():\n",
    "            if v % 2 != 0:\n",
    "                 count += 1\n",
    "        if count <= 1:\n",
    "            return True\n",
    "        return False\n",
    "        "
   ]
  },
  {
   "cell_type": "code",
   "execution_count": null,
   "metadata": {
    "collapsed": true
   },
   "outputs": [],
   "source": []
  }
 ],
 "metadata": {
  "kernelspec": {
   "display_name": "Python [Root]",
   "language": "python",
   "name": "Python [Root]"
  },
  "language_info": {
   "codemirror_mode": {
    "name": "ipython",
    "version": 3
   },
   "file_extension": ".py",
   "mimetype": "text/x-python",
   "name": "python",
   "nbconvert_exporter": "python",
   "pygments_lexer": "ipython3",
   "version": "3.5.5"
  }
 },
 "nbformat": 4,
 "nbformat_minor": 0
}
