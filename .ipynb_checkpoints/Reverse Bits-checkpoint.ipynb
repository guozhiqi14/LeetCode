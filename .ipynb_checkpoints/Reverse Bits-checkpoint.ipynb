{
 "cells": [
  {
   "cell_type": "markdown",
   "metadata": {},
   "source": [
    "## [Reverse Bits](https://leetcode.com/explore/interview/card/top-interview-questions-easy/99/others/648/)"
   ]
  },
  {
   "cell_type": "markdown",
   "metadata": {},
   "source": [
    "Reverse bits of a given 32 bits unsigned integer.\n",
    "\n"
   ]
  },
  {
   "cell_type": "raw",
   "metadata": {},
   "source": [
    "Example:\n",
    "\n",
    "Input: 43261596\n",
    "Output: 964176192\n",
    "Explanation: 43261596 represented in binary as 00000010100101000001111010011100, \n",
    "             return 964176192 represented in binary as 00111001011110000010100101000000."
   ]
  },
  {
   "cell_type": "markdown",
   "metadata": {},
   "source": [
    "## [易懂解法](https://blog.csdn.net/LiuY_ang/article/details/76696545)"
   ]
  },
  {
   "cell_type": "code",
   "execution_count": 7,
   "metadata": {
    "collapsed": true
   },
   "outputs": [],
   "source": [
    "class Solution:\n",
    "    # @param n, an integer\n",
    "    # @return an integer\n",
    "    def reverseBits(self, n):\n",
    "        ns=bin(n)[2:] #转换为二进制，转换后二进制的前两位为‘0b’，所以从第三位取\n",
    "        #print len(ns),\"  \",ns\n",
    "        while len(ns)<32: #如果不足32位\n",
    "            ns='0'+ns#则进行添0处理\n",
    "        #print len(ns),\"  \",ns\n",
    "        #print int(ns[::-1],2)\n",
    "        return int(ns[::-1],2)#进行逆置处理，并把逆置后的二进制字符串转换为十进制\n",
    "                              #第二个参数代表原数是多少进制表示的"
   ]
  },
  {
   "cell_type": "code",
   "execution_count": 13,
   "metadata": {
    "collapsed": true
   },
   "outputs": [],
   "source": [
    "ns=bin(43261596)[2:]"
   ]
  },
  {
   "cell_type": "code",
   "execution_count": 14,
   "metadata": {
    "collapsed": false
   },
   "outputs": [
    {
     "data": {
      "text/plain": [
       "'010100101000001111010011100'"
      ]
     },
     "execution_count": 14,
     "metadata": {},
     "output_type": "execute_result"
    }
   ],
   "source": [
    "'0'+ns"
   ]
  },
  {
   "cell_type": "code",
   "execution_count": null,
   "metadata": {
    "collapsed": true
   },
   "outputs": [],
   "source": []
  }
 ],
 "metadata": {
  "kernelspec": {
   "display_name": "Python [Root]",
   "language": "python",
   "name": "Python [Root]"
  },
  "language_info": {
   "codemirror_mode": {
    "name": "ipython",
    "version": 3
   },
   "file_extension": ".py",
   "mimetype": "text/x-python",
   "name": "python",
   "nbconvert_exporter": "python",
   "pygments_lexer": "ipython3",
   "version": "3.5.5"
  }
 },
 "nbformat": 4,
 "nbformat_minor": 0
}
