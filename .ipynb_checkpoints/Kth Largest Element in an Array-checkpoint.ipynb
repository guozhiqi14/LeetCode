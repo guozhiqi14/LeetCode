{
 "cells": [
  {
   "cell_type": "markdown",
   "metadata": {},
   "source": [
    "## [Kth Largest Element in an Array](https://leetcode.com/explore/interview/card/top-interview-questions-medium/110/sorting-and-searching/800/)"
   ]
  },
  {
   "cell_type": "markdown",
   "metadata": {},
   "source": [
    "Find the kth largest element in an unsorted array. Note that it is the kth largest element in the sorted order, not the kth distinct element.\n",
    "\n"
   ]
  },
  {
   "cell_type": "raw",
   "metadata": {},
   "source": [
    "Example 1:\n",
    "\n",
    "Input: [3,2,1,5,6,4] and k = 2\n",
    "Output: 5\n",
    "\n",
    "Example 2:\n",
    "\n",
    "Input: [3,2,3,1,2,4,5,5,6] and k = 4\n",
    "Output: 4\n",
    "    \n",
    "Note: \n",
    "You may assume k is always valid, 1 ≤ k ≤ array's length."
   ]
  },
  {
   "cell_type": "markdown",
   "metadata": {},
   "source": [
    "[Heap分析](https://leetcode.com/explore/interview/card/top-interview-questions-medium/110/sorting-and-searching/800/discuss/60535/Python-min-heap-and-quick-partition-solutions-(O(nlogn)-and-O(n)-time-complexities).)"
   ]
  },
  {
   "cell_type": "code",
   "execution_count": 1,
   "metadata": {
    "collapsed": true
   },
   "outputs": [],
   "source": [
    "import heapq\n",
    "class Solution:\n",
    "    def findKthLargest(self, nums, k):\n",
    "        \"\"\"\n",
    "        :type nums: List[int]\n",
    "        :type k: int\n",
    "        :rtype: int\n",
    "         \n",
    "        sorted_lst = sorted(nums, reverse = True)\n",
    "        \n",
    "        return sorted_lst[k-1]\n",
    "        \n",
    "        \"\"\"\n",
    "        heap = []\n",
    "        for i in nums[:k]:\n",
    "            heapq.heappush(heap,i)\n",
    "        \n",
    "        for i in nums[k:]:\n",
    "            if i > heap[0]:\n",
    "                heapq.heappushpop(heap,i)\n",
    "        return heap[0]"
   ]
  },
  {
   "cell_type": "code",
   "execution_count": null,
   "metadata": {
    "collapsed": true
   },
   "outputs": [],
   "source": []
  }
 ],
 "metadata": {
  "kernelspec": {
   "display_name": "Python [Root]",
   "language": "python",
   "name": "Python [Root]"
  },
  "language_info": {
   "codemirror_mode": {
    "name": "ipython",
    "version": 3
   },
   "file_extension": ".py",
   "mimetype": "text/x-python",
   "name": "python",
   "nbconvert_exporter": "python",
   "pygments_lexer": "ipython3",
   "version": "3.5.5"
  }
 },
 "nbformat": 4,
 "nbformat_minor": 0
}
