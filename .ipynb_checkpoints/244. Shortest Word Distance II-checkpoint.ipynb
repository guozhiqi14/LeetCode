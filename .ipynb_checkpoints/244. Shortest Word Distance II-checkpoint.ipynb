{
 "cells": [
  {
   "cell_type": "markdown",
   "metadata": {},
   "source": [
    "## [244. Shortest Word Distance II](https://leetcode.com/problems/shortest-word-distance-ii/description/)"
   ]
  },
  {
   "cell_type": "markdown",
   "metadata": {},
   "source": [
    "Design a class which receives a list of words in the constructor, and implements a method that takes two words word1 and word2 and return the shortest distance between these two words in the list. Your method will be called repeatedly many times with different parameters. "
   ]
  },
  {
   "cell_type": "raw",
   "metadata": {},
   "source": [
    "Example:\n",
    "Assume that words = [\"practice\", \"makes\", \"perfect\", \"coding\", \"makes\"].\n",
    "\n",
    "Input: word1 = “coding”, word2 = “practice”\n",
    "Output: 3\n",
    "Input: word1 = \"makes\", word2 = \"coding\"\n",
    "Output: 1"
   ]
  },
  {
   "cell_type": "markdown",
   "metadata": {},
   "source": [
    "Note:\n",
    "    \n",
    "You may assume that word1 does not equal to word2, and word1 and word2 are both in the list."
   ]
  },
  {
   "cell_type": "markdown",
   "metadata": {},
   "source": []
  },
  {
   "cell_type": "markdown",
   "metadata": {},
   "source": [
    "### [视频](https://www.youtube.com/watch?v=URtu6Wqq_Mk&t=1640s)"
   ]
  },
  {
   "cell_type": "markdown",
   "metadata": {},
   "source": [
    "### PreComputation  先把所有的word的index记录下来"
   ]
  },
  {
   "cell_type": "code",
   "execution_count": 1,
   "metadata": {
    "collapsed": true
   },
   "outputs": [],
   "source": [
    "from collections import defaultdict\n",
    "\n",
    "class WordDistance(object):\n",
    "\n",
    "    def __init__(self, words):\n",
    "        \"\"\"\n",
    "        :type words: List[str]\n",
    "        \"\"\"\n",
    "        self.hashMap = defaultdict(list)\n",
    "        self.words = words\n",
    "        for k,v in enumerate(self.words):\n",
    "            self.hashMap[v].append(k)\n",
    "        \n",
    "\n",
    "    def shortest(self, word1, word2):\n",
    "        \"\"\"\n",
    "        :type word1: str\n",
    "        :type word2: str\n",
    "        :rtype: int\n",
    "        \"\"\"\n",
    "        dis1 = self.hashMap[word1]\n",
    "        dis2 = self.hashMap[word2]\n",
    "        res = float('inf')\n",
    "       \n",
    "        for i in range(len(dis1)):\n",
    "            b = self.findClosest(dis2,dis1[i])\n",
    "            res = min(abs(dis2[b]-dis1[i]),res)\n",
    "            \n",
    "        return res\n",
    "            \n",
    "        \n",
    "    def findClosest(self,arr,target):\n",
    "        left,right = 0,len(arr)-1\n",
    "        while left < right - 1:\n",
    "            mid = (left+right)//2\n",
    "            if arr[mid] == target:\n",
    "                return mid\n",
    "            elif arr[mid] > target:\n",
    "                right = mid\n",
    "            else:\n",
    "                left = mid\n",
    "        if abs(arr[left]-target) < abs(arr[right]-target):\n",
    "            return left\n",
    "        return right\n",
    "\n",
    "\n",
    "# Your WordDistance object will be instantiated and called as such:\n",
    "# obj = WordDistance(words)\n",
    "# param_1 = obj.shortest(word1,word2)"
   ]
  },
  {
   "cell_type": "code",
   "execution_count": null,
   "metadata": {
    "collapsed": true
   },
   "outputs": [],
   "source": []
  }
 ],
 "metadata": {
  "kernelspec": {
   "display_name": "Python [Root]",
   "language": "python",
   "name": "Python [Root]"
  },
  "language_info": {
   "codemirror_mode": {
    "name": "ipython",
    "version": 3
   },
   "file_extension": ".py",
   "mimetype": "text/x-python",
   "name": "python",
   "nbconvert_exporter": "python",
   "pygments_lexer": "ipython3",
   "version": "3.5.5"
  }
 },
 "nbformat": 4,
 "nbformat_minor": 0
}
