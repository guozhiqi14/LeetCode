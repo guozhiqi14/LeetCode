{
 "cells": [
  {
   "cell_type": "markdown",
   "metadata": {},
   "source": [
    "## [636. Exclusive Time of Functions](https://leetcode.com/problems/exclusive-time-of-functions/description/)"
   ]
  },
  {
   "cell_type": "markdown",
   "metadata": {},
   "source": [
    "Given the running logs of n functions that are executed in a nonpreemptive single threaded CPU, find the exclusive time of these functions.\n",
    "\n",
    "Each function has a unique id, start from 0 to n-1. A function may be called recursively or by another function.\n",
    "\n",
    "A log is a string has this format : function_id:start_or_end:timestamp. For example, \"0:start:0\" means function 0 starts from the very beginning of time 0. \"0:end:0\" means function 0 ends to the very end of time 0.\n",
    "\n",
    "Exclusive time of a function is defined as the time spent within this function, the time spent by calling other functions should not be considered as this function's exclusive time. You should return the exclusive time of each function sorted by their function id."
   ]
  },
  {
   "cell_type": "raw",
   "metadata": {},
   "source": [
    "Example 1:\n",
    "Input:\n",
    "n = 2\n",
    "logs = \n",
    "[\"0:start:0\",\n",
    " \"1:start:2\",\n",
    " \"1:end:5\",\n",
    " \"0:end:6\"]\n",
    "Output:[3, 4]\n",
    "\n",
    "Explanation:\n",
    "Function 0 starts at time 0, then it executes 2 units of time and reaches the end of time 1. \n",
    "Now function 0 calls function 1, function 1 starts at time 2, executes 4 units of time and end at time 5.\n",
    "Function 0 is running again at time 6, and also end at the time 6, thus executes 1 unit of time. \n",
    "So function 0 totally execute 2 + 1 = 3 units of time, and function 1 totally execute 4 units of time."
   ]
  },
  {
   "cell_type": "markdown",
   "metadata": {},
   "source": [
    "Note:\n",
    "1. Input logs will be sorted by timestamp, NOT log id.\n",
    "2. Your output should be sorted by function id, which means the 0th element of your output corresponds to the exclusive time of function 0.\n",
    "3. Two functions won't start or end at the same time.\n",
    "4. Functions could be called recursively, and will always end.\n",
    "5. 1 <= n <= 100\n"
   ]
  },
  {
   "cell_type": "markdown",
   "metadata": {},
   "source": [
    "### [视频](https://www.youtube.com/watch?v=Oi68_8xkxI4)    \n",
    "\n",
    "### [Python Version](https://leetcode.com/problems/exclusive-time-of-functions/discuss/105100/Python-Straightforward-with-Explanation)"
   ]
  },
  {
   "cell_type": "code",
   "execution_count": 6,
   "metadata": {
    "collapsed": true
   },
   "outputs": [],
   "source": [
    "class Solution:\n",
    "    def exclusiveTime(self, N, logs):\n",
    "        ans = [0]*N\n",
    "        stack,prev = [],0\n",
    "        for log in logs:\n",
    "            func,typ,time = log.split(':')\n",
    "            func,time = int(func),int(time)\n",
    "            \n",
    "            if typ == 'start': \n",
    "                if stack:\n",
    "                    ans[stack[-1]] += time - prev\n",
    "                prev = time\n",
    "                stack.append(func)\n",
    "            \n",
    "            else:\n",
    "                ans[stack.pop()]+= time - prev + 1\n",
    "                prev = time + 1\n",
    "        return ans"
   ]
  },
  {
   "cell_type": "code",
   "execution_count": 7,
   "metadata": {
    "collapsed": false
   },
   "outputs": [
    {
     "data": {
      "text/plain": [
       "[3, 4]"
      ]
     },
     "execution_count": 7,
     "metadata": {},
     "output_type": "execute_result"
    }
   ],
   "source": [
    "Solution.exclusiveTime(_,2,[\"0:start:0\",\"1:start:2\",\"1:end:5\",\"0:end:6\"])"
   ]
  },
  {
   "cell_type": "code",
   "execution_count": null,
   "metadata": {
    "collapsed": true
   },
   "outputs": [],
   "source": []
  }
 ],
 "metadata": {
  "kernelspec": {
   "display_name": "Python [Root]",
   "language": "python",
   "name": "Python [Root]"
  },
  "language_info": {
   "codemirror_mode": {
    "name": "ipython",
    "version": 3
   },
   "file_extension": ".py",
   "mimetype": "text/x-python",
   "name": "python",
   "nbconvert_exporter": "python",
   "pygments_lexer": "ipython3",
   "version": "3.5.5"
  }
 },
 "nbformat": 4,
 "nbformat_minor": 0
}
