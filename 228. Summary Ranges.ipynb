{
 "cells": [
  {
   "cell_type": "markdown",
   "metadata": {},
   "source": [
    "## [228. Summary Ranges](https://leetcode.com/problems/summary-ranges/description/)"
   ]
  },
  {
   "cell_type": "markdown",
   "metadata": {},
   "source": [
    "Given a sorted integer array without duplicates, return the summary of its ranges.\n",
    "\n"
   ]
  },
  {
   "cell_type": "raw",
   "metadata": {},
   "source": [
    "Example 1:\n",
    "\n",
    "Input:  [0,1,2,4,5,7]\n",
    "Output: [\"0->2\",\"4->5\",\"7\"]\n",
    "Explanation: 0,1,2 form a continuous range; 4,5 form a continuous range.\n",
    "    \n",
    "Example 2:\n",
    "\n",
    "Input:  [0,2,3,4,6,8,9]\n",
    "Output: [\"0\",\"2->4\",\"6\",\"8->9\"]\n",
    "Explanation: 2,3,4 form a continuous range; 8,9 form a continuous range.\n"
   ]
  },
  {
   "cell_type": "code",
   "execution_count": 1,
   "metadata": {
    "collapsed": true
   },
   "outputs": [],
   "source": [
    "class Solution:\n",
    "    def summaryRanges(self, nums):\n",
    "        \"\"\"\n",
    "        :type nums: List[int]\n",
    "        :rtype: List[str]\n",
    "        \"\"\"\n",
    "        ans = []\n",
    "        start,i = 0,0\n",
    "        if not nums:\n",
    "            return nums\n",
    "        \n",
    "        while i <= len(nums)-2:\n",
    "            if nums[i] + 1 == nums[i+1]:\n",
    "                i += 1\n",
    "            else:\n",
    "                if i == start:\n",
    "                    ans.append(str(nums[start]))\n",
    "                else:\n",
    "                    ans.append(str(nums[start])+'->'+str(nums[i]))\n",
    "                start = i + 1\n",
    "                i += 1\n",
    "        if i != start:\n",
    "            ans.append(str(nums[start])+'->'+str(nums[i]))\n",
    "        else:\n",
    "            ans.append(str(nums[start]))\n",
    "        return ans\n"
   ]
  },
  {
   "cell_type": "code",
   "execution_count": null,
   "metadata": {
    "collapsed": true
   },
   "outputs": [],
   "source": []
  }
 ],
 "metadata": {
  "kernelspec": {
   "display_name": "Python [Root]",
   "language": "python",
   "name": "Python [Root]"
  },
  "language_info": {
   "codemirror_mode": {
    "name": "ipython",
    "version": 3
   },
   "file_extension": ".py",
   "mimetype": "text/x-python",
   "name": "python",
   "nbconvert_exporter": "python",
   "pygments_lexer": "ipython3",
   "version": "3.5.5"
  }
 },
 "nbformat": 4,
 "nbformat_minor": 0
}
