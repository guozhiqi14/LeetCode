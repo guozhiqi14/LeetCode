{
 "cells": [
  {
   "cell_type": "markdown",
   "metadata": {},
   "source": [
    "## [279. Perfect Squares](https://leetcode.com/problems/perfect-squares/description/)"
   ]
  },
  {
   "cell_type": "markdown",
   "metadata": {},
   "source": [
    "Given a positive integer n, find the least number of perfect square numbers (for example, 1, 4, 9, 16, ...) which sum to n.\n",
    "\n"
   ]
  },
  {
   "cell_type": "raw",
   "metadata": {},
   "source": [
    "Example 1:\n",
    "\n",
    "Input: n = 12\n",
    "Output: 3 \n",
    "Explanation: 12 = 4 + 4 + 4.\n",
    "    \n",
    "    \n",
    "Example 2:\n",
    "\n",
    "Input: n = 13\n",
    "Output: 2\n",
    "Explanation: 13 = 4 + 9."
   ]
  },
  {
   "cell_type": "markdown",
   "metadata": {},
   "source": [
    "## Dynamic Programming    \n",
    "\n",
    "Time Limit Exceed Approach   \n",
    " $$ dp[i] = min( dp[i- j*j] + 1, dp[i]) $$"
   ]
  },
  {
   "cell_type": "code",
   "execution_count": 15,
   "metadata": {
    "collapsed": true
   },
   "outputs": [],
   "source": [
    "class Solution(object):\n",
    "    def numSquares(self, n):\n",
    "        \"\"\"\n",
    "        :type n: int\n",
    "        :rtype: int\n",
    "        \"\"\"\n",
    "        if n==0:\n",
    "            return 0\n",
    "        output = [0x7fffffff]*(n+1)\n",
    "        output[0] = 0\n",
    "        output[1] = 1\n",
    "        for i in range(2,n+1):\n",
    "            j = 1\n",
    "            while(j*j<=i):\n",
    "                output[i] = min(output[i],output[i-j*j]+1)\n",
    "                j = j+1\n",
    "        return output[n]\n",
    "    \n"
   ]
  },
  {
   "cell_type": "code",
   "execution_count": 16,
   "metadata": {
    "collapsed": false
   },
   "outputs": [
    {
     "data": {
      "text/plain": [
       "2"
      ]
     },
     "execution_count": 16,
     "metadata": {},
     "output_type": "execute_result"
    }
   ],
   "source": [
    "Solution.numSquares(_,13)"
   ]
  },
  {
   "cell_type": "code",
   "execution_count": 47,
   "metadata": {
    "collapsed": false
   },
   "outputs": [],
   "source": [
    "class Solution(object):\n",
    "    def numSquares(self, n):\n",
    "        \"\"\"\n",
    "        :type n: int\n",
    "        :rtype: int\n",
    "        \"\"\"\n",
    "        if n == 0:\n",
    "            return 0\n",
    "        output = [0x7fffffff]*(n+1)\n",
    "        output[0] = 0\n",
    "        output[1] = 1\n",
    "        \n",
    "        for i in range(0,n):\n",
    "            if i*i <= n:\n",
    "                output[i*i] = 1\n",
    "                #print(output)\n",
    "        \n",
    "        for i in range(n+1):\n",
    "            j = 1\n",
    "            while (i + j * j <= n):\n",
    "                output[i + j * j] = min(output[i] + 1, output[i + j * j])\n",
    "                j+=1\n",
    "        return output[n]\n",
    "                \n",
    "        "
   ]
  },
  {
   "cell_type": "code",
   "execution_count": 48,
   "metadata": {
    "collapsed": false
   },
   "outputs": [
    {
     "data": {
      "text/plain": [
       "2"
      ]
     },
     "execution_count": 48,
     "metadata": {},
     "output_type": "execute_result"
    }
   ],
   "source": [
    "Solution.numSquares(_,2) "
   ]
  },
  {
   "cell_type": "code",
   "execution_count": 65,
   "metadata": {
    "collapsed": true
   },
   "outputs": [],
   "source": [
    "class Solution(object):\n",
    "    def numSquares(self, n):\n",
    "        \"\"\"\n",
    "        :type n: int\n",
    "        :rtype: int\n",
    "        \"\"\"\n",
    "        if n == 0:\n",
    "            return 0\n",
    "#         while (n % 4 == 0):\n",
    "#             n = int(n/4)\n",
    "            \n",
    "        dp = [0x7fffffff] * (n+1)\n",
    "        \n",
    "        dp[0] = 0\n",
    "        dp[1] = 1\n",
    "        \n",
    "        for i in range(n+1):\n",
    "            j = 1\n",
    "            while (j*j <= n):\n",
    "                dp[i] = min(dp[i],dp[i-j*j]+1)\n",
    "                j+=1\n",
    "        return dp[n]\n",
    "        \n",
    "            "
   ]
  },
  {
   "cell_type": "code",
   "execution_count": 66,
   "metadata": {
    "collapsed": false
   },
   "outputs": [
    {
     "data": {
      "text/plain": [
       "2"
      ]
     },
     "execution_count": 66,
     "metadata": {},
     "output_type": "execute_result"
    }
   ],
   "source": [
    "Solution.numSquares(_,8)"
   ]
  },
  {
   "cell_type": "markdown",
   "metadata": {},
   "source": [
    "## Approach 2   \n",
    "[数学解法](https://en.wikipedia.org/wiki/Lagrange's_four-square_theorem)"
   ]
  },
  {
   "cell_type": "code",
   "execution_count": 85,
   "metadata": {
    "collapsed": true
   },
   "outputs": [],
   "source": [
    "import numpy as np\n",
    "class Solution(object):\n",
    "    def numSquares(self, n):\n",
    "        \"\"\"\n",
    "        :type n: int\n",
    "        :rtype: int\n",
    "        \"\"\"\n",
    "        def is_square(n):\n",
    "            if int(np.sqrt(n)) * int(np.sqrt(n)) == n:\n",
    "                return True\n",
    "            else:\n",
    "                return False\n",
    "        \n",
    "        #n%4 == 0  \n",
    "        while (n%4) == 0:\n",
    "            n = int(n/4)\n",
    "        \n",
    "        #1 case\n",
    "        if is_square(n):\n",
    "            return 1\n",
    "        # 4 case\n",
    "        if n%8 == 7:\n",
    "            return 4\n",
    "        #2 case\n",
    "        for i in range(1, int(np.sqrt(n))+1):\n",
    "            if is_square(n-i*i):\n",
    "                return 2\n",
    "        else:\n",
    "            return 3\n",
    "            "
   ]
  },
  {
   "cell_type": "code",
   "execution_count": 86,
   "metadata": {
    "collapsed": false
   },
   "outputs": [
    {
     "data": {
      "text/plain": [
       "2"
      ]
     },
     "execution_count": 86,
     "metadata": {},
     "output_type": "execute_result"
    }
   ],
   "source": [
    "Solution.numSquares(_,8)"
   ]
  },
  {
   "cell_type": "code",
   "execution_count": null,
   "metadata": {
    "collapsed": true
   },
   "outputs": [],
   "source": []
  }
 ],
 "metadata": {
  "kernelspec": {
   "display_name": "Python [Root]",
   "language": "python",
   "name": "Python [Root]"
  },
  "language_info": {
   "codemirror_mode": {
    "name": "ipython",
    "version": 3
   },
   "file_extension": ".py",
   "mimetype": "text/x-python",
   "name": "python",
   "nbconvert_exporter": "python",
   "pygments_lexer": "ipython3",
   "version": "3.5.4"
  }
 },
 "nbformat": 4,
 "nbformat_minor": 0
}
