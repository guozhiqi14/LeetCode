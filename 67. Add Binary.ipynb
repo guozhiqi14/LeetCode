{
 "cells": [
  {
   "cell_type": "markdown",
   "metadata": {},
   "source": [
    "## [67. Add Binary](https://leetcode.com/problems/add-binary/description/)"
   ]
  },
  {
   "cell_type": "markdown",
   "metadata": {},
   "source": [
    "Given two binary strings, return their sum (also a binary string).\n",
    "\n",
    "The input strings are both non-empty and contains only characters 1 or 0."
   ]
  },
  {
   "cell_type": "raw",
   "metadata": {},
   "source": [
    "Example 1:\n",
    "\n",
    "Input: a = \"11\", b = \"1\"\n",
    "Output: \"100\"\n",
    "    \n",
    "Example 2:\n",
    "\n",
    "Input: a = \"1010\", b = \"1011\"\n",
    "Output: \"10101\"\n"
   ]
  },
  {
   "cell_type": "markdown",
   "metadata": {},
   "source": [
    "### [思路](https://blog.csdn.net/coder_orz/article/details/51706532)"
   ]
  },
  {
   "cell_type": "code",
   "execution_count": 12,
   "metadata": {
    "collapsed": true
   },
   "outputs": [],
   "source": [
    "class Solution(object):\n",
    "    def addBinary(self, a, b):\n",
    "        \"\"\"\n",
    "        :type a: str\n",
    "        :type b: str\n",
    "        :rtype: str\n",
    "        \"\"\"\n",
    "        res = ''\n",
    "        i,j = len(a)-1, len(b)-1\n",
    "        plus = 0\n",
    "        \n",
    "        while i>=0 or j>=0 or plus:\n",
    "            if i >= 0:\n",
    "                plus += int(a[i])\n",
    "            if j >= 0:\n",
    "                plus += int(b[j])\n",
    "            res = str(plus%2) + res\n",
    "            i,j,plus = i-1,j-1,plus//2\n",
    "        return res"
   ]
  },
  {
   "cell_type": "code",
   "execution_count": 1,
   "metadata": {
    "collapsed": true
   },
   "outputs": [],
   "source": [
    "class Solution(object):\n",
    "    def addBinary(self, a, b):\n",
    "        \"\"\"\n",
    "        :type a: str\n",
    "        :type b: str\n",
    "        :rtype: str\n",
    "        \"\"\"\n",
    "        res = ''\n",
    "        plus = 0\n",
    "        i,j = len(a)-1,len(b)-1\n",
    "        while i>=0 or j>=0 or plus:\n",
    "            value = 0\n",
    "            if i >= 0:\n",
    "                value += int(a[i])\n",
    "                i-=1\n",
    "            if j >= 0:\n",
    "                value += int(b[j])\n",
    "                j-=1\n",
    "            if plus:\n",
    "                value += plus\n",
    "            res = str(value%2) + res\n",
    "            plus = value//2\n",
    "\n",
    "        return res\n",
    " "
   ]
  },
  {
   "cell_type": "code",
   "execution_count": null,
   "metadata": {
    "collapsed": true
   },
   "outputs": [],
   "source": []
  }
 ],
 "metadata": {
  "kernelspec": {
   "display_name": "Python [Root]",
   "language": "python",
   "name": "Python [Root]"
  },
  "language_info": {
   "codemirror_mode": {
    "name": "ipython",
    "version": 3
   },
   "file_extension": ".py",
   "mimetype": "text/x-python",
   "name": "python",
   "nbconvert_exporter": "python",
   "pygments_lexer": "ipython3",
   "version": "3.5.5"
  }
 },
 "nbformat": 4,
 "nbformat_minor": 0
}
