{
 "cells": [
  {
   "cell_type": "markdown",
   "metadata": {},
   "source": [
    "## [Palindrome Linked List](https://leetcode.com/explore/interview/card/top-interview-questions-easy/93/linked-list/772/)"
   ]
  },
  {
   "cell_type": "markdown",
   "metadata": {},
   "source": [
    "Given a singly linked list, determine if it is a palindrome.\n",
    "\n"
   ]
  },
  {
   "cell_type": "raw",
   "metadata": {},
   "source": [
    "Example 1:\n",
    "\n",
    "Input: 1->2\n",
    "Output: false\n",
    "Example 2:\n",
    "\n",
    "Input: 1->2->2->1\n",
    "Output: true"
   ]
  },
  {
   "cell_type": "markdown",
   "metadata": {},
   "source": [
    "Follow up:\n",
    "\n",
    "Could you do it in O(n) time and O(1) space?"
   ]
  },
  {
   "cell_type": "code",
   "execution_count": 3,
   "metadata": {
    "collapsed": true
   },
   "outputs": [],
   "source": [
    "# Definition for singly-linked list.\n",
    "# class ListNode:\n",
    "#     def __init__(self, x):\n",
    "#         self.val = x\n",
    "#         self.next = None\n",
    "\n",
    "class Solution:\n",
    "    def isPalindrome(self, head):\n",
    "        def findMid(head):\n",
    "            if not head or not head.next:\n",
    "                return head\n",
    "            slow,fast = head,head\n",
    "            while fast.next and fast.next.next:\n",
    "                slow = slow.next\n",
    "                fast = fast.next.next\n",
    "            return slow\n",
    "        def reverse(head):\n",
    "            newHead = None\n",
    "            while head:\n",
    "                temp = head.next\n",
    "                head.next = newHead\n",
    "                newHead = head\n",
    "                head = temp\n",
    "            return newHead\n",
    "        \n",
    "        if not head:\n",
    "            return True\n",
    "        \n",
    "        midNode = findMid(head)\n",
    "        halfNode = midNode.next\n",
    "        \n",
    "        midNode.next = None\n",
    "        halfNode = reverse(halfNode)\n",
    "        \n",
    "        while head and halfNode:\n",
    "            if head.val != halfNode.val:\n",
    "                return False\n",
    "            head = head.next\n",
    "            halfNode = halfNode.next\n",
    "        else:\n",
    "            return True"
   ]
  },
  {
   "cell_type": "code",
   "execution_count": 2,
   "metadata": {
    "collapsed": true
   },
   "outputs": [],
   "source": [
    "# Definition for singly-linked list.\n",
    "# class ListNode:\n",
    "#     def __init__(self, x):\n",
    "#         self.val = x\n",
    "#         self.next = None\n",
    "\n",
    "class Solution:\n",
    "    def isPalindrome(self, head):\n",
    "        #find middle\n",
    "        slow,fast = head,head\n",
    "        while fast and fast.next:\n",
    "            slow = slow.next\n",
    "            fast = fast.next.next\n",
    "        \n",
    "        #reverse second half\n",
    "        node = None\n",
    "        while slow:\n",
    "            nxt = slow.next\n",
    "            slow.next = node\n",
    "            node = slow\n",
    "            slow = nxt\n",
    "        \n",
    "        #compare\n",
    "        while node:\n",
    "            if node.val != head.val:\n",
    "                return False\n",
    "            node = node.next\n",
    "            head = head.next\n",
    "        else:\n",
    "            return True\n",
    "        "
   ]
  },
  {
   "cell_type": "code",
   "execution_count": null,
   "metadata": {
    "collapsed": true
   },
   "outputs": [],
   "source": []
  },
  {
   "cell_type": "markdown",
   "metadata": {},
   "source": [
    "## O(n) space solution"
   ]
  },
  {
   "cell_type": "code",
   "execution_count": 1,
   "metadata": {
    "collapsed": true
   },
   "outputs": [],
   "source": [
    "# Definition for singly-linked list.\n",
    "# class ListNode:\n",
    "#     def __init__(self, x):\n",
    "#         self.val = x\n",
    "#         self.next = None\n",
    "\n",
    "class Solution:\n",
    "    def isPalindrome(self, head):\n",
    "        store_value = []\n",
    "        cur = head\n",
    "        while cur:\n",
    "            store_value.append(cur.val)\n",
    "            cur = cur.next\n",
    "        return store_value == store_value[::-1]\n",
    "        "
   ]
  },
  {
   "cell_type": "code",
   "execution_count": 2,
   "metadata": {
    "collapsed": true
   },
   "outputs": [],
   "source": [
    "# Definition for singly-linked list.\n",
    "# class ListNode:\n",
    "#     def __init__(self, x):\n",
    "#         self.val = x\n",
    "#         self.next = None\n",
    "\n",
    "class Solution:\n",
    "    def isPalindrome(self, head):\n",
    "        deep_copy = ListNode(-1)\n",
    "        cur = head\n",
    "        copy_cur = deep_copy\n",
    "        while cur:\n",
    "            copy_cur.next = ListNode(cur.val)\n",
    "            cur = cur.next\n",
    "            copy_cur = copy_cur.next\n",
    "        \n",
    "        def reverse(head):\n",
    "            newHead = None\n",
    "            while head:\n",
    "                temp = head.next\n",
    "                head.next = newHead\n",
    "                newHead = head\n",
    "                head = temp\n",
    "            return newHead\n",
    "        deep_copy = reverse(deep_copy.next)\n",
    "        \n",
    "        while deep_copy and head:\n",
    "            if deep_copy.val != head.val:\n",
    "                return False\n",
    "            deep_copy = deep_copy.next\n",
    "            head = head.next\n",
    "        else:\n",
    "            return True\n",
    "        "
   ]
  },
  {
   "cell_type": "code",
   "execution_count": null,
   "metadata": {
    "collapsed": true
   },
   "outputs": [],
   "source": []
  }
 ],
 "metadata": {
  "kernelspec": {
   "display_name": "Python [Root]",
   "language": "python",
   "name": "Python [Root]"
  },
  "language_info": {
   "codemirror_mode": {
    "name": "ipython",
    "version": 3
   },
   "file_extension": ".py",
   "mimetype": "text/x-python",
   "name": "python",
   "nbconvert_exporter": "python",
   "pygments_lexer": "ipython3",
   "version": "3.5.5"
  }
 },
 "nbformat": 4,
 "nbformat_minor": 0
}
