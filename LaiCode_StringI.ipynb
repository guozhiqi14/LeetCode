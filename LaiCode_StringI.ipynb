{
 "cells": [
  {
   "cell_type": "markdown",
   "metadata": {},
   "source": [
    "## 1. Char Removal"
   ]
  },
  {
   "cell_type": "markdown",
   "metadata": {},
   "source": [
    "### Q1.1 Char removal - remove particular chars from a string.   \n",
    "eg. input = 'student', remove 'u' and 'n' ---> output = 'stdet'"
   ]
  },
  {
   "cell_type": "code",
   "execution_count": 8,
   "metadata": {
    "collapsed": false
   },
   "outputs": [
    {
     "ename": "IndexError",
     "evalue": "string index out of range",
     "output_type": "error",
     "traceback": [
      "\u001b[0;31m---------------------------------------------------------------------------\u001b[0m",
      "\u001b[0;31mIndexError\u001b[0m                                Traceback (most recent call last)",
      "\u001b[0;32m<ipython-input-8-2c7370224528>\u001b[0m in \u001b[0;36m<module>\u001b[0;34m()\u001b[0m\n\u001b[1;32m      7\u001b[0m     \u001b[0;32mreturn\u001b[0m \u001b[0mstring\u001b[0m\u001b[0;34m\u001b[0m\u001b[0m\n\u001b[1;32m      8\u001b[0m \u001b[0;34m\u001b[0m\u001b[0m\n\u001b[0;32m----> 9\u001b[0;31m \u001b[0mremove\u001b[0m\u001b[0;34m(\u001b[0m\u001b[0;34m'student'\u001b[0m\u001b[0;34m)\u001b[0m\u001b[0;34m\u001b[0m\u001b[0m\n\u001b[0m",
      "\u001b[0;32m<ipython-input-8-2c7370224528>\u001b[0m in \u001b[0;36mremove\u001b[0;34m(string)\u001b[0m\n\u001b[1;32m      2\u001b[0m \u001b[0;32mdef\u001b[0m \u001b[0mremove\u001b[0m\u001b[0;34m(\u001b[0m\u001b[0mstring\u001b[0m\u001b[0;34m)\u001b[0m\u001b[0;34m:\u001b[0m\u001b[0;34m\u001b[0m\u001b[0m\n\u001b[1;32m      3\u001b[0m     \u001b[0;32mfor\u001b[0m \u001b[0mi\u001b[0m \u001b[0;32min\u001b[0m \u001b[0mrange\u001b[0m\u001b[0;34m(\u001b[0m\u001b[0mlen\u001b[0m\u001b[0;34m(\u001b[0m\u001b[0mstring\u001b[0m\u001b[0;34m)\u001b[0m\u001b[0;34m)\u001b[0m\u001b[0;34m:\u001b[0m\u001b[0;34m\u001b[0m\u001b[0m\n\u001b[0;32m----> 4\u001b[0;31m         \u001b[0;32mif\u001b[0m \u001b[0mstring\u001b[0m\u001b[0;34m[\u001b[0m\u001b[0mi\u001b[0m\u001b[0;34m]\u001b[0m \u001b[0;34m==\u001b[0m \u001b[0;34m'u'\u001b[0m \u001b[0;32mor\u001b[0m \u001b[0mstring\u001b[0m\u001b[0;34m[\u001b[0m\u001b[0mi\u001b[0m\u001b[0;34m]\u001b[0m \u001b[0;34m==\u001b[0m \u001b[0;34m'n'\u001b[0m\u001b[0;34m:\u001b[0m\u001b[0;34m\u001b[0m\u001b[0m\n\u001b[0m\u001b[1;32m      5\u001b[0m             \u001b[0mstring\u001b[0m \u001b[0;34m=\u001b[0m \u001b[0mstring\u001b[0m\u001b[0;34m[\u001b[0m\u001b[0;34m:\u001b[0m\u001b[0mi\u001b[0m\u001b[0;34m]\u001b[0m\u001b[0;34m+\u001b[0m\u001b[0mstring\u001b[0m\u001b[0;34m[\u001b[0m\u001b[0mi\u001b[0m\u001b[0;34m+\u001b[0m\u001b[0;36m1\u001b[0m\u001b[0;34m:\u001b[0m\u001b[0;34m]\u001b[0m\u001b[0;34m\u001b[0m\u001b[0m\n\u001b[1;32m      6\u001b[0m \u001b[0;34m\u001b[0m\u001b[0m\n",
      "\u001b[0;31mIndexError\u001b[0m: string index out of range"
     ]
    }
   ],
   "source": [
    "#错误写法\n",
    "def remove(string):\n",
    "    for i in range(len(string)):\n",
    "        if string[i] == 'u' or string[i] == 'n':\n",
    "            string = string[:i]+string[i+1:]\n",
    "            \n",
    "    return string\n",
    "\n",
    "remove('student')"
   ]
  },
  {
   "cell_type": "code",
   "execution_count": 1,
   "metadata": {
    "collapsed": false
   },
   "outputs": [
    {
     "data": {
      "text/plain": [
       "'stdet'"
      ]
     },
     "execution_count": 1,
     "metadata": {},
     "output_type": "execute_result"
    }
   ],
   "source": [
    "#2个挡板3个区域\n",
    "def remove(string):\n",
    "    #'student'\n",
    "    lst = list(string)\n",
    "    i,j = 0,0\n",
    "    while j < len(lst):\n",
    "        if lst[j] not in ['u','n']:\n",
    "            lst[i] = lst[j]\n",
    "            i += 1\n",
    "        j += 1 \n",
    "    return ''.join(lst[:i])\n",
    "remove('student')"
   ]
  },
  {
   "cell_type": "markdown",
   "metadata": {
    "collapsed": true
   },
   "source": [
    "### Q1.2 (Char removal) Remove all leading/trailing and duplicate empty space (only leave one empty space if duplicated space happen) from input string.    \n"
   ]
  },
  {
   "cell_type": "raw",
   "metadata": {},
   "source": [
    "input = '_ _ _abc_ _ed_ _ef_ _'\n",
    "\n",
    "output = 'abc_ed_ef'"
   ]
  },
  {
   "cell_type": "code",
   "execution_count": 14,
   "metadata": {
    "collapsed": false
   },
   "outputs": [
    {
     "data": {
      "text/plain": [
       "'abc ed ef'"
      ]
     },
     "execution_count": 14,
     "metadata": {},
     "output_type": "execute_result"
    }
   ],
   "source": [
    "def remove_space(string):\n",
    "    lst = list(string)\n",
    "    slow,fast = 0,0\n",
    "    while fast < len(lst):\n",
    "        if not(lst[fast]==' ' and (lst[fast-1]==lst[fast] or fast == 0)):\n",
    "            lst[slow] = lst[fast]\n",
    "            slow += 1\n",
    "        fast += 1\n",
    "    if slow > 0 and lst[-1] == ' ':\n",
    "        slow -= 1\n",
    "    return ''.join(lst[:slow])\n",
    "\n",
    "remove_space('   abc  ed  ef  ')\n"
   ]
  },
  {
   "cell_type": "code",
   "execution_count": 23,
   "metadata": {
    "collapsed": false
   },
   "outputs": [
    {
     "data": {
      "text/plain": [
       "'I Lo ve Yahoo'"
      ]
     },
     "execution_count": 23,
     "metadata": {},
     "output_type": "execute_result"
    }
   ],
   "source": [
    "def remove_space(string):\n",
    "    if not string or len(string) == 0:\n",
    "        return string\n",
    "    lst = []\n",
    "    for fast in range(len(string)):\n",
    "        if string[fast] == ' ' and (string[fast-1] == string[fast] or fast == 0):\n",
    "            continue\n",
    "        lst.append(string[fast])\n",
    "    if len(lst) > 0 and lst[-1] == ' ':\n",
    "        lst.pop()\n",
    "    return ''.join(lst)\n",
    "remove_space('   abc  ed  ef  ')\n",
    "remove_space(\"I Lo  ve  Yahoo\")\n"
   ]
  },
  {
   "cell_type": "markdown",
   "metadata": {},
   "source": [
    "## 2. Char de-duplication"
   ]
  },
  {
   "cell_type": "markdown",
   "metadata": {},
   "source": [
    "### 2.1 Remove duplicated and adjacent letters(leavel only one letter in each duplicated section) in a string   \n",
    "\n",
    "'aaaabbbccd' -> 'abcd'"
   ]
  },
  {
   "cell_type": "code",
   "execution_count": 30,
   "metadata": {
    "collapsed": false
   },
   "outputs": [
    {
     "data": {
      "text/plain": [
       "'abcd'"
      ]
     },
     "execution_count": 30,
     "metadata": {},
     "output_type": "execute_result"
    }
   ],
   "source": [
    "def remove_dup(string):\n",
    "    if not string or len(string) < 2:\n",
    "        return string\n",
    "    lst = list(string)\n",
    "    slow,fast = 1,1\n",
    "    while fast < len(lst):\n",
    "        if lst[fast] != lst[slow-1]:\n",
    "            lst[slow] = lst[fast]\n",
    "            slow += 1 \n",
    "        fast += 1\n",
    "    return ''.join(lst[:slow])\n",
    "\n",
    "remove_dup('aabbcdd')"
   ]
  },
  {
   "cell_type": "code",
   "execution_count": 31,
   "metadata": {
    "collapsed": false
   },
   "outputs": [
    {
     "data": {
      "text/plain": [
       "'abcd'"
      ]
     },
     "execution_count": 31,
     "metadata": {},
     "output_type": "execute_result"
    }
   ],
   "source": [
    "def remove_dup(string):\n",
    "    if not string or len(string) < 2:\n",
    "        return string\n",
    "    lst = []\n",
    "    fast = 0\n",
    "    while fast < len(string):\n",
    "        if fast == 0 or string[fast] != lst[-1]:\n",
    "            lst.append(string[fast])\n",
    "        fast += 1\n",
    "    return ''.join(lst)\n",
    "remove_dup('aabbcdd')"
   ]
  },
  {
   "cell_type": "markdown",
   "metadata": {},
   "source": [
    "### Q2.1 变种   \n",
    "Given a sorted array, remove duplicated and adjacent letters(leave only two letters in each duplicated section) in a string.\n",
    "\n",
    "aaabbbccc -> aabbcc   \n",
    "\n",
    "12222333 -> 12233"
   ]
  },
  {
   "cell_type": "code",
   "execution_count": 33,
   "metadata": {
    "collapsed": false
   },
   "outputs": [
    {
     "data": {
      "text/plain": [
       "'12233'"
      ]
     },
     "execution_count": 33,
     "metadata": {},
     "output_type": "execute_result"
    }
   ],
   "source": [
    "def remove_dup(string):\n",
    "    if not string or len(string) < 3:\n",
    "        return string\n",
    "    lst = list(string)\n",
    "    slow,fast = 2,2\n",
    "    while fast < len(lst):\n",
    "        if lst[fast] != lst[slow-2]:\n",
    "            lst[slow] = lst[fast]\n",
    "            slow += 1\n",
    "        fast += 1\n",
    "    return ''.join(lst[:slow])\n",
    "\n",
    "remove_dup('12222333')\n"
   ]
  },
  {
   "cell_type": "markdown",
   "metadata": {},
   "source": [
    "### Q.2.2 (Char de-duplication adjacent letters repeatedly)    \n",
    "abbbaz -> aaz -> z  \n",
    "\n",
    "use stack"
   ]
  },
  {
   "cell_type": "code",
   "execution_count": 66,
   "metadata": {
    "collapsed": false
   },
   "outputs": [
    {
     "data": {
      "text/plain": [
       "''"
      ]
     },
     "execution_count": 66,
     "metadata": {},
     "output_type": "execute_result"
    }
   ],
   "source": [
    "def remove_dup(string):\n",
    "    if not string or len(string) < 1:\n",
    "        return string\n",
    "    stack,i = [],0\n",
    "    while i < len(string):\n",
    "        if not stack or stack[-1] != string[i]:\n",
    "            stack.append(string[i])\n",
    "            i+= 1\n",
    "        else:\n",
    "            while i < len(string) and stack[-1] == string[i]:\n",
    "                i += 1\n",
    "            stack.pop()\n",
    "    return ''.join(stack)\n",
    "remove_dup('abbba')"
   ]
  },
  {
   "cell_type": "code",
   "execution_count": null,
   "metadata": {
    "collapsed": true
   },
   "outputs": [],
   "source": []
  },
  {
   "cell_type": "code",
   "execution_count": null,
   "metadata": {
    "collapsed": true
   },
   "outputs": [],
   "source": []
  }
 ],
 "metadata": {
  "kernelspec": {
   "display_name": "Python [Root]",
   "language": "python",
   "name": "Python [Root]"
  },
  "language_info": {
   "codemirror_mode": {
    "name": "ipython",
    "version": 3
   },
   "file_extension": ".py",
   "mimetype": "text/x-python",
   "name": "python",
   "nbconvert_exporter": "python",
   "pygments_lexer": "ipython3",
   "version": "3.5.5"
  }
 },
 "nbformat": 4,
 "nbformat_minor": 0
}
