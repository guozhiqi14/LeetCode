{
 "cells": [
  {
   "cell_type": "markdown",
   "metadata": {},
   "source": [
    "## [Validate Binary Search Tree](https://leetcode.com/explore/interview/card/top-interview-questions-easy/94/trees/625/)"
   ]
  },
  {
   "cell_type": "markdown",
   "metadata": {},
   "source": [
    "Given a binary tree, determine if it is a valid binary search tree (BST).\n",
    "\n",
    "Assume a BST is defined as follows:\n",
    "\n",
    "* The left subtree of a node contains only nodes with keys less than the node's key.\n",
    "* The right subtree of a node contains only nodes with keys greater than the node's key.\n",
    "* Both the left and right subtrees must also be binary search trees."
   ]
  },
  {
   "cell_type": "raw",
   "metadata": {},
   "source": [
    "Example 1:\n",
    "\n",
    "Input:\n",
    "    2\n",
    "   / \\\n",
    "  1   3\n",
    "Output: true\n",
    "Example 2:\n",
    "\n",
    "    5\n",
    "   / \\\n",
    "  1   4\n",
    "     / \\\n",
    "    3   6\n",
    "Output: false\n",
    "Explanation: The input is: [5,1,4,null,null,3,6]. The root node's value\n",
    "             is 5 but its right child's value is 4."
   ]
  },
  {
   "cell_type": "markdown",
   "metadata": {},
   "source": [
    "### [Recursion 思路](https://www.youtube.com/watch?v=Jq0Wk9xeQ0U)"
   ]
  },
  {
   "cell_type": "code",
   "execution_count": 1,
   "metadata": {
    "collapsed": true
   },
   "outputs": [],
   "source": [
    "# Definition for a binary tree node.\n",
    "# class TreeNode:\n",
    "#     def __init__(self, x):\n",
    "#         self.val = x\n",
    "#         self.left = None\n",
    "#         self.right = None\n",
    "\n",
    "class Solution:\n",
    "    def isValidBST(self, root):\n",
    "        \"\"\"\n",
    "        :type root: TreeNode\n",
    "        :rtype: bool\n",
    "        \"\"\"\n",
    "        minVal = float('-inf')\n",
    "        maxVal = float('inf')\n",
    "        return self.helper(root,minVal,maxVal)\n",
    "    \n",
    "    def helper(self,root,minVal,maxVal):\n",
    "        if not root:\n",
    "            return True\n",
    "        if root.val >= maxVal or root.val <= minVal:\n",
    "            return False\n",
    "        return self.helper(root.left,minVal,root.val) and self.helper(root.right,root.val,maxVal)"
   ]
  },
  {
   "cell_type": "code",
   "execution_count": 13,
   "metadata": {
    "collapsed": true
   },
   "outputs": [],
   "source": [
    "# Definition for a binary tree node.\n",
    "# class TreeNode:\n",
    "#     def __init__(self, x):\n",
    "#         self.val = x\n",
    "#         self.left = None\n",
    "#         self.right = None\n",
    "\n",
    "class Solution:\n",
    "    def isValidBST(self, root):\n",
    "        \"\"\"\n",
    "        :type root: TreeNode\n",
    "        :rtype: bool\n",
    "        \"\"\"\n",
    "        def checkValid(root,minVal,maxVal):\n",
    "            if root == None:\n",
    "                return True\n",
    "            if root.val <= minVal or root.val >= maxVal:\n",
    "                return False\n",
    "            else:\n",
    "                return checkValid(root.left,minVal,root.val) and checkValid(root.right,root.val,maxVal)\n",
    "        \n",
    "        return checkValid(root,float('-inf'),float('inf'))"
   ]
  },
  {
   "cell_type": "code",
   "execution_count": null,
   "metadata": {
    "collapsed": true
   },
   "outputs": [],
   "source": []
  },
  {
   "cell_type": "code",
   "execution_count": null,
   "metadata": {
    "collapsed": true
   },
   "outputs": [],
   "source": []
  },
  {
   "cell_type": "markdown",
   "metadata": {},
   "source": [
    "## [InOrder Traverse 思路](https://leetcode.com/explore/interview/card/top-interview-questions-easy/94/trees/625/discuss/32153/Python-version-based-on-inorder-traversal)   \n",
    "\n",
    "比较好想"
   ]
  },
  {
   "cell_type": "code",
   "execution_count": 12,
   "metadata": {
    "collapsed": true
   },
   "outputs": [],
   "source": [
    "# Definition for a binary tree node.\n",
    "# class TreeNode:\n",
    "#     def __init__(self, x):\n",
    "#         self.val = x\n",
    "#         self.left = None\n",
    "#         self.right = None\n",
    "\n",
    "class Solution:\n",
    "    def isValidBST(self, root):\n",
    "        \"\"\"\n",
    "        :type root: TreeNode\n",
    "        :rtype: bool\n",
    "        \"\"\"\n",
    "        self.output = []\n",
    "        def traverse(root):\n",
    "            if root:\n",
    "                traverse(root.left)\n",
    "                self.output.append(root.val)\n",
    "                traverse(root.right)\n",
    "        traverse(root)\n",
    "        \n",
    "        for i in range(len(self.output)-1):\n",
    "            if self.output[i] >= self.output[i+1]:\n",
    "                return False\n",
    "        else:\n",
    "            return True"
   ]
  },
  {
   "cell_type": "markdown",
   "metadata": {},
   "source": [
    "## InOrder 不用额外空间"
   ]
  },
  {
   "cell_type": "code",
   "execution_count": 6,
   "metadata": {
    "collapsed": true
   },
   "outputs": [],
   "source": [
    "# Definition for a binary tree node.\n",
    "# class TreeNode:\n",
    "#     def __init__(self, x):\n",
    "#         self.val = x\n",
    "#         self.left = None\n",
    "#         self.right = None\n",
    "\n",
    "class Solution:\n",
    "    def isValidBST(self, root):\n",
    "        \"\"\"\n",
    "        :type root: TreeNode\n",
    "        :rtype: bool\n",
    "        \"\"\"\n",
    "        prev = [None]\n",
    "        res = [True]\n",
    "        self.inorder(root,prev,res)\n",
    "        return res[0]\n",
    "    \n",
    "    def inorder(self,root,prev,res):\n",
    "        if not root:\n",
    "            return \n",
    "        self.inorder(root.left,prev,res)\n",
    "        if prev[0] is not None and prev[0] >= root.val :\n",
    "            res[0] = False\n",
    "        prev[0] = root.val\n",
    "        self.inorder(root.right,prev,res)\n",
    "        \n",
    "\n",
    "    "
   ]
  },
  {
   "cell_type": "markdown",
   "metadata": {},
   "source": [
    "### Advanced"
   ]
  },
  {
   "cell_type": "code",
   "execution_count": 7,
   "metadata": {
    "collapsed": true
   },
   "outputs": [],
   "source": [
    "# Definition for a binary tree node.\n",
    "# class TreeNode:\n",
    "#     def __init__(self, x):\n",
    "#         self.val = x\n",
    "#         self.left = None\n",
    "#         self.right = None\n",
    "\n",
    "class Solution:\n",
    "    def isValidBST(self, root):\n",
    "        \"\"\"\n",
    "        :type root: TreeNode\n",
    "        :rtype: bool\n",
    "        \"\"\"\n",
    "       \n",
    "        return self.BSTHelp(root)[0]\n",
    "    \n",
    "    def BSTHelp(self,root):\n",
    "        if not root:\n",
    "            return (True,None,None)\n",
    "        left = self.BSTHelp(root.left)\n",
    "        right = self.BSTHelp(root.right)\n",
    "        \n",
    "        if not left[0] or not right[0]:\n",
    "            return (False,None,None)\n",
    "        if left[2] and root.val <= left[2]:\n",
    "            return (False,None,None)\n",
    "        if right[1] and root.val >= right[1]:\n",
    "            return (False,None,None)\n",
    "        return (True, left[1] or root.val, right[2] or root.val)\n",
    "        \n",
    "        "
   ]
  },
  {
   "cell_type": "code",
   "execution_count": null,
   "metadata": {
    "collapsed": true
   },
   "outputs": [],
   "source": []
  }
 ],
 "metadata": {
  "kernelspec": {
   "display_name": "Python [Root]",
   "language": "python",
   "name": "Python [Root]"
  },
  "language_info": {
   "codemirror_mode": {
    "name": "ipython",
    "version": 3
   },
   "file_extension": ".py",
   "mimetype": "text/x-python",
   "name": "python",
   "nbconvert_exporter": "python",
   "pygments_lexer": "ipython3",
   "version": "3.5.5"
  }
 },
 "nbformat": 4,
 "nbformat_minor": 0
}
