{
 "cells": [
  {
   "cell_type": "markdown",
   "metadata": {},
   "source": [
    "## [856. Score of Parentheses](https://leetcode.com/problems/score-of-parentheses/description/)"
   ]
  },
  {
   "cell_type": "markdown",
   "metadata": {},
   "source": [
    "Given a balanced parentheses string S, compute the score of the string based on the following rule:\n",
    "\n",
    "* () has score 1\n",
    "* AB has score A + B, where A and B are balanced parentheses strings.\n",
    "* (A) has score 2 * A, where A is a balanced parentheses string."
   ]
  },
  {
   "cell_type": "raw",
   "metadata": {},
   "source": [
    "Example 1:\n",
    "\n",
    "Input: \"()\"\n",
    "Output: 1\n",
    "Example 2:\n",
    "\n",
    "Input: \"(())\"\n",
    "Output: 2\n",
    "Example 3:\n",
    "\n",
    "Input: \"()()\"\n",
    "Output: 2\n",
    "Example 4:\n",
    "\n",
    "Input: \"(()(()))\"\n",
    "Output: 6\n"
   ]
  },
  {
   "cell_type": "markdown",
   "metadata": {},
   "source": [
    "Note:\n",
    "\n",
    "S is a balanced parentheses string, containing only ( and ).\n",
    "\n",
    "2 <= S.length <= 50"
   ]
  },
  {
   "cell_type": "markdown",
   "metadata": {},
   "source": [
    "### [思路](https://leetcode.com/problems/score-of-parentheses/solution/)"
   ]
  },
  {
   "cell_type": "code",
   "execution_count": 43,
   "metadata": {
    "collapsed": true
   },
   "outputs": [],
   "source": [
    "class Solution:\n",
    "    def scoreOfParentheses(self, S):\n",
    "        \"\"\"\n",
    "        :type S: str\n",
    "        :rtype: int\n",
    "        \"\"\"\n",
    "        stack = [0]\n",
    "        for i in S:\n",
    "            if i == '(':\n",
    "                stack.append(0)\n",
    "            else:\n",
    "                if stack[-1] == 0:\n",
    "                    v = stack.pop()\n",
    "                    stack[-1] += 1\n",
    "                else:\n",
    "                    v = stack.pop()\n",
    "                    stack[-1] += v*2\n",
    "        \n",
    "        return stack[-1]"
   ]
  },
  {
   "cell_type": "code",
   "execution_count": 45,
   "metadata": {
    "collapsed": false
   },
   "outputs": [
    {
     "data": {
      "text/plain": [
       "4"
      ]
     },
     "execution_count": 45,
     "metadata": {},
     "output_type": "execute_result"
    }
   ],
   "source": [
    "s = Solution()\n",
    "s.scoreOfParentheses('((()))')"
   ]
  },
  {
   "cell_type": "code",
   "execution_count": null,
   "metadata": {
    "collapsed": true
   },
   "outputs": [],
   "source": []
  }
 ],
 "metadata": {
  "kernelspec": {
   "display_name": "Python [Root]",
   "language": "python",
   "name": "Python [Root]"
  },
  "language_info": {
   "codemirror_mode": {
    "name": "ipython",
    "version": 3
   },
   "file_extension": ".py",
   "mimetype": "text/x-python",
   "name": "python",
   "nbconvert_exporter": "python",
   "pygments_lexer": "ipython3",
   "version": "3.5.5"
  }
 },
 "nbformat": 4,
 "nbformat_minor": 0
}
