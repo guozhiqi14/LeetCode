{
 "cells": [
  {
   "cell_type": "markdown",
   "metadata": {},
   "source": [
    "## [31. Next Permutation](https://leetcode.com/problems/next-permutation/description/)"
   ]
  },
  {
   "cell_type": "markdown",
   "metadata": {},
   "source": [
    "Implement next permutation, which rearranges numbers into the lexicographically next greater permutation of numbers.\n",
    "\n",
    "If such arrangement is not possible, it must rearrange it as the lowest possible order (ie, sorted in ascending order).\n",
    "\n",
    "The replacement must be in-place and use only constant extra memory.\n",
    "\n",
    "Here are some examples. Inputs are in the left-hand column and its corresponding outputs are in the right-hand column."
   ]
  },
  {
   "cell_type": "raw",
   "metadata": {},
   "source": [
    "1,2,3 → 1,3,2\n",
    "3,2,1 → 1,2,3\n",
    "1,1,5 → 1,5,1"
   ]
  },
  {
   "cell_type": "markdown",
   "metadata": {},
   "source": [
    "### [思路](http://www.cnblogs.com/grandyang/p/4428207.html)   \n",
    "### [思路二](https://segmentfault.com/a/1190000003766260)"
   ]
  },
  {
   "cell_type": "code",
   "execution_count": 43,
   "metadata": {
    "collapsed": true
   },
   "outputs": [],
   "source": [
    "class Solution:\n",
    "    def nextPermutation(self, nums):\n",
    "        \"\"\"\n",
    "        :type nums: List[int]\n",
    "        :rtype: void Do not return anything, modify nums in-place instead.\n",
    "        \"\"\"\n",
    "        def reverse(nums,left,right):\n",
    "            while left <= right:\n",
    "                nums[left],nums[right] = nums[right],nums[left]\n",
    "                left,right = left+1,right-1\n",
    "        \n",
    "        for i in range(len(nums)-2,-1,-1):\n",
    "            if nums[i] < nums[i+1]:\n",
    "                for j in range(len(nums)-1,i,-1):\n",
    "                    if nums[j] > nums[i]:\n",
    "                        nums[j],nums[i] = nums[i],nums[j]\n",
    "                        reverse(nums,i+1,len(nums)-1)\n",
    "                        return\n",
    "        else:\n",
    "            reverse(nums,0,len(nums)-1)\n",
    "            "
   ]
  },
  {
   "cell_type": "code",
   "execution_count": 44,
   "metadata": {
    "collapsed": false
   },
   "outputs": [],
   "source": [
    "s = Solution()\n",
    "s.nextPermutation([1,3,2])"
   ]
  },
  {
   "cell_type": "code",
   "execution_count": null,
   "metadata": {
    "collapsed": true
   },
   "outputs": [],
   "source": []
  }
 ],
 "metadata": {
  "anaconda-cloud": {},
  "kernelspec": {
   "display_name": "Python [Root]",
   "language": "python",
   "name": "Python [Root]"
  },
  "language_info": {
   "codemirror_mode": {
    "name": "ipython",
    "version": 3
   },
   "file_extension": ".py",
   "mimetype": "text/x-python",
   "name": "python",
   "nbconvert_exporter": "python",
   "pygments_lexer": "ipython3",
   "version": "3.5.5"
  }
 },
 "nbformat": 4,
 "nbformat_minor": 0
}
