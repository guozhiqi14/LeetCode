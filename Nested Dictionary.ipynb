{
 "cells": [
  {
   "cell_type": "code",
   "execution_count": 1,
   "metadata": {
    "collapsed": true
   },
   "outputs": [],
   "source": [
    "data = {'one':{'label':'this is shot001','start':1,'end':10},\n",
    "       'two':{'label':'this is shot002','start':11,'end':25},\n",
    "       'three':'this is shot003'}"
   ]
  },
  {
   "cell_type": "code",
   "execution_count": 3,
   "metadata": {
    "collapsed": false
   },
   "outputs": [
    {
     "data": {
      "text/plain": [
       "{'end': 10, 'label': 'this is shot001', 'start': 1}"
      ]
     },
     "execution_count": 3,
     "metadata": {},
     "output_type": "execute_result"
    }
   ],
   "source": [
    "data['one']"
   ]
  },
  {
   "cell_type": "code",
   "execution_count": 6,
   "metadata": {
    "collapsed": true
   },
   "outputs": [],
   "source": [
    "def nest_dic(data):\n",
    "    if type(data) is not dict:\n",
    "        return [str(data)]\n",
    "    else:\n",
    "        res=[]\n",
    "        for key in data.keys():\n",
    "            tmp = nest_dic(data[key])\n",
    "            print(tmp)\n",
    "            for elm in tmp:\n",
    "                res.append(str(key)+'->'+elm)\n",
    "        return res"
   ]
  },
  {
   "cell_type": "code",
   "execution_count": 7,
   "metadata": {
    "collapsed": false
   },
   "outputs": [
    {
     "name": "stdout",
     "output_type": "stream",
     "text": [
      "['this is shot002']\n",
      "['11']\n",
      "['25']\n",
      "['label->this is shot002', 'start->11', 'end->25']\n",
      "['this is shot001']\n",
      "['1']\n",
      "['10']\n",
      "['label->this is shot001', 'start->1', 'end->10']\n",
      "['this is shot003']\n"
     ]
    },
    {
     "data": {
      "text/plain": [
       "['two->label->this is shot002',\n",
       " 'two->start->11',\n",
       " 'two->end->25',\n",
       " 'one->label->this is shot001',\n",
       " 'one->start->1',\n",
       " 'one->end->10',\n",
       " 'three->this is shot003']"
      ]
     },
     "execution_count": 7,
     "metadata": {},
     "output_type": "execute_result"
    }
   ],
   "source": [
    "nest_dic(data)"
   ]
  },
  {
   "cell_type": "code",
   "execution_count": null,
   "metadata": {
    "collapsed": true
   },
   "outputs": [],
   "source": []
  }
 ],
 "metadata": {
  "anaconda-cloud": {},
  "kernelspec": {
   "display_name": "Python [Root]",
   "language": "python",
   "name": "Python [Root]"
  },
  "language_info": {
   "codemirror_mode": {
    "name": "ipython",
    "version": 3
   },
   "file_extension": ".py",
   "mimetype": "text/x-python",
   "name": "python",
   "nbconvert_exporter": "python",
   "pygments_lexer": "ipython3",
   "version": "3.5.5"
  }
 },
 "nbformat": 4,
 "nbformat_minor": 0
}
