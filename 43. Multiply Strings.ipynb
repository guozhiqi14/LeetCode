{
 "cells": [
  {
   "cell_type": "markdown",
   "metadata": {},
   "source": [
    "## [43. Multiply Strings](https://leetcode.com/problems/multiply-strings/description/)"
   ]
  },
  {
   "cell_type": "markdown",
   "metadata": {},
   "source": [
    "Given two non-negative integers num1 and num2 represented as strings, return the product of num1 and num2, also represented as a string.\n",
    "\n"
   ]
  },
  {
   "cell_type": "raw",
   "metadata": {},
   "source": [
    "Example 1:\n",
    "\n",
    "Input: num1 = \"2\", num2 = \"3\"\n",
    "Output: \"6\"\n",
    "\n",
    "Example 2:\n",
    "\n",
    "Input: num1 = \"123\", num2 = \"456\"\n",
    "Output: \"56088\"\n"
   ]
  },
  {
   "cell_type": "markdown",
   "metadata": {},
   "source": [
    "Note:\n",
    "\n",
    "* The length of both num1 and num2 is < 110.\n",
    "* Both num1 and num2 contain only digits 0-9.\n",
    "* Both num1 and num2 do not contain any leading zero, except the number 0 itself.\n",
    "* You must not use any built-in BigInteger library or convert the inputs to integer directly.\n"
   ]
  },
  {
   "cell_type": "markdown",
   "metadata": {},
   "source": [
    "### [视频](https://www.youtube.com/watch?v=Z_xGMYUSEJ8&t=181s)"
   ]
  },
  {
   "cell_type": "code",
   "execution_count": 22,
   "metadata": {
    "collapsed": true
   },
   "outputs": [],
   "source": [
    "class Solution:\n",
    "    def multiply(self, num1, num2):\n",
    "        \"\"\"\n",
    "        :type num1: str\n",
    "        :type num2: str\n",
    "        :rtype: str\n",
    "        \"\"\"\n",
    "        if len(num1) == 0 or len(num2) == 0:\n",
    "            return '0'\n",
    "        res = [0]*(len(num1)+len(num2))\n",
    "        for i in range(len(num1)-1,-1,-1):\n",
    "            for j in range(len(num2)-1,-1,-1):\n",
    "                #print(num2[j])\n",
    "                mul = (ord(num1[i])-48) *(ord(num2[j])-48)\n",
    "                poslow =  i+j+1\n",
    "                poshigh = i+j\n",
    "                mul += res[poslow]\n",
    "                res[poslow] = mul%10\n",
    "                res[poshigh] += mul//10\n",
    "                print(res)\n",
    "        if set(res) == {0}:\n",
    "            return '0'\n",
    "        else:\n",
    "            res = [str(i) for i in res]\n",
    "            return ''.join(res).lstrip('0')"
   ]
  },
  {
   "cell_type": "code",
   "execution_count": 23,
   "metadata": {
    "collapsed": false
   },
   "outputs": [
    {
     "name": "stdout",
     "output_type": "stream",
     "text": [
      "[0, 0, 1, 5]\n",
      "[0, 1, 3, 5]\n",
      "[0, 2, 3, 5]\n",
      "[1, 0, 3, 5]\n"
     ]
    },
    {
     "data": {
      "text/plain": [
       "'1035'"
      ]
     },
     "execution_count": 23,
     "metadata": {},
     "output_type": "execute_result"
    }
   ],
   "source": [
    "s = Solution()\n",
    "s.multiply('23','45')"
   ]
  },
  {
   "cell_type": "code",
   "execution_count": null,
   "metadata": {
    "collapsed": true
   },
   "outputs": [],
   "source": []
  }
 ],
 "metadata": {
  "kernelspec": {
   "display_name": "Python [Root]",
   "language": "python",
   "name": "Python [Root]"
  },
  "language_info": {
   "codemirror_mode": {
    "name": "ipython",
    "version": 3
   },
   "file_extension": ".py",
   "mimetype": "text/x-python",
   "name": "python",
   "nbconvert_exporter": "python",
   "pygments_lexer": "ipython3",
   "version": "3.5.5"
  }
 },
 "nbformat": 4,
 "nbformat_minor": 0
}
