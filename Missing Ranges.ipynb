{
 "cells": [
  {
   "cell_type": "markdown",
   "metadata": {},
   "source": [
    "## [Missing Ranges](https://leetcode.com/explore/interview/card/top-interview-questions-medium/103/array-and-strings/782/)"
   ]
  },
  {
   "cell_type": "markdown",
   "metadata": {},
   "source": [
    "Given a sorted integer array nums, where the range of elements are in the inclusive range [lower, upper], return its missing ranges.\n",
    "\n"
   ]
  },
  {
   "cell_type": "raw",
   "metadata": {},
   "source": [
    "Example:\n",
    "\n",
    "Input: nums = [0, 1, 3, 50, 75], lower = 0 and upper = 99,\n",
    "Output: [\"2\", \"4->49\", \"51->74\", \"76->99\"]"
   ]
  },
  {
   "cell_type": "code",
   "execution_count": 19,
   "metadata": {
    "collapsed": true
   },
   "outputs": [],
   "source": [
    "class Solution:\n",
    "    def findMissingRanges(self, nums, lower, upper):\n",
    "        \"\"\"\n",
    "        :type nums: List[int]\n",
    "        :type lower: int\n",
    "        :type upper: int\n",
    "        :rtype: List[str]\n",
    "        \"\"\"\n",
    "        res = []\n",
    "        nums.append(upper+1)\n",
    "        nums.insert(0,lower-1)\n",
    "        \n",
    "        for i in range(0,len(nums)-1):\n",
    "            gap = nums[i+1]-nums[i]\n",
    "            if gap > 1:\n",
    "                left,right = nums[i]+1,nums[i]+gap-1\n",
    "                if left == right:\n",
    "                    res.append(str(left))\n",
    "                else:\n",
    "                    res.append(str(left)+'->'+str(right))\n",
    "        return res"
   ]
  },
  {
   "cell_type": "code",
   "execution_count": 20,
   "metadata": {
    "collapsed": false
   },
   "outputs": [
    {
     "data": {
      "text/plain": [
       "['2', '4->49', '51->74', '76->99']"
      ]
     },
     "execution_count": 20,
     "metadata": {},
     "output_type": "execute_result"
    }
   ],
   "source": [
    "Solution.findMissingRanges(__,[0, 1, 3, 50, 75],0,99)"
   ]
  },
  {
   "cell_type": "code",
   "execution_count": null,
   "metadata": {
    "collapsed": true
   },
   "outputs": [],
   "source": []
  }
 ],
 "metadata": {
  "kernelspec": {
   "display_name": "Python [Root]",
   "language": "python",
   "name": "Python [Root]"
  },
  "language_info": {
   "codemirror_mode": {
    "name": "ipython",
    "version": 3
   },
   "file_extension": ".py",
   "mimetype": "text/x-python",
   "name": "python",
   "nbconvert_exporter": "python",
   "pygments_lexer": "ipython3",
   "version": "3.5.5"
  }
 },
 "nbformat": 4,
 "nbformat_minor": 0
}
