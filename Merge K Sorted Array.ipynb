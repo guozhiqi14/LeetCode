{
 "cells": [
  {
   "cell_type": "markdown",
   "metadata": {},
   "source": [
    "Time: $O(k+nlog(k))$\n",
    "\n",
    "space: $O(k)$"
   ]
  },
  {
   "cell_type": "code",
   "execution_count": 63,
   "metadata": {
    "collapsed": false
   },
   "outputs": [],
   "source": [
    "import heapq\n",
    "def mergeK(arraysOfArrays):\n",
    "    if not arraysOfArrays:\n",
    "        return []\n",
    "    heap = []\n",
    "    for i in range(len(arraysOfArrays)):\n",
    "        if arraysOfArrays[i]:\n",
    "            #number, index of array, index of number\n",
    "            heap.append((arraysOfArrays[i][0],i,0))\n",
    "    heapq.heapify(heap)\n",
    "    res = []\n",
    "    while heap:\n",
    "        number,indexOfArray,indexOfNumber = heapq.heappop(heap)\n",
    "        res.append(number)\n",
    "        if indexOfNumber + 1 < len(arraysOfArrays[indexOfArray]):\n",
    "            heapq.heappush(heap,(arraysOfArrays[indexOfArray][indexOfNumber + 1], indexOfArray,indexOfNumber+1))\n",
    "    return res"
   ]
  },
  {
   "cell_type": "code",
   "execution_count": 64,
   "metadata": {
    "collapsed": false
   },
   "outputs": [],
   "source": [
    "arraysOfArrays = [[1,5,7],[2,3,4],[3,6,9]]"
   ]
  },
  {
   "cell_type": "code",
   "execution_count": 65,
   "metadata": {
    "collapsed": false
   },
   "outputs": [
    {
     "data": {
      "text/plain": [
       "[1, 2, 3, 3, 4, 5, 6, 7, 9]"
      ]
     },
     "execution_count": 65,
     "metadata": {},
     "output_type": "execute_result"
    }
   ],
   "source": [
    "mergeK(arraysOfArrays)"
   ]
  },
  {
   "cell_type": "code",
   "execution_count": null,
   "metadata": {
    "collapsed": true
   },
   "outputs": [],
   "source": []
  }
 ],
 "metadata": {
  "kernelspec": {
   "display_name": "Python [Root]",
   "language": "python",
   "name": "Python [Root]"
  },
  "language_info": {
   "codemirror_mode": {
    "name": "ipython",
    "version": 3
   },
   "file_extension": ".py",
   "mimetype": "text/x-python",
   "name": "python",
   "nbconvert_exporter": "python",
   "pygments_lexer": "ipython3",
   "version": "3.5.5"
  }
 },
 "nbformat": 4,
 "nbformat_minor": 0
}
