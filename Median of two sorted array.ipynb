{
 "cells": [
  {
   "cell_type": "markdown",
   "metadata": {},
   "source": [
    "## [Median of two sorted array](https://leetcode.com/problems/median-of-two-sorted-arrays/description/)\n"
   ]
  },
  {
   "cell_type": "markdown",
   "metadata": {},
   "source": [
    "There are two sorted arrays nums1 and nums2 of size m and n respectively.\n",
    "\n",
    "Find the median of the two sorted arrays. The overall run time complexity should be O(log (m+n)).\n",
    "\n",
    "Example 1:\n",
    "nums1 = [1, 3]\n",
    "nums2 = [2]\n",
    "\n",
    "The median is 2.0   \n",
    "\n",
    "\n",
    "Example 2:\n",
    "nums1 = [1, 2]\n",
    "nums2 = [3, 4]\n",
    "\n",
    "The median is (2 + 3)/2 = 2.5"
   ]
  },
  {
   "cell_type": "markdown",
   "metadata": {},
   "source": [
    "思路：因为是BigO log(m+n),肯定要用binary search的方法"
   ]
  },
  {
   "cell_type": "code",
   "execution_count": 7,
   "metadata": {
    "collapsed": false
   },
   "outputs": [
    {
     "data": {
      "text/plain": [
       "4.5"
      ]
     },
     "execution_count": 7,
     "metadata": {},
     "output_type": "execute_result"
    }
   ],
   "source": [
    "def median(A,B):\n",
    "    m,n = len(A),len(B)\n",
    "    \n",
    "    if m > n:\n",
    "        A,B,m,n = B,A,n,m\n",
    "    \n",
    "    imin,imax,half_len, = 0, m, (m+n+1)//2\n",
    "    \n",
    "    while imin <= imax:\n",
    "        i = (imin+imax)//2\n",
    "        j = half_len-i\n",
    "        \n",
    "        if i < m and B[j-1] > A[i]:\n",
    "        #too small\n",
    "            imin = i + 1\n",
    "        elif i >0 and A[i-1] > B[j]:\n",
    "        #too big\n",
    "            imax = i - 1\n",
    "        \n",
    "        else:\n",
    "            #i is good\n",
    "            if i == 0: max_of_left = B[j-1]\n",
    "            elif j == 0: max_of_left = A[i-1]\n",
    "            else: max_of_left = max(A[i-1],B[j-1])\n",
    "            \n",
    "            if (m+n) % 2 == 1:\n",
    "                #odd\n",
    "                return max_of_left\n",
    "            if i == m: min_of_right = B[j]\n",
    "            elif j == n: min_of_right = A[j]\n",
    "            else: min_of_right = min(B[j],A[j])\n",
    "            \n",
    "            return (max_of_left+min_of_right)/2\n",
    "\n",
    "        \n",
    "A=[1,2,3,4]\n",
    "B=[4,5,6,7,8,9]\n",
    "\n",
    "median(A,B)\n",
    "        "
   ]
  },
  {
   "cell_type": "code",
   "execution_count": null,
   "metadata": {
    "collapsed": true
   },
   "outputs": [],
   "source": []
  },
  {
   "cell_type": "code",
   "execution_count": 15,
   "metadata": {
    "collapsed": false
   },
   "outputs": [
    {
     "data": {
      "text/plain": [
       "4.5"
      ]
     },
     "execution_count": 15,
     "metadata": {},
     "output_type": "execute_result"
    }
   ],
   "source": [
    "def MMedian(A,B):\n",
    "    m,n = len(A),len(B)\n",
    "    if m > n:\n",
    "        A,B,m,n = B,A,n,m\n",
    "        \n",
    "    imin,imax, half_length = 0, m, (m+n+1) // 2\n",
    "\n",
    "    \n",
    "    while imin <= imax:\n",
    "#         if i > 0 and A[i-1] > B[j]:\n",
    "#             #i too big\n",
    "#             imax = i-1\n",
    "#         elif i < m and B[j-1] > A[i]:\n",
    "#             #i too small\n",
    "#             imin = i+1\n",
    "        i = (imin+imax)//2\n",
    "        j = half_length-i\n",
    "        \n",
    "        if i < m and B[j-1] > A[i]:\n",
    "            #i too small\n",
    "            imin = i+1\n",
    "        elif i > 0 and A[i-1] > B[j]:\n",
    "            #i too big\n",
    "            imax = i-1\n",
    "        else:\n",
    "            #i is good\n",
    "            if i == 0: max_left = B[j-1]\n",
    "            elif j == 0: max_left = A[i-1]\n",
    "            else: max_left = max(A[i-1],B[j-1])\n",
    "            \n",
    "            if (m+n) % 2 == 1:\n",
    "                #odd\n",
    "                return max_left\n",
    "            \n",
    "            if i == m: min_right = B[j]\n",
    "            elif j == n: min_right = A[i]\n",
    "            else: min_right = min(A[i],B[j])\n",
    "            \n",
    "            return (max_left+min_right)/2\n",
    "\n",
    "        \n",
    "\n",
    "A=[1,2,3,4]\n",
    "B=[4,5,6,7,8,9]\n",
    "\n",
    "MMedian(A,B)"
   ]
  },
  {
   "cell_type": "code",
   "execution_count": 20,
   "metadata": {
    "collapsed": false
   },
   "outputs": [
    {
     "name": "stdout",
     "output_type": "stream",
     "text": [
      "[ 0.  0. nan]\n",
      "[5.75274406e-290 2.39848787e-145 1.00000000e+000]\n"
     ]
    },
    {
     "name": "stderr",
     "output_type": "stream",
     "text": [
      "//anaconda/lib/python3.5/site-packages/ipykernel/__main__.py:4: RuntimeWarning: overflow encountered in exp\n",
      "//anaconda/lib/python3.5/site-packages/ipykernel/__main__.py:4: RuntimeWarning: invalid value encountered in true_divide\n"
     ]
    }
   ],
   "source": [
    "import numpy as np\n",
    "\n",
    "f = np.array([123, 456, 789]) # example with 3 classes and each having large scores\n",
    "p1 = np.exp(f) / np.sum(np.exp(f)) # Bad: Numeric problem, potential blowup\n",
    "print(p1)\n",
    "\n",
    "\n",
    "# instead: first shift the values of f so that the highest number is 0:\n",
    "f -= np.max(f) # f becomes [-666, -333, 0]\n",
    "p2 = np.exp(f) / np.sum(np.exp(f)) # safe to do, gives the correct answer\n",
    "print(p2)\n"
   ]
  },
  {
   "cell_type": "code",
   "execution_count": 22,
   "metadata": {
    "collapsed": false
   },
   "outputs": [
    {
     "data": {
      "text/plain": [
       "0.7038961038961039"
      ]
     },
     "execution_count": 22,
     "metadata": {},
     "output_type": "execute_result"
    }
   ],
   "source": [
    "a = [2.71,0.14,1]\n",
    "a[0]/sum(a)"
   ]
  },
  {
   "cell_type": "code",
   "execution_count": null,
   "metadata": {
    "collapsed": true
   },
   "outputs": [],
   "source": []
  }
 ],
 "metadata": {
  "anaconda-cloud": {},
  "kernelspec": {
   "display_name": "Python [Root]",
   "language": "python",
   "name": "Python [Root]"
  },
  "language_info": {
   "codemirror_mode": {
    "name": "ipython",
    "version": 3
   },
   "file_extension": ".py",
   "mimetype": "text/x-python",
   "name": "python",
   "nbconvert_exporter": "python",
   "pygments_lexer": "ipython3",
   "version": "3.5.4"
  }
 },
 "nbformat": 4,
 "nbformat_minor": 0
}
