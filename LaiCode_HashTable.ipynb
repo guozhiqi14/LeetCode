{
 "cells": [
  {
   "cell_type": "markdown",
   "metadata": {},
   "source": [
    "### Find the length of a longest contained range.   \n",
    "* Given the iteger array, find the size of a largest subset of integers in the array having the property that if two integers are in the subset, then so are all integers between them.   \n",
    "\n",
    "eg.  arr = [3,-2,7,9,8,1,2,0,-1,5,8]\n",
    "\n",
    "the biggeest contained range is [-2,-1,0,1,2,3], return 6."
   ]
  },
  {
   "cell_type": "code",
   "execution_count": 4,
   "metadata": {
    "collapsed": false
   },
   "outputs": [
    {
     "data": {
      "text/plain": [
       "6"
      ]
     },
     "execution_count": 4,
     "metadata": {},
     "output_type": "execute_result"
    }
   ],
   "source": [
    "def findRange(arr):\n",
    "    hashSet = set(arr)\n",
    "    res = 0\n",
    "    while hashSet:\n",
    "        element = hashSet.pop()\n",
    "        high,low = element,element\n",
    "        while low-1 in hashSet:\n",
    "            low -= 1\n",
    "            hashSet.remove(low)\n",
    "            \n",
    "        while high+1 in hashSet:\n",
    "            high += 1\n",
    "            hashSet.remove(high)\n",
    "        res = max(high-low+1,res)\n",
    "        \n",
    "        return res\n",
    "\n",
    "findRange(arr= [3,-2,7,9,8,1,2,0,-1,5,8])"
   ]
  },
  {
   "cell_type": "code",
   "execution_count": 5,
   "metadata": {
    "collapsed": false
   },
   "outputs": [
    {
     "data": {
      "text/plain": [
       "4"
      ]
     },
     "execution_count": 5,
     "metadata": {},
     "output_type": "execute_result"
    }
   ],
   "source": [
    "findRange(arr= [1,2,3,4,7,8,-1])"
   ]
  },
  {
   "cell_type": "markdown",
   "metadata": {},
   "source": [
    "### Find the longest subarray with distince entries. (leetcode第三题)\n",
    "\n",
    "arr = [f,s,f,e,t,w,e,n,w,e], the longest distinct subarray is [s,f,e,t,w]"
   ]
  },
  {
   "cell_type": "code",
   "execution_count": 11,
   "metadata": {
    "collapsed": false
   },
   "outputs": [
    {
     "data": {
      "text/plain": [
       "5"
      ]
     },
     "execution_count": 11,
     "metadata": {},
     "output_type": "execute_result"
    }
   ],
   "source": [
    "#brutal\n",
    "def findSub(arr):\n",
    "    ans = 0\n",
    "    for i in range(len(arr)):\n",
    "        for j in range(i,len(arr)):\n",
    "            sub = arr[i:j+1]\n",
    "            if len(set(sub)) == len(sub):\n",
    "                ans = max(len(sub),ans)\n",
    "    return ans\n",
    "\n",
    "findSub(['f','s','f','e','t','w','e','n','w','e'])"
   ]
  },
  {
   "cell_type": "code",
   "execution_count": 12,
   "metadata": {
    "collapsed": false
   },
   "outputs": [
    {
     "data": {
      "text/plain": [
       "1"
      ]
     },
     "execution_count": 12,
     "metadata": {},
     "output_type": "execute_result"
    }
   ],
   "source": [
    "findSub(['b','b','b'])"
   ]
  },
  {
   "cell_type": "code",
   "execution_count": 19,
   "metadata": {
    "collapsed": false
   },
   "outputs": [
    {
     "data": {
      "text/plain": [
       "2"
      ]
     },
     "execution_count": 19,
     "metadata": {},
     "output_type": "execute_result"
    }
   ],
   "source": [
    "def lengthOfLongestSubstring(s):\n",
    "    \"\"\"\n",
    "    :type s: str\n",
    "    :rtype: int\n",
    "    \"\"\"\n",
    "    start = res = 0\n",
    "    hashMap = {}\n",
    "    for i in range(len(s)):\n",
    "        if s[i] in hashMap:\n",
    "            #假设str = ‘abcbcad’,如果你不加这个判断，第二次遇到a的时候，start指针重新指向1，就有问题了。\n",
    "            if hashMap[s[i]] >= start:\n",
    "                res = max(res,i-start)\n",
    "                start = hashMap[s[i]] + 1\n",
    "        hashMap[s[i]] = i\n",
    "    res = max(res,len(s)-start)\n",
    "    return res\n",
    "#lengthOfLongestSubstring(['f','s','f','e','t','w','e','n','w','e']) \n",
    "#lengthOfLongestSubstring(['p','w','w','k','e','w','p'])      \n",
    "lengthOfLongestSubstring(['a','b','b','a'])        "
   ]
  },
  {
   "cell_type": "code",
   "execution_count": 15,
   "metadata": {
    "collapsed": false
   },
   "outputs": [
    {
     "ename": "IndentationError",
     "evalue": "unexpected indent (<ipython-input-15-658bc16b0d52>, line 2)",
     "output_type": "error",
     "traceback": [
      "\u001b[0;36m  File \u001b[0;32m\"<ipython-input-15-658bc16b0d52>\"\u001b[0;36m, line \u001b[0;32m2\u001b[0m\n\u001b[0;31m    s\u001b[0m\n\u001b[0m    ^\u001b[0m\n\u001b[0;31mIndentationError\u001b[0m\u001b[0;31m:\u001b[0m unexpected indent\n"
     ]
    }
   ],
   "source": [
    "['a b b a']\n",
    "      s        "
   ]
  },
  {
   "cell_type": "code",
   "execution_count": null,
   "metadata": {
    "collapsed": true
   },
   "outputs": [],
   "source": []
  }
 ],
 "metadata": {
  "anaconda-cloud": {},
  "kernelspec": {
   "display_name": "Python [Root]",
   "language": "python",
   "name": "Python [Root]"
  },
  "language_info": {
   "codemirror_mode": {
    "name": "ipython",
    "version": 3
   },
   "file_extension": ".py",
   "mimetype": "text/x-python",
   "name": "python",
   "nbconvert_exporter": "python",
   "pygments_lexer": "ipython3",
   "version": "3.5.5"
  }
 },
 "nbformat": 4,
 "nbformat_minor": 0
}
