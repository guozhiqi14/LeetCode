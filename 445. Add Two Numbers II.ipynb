{
 "cells": [
  {
   "cell_type": "markdown",
   "metadata": {},
   "source": [
    "## [445. Add Two Numbers II](https://leetcode.com/problems/add-two-numbers-ii/description/)"
   ]
  },
  {
   "cell_type": "markdown",
   "metadata": {},
   "source": [
    "You are given two non-empty linked lists representing two non-negative integers. The most significant digit comes first and each of their nodes contain a single digit. Add the two numbers and return it as a linked list.\n",
    "\n",
    "You may assume the two numbers do not contain any leading zero, except the number 0 itself.\n",
    "\n",
    "Follow up:\n",
    "\n",
    "What if you cannot modify the input lists? In other words, reversing the lists is not allowed.\n",
    "\n"
   ]
  },
  {
   "cell_type": "raw",
   "metadata": {},
   "source": [
    "Example:\n",
    "\n",
    "Input: (7 -> 2 -> 4 -> 3) + (5 -> 6 -> 4)\n",
    "Output: 7 -> 8 -> 0 -> 7"
   ]
  },
  {
   "cell_type": "markdown",
   "metadata": {},
   "source": [
    "### [2. Add Two Numbers 链接](https://leetcode.com/problems/add-two-numbers/description/)   \n",
    "翻转三次的做法"
   ]
  },
  {
   "cell_type": "code",
   "execution_count": 2,
   "metadata": {
    "collapsed": true
   },
   "outputs": [],
   "source": [
    "# Definition for singly-linked list.\n",
    "# class ListNode(object):\n",
    "#     def __init__(self, x):\n",
    "#         self.val = x\n",
    "#         self.next = None\n",
    "\n",
    "class Solution(object):\n",
    "    def addTwoNumbers(self, l1, l2):\n",
    "        \"\"\"\n",
    "        :type l1: ListNode\n",
    "        :type l2: ListNode\n",
    "        :rtype: ListNode\n",
    "        \"\"\"\n",
    "        def reverse(head):\n",
    "            newHead = None\n",
    "            while head:\n",
    "                temp = head.next\n",
    "                head.next = newHead\n",
    "                newHead = head\n",
    "                head = temp\n",
    "            return newHead\n",
    "        \n",
    "        l1 = reverse(l1)\n",
    "        l2 = reverse(l2)\n",
    "        \n",
    "        dummy = ListNode(0)\n",
    "        result = dummy\n",
    "        carry = 0\n",
    "        while l1 or l2 or carry:\n",
    "            value = 0\n",
    "            if l1:\n",
    "                value += l1.val\n",
    "                l1 = l1.next\n",
    "            if l2:\n",
    "                value += l2.val\n",
    "                l2 = l2.next\n",
    "            if carry:\n",
    "                value += 1\n",
    "            carry = value // 10\n",
    "            dummy.next = ListNode(value%10)\n",
    "            dummy = dummy.next\n",
    "        \n",
    "        return reverse(result.next)\n",
    "        "
   ]
  },
  {
   "cell_type": "markdown",
   "metadata": {},
   "source": [
    "### [Stack](https://leetcode.com/problems/add-two-numbers-ii/discuss/129192/clear-python-solution-using-stack)"
   ]
  },
  {
   "cell_type": "code",
   "execution_count": 3,
   "metadata": {
    "collapsed": true
   },
   "outputs": [],
   "source": [
    "class Solution:\n",
    "    def addTwoNumbers(self, l1, l2):\n",
    "        \"\"\"\n",
    "        :type l1: ListNode\n",
    "        :type l2: ListNode\n",
    "        :rtype: ListNode\n",
    "        \"\"\"\n",
    "        # Use two stacks to store the number\n",
    "        stack1 = []\n",
    "        stack2 = []\n",
    "        while l1:\n",
    "            stack1.append(l1.val)\n",
    "            l1 = l1.next\n",
    "        while l2:\n",
    "            stack2.append(l2.val)\n",
    "            l2 = l2.next\n",
    "            \n",
    "        carry = 0\n",
    "        result = []\n",
    "        head = ListNode(-1)\n",
    "        while stack1 or stack2:\n",
    "            if not stack1:\n",
    "                val = stack2.pop()\n",
    "            elif not stack2:\n",
    "                val = stack1.pop()\n",
    "            else:\n",
    "                val = stack1.pop() + stack2.pop()    \n",
    "            carry, val = divmod(carry + val, 10)\n",
    "            head.val = val\n",
    "            temp = head\n",
    "            head = ListNode(-1)\n",
    "            head.next = temp\n",
    "        if carry: head.val = carry\n",
    "        return head if head.val != -1 else head.next "
   ]
  },
  {
   "cell_type": "code",
   "execution_count": null,
   "metadata": {
    "collapsed": true
   },
   "outputs": [],
   "source": []
  }
 ],
 "metadata": {
  "kernelspec": {
   "display_name": "Python [Root]",
   "language": "python",
   "name": "Python [Root]"
  },
  "language_info": {
   "codemirror_mode": {
    "name": "ipython",
    "version": 3
   },
   "file_extension": ".py",
   "mimetype": "text/x-python",
   "name": "python",
   "nbconvert_exporter": "python",
   "pygments_lexer": "ipython3",
   "version": "3.5.5"
  }
 },
 "nbformat": 4,
 "nbformat_minor": 0
}
