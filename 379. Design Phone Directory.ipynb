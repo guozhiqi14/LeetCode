{
 "cells": [
  {
   "cell_type": "markdown",
   "metadata": {},
   "source": [
    "## [379. Design Phone Director](https://leetcode.com/problems/design-phone-directory/)"
   ]
  },
  {
   "cell_type": "markdown",
   "metadata": {},
   "source": [
    "Design a Phone Directory which supports the following operations:\n",
    "\n",
    "* get: Provide a number which is not assigned to anyone.\n",
    "* check: Check if a number is available or not.\n",
    "* release: Recycle or release a number."
   ]
  },
  {
   "cell_type": "raw",
   "metadata": {},
   "source": [
    "Example:\n",
    "\n",
    "// Init a phone directory containing a total of 3 numbers: 0, 1, and 2.\n",
    "PhoneDirectory directory = new PhoneDirectory(3);\n",
    "\n",
    "// It can return any available phone number. Here we assume it returns 0.\n",
    "directory.get();\n",
    "\n",
    "// Assume it returns 1.\n",
    "directory.get();\n",
    "\n",
    "// The number 2 is available, so return true.\n",
    "directory.check(2);\n",
    "\n",
    "// It returns 2, the only number that is left.\n",
    "directory.get();\n",
    "\n",
    "// The number 2 is no longer available, so return false.\n",
    "directory.check(2);\n",
    "\n",
    "// Release number 2 back to the pool.\n",
    "directory.release(2);\n",
    "\n",
    "// Number 2 is available again, return true.\n",
    "directory.check(2);"
   ]
  },
  {
   "cell_type": "markdown",
   "metadata": {},
   "source": [
    "### [参考](https://leetcode.com/problems/design-phone-directory/discuss/85341/4-line-Python-solution-using-only-1-set-and-no-queue)"
   ]
  },
  {
   "cell_type": "code",
   "execution_count": 8,
   "metadata": {
    "collapsed": true
   },
   "outputs": [],
   "source": [
    "class PhoneDirectory:\n",
    "\n",
    "    def __init__(self, maxNumbers):\n",
    "        \"\"\"\n",
    "        Initialize your data structure here\n",
    "        @param maxNumbers - The maximum numbers that can be stored in the phone directory.\n",
    "        :type maxNumbers: int\n",
    "        \"\"\"\n",
    "        self.available = set(range(maxNumbers))\n",
    "        \n",
    "    def get(self):\n",
    "        \"\"\"\n",
    "        Provide a number which is not assigned to anyone.\n",
    "        @return - Return an available number. Return -1 if none is available.\n",
    "        :rtype: int\n",
    "        \"\"\"\n",
    "        return self.available.pop() if self.available else -1\n",
    "\n",
    "    def check(self, number):\n",
    "        \"\"\"\n",
    "        Check if a number is available or not.\n",
    "        :type number: int\n",
    "        :rtype: bool\n",
    "        \"\"\"\n",
    "        return number in self.available\n",
    "\n",
    "    def release(self, number):\n",
    "        \"\"\"\n",
    "        Recycle or release a number.\n",
    "        :type number: int\n",
    "        :rtype: void\n",
    "        \"\"\"\n",
    "        self.available.add(number)\n",
    "        \n",
    "\n",
    "\n",
    "# Your PhoneDirectory object will be instantiated and called as such:\n",
    "# obj = PhoneDirectory(maxNumbers)\n",
    "# param_1 = obj.get()\n",
    "# param_2 = obj.check(number)\n",
    "# obj.release(number)"
   ]
  },
  {
   "cell_type": "code",
   "execution_count": null,
   "metadata": {
    "collapsed": true
   },
   "outputs": [],
   "source": []
  }
 ],
 "metadata": {
  "kernelspec": {
   "display_name": "Python [Root]",
   "language": "python",
   "name": "Python [Root]"
  },
  "language_info": {
   "codemirror_mode": {
    "name": "ipython",
    "version": 3
   },
   "file_extension": ".py",
   "mimetype": "text/x-python",
   "name": "python",
   "nbconvert_exporter": "python",
   "pygments_lexer": "ipython3",
   "version": "3.5.5"
  }
 },
 "nbformat": 4,
 "nbformat_minor": 0
}
