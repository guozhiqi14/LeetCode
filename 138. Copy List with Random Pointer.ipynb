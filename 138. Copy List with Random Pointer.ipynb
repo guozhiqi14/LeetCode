{
 "cells": [
  {
   "cell_type": "markdown",
   "metadata": {},
   "source": [
    "## [138. Copy List with Random Pointer](https://leetcode.com/problems/copy-list-with-random-pointer/description/)"
   ]
  },
  {
   "cell_type": "markdown",
   "metadata": {},
   "source": [
    "A linked list is given such that each node contains an additional random pointer which could point to any node in the list or null.\n",
    "\n",
    "Return a deep copy of the list.\n",
    "\n"
   ]
  },
  {
   "cell_type": "markdown",
   "metadata": {},
   "source": [
    "### [视频](https://www.youtube.com/watch?v=ZEQpNhEFCxE)"
   ]
  },
  {
   "cell_type": "code",
   "execution_count": 1,
   "metadata": {
    "collapsed": true
   },
   "outputs": [],
   "source": [
    "# Definition for singly-linked list with a random pointer.\n",
    "# class RandomListNode(object):\n",
    "#     def __init__(self, x):\n",
    "#         self.label = x\n",
    "#         self.next = None\n",
    "#         self.random = None\n",
    "\n",
    "class Solution(object):\n",
    "    def copyRandomList(self, head):\n",
    "        \"\"\"\n",
    "        :type head: RandomListNode\n",
    "        :rtype: RandomListNode\n",
    "        \"\"\"\n",
    "        if not head:\n",
    "            return None\n",
    "        \n",
    "        dummy = RandomListNode(0)\n",
    "        cur = dummy\n",
    "        dictMap = {}\n",
    "        \n",
    "        while head:\n",
    "            if head in dictMap:\n",
    "                newNode = dictMap[head]\n",
    "            else:\n",
    "                newNode = RandomListNode(head.label)\n",
    "                dictMap[head] = newNode\n",
    "            \n",
    "            if head.random:\n",
    "                if head.random in dictMap:\n",
    "                    newNode.random = dictMap[head.random]\n",
    "                else:\n",
    "                    newNode.random = RandomListNode(head.random.label)\n",
    "                    dictMap[head.random] = newNode.random\n",
    "            head = head.next\n",
    "            cur.next = newNode\n",
    "            cur = cur.next\n",
    "            \n",
    "        return dummy.next"
   ]
  },
  {
   "cell_type": "code",
   "execution_count": null,
   "metadata": {
    "collapsed": true
   },
   "outputs": [],
   "source": []
  }
 ],
 "metadata": {
  "kernelspec": {
   "display_name": "Python [Root]",
   "language": "python",
   "name": "Python [Root]"
  },
  "language_info": {
   "codemirror_mode": {
    "name": "ipython",
    "version": 3
   },
   "file_extension": ".py",
   "mimetype": "text/x-python",
   "name": "python",
   "nbconvert_exporter": "python",
   "pygments_lexer": "ipython3",
   "version": "3.5.5"
  }
 },
 "nbformat": 4,
 "nbformat_minor": 0
}
