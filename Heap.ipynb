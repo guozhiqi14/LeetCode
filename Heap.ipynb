{
 "cells": [
  {
   "cell_type": "markdown",
   "metadata": {},
   "source": [
    "### Sift-up Operation O(log(n))"
   ]
  },
  {
   "cell_type": "code",
   "execution_count": 11,
   "metadata": {
    "collapsed": false
   },
   "outputs": [],
   "source": [
    "#min-heap\n",
    "def sift_up(arr,index):\n",
    "    parent_index = (index-1)//2\n",
    "    if parent_index < 0 or arr[parent_index] < arr[index]:\n",
    "        return\n",
    "    arr[parent_index],arr[index] = arr[index],arr[parent_index]\n",
    "    sift_up(arr,parent_index)\n",
    "    return arr"
   ]
  },
  {
   "cell_type": "code",
   "execution_count": 12,
   "metadata": {
    "collapsed": false
   },
   "outputs": [
    {
     "data": {
      "text/plain": [
       "[-1, 1, 0, 6, 8, 5]"
      ]
     },
     "execution_count": 12,
     "metadata": {},
     "output_type": "execute_result"
    }
   ],
   "source": [
    "arr = [0,1,5,6,8,-1]\n",
    "sift_up(arr,len(arr)-1)"
   ]
  },
  {
   "cell_type": "code",
   "execution_count": null,
   "metadata": {
    "collapsed": true
   },
   "outputs": [],
   "source": []
  },
  {
   "cell_type": "markdown",
   "metadata": {},
   "source": [
    "### Pop Operation的时候先把最后一个element放到第一个去，然后再不断sift down"
   ]
  },
  {
   "cell_type": "markdown",
   "metadata": {},
   "source": [
    "### Sift-down Operation O(log(n))"
   ]
  },
  {
   "cell_type": "code",
   "execution_count": 15,
   "metadata": {
    "collapsed": true
   },
   "outputs": [],
   "source": [
    "#min-heap\n",
    "#Recursion\n",
    "def sift_down(arr,index):\n",
    "    left_index = index*2+1\n",
    "    right_index = index*2+2\n",
    "    small = index\n",
    "    if left_index <= len(arr)-1 and arr[left_index] < arr[small]:\n",
    "        small = left_index\n",
    "    if right_index <= len(arr)-1 and arr[right_index] < arr[small]:\n",
    "        small = right_index\n",
    "    if small != index:\n",
    "        arr[index],arr[small] = arr[small],arr[index]\n",
    "        sift_down(arr,small)"
   ]
  },
  {
   "cell_type": "code",
   "execution_count": 18,
   "metadata": {
    "collapsed": true
   },
   "outputs": [],
   "source": [
    "#min-heap\n",
    "#Iteration\n",
    "def sift_down(arr,index):\n",
    "    left_index = index*2+1\n",
    "    right_index = index*2+2\n",
    "    \n",
    "    while left_index < len(arr) or right_index < len(arr):\n",
    "        small = index\n",
    "        if left_index < len(arr) and arr[left_index] < arr[small]:\n",
    "            small = left_index\n",
    "        if right_index < len(arr) and arr[right_index] < arr[small]:\n",
    "            small = right_index\n",
    "        if small == index:\n",
    "            break\n",
    "        else:\n",
    "            arr[small],arr[index] = arr[index],arr[small]\n",
    "            index = small\n",
    "            left_index = small*2+1\n",
    "            right_index = small*2+2"
   ]
  },
  {
   "cell_type": "code",
   "execution_count": null,
   "metadata": {
    "collapsed": true
   },
   "outputs": [],
   "source": [
    "def build_heap(arr):\n",
    "    for i in range((len(arr)-1-1)//2,-1,-1):\n",
    "        sift_down(arr,i)"
   ]
  },
  {
   "cell_type": "code",
   "execution_count": 25,
   "metadata": {
    "collapsed": true
   },
   "outputs": [],
   "source": [
    "x = {'a','b'}"
   ]
  },
  {
   "cell_type": "code",
   "execution_count": 26,
   "metadata": {
    "collapsed": false
   },
   "outputs": [
    {
     "data": {
      "text/plain": [
       "{'a', 'b'}"
      ]
     },
     "execution_count": 26,
     "metadata": {},
     "output_type": "execute_result"
    }
   ],
   "source": [
    "x"
   ]
  },
  {
   "cell_type": "code",
   "execution_count": 21,
   "metadata": {
    "collapsed": false
   },
   "outputs": [
    {
     "data": {
      "text/plain": [
       "set"
      ]
     },
     "execution_count": 21,
     "metadata": {},
     "output_type": "execute_result"
    }
   ],
   "source": [
    "type(x)"
   ]
  },
  {
   "cell_type": "code",
   "execution_count": 23,
   "metadata": {
    "collapsed": false
   },
   "outputs": [],
   "source": [
    "x = set(['a','b'])"
   ]
  },
  {
   "cell_type": "code",
   "execution_count": 24,
   "metadata": {
    "collapsed": false
   },
   "outputs": [
    {
     "data": {
      "text/plain": [
       "{'a', 'b'}"
      ]
     },
     "execution_count": 24,
     "metadata": {},
     "output_type": "execute_result"
    }
   ],
   "source": [
    "x"
   ]
  },
  {
   "cell_type": "code",
   "execution_count": null,
   "metadata": {
    "collapsed": true
   },
   "outputs": [],
   "source": []
  }
 ],
 "metadata": {
  "kernelspec": {
   "display_name": "Python [Root]",
   "language": "python",
   "name": "Python [Root]"
  },
  "language_info": {
   "codemirror_mode": {
    "name": "ipython",
    "version": 3
   },
   "file_extension": ".py",
   "mimetype": "text/x-python",
   "name": "python",
   "nbconvert_exporter": "python",
   "pygments_lexer": "ipython3",
   "version": "3.5.5"
  }
 },
 "nbformat": 4,
 "nbformat_minor": 0
}
