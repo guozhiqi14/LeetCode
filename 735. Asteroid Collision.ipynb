{
 "cells": [
  {
   "cell_type": "markdown",
   "metadata": {},
   "source": [
    "## [735. Asteroid Collision](https://leetcode.com/problems/asteroid-collision/description/)"
   ]
  },
  {
   "cell_type": "markdown",
   "metadata": {},
   "source": [
    "We are given an array asteroids of integers representing asteroids in a row.\n",
    "\n",
    "For each asteroid, the absolute value represents its size, and the sign represents its direction (positive meaning right, negative meaning left). Each asteroid moves at the same speed.\n",
    "\n",
    "Find out the state of the asteroids after all collisions. If two asteroids meet, the smaller one will explode. If both are the same size, both will explode. Two asteroids moving in the same direction will never meet."
   ]
  },
  {
   "cell_type": "raw",
   "metadata": {},
   "source": [
    "Example 1:\n",
    "Input: \n",
    "asteroids = [5, 10, -5]\n",
    "Output: [5, 10]\n",
    "Explanation: \n",
    "The 10 and -5 collide resulting in 10.  The 5 and 10 never collide.\n",
    "\n",
    "Example 2:\n",
    "Input: \n",
    "asteroids = [8, -8]\n",
    "Output: []\n",
    "Explanation: \n",
    "The 8 and -8 collide exploding each other.\n",
    "\n",
    "Example 3:\n",
    "Input: \n",
    "asteroids = [10, 2, -5]\n",
    "Output: [10]\n",
    "Explanation: \n",
    "The 2 and -5 collide resulting in -5.  The 10 and -5 collide resulting in 10.\n",
    "\n",
    "Example 4:\n",
    "Input: \n",
    "asteroids = [-2, -1, 1, 2]\n",
    "Output: [-2, -1, 1, 2]\n",
    "Explanation: \n",
    "The -2 and -1 are moving left, while the 1 and 2 are moving right.\n",
    "Asteroids moving the same direction never meet, so no asteroids will meet each other."
   ]
  },
  {
   "cell_type": "markdown",
   "metadata": {},
   "source": [
    "Note:\n",
    "\n",
    "* The length of asteroids will be at most 10000.\n",
    "* Each asteroid will be a non-zero integer in the range [-1000, 1000].."
   ]
  },
  {
   "cell_type": "markdown",
   "metadata": {},
   "source": [
    "### [视频](https://www.youtube.com/watch?v=8oOhXcdXbZk&t=482s)"
   ]
  },
  {
   "cell_type": "code",
   "execution_count": 1,
   "metadata": {
    "collapsed": true
   },
   "outputs": [],
   "source": [
    "class Solution:\n",
    "    def asteroidCollision(self, asteroids):\n",
    "        \"\"\"\n",
    "        :type asteroids: List[int]\n",
    "        :rtype: List[int]\n",
    "        \"\"\"\n",
    "        stack = []\n",
    "        for a in asteroids:\n",
    "            if a > 0:\n",
    "                stack.append(a)\n",
    "            elif a < 0:\n",
    "                while len(stack) and stack[-1] > 0:\n",
    "                    if abs(a) > abs(stack[-1]):\n",
    "                        stack.pop()\n",
    "                        continue\n",
    "                    elif abs(a) == abs(stack[-1]):\n",
    "                        stack.pop()\n",
    "                        break\n",
    "                    elif abs(a) < abs(stack[-1]):\n",
    "                        break\n",
    "                        \n",
    "                else:      \n",
    "                    stack.append(a)\n",
    "        return stack\n",
    "                    \n",
    "                    "
   ]
  },
  {
   "cell_type": "code",
   "execution_count": null,
   "metadata": {
    "collapsed": true
   },
   "outputs": [],
   "source": []
  }
 ],
 "metadata": {
  "kernelspec": {
   "display_name": "Python [Root]",
   "language": "python",
   "name": "Python [Root]"
  },
  "language_info": {
   "codemirror_mode": {
    "name": "ipython",
    "version": 3
   },
   "file_extension": ".py",
   "mimetype": "text/x-python",
   "name": "python",
   "nbconvert_exporter": "python",
   "pygments_lexer": "ipython3",
   "version": "3.5.5"
  }
 },
 "nbformat": 4,
 "nbformat_minor": 0
}
