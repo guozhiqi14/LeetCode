{
 "cells": [
  {
   "cell_type": "markdown",
   "metadata": {},
   "source": [
    "## LaiCode Course Homework\n"
   ]
  },
  {
   "cell_type": "markdown",
   "metadata": {},
   "source": [
    "## Merge Sort"
   ]
  },
  {
   "cell_type": "code",
   "execution_count": 48,
   "metadata": {
    "collapsed": true
   },
   "outputs": [],
   "source": [
    "def mergeSort(arr):\n",
    "    if not arr or len(arr) == 1 or len(arr) == 0:\n",
    "        return arr\n",
    "    else:\n",
    "        middle = len(arr)//2\n",
    "        left = mergeSort(arr[:middle])\n",
    "        right = mergeSort(arr[middle:])\n",
    "        return merge(left,right)\n",
    "        \n",
    "def merge(left,right):\n",
    "    i,j = 0,0\n",
    "    c = []\n",
    "    while i < len(left) and j < len(right):\n",
    "        \n",
    "        if left[i] < right[j]:\n",
    "            c.append(left[i])\n",
    "            i+=1\n",
    "        else:\n",
    "            c.append(right[j])\n",
    "            j += 1\n",
    "    while i < len(left):\n",
    "        c.append(left[i])\n",
    "        i+=1 \n",
    "    while j < len(right):\n",
    "        c.append(right[j])\n",
    "        j += 1\n",
    "    \n",
    "    \n",
    "    return c"
   ]
  },
  {
   "cell_type": "code",
   "execution_count": 50,
   "metadata": {
    "collapsed": false
   },
   "outputs": [
    {
     "data": {
      "text/plain": [
       "[-1, 0, 1, 2, 3, 5]"
      ]
     },
     "execution_count": 50,
     "metadata": {},
     "output_type": "execute_result"
    }
   ],
   "source": [
    "mergeSort([2,1,0,3,-1,5])"
   ]
  },
  {
   "cell_type": "code",
   "execution_count": null,
   "metadata": {
    "collapsed": true
   },
   "outputs": [],
   "source": []
  },
  {
   "cell_type": "code",
   "execution_count": 71,
   "metadata": {
    "collapsed": true
   },
   "outputs": [],
   "source": [
    "from random import randrange\n",
    "def quickSort(arr,start,end):\n",
    "    if start >= end:\n",
    "        return \n",
    "    \n",
    "    pivotIndex = randrange(start,end+1)\n",
    "    new_pivot_index = partition(arr,start,end,pivotIndex)\n",
    "    quickSort(arr,start,new_pivot_index-1)\n",
    "    quickSort(arr,new_pivot_index+1,end)\n",
    "    \n",
    "\n",
    "def partition(arr,start,end,pivotIndex):\n",
    "    pivot = arr[pivotIndex]\n",
    "    arr[pivotIndex],arr[end] = arr[end],arr[pivotIndex]\n",
    "    store_index = start\n",
    "    for i in range(start,end):\n",
    "        if arr[i] < pivot:\n",
    "            arr[i],arr[store_index] = arr[store_index],arr[i]\n",
    "            store_index+=1\n",
    "    arr[end],arr[store_index] = arr[store_index],arr[end]\n",
    "    \n",
    "    return store_index"
   ]
  },
  {
   "cell_type": "code",
   "execution_count": 72,
   "metadata": {
    "collapsed": false
   },
   "outputs": [],
   "source": [
    "alist = [2,1,0,3,-1,5]\n",
    "quickSort(alist,0,len(alist)-1)"
   ]
  },
  {
   "cell_type": "code",
   "execution_count": 73,
   "metadata": {
    "collapsed": false
   },
   "outputs": [
    {
     "data": {
      "text/plain": [
       "[-1, 0, 1, 2, 3, 5]"
      ]
     },
     "execution_count": 73,
     "metadata": {},
     "output_type": "execute_result"
    }
   ],
   "source": [
    "alist"
   ]
  },
  {
   "cell_type": "code",
   "execution_count": 123,
   "metadata": {
    "collapsed": false
   },
   "outputs": [],
   "source": [
    "import random\n",
    "class Solution(object):\n",
    "    def quickSort(self,array):\n",
    "        \"\"\"\n",
    "        input: int[] array\n",
    "        return: int[]\n",
    "        \"\"\"\n",
    "        # write your solution here\n",
    "        def _quickSort(array,begin,end):\n",
    "            if not array or len(array) == 0:\n",
    "                return\n",
    "            if begin >= end:\n",
    "                return \n",
    "    \n",
    "            pivot_index = random.randrange(begin,end+1)\n",
    "            new_pivot_index = partition(array,begin,end,pivot_index)\n",
    "            _quickSort(array,begin,new_pivot_index-1)\n",
    "            _quickSort(array,new_pivot_index+1,end)\n",
    "            \n",
    "        def partition(array,begin,end,pivot_index):\n",
    "            pivot = array[pivot_index]\n",
    "            store = begin\n",
    "            array[end],array[pivot_index] = array[pivot_index],array[end]\n",
    "            \n",
    "            for i in range(begin,end):\n",
    "                if array[i] < pivot:\n",
    "                    array[i],array[store] = array[store],array[i]\n",
    "                    store += 1 \n",
    "            array[store],array[end] = array[end],array[store]\n",
    "            return store\n",
    "        _quickSort(array,0,len(array)-1)\n",
    "        return array"
   ]
  },
  {
   "cell_type": "code",
   "execution_count": 124,
   "metadata": {
    "collapsed": false,
    "scrolled": true
   },
   "outputs": [
    {
     "data": {
      "text/plain": [
       "[1, 2, 3, 4, 6]"
      ]
     },
     "execution_count": 124,
     "metadata": {},
     "output_type": "execute_result"
    }
   ],
   "source": [
    "s = Solution()\n",
    "s.quickSort([3,4,2,1,6])"
   ]
  },
  {
   "cell_type": "code",
   "execution_count": null,
   "metadata": {
    "collapsed": true
   },
   "outputs": [],
   "source": []
  },
  {
   "cell_type": "code",
   "execution_count": 133,
   "metadata": {
    "collapsed": true
   },
   "outputs": [],
   "source": [
    "import random\n",
    "class Solution(object):\n",
    "    def quickSort(self,array):\n",
    "        \"\"\"\n",
    "        input: int[] array\n",
    "        return: int[]\n",
    "        \"\"\"\n",
    "        # write your solution here\n",
    "        def _quickSort(array,begin,end):\n",
    "            if not array or len(array) == 0:\n",
    "                return []\n",
    "            if begin >= end:\n",
    "                return \n",
    "    \n",
    "            pivot_index = random.randrange(begin,end+1)\n",
    "            new_pivot_index = partition(array,begin,end,pivot_index)\n",
    "            _quickSort(array,begin,new_pivot_index-1)\n",
    "            _quickSort(array,new_pivot_index+1,end)\n",
    "            \n",
    "        def partition(array,begin,end,pivot_index):\n",
    "            pivot = array[pivot_index]\n",
    "            store = begin\n",
    "            array[end],array[pivot_index] = array[pivot_index],array[end]\n",
    "            \n",
    "            for i in range(begin,end):\n",
    "                if array[i] < pivot:\n",
    "                    array[i],array[store] = array[store],array[i]\n",
    "                    store += 1 \n",
    "            array[store],array[end] = array[end],array[store]\n",
    "            return store\n",
    "        _quickSort(array,0,len(array)-1)\n",
    "        return array"
   ]
  },
  {
   "cell_type": "code",
   "execution_count": 135,
   "metadata": {
    "collapsed": false
   },
   "outputs": [
    {
     "data": {
      "text/plain": [
       "(0, 1)"
      ]
     },
     "execution_count": 135,
     "metadata": {},
     "output_type": "execute_result"
    }
   ],
   "source": [
    "divmod(1,10)"
   ]
  },
  {
   "cell_type": "code",
   "execution_count": null,
   "metadata": {
    "collapsed": true
   },
   "outputs": [],
   "source": []
  }
 ],
 "metadata": {
  "kernelspec": {
   "display_name": "Python [Root]",
   "language": "python",
   "name": "Python [Root]"
  },
  "language_info": {
   "codemirror_mode": {
    "name": "ipython",
    "version": 3
   },
   "file_extension": ".py",
   "mimetype": "text/x-python",
   "name": "python",
   "nbconvert_exporter": "python",
   "pygments_lexer": "ipython3",
   "version": "3.5.5"
  }
 },
 "nbformat": 4,
 "nbformat_minor": 0
}
