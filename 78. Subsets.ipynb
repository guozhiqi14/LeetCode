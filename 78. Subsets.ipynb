{
 "cells": [
  {
   "cell_type": "markdown",
   "metadata": {},
   "source": [
    "Given a set of distinct integers, nums, return all possible subsets (the power set).\n",
    "\n",
    "Note: The solution set must not contain duplicate subsets."
   ]
  },
  {
   "cell_type": "raw",
   "metadata": {},
   "source": [
    "Example:\n",
    "\n",
    "Input: nums = [1,2,3]\n",
    "Output:\n",
    "[\n",
    "  [3],\n",
    "  [1],\n",
    "  [2],\n",
    "  [1,2,3],\n",
    "  [1,3],\n",
    "  [2,3],\n",
    "  [1,2],\n",
    "  []\n",
    "]"
   ]
  },
  {
   "cell_type": "markdown",
   "metadata": {},
   "source": [
    "题目的意思很简单，给你一个长度为n的不包含重复数字的序列，返回该序列的所有子集。既然该序列不包含重复数字，那么子集的个数肯定是2^n（因为求子集时对每个元素都有选或者不选两个操作），算法的时间复杂度就是O(2^n)。\n",
    "那么选和不选这两种操作怎么体现在程序中呢？举个例子，假设当前的序列为[1, 2, 3]，我们可以选择将元素1添加到子集中，再求剩下的序列[2, 3]的所有子集；我们也可以选择不将元素1添加到子集中，再求[2, 3]的所有子集。\n",
    "这明显是一个递归的过程：对第i个元素选择之后，将结果保存，再对剩下的元素进行选择。对所有的元素选择完毕之后，得到的结果就是一个子集。\n",
    "\n",
    "作者：东方未曦\n",
    "链接：https://www.jianshu.com/p/82739748df8f\n",
    "來源：简书\n",
    "简书著作权归作者所有，任何形式的转载都请联系作者获得授权并注明出处。"
   ]
  },
  {
   "cell_type": "markdown",
   "metadata": {},
   "source": [
    "[求子集问题](https://blog.csdn.net/ww1473345713/article/details/52092049)"
   ]
  },
  {
   "cell_type": "code",
   "execution_count": 16,
   "metadata": {
    "collapsed": true
   },
   "outputs": [],
   "source": [
    "class Solution:\n",
    "    def subsets(self, nums):\n",
    "        \"\"\"\n",
    "        :type nums: List[int]\n",
    "        :rtype: List[List[int]]\n",
    "        \"\"\"\n",
    "        res = []\n",
    "        self.dfs(nums,0,res,[])\n",
    "        return res\n",
    "    \n",
    "    def dfs(self,nums,start,res,path):\n",
    "        res.append(path)\n",
    "        for i in range(start,len(nums)):\n",
    "            self.dfs(nums,i+1,res,path+[nums[i]])"
   ]
  },
  {
   "cell_type": "code",
   "execution_count": 17,
   "metadata": {
    "collapsed": false
   },
   "outputs": [
    {
     "data": {
      "text/plain": [
       "[[], [1], [1, 2], [1, 2, 3], [1, 3], [2], [2, 3], [3]]"
      ]
     },
     "execution_count": 17,
     "metadata": {},
     "output_type": "execute_result"
    }
   ],
   "source": [
    "c = Solution()\n",
    "c.subsets([1,2,3])"
   ]
  },
  {
   "cell_type": "code",
   "execution_count": null,
   "metadata": {
    "collapsed": true
   },
   "outputs": [],
   "source": []
  },
  {
   "cell_type": "markdown",
   "metadata": {},
   "source": [
    "### [Iteration 解法](https://shenjie1993.gitbooks.io/leetcode-python/078%20Subsets.html)"
   ]
  },
  {
   "cell_type": "markdown",
   "metadata": {},
   "source": [
    "与 Combinations 是一类题目，都可以用递归来解决。递归是倒过来解决问题，要求n的情况，就要先求n-1。在这里尝试顺序的来解决，通过不断迭代的方法来求所有的子集。现在举个例子，集合[1]有[[],[1]]两个子集，当向其中添加一个元素时，[1,2]有[[],[1],[2],[1,2]]四个子集，可以看出来，在新添加一个元素的时候，是在原来子集的基础上，添加原子集中所有元素加上新元素的总集合。为了每个子集中的元素都是不降序的，要先把所有元素都排序。"
   ]
  },
  {
   "cell_type": "code",
   "execution_count": 26,
   "metadata": {
    "collapsed": true
   },
   "outputs": [],
   "source": [
    "def subsets(self, nums):\n",
    "        nums.sort()\n",
    "        result = [[]]\n",
    "        for num in nums:\n",
    "            result += [i + [num] for i in result]\n",
    "            print('result:',result)\n",
    "            print('[num]',[num])\n",
    "        return result"
   ]
  },
  {
   "cell_type": "code",
   "execution_count": 27,
   "metadata": {
    "collapsed": false
   },
   "outputs": [
    {
     "name": "stdout",
     "output_type": "stream",
     "text": [
      "result: [[], [1]]\n",
      "[num] [1]\n",
      "result: [[], [1], [2], [1, 2]]\n",
      "[num] [2]\n",
      "result: [[], [1], [2], [1, 2], [3], [1, 3], [2, 3], [1, 2, 3]]\n",
      "[num] [3]\n"
     ]
    },
    {
     "data": {
      "text/plain": [
       "[[], [1], [2], [1, 2], [3], [1, 3], [2, 3], [1, 2, 3]]"
      ]
     },
     "execution_count": 27,
     "metadata": {},
     "output_type": "execute_result"
    }
   ],
   "source": [
    "subsets(_,[1,2,3])"
   ]
  },
  {
   "cell_type": "code",
   "execution_count": null,
   "metadata": {
    "collapsed": true
   },
   "outputs": [],
   "source": []
  }
 ],
 "metadata": {
  "anaconda-cloud": {},
  "kernelspec": {
   "display_name": "Python [Root]",
   "language": "python",
   "name": "Python [Root]"
  },
  "language_info": {
   "codemirror_mode": {
    "name": "ipython",
    "version": 3
   },
   "file_extension": ".py",
   "mimetype": "text/x-python",
   "name": "python",
   "nbconvert_exporter": "python",
   "pygments_lexer": "ipython3",
   "version": "3.5.5"
  }
 },
 "nbformat": 4,
 "nbformat_minor": 0
}
