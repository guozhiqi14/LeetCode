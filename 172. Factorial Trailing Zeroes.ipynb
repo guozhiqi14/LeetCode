{
 "cells": [
  {
   "cell_type": "markdown",
   "metadata": {},
   "source": [
    "## [172. Factorial Trailing Zeroes](https://leetcode.com/problems/factorial-trailing-zeroes/description/)"
   ]
  },
  {
   "cell_type": "markdown",
   "metadata": {},
   "source": [
    "Given an integer n, return the number of trailing zeroes in n!.\n",
    "\n"
   ]
  },
  {
   "cell_type": "raw",
   "metadata": {},
   "source": [
    "Example 1:\n",
    "\n",
    "Input: 3\n",
    "Output: 0\n",
    "Explanation: 3! = 6, no trailing zero.\n",
    "Example 2:\n",
    "\n",
    "Input: 5\n",
    "Output: 1\n",
    "Explanation: 5! = 120, one trailing zero."
   ]
  },
  {
   "cell_type": "markdown",
   "metadata": {},
   "source": [
    "** Note:** \n",
    "Your solution should be in logarithmic time complexity.\n",
    "\n"
   ]
  },
  {
   "cell_type": "markdown",
   "metadata": {},
   "source": [
    "## [思路](https://blog.csdn.net/coder_orz/article/details/51590478)  \n"
   ]
  },
  {
   "cell_type": "markdown",
   "metadata": {},
   "source": [
    "## [朴素一](http://bookshadow.com/weblog/2014/12/30/leetcode-factorial-trailing-zeroes/)"
   ]
  },
  {
   "cell_type": "code",
   "execution_count": 11,
   "metadata": {
    "collapsed": true
   },
   "outputs": [],
   "source": [
    "class Solution:\n",
    "    # @return an integer\n",
    "    def trailingZeroes(self, n):\n",
    "        x = 5\n",
    "        ans = 0\n",
    "        while n >= x:\n",
    "            ans += n // x\n",
    "            x *= 5\n",
    "        return ans"
   ]
  },
  {
   "cell_type": "code",
   "execution_count": null,
   "metadata": {
    "collapsed": true
   },
   "outputs": [],
   "source": []
  },
  {
   "cell_type": "markdown",
   "metadata": {},
   "source": [
    "## [更加简洁](https://blog.csdn.net/coder_orz/article/details/51590478)   \n",
    "* 思路方法\n",
    "所有的尾部的0可以看做都是2*5得来的，所以通过计算所有的因子中2和5的个数就可以知道尾部0的个数。实际上，2的个数肯定是足够的，所以只需计算5的个数即可。 \n",
    "要注意，25=5*5是有两个5的因子；125=5*5*5有3个5的因子。比如，计算135!末尾0的个数。 \n",
    "首先135/5 = 27，说明135以内有27个5的倍数；27/5=5，说明135以内有5个25的倍数；5/5=1，说明135以内有1个125的倍数。当然其中有重复计数，算下来135以内因子5的个数为27+5+1=33。"
   ]
  },
  {
   "cell_type": "code",
   "execution_count": 12,
   "metadata": {
    "collapsed": true
   },
   "outputs": [],
   "source": [
    "class Solution(object):\n",
    "    def trailingZeroes(self, n):\n",
    "        \"\"\"\n",
    "        :type n: int\n",
    "        :rtype: int\n",
    "        \"\"\"\n",
    "        # 只有2和5相乘才会出现0，又发现2的数量一定多于5的个数，于是我们只看n前面有多少个5就行了,n/5得到了5的个数;\n",
    "        res = 0\n",
    "        while n > 0:\n",
    "            print(n)\n",
    "            n //= 5\n",
    "            \n",
    "            res += n\n",
    "        return res"
   ]
  },
  {
   "cell_type": "code",
   "execution_count": 13,
   "metadata": {
    "collapsed": false
   },
   "outputs": [
    {
     "name": "stdout",
     "output_type": "stream",
     "text": [
      "30\n",
      "6\n",
      "1\n"
     ]
    },
    {
     "data": {
      "text/plain": [
       "7"
      ]
     },
     "execution_count": 13,
     "metadata": {},
     "output_type": "execute_result"
    }
   ],
   "source": [
    "Solution.trailingZeroes(_,30)"
   ]
  },
  {
   "cell_type": "code",
   "execution_count": null,
   "metadata": {
    "collapsed": true
   },
   "outputs": [],
   "source": []
  }
 ],
 "metadata": {
  "kernelspec": {
   "display_name": "Python [Root]",
   "language": "python",
   "name": "Python [Root]"
  },
  "language_info": {
   "codemirror_mode": {
    "name": "ipython",
    "version": 3
   },
   "file_extension": ".py",
   "mimetype": "text/x-python",
   "name": "python",
   "nbconvert_exporter": "python",
   "pygments_lexer": "ipython3",
   "version": "3.5.4"
  }
 },
 "nbformat": 4,
 "nbformat_minor": 0
}
