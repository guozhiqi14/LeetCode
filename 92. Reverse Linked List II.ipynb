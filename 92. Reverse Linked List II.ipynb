{
 "cells": [
  {
   "cell_type": "markdown",
   "metadata": {},
   "source": [
    "## [92. Reverse Linked List II](https://leetcode.com/problems/reverse-linked-list-ii/description/)"
   ]
  },
  {
   "cell_type": "markdown",
   "metadata": {},
   "source": [
    "Reverse a linked list from position m to n. Do it in one-pass.\n",
    "\n",
    "Note: 1 ≤ m ≤ n ≤ length of list."
   ]
  },
  {
   "cell_type": "raw",
   "metadata": {},
   "source": [
    "Example:\n",
    "\n",
    "Input: 1->2->3->4->5->NULL, m = 2, n = 4\n",
    "Output: 1->4->3->2->5->NULL\n"
   ]
  },
  {
   "cell_type": "markdown",
   "metadata": {},
   "source": [
    "### [视频](https://www.youtube.com/watch?v=esl_A_pzBcg&t=374s)"
   ]
  },
  {
   "cell_type": "code",
   "execution_count": null,
   "metadata": {
    "collapsed": true
   },
   "outputs": [],
   "source": [
    "# Definition for singly-linked list.\n",
    "# class ListNode(object):\n",
    "#     def __init__(self, x):\n",
    "#         self.val = x\n",
    "#         self.next = None\n",
    "\n",
    "class Solution(object):\n",
    "    def reverseBetween(self, head, m, n):\n",
    "        \"\"\"\n",
    "        :type head: ListNode\n",
    "        :type m: int\n",
    "        :type n: int\n",
    "        :rtype: ListNode\n",
    "        \"\"\"\n",
    "        dummy = ListNode(0)\n",
    "        dummy.next = head\n",
    "        pre = dummy\n",
    "        mNode,nNode = head,head\n",
    "        \n",
    "        while m > 1:\n",
    "            mNode = mNode.next\n",
    "            pre = pre.next\n",
    "            m-=1\n",
    "        while n > 1:\n",
    "            nNode = nNode.next\n",
    "            n-=1\n",
    "        \n",
    "        while mNode != nNode:\n",
    "            pre.next = mNode.next\n",
    "            mNode.next = nNode.next\n",
    "            nNode.next = mNode\n",
    "            mNode = pre.next\n",
    "        return dummy.next\n",
    "            "
   ]
  },
  {
   "cell_type": "code",
   "execution_count": null,
   "metadata": {
    "collapsed": true
   },
   "outputs": [],
   "source": []
  }
 ],
 "metadata": {
  "kernelspec": {
   "display_name": "Python [Root]",
   "language": "python",
   "name": "Python [Root]"
  },
  "language_info": {
   "codemirror_mode": {
    "name": "ipython",
    "version": 3
   },
   "file_extension": ".py",
   "mimetype": "text/x-python",
   "name": "python",
   "nbconvert_exporter": "python",
   "pygments_lexer": "ipython3",
   "version": "3.5.5"
  }
 },
 "nbformat": 4,
 "nbformat_minor": 0
}
