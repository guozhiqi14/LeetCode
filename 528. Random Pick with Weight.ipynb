{
 "cells": [
  {
   "cell_type": "markdown",
   "metadata": {},
   "source": [
    "## [528. Random Pick with Weigh](https://leetcode.com/problems/random-pick-with-weight/)"
   ]
  },
  {
   "cell_type": "markdown",
   "metadata": {},
   "source": [
    "Given an array w of positive integers, where w[i] describes the weight of index i, write a function pickIndex which randomly picks an index in proportion to its weight.\n",
    "\n"
   ]
  },
  {
   "cell_type": "markdown",
   "metadata": {},
   "source": [
    "Note:\n",
    "\n",
    "1. 1 <= w.length <= 10000\n",
    "2. 1 <= w[i] <= 10^5\n",
    "3. pickIndex will be called at most 10000 times."
   ]
  },
  {
   "cell_type": "raw",
   "metadata": {},
   "source": [
    "Example 1:\n",
    "\n",
    "Input: \n",
    "[\"Solution\",\"pickIndex\"]\n",
    "[[[1]],[]]\n",
    "Output: [null,0]\n",
    "    \n",
    "Example 2:\n",
    "\n",
    "Input: \n",
    "[\"Solution\",\"pickIndex\",\"pickIndex\",\"pickIndex\",\"pickIndex\",\"pickIndex\"]\n",
    "[[[1,3]],[],[],[],[],[]]\n",
    "Output: [null,0,1,1,1,0]"
   ]
  },
  {
   "cell_type": "markdown",
   "metadata": {},
   "source": [
    "Explanation of Input Syntax:\n",
    "\n",
    "The input is two lists: the subroutines called and their arguments. Solution's constructor has one argument, the array w. pickIndex has no arguments. Arguments are always wrapped with a list, even if there aren't any."
   ]
  },
  {
   "cell_type": "markdown",
   "metadata": {},
   "source": [
    "### [解释](https://blog.csdn.net/fuxuemingzhu/article/details/81807215)"
   ]
  },
  {
   "cell_type": "code",
   "execution_count": 33,
   "metadata": {
    "collapsed": true
   },
   "outputs": [],
   "source": [
    "class Solution:\n",
    "\n",
    "    def __init__(self, w):\n",
    "        \"\"\"\n",
    "        :type w: List[int]\n",
    "        \"\"\"\n",
    "        self.w = w\n",
    "        self.n = len(w)\n",
    "        self.s = sum(self.w)\n",
    "        for i in range(1,self.n):\n",
    "            w[i] += w[i-1]\n",
    "\n",
    "    def pickIndex(self):\n",
    "        \"\"\"\n",
    "        :rtype: int\n",
    "        \"\"\"\n",
    "        seed = random.randint(1,self.s)\n",
    "        l,r = 0, self.n-1\n",
    "        while l<=r:\n",
    "            mid = (l+r)//2\n",
    "            if seed <= self.w[mid]:\n",
    "                r = mid-1\n",
    "            else:\n",
    "                l = mid+1\n",
    "        #print(self.w)\n",
    "        return l\n",
    "        \n",
    "\n",
    "\n",
    "# Your Solution object will be instantiated and called as such:\n",
    "# obj = Solution(w)\n",
    "# param_1 = obj.pickIndex()"
   ]
  },
  {
   "cell_type": "code",
   "execution_count": 34,
   "metadata": {
    "collapsed": false
   },
   "outputs": [
    {
     "data": {
      "text/plain": [
       "4"
      ]
     },
     "execution_count": 34,
     "metadata": {},
     "output_type": "execute_result"
    }
   ],
   "source": [
    "#[\"Solution\", \"pickIndex\"]\n",
    "#[[[1]], []]\n",
    "s = Solution([1,2,3,4,5])\n",
    "s.pickIndex()\n"
   ]
  }
 ],
 "metadata": {
  "kernelspec": {
   "display_name": "Python [Root]",
   "language": "python",
   "name": "Python [Root]"
  },
  "language_info": {
   "codemirror_mode": {
    "name": "ipython",
    "version": 3
   },
   "file_extension": ".py",
   "mimetype": "text/x-python",
   "name": "python",
   "nbconvert_exporter": "python",
   "pygments_lexer": "ipython3",
   "version": "3.5.5"
  }
 },
 "nbformat": 4,
 "nbformat_minor": 0
}
