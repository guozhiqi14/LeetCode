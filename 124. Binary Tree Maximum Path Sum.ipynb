{
 "cells": [
  {
   "cell_type": "markdown",
   "metadata": {},
   "source": [
    "## [124. Binary Tree Maximum Path Sum](https://leetcode.com/problems/binary-tree-maximum-path-sum/description/)"
   ]
  },
  {
   "cell_type": "markdown",
   "metadata": {},
   "source": [
    "Given a non-empty binary tree, find the maximum path sum.\n",
    "\n",
    "For this problem, a path is defined as any sequence of nodes from some starting node to any node in the tree along the parent-child connections. The path must contain at least one node and does not need to go through the root.\n",
    "\n"
   ]
  },
  {
   "cell_type": "raw",
   "metadata": {},
   "source": [
    "Example 1:\n",
    "\n",
    "Input: [1,2,3]\n",
    "\n",
    "       1\n",
    "      / \\\n",
    "     2   3\n",
    "\n",
    "Output: 6\n",
    "    \n",
    "Example 2:\n",
    "\n",
    "Input: [-10,9,20,null,null,15,7]\n",
    "\n",
    "   -10\n",
    "   / \\\n",
    "  9  20\n",
    "    /  \\\n",
    "   15   7\n",
    "\n",
    "Output: 42"
   ]
  },
  {
   "cell_type": "markdown",
   "metadata": {},
   "source": [
    "### [视频一](https://www.youtube.com/watch?v=WicS0ANkAdY)   \n",
    "### [视频二](https://www.youtube.com/watch?v=9ZNky1wqNUw)"
   ]
  },
  {
   "cell_type": "code",
   "execution_count": 1,
   "metadata": {
    "collapsed": true
   },
   "outputs": [],
   "source": [
    "# Definition for a binary tree node.\n",
    "# class TreeNode:\n",
    "#     def __init__(self, x):\n",
    "#         self.val = x\n",
    "#         self.left = None\n",
    "#         self.right = None\n",
    "\n",
    "class Solution:\n",
    "    def maxPathSum(self, root):\n",
    "        \"\"\"\n",
    "        :type root: TreeNode\n",
    "        :rtype: int\n",
    "        \"\"\"\n",
    "        if not root:\n",
    "            return 0\n",
    "        maxPath = [float('-inf')]\n",
    "        self.dfs(root,maxPath)\n",
    "        return maxPath[0]\n",
    "    \n",
    "    def dfs(self,root,maxPath):\n",
    "        if root.left:\n",
    "            left = max(0,self.dfs(root.left,maxPath))\n",
    "        else:\n",
    "            left = 0\n",
    "        if root.right:\n",
    "            right = max(0,self.dfs(root.right,maxPath))\n",
    "        else:\n",
    "            right = 0\n",
    "            \n",
    "        cur = root.val+left+right\n",
    "        maxPath[0] = max(maxPath[0],cur)\n",
    "        \n",
    "        return root.val + max(left,right)"
   ]
  },
  {
   "cell_type": "code",
   "execution_count": 3,
   "metadata": {
    "collapsed": true
   },
   "outputs": [],
   "source": [
    "# Definition for a binary tree node.\n",
    "# class TreeNode:\n",
    "#     def __init__(self, x):\n",
    "#         self.val = x\n",
    "#         self.left = None\n",
    "#         self.right = None\n",
    "\n",
    "class Solution:\n",
    "    def maxPathSum(self, root):\n",
    "        \"\"\"\n",
    "        :type root: TreeNode\n",
    "        :rtype: int\n",
    "        \"\"\"\n",
    "        maxPath = [float('-inf')]\n",
    "        if not root:\n",
    "            return 0\n",
    "        self.dfs(root,maxPath)\n",
    "        return maxPath[0]\n",
    "    \n",
    "    def dfs(self, root, maxPath):\n",
    "        #返回以root为顶点的所有直上直下的path的path sum最大的一条的值\n",
    "        left = max(self.dfs(root.left,maxPath),0) if root.left else 0\n",
    "        right = max(self.dfs(root.right,maxPath),0) if root.right else 0\n",
    "        \n",
    "        cur = root.val + left + right\n",
    "        maxPath[0] = max(maxPath[0],cur)\n",
    "        return root.val + max(left,right)"
   ]
  },
  {
   "cell_type": "code",
   "execution_count": null,
   "metadata": {
    "collapsed": true
   },
   "outputs": [],
   "source": []
  }
 ],
 "metadata": {
  "kernelspec": {
   "display_name": "Python [Root]",
   "language": "python",
   "name": "Python [Root]"
  },
  "language_info": {
   "codemirror_mode": {
    "name": "ipython",
    "version": 3
   },
   "file_extension": ".py",
   "mimetype": "text/x-python",
   "name": "python",
   "nbconvert_exporter": "python",
   "pygments_lexer": "ipython3",
   "version": "3.5.5"
  }
 },
 "nbformat": 4,
 "nbformat_minor": 0
}
