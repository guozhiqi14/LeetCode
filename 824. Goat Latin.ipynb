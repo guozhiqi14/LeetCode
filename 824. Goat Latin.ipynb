{
 "cells": [
  {
   "cell_type": "markdown",
   "metadata": {},
   "source": [
    "## [824. Goat Latin](https://leetcode.com/problems/goat-latin/description/)"
   ]
  },
  {
   "cell_type": "markdown",
   "metadata": {},
   "source": [
    "A sentence S is given, composed of words separated by spaces. Each word consists of lowercase and uppercase letters only.\n",
    "\n",
    "We would like to convert the sentence to \"Goat Latin\" (a made-up language similar to Pig Latin.)\n",
    "\n",
    "The rules of Goat Latin are as follows:\n",
    "\n",
    "* If a word begins with a vowel (a, e, i, o, or u), append \"ma\" to the end of the word.\n",
    "For example, the word 'apple' becomes 'applema'.\n",
    " \n",
    "* If a word begins with a consonant (i.e. not a vowel), remove the first letter and append it to the end, then add \"ma\". For example, the word \"goat\" becomes \"oatgma\".\n",
    " \n",
    "* Add one letter 'a' to the end of each word per its word index in the sentence, starting with 1.\n",
    " For example, the first word gets \"a\" added to the end, the second word gets \"aa\" added to the end and so on.\n",
    " \n",
    " \n",
    "Return the final sentence representing the conversion from S to Goat Latin. "
   ]
  },
  {
   "cell_type": "raw",
   "metadata": {},
   "source": [
    "Example 1:\n",
    "\n",
    "Input: \"I speak Goat Latin\"\n",
    "Output: \"Imaa peaksmaaa oatGmaaaa atinLmaaaaa\"\n",
    "\n",
    "Example 2:\n",
    "\n",
    "Input: \"The quick brown fox jumped over the lazy dog\"\n",
    "Output: \"heTmaa uickqmaaa rownbmaaaa oxfmaaaaa umpedjmaaaaaa overmaaaaaaa hetmaaaaaaaa azylmaaaaaaaaa ogdmaaaaaaaaaa\""
   ]
  },
  {
   "cell_type": "markdown",
   "metadata": {},
   "source": [
    "Notes:\n",
    "\n",
    "* S contains only uppercase, lowercase and spaces. Exactly one space between each word.\n",
    "* 1 <= S.length <= 150."
   ]
  },
  {
   "cell_type": "markdown",
   "metadata": {},
   "source": [
    "## 超级慢...."
   ]
  },
  {
   "cell_type": "code",
   "execution_count": 24,
   "metadata": {
    "collapsed": false
   },
   "outputs": [],
   "source": [
    "class Solution:\n",
    "    def toGoatLatin(self, S):\n",
    "        \"\"\"\n",
    "        :type S: str\n",
    "        :rtype: str\n",
    "        \"\"\"\n",
    "        vowel  = ['a', 'e', 'i', 'o', 'u']\n",
    "        output = []\n",
    "        S = S.split(' ')\n",
    "        \n",
    "        for i,word in enumerate(S):\n",
    "            new_word = ''\n",
    "            if word[0].lower() in vowel:\n",
    "                new_word += word +'ma'\n",
    "            else:\n",
    "                new_word += word[1:] + word[0] +'ma'\n",
    "            new_word += 'a'*(i+1)\n",
    "            output.append(new_word)\n",
    "        return ' '.join(output)"
   ]
  },
  {
   "cell_type": "code",
   "execution_count": 25,
   "metadata": {
    "collapsed": false
   },
   "outputs": [
    {
     "data": {
      "text/plain": [
       "'Imaa peaksmaaa oatGmaaaa atinLmaaaaa'"
      ]
     },
     "execution_count": 25,
     "metadata": {},
     "output_type": "execute_result"
    }
   ],
   "source": [
    "S = \"I speak Goat Latin\"\n",
    "Solution.toGoatLatin(_,S)"
   ]
  },
  {
   "cell_type": "code",
   "execution_count": null,
   "metadata": {
    "collapsed": true
   },
   "outputs": [],
   "source": []
  },
  {
   "cell_type": "code",
   "execution_count": null,
   "metadata": {
    "collapsed": true
   },
   "outputs": [],
   "source": []
  },
  {
   "cell_type": "markdown",
   "metadata": {},
   "source": [
    "## Much Faster"
   ]
  },
  {
   "cell_type": "code",
   "execution_count": null,
   "metadata": {
    "collapsed": true
   },
   "outputs": [],
   "source": [
    "class Solution:\n",
    "    def toGoatLatin(self, S):\n",
    "        \"\"\"\n",
    "        :type S: str\n",
    "        :rtype: str\n",
    "        \"\"\"\n",
    "        def convert(word):\n",
    "            if word[0].lower() not in ['a', 'e', 'i', 'o', 'u']:\n",
    "                word = word[1:] + word[0] +'ma'\n",
    "            else:\n",
    "                word += 'ma'\n",
    "            return word\n",
    "        return ' '.join(convert(word)+'a'*i for i,word in enumerate(S.split(' '),1))"
   ]
  },
  {
   "cell_type": "code",
   "execution_count": 27,
   "metadata": {
    "collapsed": false
   },
   "outputs": [
    {
     "data": {
      "text/plain": [
       "'Imaa peaksmaaa oatGmaaaa atinLmaaaaa'"
      ]
     },
     "execution_count": 27,
     "metadata": {},
     "output_type": "execute_result"
    }
   ],
   "source": [
    "S = \"I speak Goat Latin\"\n",
    "Solution.toGoatLatin(_,S)"
   ]
  },
  {
   "cell_type": "code",
   "execution_count": null,
   "metadata": {
    "collapsed": true
   },
   "outputs": [],
   "source": []
  }
 ],
 "metadata": {
  "kernelspec": {
   "display_name": "Python [Root]",
   "language": "python",
   "name": "Python [Root]"
  },
  "language_info": {
   "codemirror_mode": {
    "name": "ipython",
    "version": 3
   },
   "file_extension": ".py",
   "mimetype": "text/x-python",
   "name": "python",
   "nbconvert_exporter": "python",
   "pygments_lexer": "ipython3",
   "version": "3.5.4"
  }
 },
 "nbformat": 4,
 "nbformat_minor": 0
}
