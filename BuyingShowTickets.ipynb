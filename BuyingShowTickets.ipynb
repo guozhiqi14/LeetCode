{
 "cells": [
  {
   "cell_type": "markdown",
   "metadata": {},
   "source": [
    "## [BuyingShowTickets](https://stackoverflow.com/questions/43950000/hackerrank-buying-show-tickets-optimization)"
   ]
  },
  {
   "cell_type": "markdown",
   "metadata": {},
   "source": [
    "There are n people standing in line to buy show tickets.Due to high demand, the venue sells tickets according to the following rules:\n",
    "\n",
    "* The person at the head of the line can buy exactly one ticket and must then exit the line.\n",
    "* if a person needs to purchase additional tickets,they must re-enter the end of the line and wait to be sold their next ticket(assume exit and re-entry takes zero seconds).\n",
    "* Each ticket sale takes exactly one second.   \n",
    "\n",
    "We express initial line of n people as an array, tickets = [tickets0, tickets1 ... ticketsN-1], where ticketsi denotes the number of tickets person i wishes to buy. If Jesse is standing at a position p in this line, find out how much time it would take for him to buy all tickets. Complete the waiting time function in the editor below. It has two parameters:\n",
    "\n",
    "An array, tickets, of n positive integers describing initial sequence of people standing in line. Each ticketsi describes number of tickets that a person waiting at initial place.\n",
    "An integer p, denoting Jesse's position in tickets.\n",
    "\n"
   ]
  },
  {
   "cell_type": "markdown",
   "metadata": {},
   "source": [
    "sample input: [2,3,4,1], 1。 表示有四个人要买票，第一个人要买两张，第二个就是小明，要买三张，第三个人要买四张，etc。每人次买一张票 需要花费 1 unit of time。问最后小明买到所需的所有票，需要花费多久。"
   ]
  },
  {
   "cell_type": "markdown",
   "metadata": {},
   "source": [
    "## 方法一：   \n",
    "快速。 [Refer to the Solution in StackOverFlow](https://stackoverflow.com/questions/43950000/hackerrank-buying-show-tickets-optimization)"
   ]
  },
  {
   "cell_type": "code",
   "execution_count": 91,
   "metadata": {
    "collapsed": true
   },
   "outputs": [],
   "source": [
    "def waitingTime(tickets, p):\n",
    "    total_steps = tickets[p]\n",
    "    first_half = tickets[:p]\n",
    "    second_half = tickets[p+1:]\n",
    "\n",
    "    for num in first_half:\n",
    "        if num < tickets[p]:\n",
    "            total_steps += num\n",
    "        else:\n",
    "            total_steps += tickets[p]\n",
    "\n",
    "    for num in second_half:\n",
    "        if num < tickets[p]:\n",
    "            total_steps += num\n",
    "        else:\n",
    "            total_steps += tickets[p] - 1\n",
    "\n",
    "    return total_steps\n",
    "\n"
   ]
  },
  {
   "cell_type": "code",
   "execution_count": 87,
   "metadata": {
    "collapsed": false
   },
   "outputs": [
    {
     "data": {
      "text/plain": [
       "8"
      ]
     },
     "execution_count": 87,
     "metadata": {},
     "output_type": "execute_result"
    }
   ],
   "source": [
    "waitingTime([2,2,2,3,2],2)"
   ]
  },
  {
   "cell_type": "code",
   "execution_count": 88,
   "metadata": {
    "collapsed": false
   },
   "outputs": [
    {
     "data": {
      "text/plain": [
       "5"
      ]
     },
     "execution_count": 88,
     "metadata": {},
     "output_type": "execute_result"
    }
   ],
   "source": [
    "waitingTime([2,3,4,1],0)"
   ]
  },
  {
   "cell_type": "code",
   "execution_count": 89,
   "metadata": {
    "collapsed": false,
    "scrolled": true
   },
   "outputs": [
    {
     "data": {
      "text/plain": [
       "8"
      ]
     },
     "execution_count": 89,
     "metadata": {},
     "output_type": "execute_result"
    }
   ],
   "source": [
    "waitingTime([3,3,4,1],0)"
   ]
  },
  {
   "cell_type": "code",
   "execution_count": 90,
   "metadata": {
    "collapsed": false
   },
   "outputs": [
    {
     "data": {
      "text/plain": [
       "9"
      ]
     },
     "execution_count": 90,
     "metadata": {},
     "output_type": "execute_result"
    }
   ],
   "source": [
    "waitingTime([3,3,4,1],1)"
   ]
  },
  {
   "cell_type": "markdown",
   "metadata": {},
   "source": [
    "## 方法二   \n",
    "Looping"
   ]
  },
  {
   "cell_type": "code",
   "execution_count": 56,
   "metadata": {
    "collapsed": false
   },
   "outputs": [],
   "source": [
    "def waitingTime(tickets, p):\n",
    "    done = False\n",
    "    count=0\n",
    "    while not done:\n",
    "        for i in range(len(tickets)):\n",
    "            if tickets[i] == 0:\n",
    "                continue\n",
    "            if tickets[p] == 0:\n",
    "                done = True\n",
    "                break\n",
    "            tickets[i] -= 1\n",
    "            count += 1\n",
    "    return count\n",
    "            "
   ]
  },
  {
   "cell_type": "code",
   "execution_count": 57,
   "metadata": {
    "collapsed": false
   },
   "outputs": [
    {
     "data": {
      "text/plain": [
       "8"
      ]
     },
     "execution_count": 57,
     "metadata": {},
     "output_type": "execute_result"
    }
   ],
   "source": [
    "waitingTime([2,2,2,3,2],2)"
   ]
  },
  {
   "cell_type": "code",
   "execution_count": 53,
   "metadata": {
    "collapsed": false
   },
   "outputs": [
    {
     "data": {
      "text/plain": [
       "5"
      ]
     },
     "execution_count": 53,
     "metadata": {},
     "output_type": "execute_result"
    }
   ],
   "source": [
    "waitingTime([2,3,4,1],0)"
   ]
  },
  {
   "cell_type": "code",
   "execution_count": 58,
   "metadata": {
    "collapsed": false
   },
   "outputs": [
    {
     "data": {
      "text/plain": [
       "8"
      ]
     },
     "execution_count": 58,
     "metadata": {},
     "output_type": "execute_result"
    }
   ],
   "source": [
    "waitingTime([3,3,4,1],0)"
   ]
  },
  {
   "cell_type": "code",
   "execution_count": 59,
   "metadata": {
    "collapsed": false
   },
   "outputs": [
    {
     "data": {
      "text/plain": [
       "9"
      ]
     },
     "execution_count": 59,
     "metadata": {},
     "output_type": "execute_result"
    }
   ],
   "source": [
    "waitingTime([3,3,4,1],1)"
   ]
  },
  {
   "cell_type": "code",
   "execution_count": null,
   "metadata": {
    "collapsed": true
   },
   "outputs": [],
   "source": []
  },
  {
   "cell_type": "code",
   "execution_count": null,
   "metadata": {
    "collapsed": true
   },
   "outputs": [],
   "source": []
  },
  {
   "cell_type": "code",
   "execution_count": 99,
   "metadata": {
    "collapsed": true
   },
   "outputs": [],
   "source": [
    "def waitingTime(tickets, p):\n",
    "    count  = tickets[p]\n",
    "    first_half = tickets[:p]\n",
    "    second_half = tickets[p+1:]\n",
    "    \n",
    "    for i in first_half:\n",
    "        if i >= tickets[p]:\n",
    "            count += tickets[p]\n",
    "        else:\n",
    "            count += i\n",
    "        \n",
    "    for j in second_half:\n",
    "        if j >= tickets[p]:\n",
    "            count += tickets[p]-1\n",
    "        else:\n",
    "            count += j\n",
    "    return count\n",
    "        "
   ]
  },
  {
   "cell_type": "code",
   "execution_count": 100,
   "metadata": {
    "collapsed": false
   },
   "outputs": [
    {
     "data": {
      "text/plain": [
       "9"
      ]
     },
     "execution_count": 100,
     "metadata": {},
     "output_type": "execute_result"
    }
   ],
   "source": [
    "waitingTime([3,3,4,1],1)"
   ]
  },
  {
   "cell_type": "code",
   "execution_count": 101,
   "metadata": {
    "collapsed": false
   },
   "outputs": [
    {
     "data": {
      "text/plain": [
       "8"
      ]
     },
     "execution_count": 101,
     "metadata": {},
     "output_type": "execute_result"
    }
   ],
   "source": [
    "waitingTime([3,3,4,1],0)"
   ]
  },
  {
   "cell_type": "code",
   "execution_count": null,
   "metadata": {
    "collapsed": true
   },
   "outputs": [],
   "source": [
    "def foo(name, i):\n",
    "    try:\n",
    "        i = i - 5\n",
    "        print(i)\n",
    "    except:\n",
    "        print(\"Exc 1\")\n",
    "    z = 15 / i\n",
    "    try:\n",
    "        with open(name, \"w\") as fd:\n",
    "            fd.write(z)\n",
    "    except:\n",
    "        print(\"Exc 2\")\n",
    "    \n"
   ]
  },
  {
   "cell_type": "code",
   "execution_count": null,
   "metadata": {
    "collapsed": true
   },
   "outputs": [],
   "source": [
    "foo(s,i)"
   ]
  },
  {
   "cell_type": "code",
   "execution_count": null,
   "metadata": {
    "collapsed": true
   },
   "outputs": [],
   "source": [
    "def foo(name, i):\n",
    "    try:\n",
    "        i = i - 5\n",
    "        print(i)\n",
    "    except:\n",
    "        print(\"Exc 1\")\n",
    "    z = 15 / i\n",
    "    try:\n",
    "        with open(name, \"w\") as fd:\n",
    "\t        fd.write(z)\n",
    "    except:\n",
    "        print(\"Exc 2\")\n",
    "    \n",
    "\n",
    "def bar(name, i):\n",
    "    foo(name, i)\n",
    "    \n",
    "\n",
    "def main():\n",
    "    try:\n",
    "        bar(\"file1.txt\", 5)\n",
    "        bar(\"file2.txt\", 10)\n",
    "    except:\n",
    "        print(\"Exc 3\")\n",
    "    \n",
    "main()\n"
   ]
  },
  {
   "cell_type": "code",
   "execution_count": null,
   "metadata": {
    "collapsed": true
   },
   "outputs": [],
   "source": []
  },
  {
   "cell_type": "code",
   "execution_count": null,
   "metadata": {
    "collapsed": true
   },
   "outputs": [],
   "source": []
  }
 ],
 "metadata": {
  "anaconda-cloud": {},
  "kernelspec": {
   "display_name": "Python [Root]",
   "language": "python",
   "name": "Python [Root]"
  },
  "language_info": {
   "codemirror_mode": {
    "name": "ipython",
    "version": 3
   },
   "file_extension": ".py",
   "mimetype": "text/x-python",
   "name": "python",
   "nbconvert_exporter": "python",
   "pygments_lexer": "ipython3",
   "version": "3.5.4"
  }
 },
 "nbformat": 4,
 "nbformat_minor": 0
}
