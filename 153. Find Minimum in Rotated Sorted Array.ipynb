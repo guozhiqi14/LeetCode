{
 "cells": [
  {
   "cell_type": "markdown",
   "metadata": {},
   "source": [
    "## [153. Find Minimum in Rotated Sorted Array](https://leetcode.com/problems/find-minimum-in-rotated-sorted-array/description/)"
   ]
  },
  {
   "cell_type": "markdown",
   "metadata": {},
   "source": [
    "Suppose an array sorted in ascending order is rotated at some pivot unknown to you beforehand.\n",
    "\n",
    "(i.e.,  [0,1,2,4,5,6,7] might become  [4,5,6,7,0,1,2]).\n",
    "\n",
    "Find the minimum element.\n",
    "\n",
    "You may assume no duplicate exists in the array.\n",
    "\n"
   ]
  },
  {
   "cell_type": "raw",
   "metadata": {},
   "source": [
    "Example 1:\n",
    "\n",
    "Input: [3,4,5,1,2] \n",
    "Output: 1\n",
    "Example 2:\n",
    "\n",
    "Input: [4,5,6,7,0,1,2]\n",
    "Output: 0"
   ]
  },
  {
   "cell_type": "markdown",
   "metadata": {},
   "source": [
    "## [思路](https://blog.csdn.net/linhuanmars/article/details/20525681)   \n",
    "\n",
    "首先定义两个游标，index1，index2。\n",
    "\n",
    "1. 如果num[index1] > num[index2]则说明，存在断点。即4，5，6，0，1，2，3。即0处为断点也就是最小的值。\n",
    "2.  如果num[index1] < num[index2]则说明，最小值就是num[index1]。\n",
    "3. 对第一种情况在进行分析，假设【4，5，6，0，1，2，3】。我们把4,5,6当做第一组，0,1,2,3作为第二组，则mid = (index1+index2)/2; \n",
    "1，如果num[mid] > num[index1] 则说明，mid在第一组中。则最小值，必然在mid之后，即start = mid+1；如果num[mid] < num[index1]则说明，mid在第二组中。则说明最小值在mid之前。即end = mid-1.\n",
    "2，如果num[mid] > num[index2]，则mid在第一组中，即最小值在mid之后。start = mid+1;如果num[mid] < num[index2]，则说明mid在第二组中，即最小值在mid之前。end = mid-1;\n"
   ]
  },
  {
   "cell_type": "code",
   "execution_count": 12,
   "metadata": {
    "collapsed": true
   },
   "outputs": [],
   "source": [
    "class Solution(object):\n",
    "    def findMin(self, nums):\n",
    "        \"\"\"\n",
    "        :type nums: List[int]\n",
    "        :rtype: int\n",
    "        \"\"\"\n",
    "        \n",
    "        i = 0\n",
    "        j = len(nums)-1\n",
    "        \n",
    "        while i < j:\n",
    "            middle = (i+j)//2\n",
    "            if nums[middle] > nums[j]:\n",
    "                i = middle + 1\n",
    "            else:\n",
    "                j = middle\n",
    "        return nums[i]"
   ]
  },
  {
   "cell_type": "code",
   "execution_count": 13,
   "metadata": {
    "collapsed": false
   },
   "outputs": [
    {
     "data": {
      "text/plain": [
       "0"
      ]
     },
     "execution_count": 13,
     "metadata": {},
     "output_type": "execute_result"
    }
   ],
   "source": [
    "Solution.findMin(_,[4,5,6,7,0,1,2])"
   ]
  },
  {
   "cell_type": "code",
   "execution_count": null,
   "metadata": {
    "collapsed": true
   },
   "outputs": [],
   "source": []
  }
 ],
 "metadata": {
  "kernelspec": {
   "display_name": "Python [Root]",
   "language": "python",
   "name": "Python [Root]"
  },
  "language_info": {
   "codemirror_mode": {
    "name": "ipython",
    "version": 3
   },
   "file_extension": ".py",
   "mimetype": "text/x-python",
   "name": "python",
   "nbconvert_exporter": "python",
   "pygments_lexer": "ipython3",
   "version": "3.5.4"
  }
 },
 "nbformat": 4,
 "nbformat_minor": 0
}
