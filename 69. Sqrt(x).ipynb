{
 "cells": [
  {
   "cell_type": "markdown",
   "metadata": {},
   "source": [
    "## [69. Sqrt(x)](https://leetcode.com/problems/sqrtx/description/)   \n",
    "\n",
    "### [LaiCode Square Root I](https://app.laicode.io/app/problem/161)"
   ]
  },
  {
   "cell_type": "markdown",
   "metadata": {},
   "source": [
    "## Approach 1   \n",
    "Timie Limit Exceed"
   ]
  },
  {
   "cell_type": "code",
   "execution_count": 7,
   "metadata": {
    "collapsed": true
   },
   "outputs": [],
   "source": [
    "import numpy as np"
   ]
  },
  {
   "cell_type": "code",
   "execution_count": 17,
   "metadata": {
    "collapsed": true
   },
   "outputs": [],
   "source": [
    "class Solution:\n",
    "    def mySqrt(self, x):\n",
    "        \"\"\"\n",
    "        :type x: int\n",
    "        :rtype: int\n",
    "        \"\"\"\n",
    "        i = 0\n",
    "        while i * i <= x:\n",
    "            i += 1\n",
    "        \n",
    "        return i-1"
   ]
  },
  {
   "cell_type": "code",
   "execution_count": 18,
   "metadata": {
    "collapsed": false
   },
   "outputs": [
    {
     "data": {
      "text/plain": [
       "3"
      ]
     },
     "execution_count": 18,
     "metadata": {},
     "output_type": "execute_result"
    }
   ],
   "source": [
    "Solution.mySqrt(_,9)"
   ]
  },
  {
   "cell_type": "code",
   "execution_count": 10,
   "metadata": {
    "collapsed": false
   },
   "outputs": [
    {
     "data": {
      "text/plain": [
       "4.242640687119285"
      ]
     },
     "execution_count": 10,
     "metadata": {},
     "output_type": "execute_result"
    }
   ],
   "source": [
    "np.sqrt(18)"
   ]
  },
  {
   "cell_type": "markdown",
   "metadata": {},
   "source": [
    "## Approach 2   \n",
    "* Binary Search"
   ]
  },
  {
   "cell_type": "code",
   "execution_count": 1,
   "metadata": {
    "collapsed": true
   },
   "outputs": [],
   "source": [
    "class Solution(object):\n",
    "  def sqrt(self, x):\n",
    "    \"\"\"\n",
    "    input: int x\n",
    "    return: int\n",
    "    \"\"\"\n",
    "    # write your solution here\n",
    "    if x == 0:\n",
    "      return 0\n",
    "    left,right = 1,x\n",
    "    while left < right-1:\n",
    "      mid  = (left+right)/2\n",
    "      if mid*mid == x:\n",
    "        return mid\n",
    "      elif mid*mid > x:\n",
    "        right = mid\n",
    "      else:\n",
    "        left = mid\n",
    "    if right * right <= x:\n",
    "      return right\n",
    "    return left"
   ]
  },
  {
   "cell_type": "code",
   "execution_count": 128,
   "metadata": {
    "collapsed": true
   },
   "outputs": [],
   "source": [
    "class Solution:\n",
    "    def mySqrt(self, x):\n",
    "        \"\"\"\n",
    "        :type x: int\n",
    "        :rtype: int\n",
    "        \"\"\"\n",
    "        l,r = 0,x\n",
    "        \n",
    "        while l <= r:\n",
    "            mid = (l+r)//2\n",
    "            if  mid**2 <= x < (mid+1)**2:\n",
    "                return mid\n",
    "            elif mid**2 > x:\n",
    "                r = mid - 1\n",
    "            else:\n",
    "                #注意，这里+1非常重要，不+1的话会TIME LIMIT EXCEED\n",
    "                l = mid + 1\n",
    "        return l"
   ]
  },
  {
   "cell_type": "code",
   "execution_count": 129,
   "metadata": {
    "collapsed": false
   },
   "outputs": [
    {
     "data": {
      "text/plain": [
       "4"
      ]
     },
     "execution_count": 129,
     "metadata": {},
     "output_type": "execute_result"
    }
   ],
   "source": [
    "Solution.mySqrt(_,18)"
   ]
  },
  {
   "cell_type": "code",
   "execution_count": null,
   "metadata": {
    "collapsed": true
   },
   "outputs": [],
   "source": []
  },
  {
   "cell_type": "markdown",
   "metadata": {},
   "source": [
    "## Newton's Method  \n",
    "[A refresh of Newton](https://www.math.upenn.edu/~kazdan/202F09/sqrt.pdf)  \n",
    "* Newton Formula 的推导"
   ]
  },
  {
   "cell_type": "code",
   "execution_count": 126,
   "metadata": {
    "collapsed": false
   },
   "outputs": [],
   "source": [
    "class Solution:\n",
    "    def mySqrt(self, x):\n",
    "        \"\"\"\n",
    "        :type x: int\n",
    "        :rtype: int\n",
    "        \n",
    "        \n",
    "        \"\"\"\n",
    "        n = x\n",
    "        epsilon = 0.001\n",
    "        while abs(n*n - x) > epsilon:\n",
    "            n = 0.5*(n+ x/n)\n",
    "            \n",
    "        return int(n)"
   ]
  },
  {
   "cell_type": "code",
   "execution_count": 32,
   "metadata": {
    "collapsed": false
   },
   "outputs": [
    {
     "data": {
      "text/plain": [
       "2"
      ]
     },
     "execution_count": 32,
     "metadata": {},
     "output_type": "execute_result"
    }
   ],
   "source": [
    "Solution.mySqrt(_,5)"
   ]
  },
  {
   "cell_type": "code",
   "execution_count": 35,
   "metadata": {
    "collapsed": false
   },
   "outputs": [],
   "source": [
    "class Solution:\n",
    "    def mySqrt(self, x):\n",
    "        \"\"\"\n",
    "        :type x: int\n",
    "        :rtype: int\n",
    "        \n",
    "        \n",
    "        \"\"\"\n",
    "        if x == 0:\n",
    "            return 0\n",
    "        \n",
    "        n = x\n",
    "        epsilon = 0.00001\n",
    "        while abs(1/(2*n)*(x-n*n)) > epsilon:\n",
    "            n = 0.5*(n+ x/n)\n",
    "            \n",
    "        return int(n)"
   ]
  },
  {
   "cell_type": "code",
   "execution_count": 37,
   "metadata": {
    "collapsed": false
   },
   "outputs": [
    {
     "data": {
      "text/plain": [
       "2"
      ]
     },
     "execution_count": 37,
     "metadata": {},
     "output_type": "execute_result"
    }
   ],
   "source": [
    "Solution.mySqrt(_,5)"
   ]
  },
  {
   "cell_type": "code",
   "execution_count": null,
   "metadata": {
    "collapsed": true
   },
   "outputs": [],
   "source": []
  }
 ],
 "metadata": {
  "kernelspec": {
   "display_name": "Python [Root]",
   "language": "python",
   "name": "Python [Root]"
  },
  "language_info": {
   "codemirror_mode": {
    "name": "ipython",
    "version": 3
   },
   "file_extension": ".py",
   "mimetype": "text/x-python",
   "name": "python",
   "nbconvert_exporter": "python",
   "pygments_lexer": "ipython3",
   "version": "3.5.5"
  }
 },
 "nbformat": 4,
 "nbformat_minor": 0
}
