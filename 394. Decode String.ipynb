{
 "cells": [
  {
   "cell_type": "markdown",
   "metadata": {},
   "source": [
    "## [394. Decode String](https://leetcode.com/problems/decode-string/description/)"
   ]
  },
  {
   "cell_type": "markdown",
   "metadata": {},
   "source": [
    "Given an encoded string, return it's decoded string.\n",
    "\n",
    "The encoding rule is: k[encoded_string], where the encoded_string inside the square brackets is being repeated exactly k times. Note that k is guaranteed to be a positive integer.\n",
    "\n",
    "You may assume that the input string is always valid; No extra white spaces, square brackets are well-formed, etc.\n",
    "\n",
    "Furthermore, you may assume that the original data does not contain any digits and that digits are only for those repeat numbers, k. For example, there won't be input like 3a or 2[4]."
   ]
  },
  {
   "cell_type": "raw",
   "metadata": {},
   "source": [
    "Examples:\n",
    "\n",
    "s = \"3[a]2[bc]\", return \"aaabcbc\".\n",
    "s = \"3[a2[c]]\", return \"accaccacc\".\n",
    "s = \"2[abc]3[cd]ef\", return \"abcabccdcdcdef\"."
   ]
  },
  {
   "cell_type": "code",
   "execution_count": 1,
   "metadata": {
    "collapsed": true
   },
   "outputs": [],
   "source": [
    "class Solution(object):\n",
    "    def decodeString(self, s):\n",
    "        stack = []; curNum = 0; curString = ''\n",
    "        for c in s:\n",
    "            if c == '[':\n",
    "                stack.append(curString)\n",
    "                stack.append(curNum)\n",
    "                curString = ''\n",
    "                curNum = 0\n",
    "            elif c == ']':\n",
    "                num = stack.pop()\n",
    "                prevString = stack.pop()\n",
    "                curString = prevString + num*curString\n",
    "            elif c.isdigit():\n",
    "                curNum = curNum*10 + int(c)\n",
    "            else:\n",
    "                curString += c\n",
    "        return curString"
   ]
  },
  {
   "cell_type": "code",
   "execution_count": null,
   "metadata": {
    "collapsed": true
   },
   "outputs": [],
   "source": []
  }
 ],
 "metadata": {
  "kernelspec": {
   "display_name": "Python [Root]",
   "language": "python",
   "name": "Python [Root]"
  },
  "language_info": {
   "codemirror_mode": {
    "name": "ipython",
    "version": 3
   },
   "file_extension": ".py",
   "mimetype": "text/x-python",
   "name": "python",
   "nbconvert_exporter": "python",
   "pygments_lexer": "ipython3",
   "version": "3.5.5"
  }
 },
 "nbformat": 4,
 "nbformat_minor": 0
}
