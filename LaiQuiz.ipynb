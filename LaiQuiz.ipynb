{
 "cells": [
  {
   "cell_type": "code",
   "execution_count": 18,
   "metadata": {
    "collapsed": true
   },
   "outputs": [],
   "source": [
    "class Student:\n",
    "    stuCount = 0\n",
    "    \n",
    "    def __init__(self,name):\n",
    "        self.name = name\n",
    "        self.grade = {}\n",
    "        Student.stuCount += 1\n",
    "    \n",
    "    def add_grade(self,name,grade):\n",
    "        self.grade[name] = grade\n",
    "    \n",
    "    def display_count(self):\n",
    "        print('Total Count :' , Student.stuCount)\n",
    "    \n",
    "    def display_student(self):\n",
    "        print ('Name: ',self.name,',average grade:',self._get_averageGrade())\n",
    "    \n",
    "    def _get_averageGrade(self):\n",
    "        total_score=0\n",
    "        for class_name in self.grade:\n",
    "            print(class_name)\n",
    "            total_score += self.grade[class_name]\n",
    "        print(self.grade)\n",
    "        return total_score/len(self.grade)"
   ]
  },
  {
   "cell_type": "code",
   "execution_count": 19,
   "metadata": {
    "collapsed": true
   },
   "outputs": [],
   "source": [
    "student_a = Student('John')"
   ]
  },
  {
   "cell_type": "code",
   "execution_count": 20,
   "metadata": {
    "collapsed": true
   },
   "outputs": [],
   "source": [
    "student_b=Student('Sam')"
   ]
  },
  {
   "cell_type": "code",
   "execution_count": 26,
   "metadata": {
    "collapsed": true
   },
   "outputs": [],
   "source": [
    "student_b.add_grade('math',80)\n",
    "student_b.add_grade('math',90)\n",
    "student_b.add_grade('geo',90)"
   ]
  },
  {
   "cell_type": "code",
   "execution_count": 27,
   "metadata": {
    "collapsed": false
   },
   "outputs": [
    {
     "name": "stdout",
     "output_type": "stream",
     "text": [
      "math\n",
      "geo\n",
      "{'math': 90, 'geo': 90}\n",
      "Name:  Sam ,average grade: 90.0\n"
     ]
    }
   ],
   "source": [
    "student_b.display_student()"
   ]
  },
  {
   "cell_type": "code",
   "execution_count": 28,
   "metadata": {
    "collapsed": false
   },
   "outputs": [
    {
     "name": "stdout",
     "output_type": "stream",
     "text": [
      "Total Count : 2\n"
     ]
    }
   ],
   "source": [
    "student_b.display_count()"
   ]
  },
  {
   "cell_type": "code",
   "execution_count": null,
   "metadata": {
    "collapsed": true
   },
   "outputs": [],
   "source": []
  }
 ],
 "metadata": {
  "anaconda-cloud": {},
  "kernelspec": {
   "display_name": "Python [Root]",
   "language": "python",
   "name": "Python [Root]"
  },
  "language_info": {
   "codemirror_mode": {
    "name": "ipython",
    "version": 3
   },
   "file_extension": ".py",
   "mimetype": "text/x-python",
   "name": "python",
   "nbconvert_exporter": "python",
   "pygments_lexer": "ipython3",
   "version": "3.5.5"
  }
 },
 "nbformat": 4,
 "nbformat_minor": 0
}
