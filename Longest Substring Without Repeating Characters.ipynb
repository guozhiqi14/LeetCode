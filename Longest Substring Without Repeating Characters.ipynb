{
 "cells": [
  {
   "cell_type": "markdown",
   "metadata": {},
   "source": [
    "## [Longest Substring Without Repeating Characters](https://leetcode.com/explore/interview/card/top-interview-questions-medium/103/array-and-strings/779/)"
   ]
  },
  {
   "cell_type": "markdown",
   "metadata": {},
   "source": [
    "Given a string, find the length of the longest substring without repeating characters.\n",
    "\n"
   ]
  },
  {
   "cell_type": "raw",
   "metadata": {},
   "source": [
    "Example 1:\n",
    "\n",
    "Input: \"abcabcbb\"\n",
    "Output: 3 \n",
    "Explanation: The answer is \"abc\", with the length of 3. \n",
    "\n",
    "Example 2:\n",
    "\n",
    "Input: \"bbbbb\"\n",
    "Output: 1\n",
    "Explanation: The answer is \"b\", with the length of 1.\n",
    "\n",
    "Example 3:\n",
    "\n",
    "Input: \"pwwkew\"\n",
    "Output: 3\n",
    "Explanation: The answer is \"wke\", with the length of 3. \n",
    "             Note that the answer must be a substring, \"pwke\" is a subsequence and not a substring."
   ]
  },
  {
   "cell_type": "markdown",
   "metadata": {},
   "source": [
    "## [视频](https://www.youtube.com/watch?v=ZlCxw1VUYj0)"
   ]
  },
  {
   "cell_type": "code",
   "execution_count": 1,
   "metadata": {
    "collapsed": true
   },
   "outputs": [],
   "source": [
    "class Solution:\n",
    "    def lengthOfLongestSubstring(self, s):\n",
    "        \"\"\"\n",
    "        :type s: str\n",
    "        :rtype: int\n",
    "        \"\"\"\n",
    "        dictionary = {}\n",
    "        maxLen = 0\n",
    "        pointer = 0\n",
    "        for index,string in enumerate(s):\n",
    "            if string in dictionary:\n",
    "                pointer = max(pointer,dictionary[string]+1)\n",
    "            maxLen = max(maxLen,index-pointer+1)\n",
    "            dictionary[string] = index\n",
    "        return maxLen"
   ]
  },
  {
   "cell_type": "code",
   "execution_count": null,
   "metadata": {
    "collapsed": true
   },
   "outputs": [],
   "source": []
  }
 ],
 "metadata": {
  "kernelspec": {
   "display_name": "Python [Root]",
   "language": "python",
   "name": "Python [Root]"
  },
  "language_info": {
   "codemirror_mode": {
    "name": "ipython",
    "version": 3
   },
   "file_extension": ".py",
   "mimetype": "text/x-python",
   "name": "python",
   "nbconvert_exporter": "python",
   "pygments_lexer": "ipython3",
   "version": "3.5.5"
  }
 },
 "nbformat": 4,
 "nbformat_minor": 0
}
