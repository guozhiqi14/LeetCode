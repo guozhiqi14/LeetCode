{
 "cells": [
  {
   "cell_type": "markdown",
   "metadata": {},
   "source": [
    "## [75. Sort Colors](https://leetcode.com/problems/sort-colors/description/)"
   ]
  },
  {
   "cell_type": "markdown",
   "metadata": {},
   "source": [
    "Given an array with n objects colored red, white or blue, sort them in-place so that objects of the same color are adjacent, with the colors in the order red, white and blue.\n",
    "\n",
    "Here, we will use the integers 0, 1, and 2 to represent the color red, white, and blue respectively.\n",
    "\n",
    "Note: You are not suppose to use the library's sort function for this problem."
   ]
  },
  {
   "cell_type": "raw",
   "metadata": {},
   "source": [
    "Example:\n",
    "\n",
    "Input: [2,0,2,1,1,0]\n",
    "Output: [0,0,1,1,2,2]"
   ]
  },
  {
   "cell_type": "markdown",
   "metadata": {},
   "source": [
    "Follow up:\n",
    "\n",
    "* A rather straight forward solution is a two-pass algorithm using counting sort.\n",
    "* First, iterate the array counting number of 0's, 1's, and 2's, then overwrite array with total number of 0's, then 1's and followed by 2's.\n",
    "Could you come up with a one-pass algorithm using only constant space?"
   ]
  },
  {
   "cell_type": "markdown",
   "metadata": {},
   "source": [
    "## 第一种 two pass"
   ]
  },
  {
   "cell_type": "code",
   "execution_count": 4,
   "metadata": {
    "collapsed": true
   },
   "outputs": [],
   "source": [
    "class Solution:\n",
    "    def sortColors(self, nums):\n",
    "        \"\"\"\n",
    "        :type nums: List[int]\n",
    "        :rtype: void Do not return anything, modify nums in-place instead.\n",
    "        \"\"\"\n",
    "        red = 0\n",
    "        white = 0\n",
    "        blue = 0\n",
    "        \n",
    "        for i in nums:\n",
    "            if i == 0:\n",
    "                red +=1\n",
    "            elif i == 1:\n",
    "                white +=1\n",
    "            else:\n",
    "                blue +=1\n",
    "        for j in range(len(nums)):\n",
    "            if j <= red-1:\n",
    "                nums[j] = 0\n",
    "            elif  red<=j<red+white:\n",
    "                nums[j] = 1\n",
    "            else:\n",
    "                nums[j] = 2\n",
    "        return nums"
   ]
  },
  {
   "cell_type": "code",
   "execution_count": 5,
   "metadata": {
    "collapsed": false
   },
   "outputs": [
    {
     "data": {
      "text/plain": [
       "[0, 0, 1, 1, 2, 2]"
      ]
     },
     "execution_count": 5,
     "metadata": {},
     "output_type": "execute_result"
    }
   ],
   "source": [
    "Solution.sortColors(_,[2,0,2,1,1,0])"
   ]
  },
  {
   "cell_type": "code",
   "execution_count": null,
   "metadata": {
    "collapsed": true
   },
   "outputs": [],
   "source": []
  },
  {
   "cell_type": "markdown",
   "metadata": {},
   "source": [
    "## 第二种 one pass"
   ]
  },
  {
   "cell_type": "code",
   "execution_count": 11,
   "metadata": {
    "collapsed": true
   },
   "outputs": [],
   "source": [
    "class Solution:\n",
    "    def sortColors(self, nums):\n",
    "        \"\"\"\n",
    "        :type nums: List[int]\n",
    "        :rtype: void Do not return anything, modify nums in-place instead.\n",
    "        \"\"\"\n",
    "        red, white, blue = 0,0,len(nums)-1\n",
    "        \n",
    "        while white <= blue:\n",
    "            if nums[white] == 0:\n",
    "                nums[white],nums[red] = nums[red],nums[white]\n",
    "                red+=1\n",
    "                white+=1\n",
    "            elif nums[white] == 1:\n",
    "                white += 1\n",
    "            else:\n",
    "                nums[white],nums[blue] = nums[blue],nums[white]\n",
    "                blue -= 1\n",
    "        return nums\n",
    "        "
   ]
  },
  {
   "cell_type": "code",
   "execution_count": 12,
   "metadata": {
    "collapsed": false
   },
   "outputs": [
    {
     "data": {
      "text/plain": [
       "[0, 0, 1, 1, 2, 2]"
      ]
     },
     "execution_count": 12,
     "metadata": {},
     "output_type": "execute_result"
    }
   ],
   "source": [
    "Solution.sortColors(_,[2,0,2,1,1,0])"
   ]
  },
  {
   "cell_type": "markdown",
   "metadata": {},
   "source": [
    "## [Two Pointers](https://blog.csdn.net/NXHYD/article/details/71588665)"
   ]
  },
  {
   "cell_type": "markdown",
   "metadata": {},
   "source": [
    "## 注意 blue 里的current 指针不会向前，具体解释看下面：   \n",
    "\n",
    "利用快速排序partition过程的思想，我们可以把数组分成三部分，前部（全部是0），中部（全部是1）和后部（全部是2），每一个元素必属于其中之一。当我们把前部和后部各排在数组的前边和后边，中部自然就排好了。\n",
    "\n",
    "设置两个指针begin和end，begin指向前部末尾的下一个元素（刚开始默认前部无0，所以begin指向第一个位置），end指向后部开头的前一个位置（刚开始默认后部无2，所以end指向最后一个位置），然后设置一个遍历指针current，从头开始进行遍历。\n",
    "\n",
    "若遍历到的位置为1，则说明它一定属于中部，中部的我们都不动，然后current继续向后移动一个位置。\n",
    "\n",
    "若遍历到的位置为0，则说明它一定属于前部，于是就和begin位置进行交换，然后begin向后移动一个位置。由于从begin位置交换过来的元素一定是已经遍历过的元素，所以current也向后移动一个位置。\n",
    "\n",
    "[若遍历到的位置为2，则说明它一定属于后部，于是就和end位置进行交换，然后end向前移动一个位置。由于从end位置交换过来的元素我们并没有遍历过，它可能是属于前部的，所以此时current并不向后移动。](https://www.jianshu.com/p/9074d02f781e)\n",
    "\n"
   ]
  },
  {
   "cell_type": "code",
   "execution_count": 47,
   "metadata": {
    "collapsed": false
   },
   "outputs": [],
   "source": [
    "class Solution(object):\n",
    "    def sortColors(self, nums):\n",
    "        \"\"\"\n",
    "        :type nums: List[int]\n",
    "        :rtype: void Do not return anything, modify nums in-place instead.\n",
    "        \"\"\"\n",
    "        if nums== []:\n",
    "            return \n",
    "        red = 0\n",
    "        blue = len(nums) - 1\n",
    "        i = 0\n",
    "        while i <= blue:\n",
    "            if nums[i] == 2:\n",
    "                nums[i], nums[blue] = nums[blue], nums[i]\n",
    "                blue -= 1\n",
    "#                 i+=1\n",
    "            elif nums[i] == 0:\n",
    "                nums[i], nums[red] = nums[red], nums[i]\n",
    "                red +=1\n",
    "                i += 1\n",
    "            else:\n",
    "                i += 1\n",
    "        return nums"
   ]
  },
  {
   "cell_type": "code",
   "execution_count": 48,
   "metadata": {
    "collapsed": false
   },
   "outputs": [
    {
     "data": {
      "text/plain": [
       "[0, 1, 2]"
      ]
     },
     "execution_count": 48,
     "metadata": {},
     "output_type": "execute_result"
    }
   ],
   "source": [
    "Solution.sortColors(_,[1,2,0])"
   ]
  },
  {
   "cell_type": "code",
   "execution_count": null,
   "metadata": {
    "collapsed": true
   },
   "outputs": [],
   "source": []
  },
  {
   "cell_type": "code",
   "execution_count": null,
   "metadata": {
    "collapsed": true
   },
   "outputs": [],
   "source": []
  }
 ],
 "metadata": {
  "kernelspec": {
   "display_name": "Python [Root]",
   "language": "python",
   "name": "Python [Root]"
  },
  "language_info": {
   "codemirror_mode": {
    "name": "ipython",
    "version": 3
   },
   "file_extension": ".py",
   "mimetype": "text/x-python",
   "name": "python",
   "nbconvert_exporter": "python",
   "pygments_lexer": "ipython3",
   "version": "3.5.5"
  }
 },
 "nbformat": 4,
 "nbformat_minor": 0
}
