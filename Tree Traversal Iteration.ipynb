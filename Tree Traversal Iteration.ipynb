{
 "cells": [
  {
   "cell_type": "markdown",
   "metadata": {},
   "source": [
    "### Pre-Order"
   ]
  },
  {
   "cell_type": "code",
   "execution_count": 8,
   "metadata": {
    "collapsed": true
   },
   "outputs": [],
   "source": [
    "class treeNode(object):\n",
    "    def __init__(self,x):\n",
    "        self.val = x\n",
    "        self.left = None\n",
    "        self.right = None"
   ]
  },
  {
   "cell_type": "code",
   "execution_count": 9,
   "metadata": {
    "collapsed": false
   },
   "outputs": [],
   "source": [
    "root = treeNode('A')\n",
    "root.left = treeNode('B')\n",
    "root.right = treeNode('C')\n",
    "root.right.left = treeNode('D')\n",
    "root.right.right = treeNode('E')"
   ]
  },
  {
   "cell_type": "code",
   "execution_count": 14,
   "metadata": {
    "collapsed": true
   },
   "outputs": [],
   "source": [
    "def preorder_traversal(root):\n",
    "    output = []\n",
    "    if not root:\n",
    "        return output\n",
    "    stack = [(root,1)]\n",
    "    while stack:\n",
    "        node,count = stack.pop()\n",
    "        if count == 1:\n",
    "            output.append(node.val)\n",
    "            stack.append((node,count+1))\n",
    "            if node.left:\n",
    "                stack.append((node.left,1))\n",
    "        if count == 2:\n",
    "            if node.right:\n",
    "                stack.append((node.right,1))\n",
    "    return output"
   ]
  },
  {
   "cell_type": "code",
   "execution_count": 15,
   "metadata": {
    "collapsed": false
   },
   "outputs": [
    {
     "data": {
      "text/plain": [
       "['A', 'B', 'C', 'D', 'E']"
      ]
     },
     "execution_count": 15,
     "metadata": {},
     "output_type": "execute_result"
    }
   ],
   "source": [
    "preorder_traversal(root)"
   ]
  },
  {
   "cell_type": "code",
   "execution_count": null,
   "metadata": {
    "collapsed": true
   },
   "outputs": [],
   "source": []
  },
  {
   "cell_type": "code",
   "execution_count": null,
   "metadata": {
    "collapsed": true
   },
   "outputs": [],
   "source": []
  },
  {
   "cell_type": "code",
   "execution_count": 27,
   "metadata": {
    "collapsed": true
   },
   "outputs": [],
   "source": [
    "def inorder_traversal(root):\n",
    "    output = []\n",
    "    if not root:\n",
    "        return output\n",
    "    stack = [(root,1)]\n",
    "    \n",
    "    while stack:\n",
    "        node,count = stack.pop()\n",
    "        if count == 2:\n",
    "            output.append(node.val)\n",
    "            if node.right:\n",
    "                stack.append((node.right,1))\n",
    "        if count == 1:\n",
    "            stack.append((node,count+1))\n",
    "            if node.left:\n",
    "                stack.append((node.left,1))\n",
    "                \n",
    "    return output"
   ]
  },
  {
   "cell_type": "code",
   "execution_count": 28,
   "metadata": {
    "collapsed": false
   },
   "outputs": [
    {
     "data": {
      "text/plain": [
       "['B', 'A', 'D', 'C', 'E']"
      ]
     },
     "execution_count": 28,
     "metadata": {},
     "output_type": "execute_result"
    }
   ],
   "source": [
    "inorder_traversal(root)"
   ]
  },
  {
   "cell_type": "code",
   "execution_count": null,
   "metadata": {
    "collapsed": true
   },
   "outputs": [],
   "source": []
  },
  {
   "cell_type": "code",
   "execution_count": 31,
   "metadata": {
    "collapsed": true
   },
   "outputs": [],
   "source": [
    "def postorder_traversal(root):\n",
    "    output = []\n",
    "    if not root:\n",
    "        return output\n",
    "    stack = [(root,1)]\n",
    "    \n",
    "    while stack:\n",
    "        node,count = stack.pop()\n",
    "        if count == 3:\n",
    "            output.append(node.val)\n",
    "        if count == 1:\n",
    "            stack.append((node,count+1))\n",
    "            if node.left:\n",
    "                stack.append((node.left,1))\n",
    "        if count == 2:\n",
    "            stack.append((node,count+1))\n",
    "            if node.right:\n",
    "                stack.append((node.right,1))\n",
    "    return output"
   ]
  },
  {
   "cell_type": "code",
   "execution_count": 32,
   "metadata": {
    "collapsed": false
   },
   "outputs": [
    {
     "data": {
      "text/plain": [
       "['B', 'D', 'E', 'C', 'A']"
      ]
     },
     "execution_count": 32,
     "metadata": {},
     "output_type": "execute_result"
    }
   ],
   "source": [
    "postorder_traversal(root)"
   ]
  },
  {
   "cell_type": "code",
   "execution_count": null,
   "metadata": {
    "collapsed": true
   },
   "outputs": [],
   "source": []
  }
 ],
 "metadata": {
  "kernelspec": {
   "display_name": "Python [Root]",
   "language": "python",
   "name": "Python [Root]"
  },
  "language_info": {
   "codemirror_mode": {
    "name": "ipython",
    "version": 3
   },
   "file_extension": ".py",
   "mimetype": "text/x-python",
   "name": "python",
   "nbconvert_exporter": "python",
   "pygments_lexer": "ipython3",
   "version": "3.5.5"
  }
 },
 "nbformat": 4,
 "nbformat_minor": 0
}
