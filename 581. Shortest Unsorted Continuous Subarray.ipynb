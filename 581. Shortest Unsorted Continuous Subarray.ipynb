{
 "cells": [
  {
   "cell_type": "markdown",
   "metadata": {},
   "source": [
    "[581. Shortest Unsorted Continuous Subarray](https://leetcode.com/problems/shortest-unsorted-continuous-subarray/description/)"
   ]
  },
  {
   "cell_type": "markdown",
   "metadata": {},
   "source": [
    "Given an integer array, you need to find one continuous subarray that if you only sort this subarray in ascending order, then the whole array will be sorted in ascending order, too.\n",
    "\n",
    "You need to find the shortest such subarray and output its length.\n",
    "\n"
   ]
  },
  {
   "cell_type": "raw",
   "metadata": {},
   "source": [
    "Example 1:\n",
    "Input: [2, 6, 4, 8, 10, 9, 15]\n",
    "Output: 5\n",
    "Explanation: You need to sort [6, 4, 8, 10, 9] in ascending order to make the whole array sorted in ascending order."
   ]
  },
  {
   "cell_type": "markdown",
   "metadata": {},
   "source": [
    "Note:   \n",
    "\n",
    "1. Then length of the input array is in range [1, 10,000].\n",
    "2. The input array may contain duplicates, so ascending order here means <=.\n"
   ]
  },
  {
   "cell_type": "code",
   "execution_count": null,
   "metadata": {
    "collapsed": true
   },
   "outputs": [],
   "source": []
  },
  {
   "cell_type": "markdown",
   "metadata": {},
   "source": [
    "## 第一种: Sort 之后找到最小的尾和最大的头   \n",
    "Complexity Analysis\n",
    "\n",
    "Time complexity : O(nlogn)O(nlogn). Sorting takes nlognnlogn time.\n",
    "\n",
    "Space complexity : O(n)O(n). We are making copy of original array."
   ]
  },
  {
   "cell_type": "code",
   "execution_count": 55,
   "metadata": {
    "collapsed": true
   },
   "outputs": [],
   "source": [
    "class Solution:\n",
    "    def findUnsortedSubarray(self, nums):\n",
    "        \"\"\"\n",
    "        :type nums: List[int]\n",
    "        :rtype: int\n",
    "        \"\"\"\n",
    "        start = len(nums)\n",
    "        end = 0\n",
    "        sorted_lst = sorted(nums)\n",
    "        \n",
    "        if sorted_lst == nums:\n",
    "            return 0\n",
    "        else:\n",
    "            for i in range(len(nums)):\n",
    "                if nums[i] != sorted_lst[i]:\n",
    "                    start = min(start,i)\n",
    "                    end = max(end,i)\n",
    "            return end-start+1\n",
    "            "
   ]
  },
  {
   "cell_type": "code",
   "execution_count": 56,
   "metadata": {
    "collapsed": false
   },
   "outputs": [
    {
     "data": {
      "text/plain": [
       "5"
      ]
     },
     "execution_count": 56,
     "metadata": {},
     "output_type": "execute_result"
    }
   ],
   "source": [
    "Solution.findUnsortedSubarray(_, [2, 6, 4, 8, 10, 9, 15])\n"
   ]
  },
  {
   "cell_type": "code",
   "execution_count": 61,
   "metadata": {
    "collapsed": false
   },
   "outputs": [
    {
     "data": {
      "text/plain": [
       "6"
      ]
     },
     "execution_count": 61,
     "metadata": {},
     "output_type": "execute_result"
    }
   ],
   "source": [
    "Solution.findUnsortedSubarray(_, [1, 3, 7, 2, 5, 4, 6, 10])\n"
   ]
  },
  {
   "cell_type": "code",
   "execution_count": null,
   "metadata": {
    "collapsed": true
   },
   "outputs": [],
   "source": []
  },
  {
   "cell_type": "markdown",
   "metadata": {},
   "source": [
    "## [第二种方法] (https://leetcode.com/problems/shortest-unsorted-continuous-subarray/discuss/103067/Python-O(N)-with-O(1)-space-complexity.-No-sorting)"
   ]
  },
  {
   "cell_type": "code",
   "execution_count": 80,
   "metadata": {
    "collapsed": true
   },
   "outputs": [],
   "source": [
    "class Solution:\n",
    "    def findUnsortedSubarray(self, nums):\n",
    "        \"\"\"\n",
    "        :type nums: List[int]\n",
    "        :rtype: int\n",
    "        \"\"\"\n",
    "        if len(nums) < 2: return 0\n",
    "        \n",
    "        l,r = 0, len(nums)-1\n",
    "        \n",
    "        '''\n",
    "        Note that: in the while loop, \n",
    "         l < len(nums)-1 and nums[l] <= nums[l+1]\n",
    "         should be in the same statement, otherwise it won't terminate.\n",
    "        '''\n",
    "        while l < len(nums)-1 and nums[l] <= nums[l+1]:\n",
    "            #if nums[l] <= nums[l+1]:\n",
    "            #   l += 1\n",
    "            l += 1\n",
    "            \n",
    "        while r > 0 and nums[r-1] <= nums[r]:\n",
    "            #if nums[r-1] <= nums[r]:\n",
    "            r -= 1\n",
    "        \n",
    "        if l > r:\n",
    "            return 0\n",
    "        \n",
    "        unsort_min = min(nums[l:r+1])\n",
    "        unsort_max = max(nums[l:r+1])\n",
    "        \n",
    "        while l > 0 and nums[l-1] > unsort_min:\n",
    "            #if nums[l-1] > unsort_min:\n",
    "            l -= 1\n",
    "        \n",
    "        while r < len(nums)-1 and nums[r+1] < unsort_max:\n",
    "            #if nums[r+1] < unsort_max:\n",
    "            r += 1\n",
    "        return r-l+1"
   ]
  },
  {
   "cell_type": "code",
   "execution_count": 81,
   "metadata": {
    "collapsed": false
   },
   "outputs": [
    {
     "data": {
      "text/plain": [
       "6"
      ]
     },
     "execution_count": 81,
     "metadata": {},
     "output_type": "execute_result"
    }
   ],
   "source": [
    "Solution.findUnsortedSubarray(_, [1, 3, 7, 2, 5, 4, 6, 10])\n"
   ]
  },
  {
   "cell_type": "code",
   "execution_count": 82,
   "metadata": {
    "collapsed": false
   },
   "outputs": [
    {
     "data": {
      "text/plain": [
       "4"
      ]
     },
     "execution_count": 82,
     "metadata": {},
     "output_type": "execute_result"
    }
   ],
   "source": [
    "Solution.findUnsortedSubarray(_, [3,1,6,5,8,9])\n"
   ]
  },
  {
   "cell_type": "code",
   "execution_count": null,
   "metadata": {
    "collapsed": true
   },
   "outputs": [],
   "source": []
  },
  {
   "cell_type": "code",
   "execution_count": null,
   "metadata": {
    "collapsed": true
   },
   "outputs": [],
   "source": []
  },
  {
   "cell_type": "code",
   "execution_count": null,
   "metadata": {
    "collapsed": true
   },
   "outputs": [],
   "source": []
  }
 ],
 "metadata": {
  "kernelspec": {
   "display_name": "Python [Root]",
   "language": "python",
   "name": "Python [Root]"
  },
  "language_info": {
   "codemirror_mode": {
    "name": "ipython",
    "version": 3
   },
   "file_extension": ".py",
   "mimetype": "text/x-python",
   "name": "python",
   "nbconvert_exporter": "python",
   "pygments_lexer": "ipython3",
   "version": "3.5.4"
  }
 },
 "nbformat": 4,
 "nbformat_minor": 0
}
