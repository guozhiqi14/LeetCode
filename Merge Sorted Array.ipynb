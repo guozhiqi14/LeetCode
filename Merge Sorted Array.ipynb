{
 "cells": [
  {
   "cell_type": "markdown",
   "metadata": {},
   "source": [
    "## [Merge Sorted Array](https://leetcode.com/problems/merge-sorted-array/description/)"
   ]
  },
  {
   "cell_type": "markdown",
   "metadata": {},
   "source": [
    "Given two sorted integer arrays nums1 and nums2, merge nums2 into nums1 as one sorted array.\n",
    "\n",
    "Note:\n",
    "\n",
    "* The number of elements initialized in nums1 and nums2 are m and n respectively.\n",
    "* You may assume that nums1 has enough space (size that is greater or equal to m + n) to hold additional elements from nums2."
   ]
  },
  {
   "cell_type": "raw",
   "metadata": {},
   "source": [
    "Input:\n",
    "nums1 = [1,2,3,0,0,0], m = 3\n",
    "nums2 = [2,5,6],       n = 3\n",
    "\n",
    "Output: [1,2,2,3,5,6]"
   ]
  },
  {
   "cell_type": "markdown",
   "metadata": {},
   "source": [
    "解题思路   \n",
    "\n",
    "\n",
    "知道两个数组原先的长度，就可以知道合并后的长度，倒叙遍历两个数组，大的数优先放到合并后的数组对应下标处。如果第一个数组先遍历完，那应该把第二个数组剩下的元素复制过来；如果第二个先遍历玩，就不用变化了，因为第一个数组剩余的元素已经在目标位置。\n"
   ]
  },
  {
   "cell_type": "code",
   "execution_count": 12,
   "metadata": {
    "collapsed": true
   },
   "outputs": [],
   "source": [
    "class Solution:\n",
    "    def merge(self, nums1, m, nums2, n):\n",
    "        \"\"\"\n",
    "        :type nums1: List[int]\n",
    "        :type m: int\n",
    "        :type nums2: List[int]\n",
    "        :type n: int\n",
    "        :rtype: void Do not return anything, modify nums1 in-place instead.\n",
    "        \"\"\"\n",
    "        while m > 0 and n > 0:\n",
    "            if nums1[m-1] < nums2[n-1]:\n",
    "                nums1[m+n-1] = nums2[n-1]\n",
    "                n-=1\n",
    "            else:\n",
    "                nums1[m+n-1] = nums1[m-1]\n",
    "                m-=1\n",
    "        if n > 0:\n",
    "            nums1[:n] = nums2[:n]\n",
    "        \n",
    "        return nums1"
   ]
  },
  {
   "cell_type": "code",
   "execution_count": 32,
   "metadata": {
    "collapsed": false
   },
   "outputs": [],
   "source": [
    "nums1 = [1,2,3,7,0,0,0]\n",
    "m = 4\n",
    "nums2 = [2,5,6]\n",
    "n = 3"
   ]
  },
  {
   "cell_type": "code",
   "execution_count": 20,
   "metadata": {
    "collapsed": false
   },
   "outputs": [
    {
     "data": {
      "text/plain": [
       "[1, 2, 2, 3, 5, 6, 7]"
      ]
     },
     "execution_count": 20,
     "metadata": {},
     "output_type": "execute_result"
    }
   ],
   "source": [
    "Solution.merge(_,nums1,m,nums2,n)"
   ]
  },
  {
   "cell_type": "raw",
   "metadata": {},
   "source": [
    "Input:\n",
    "nums1 = [1,2,3,0,0,0], m = 3\n",
    "nums2 = [2,5,6],       n = 3\n",
    "\n",
    "Output: [1,2,2,3,5,6]"
   ]
  },
  {
   "cell_type": "code",
   "execution_count": 33,
   "metadata": {
    "collapsed": true
   },
   "outputs": [],
   "source": [
    "class solution:\n",
    "    '''\n",
    "    倒叙遍历\n",
    "    '''\n",
    "    def mergelst(self,lst1,m,lst2,n):\n",
    "        while m > 0 and n > 0:\n",
    "            if nums1[m-1] < nums2[n-1]:\n",
    "                nums1[m+n-1] = nums2[n-1]\n",
    "                n-=1\n",
    "            else:\n",
    "                nums1[m+n-1] = nums1[m-1]\n",
    "                m-=1\n",
    "        if n > 0:\n",
    "            nums1[:n] = nums2[:n]\n",
    "        \n",
    "        return nums1"
   ]
  },
  {
   "cell_type": "code",
   "execution_count": 34,
   "metadata": {
    "collapsed": false
   },
   "outputs": [
    {
     "data": {
      "text/plain": [
       "[1, 2, 2, 3, 5, 6, 7]"
      ]
     },
     "execution_count": 34,
     "metadata": {},
     "output_type": "execute_result"
    }
   ],
   "source": [
    "solution.mergelst(_,nums1,m,nums2,n)"
   ]
  },
  {
   "cell_type": "code",
   "execution_count": null,
   "metadata": {
    "collapsed": true
   },
   "outputs": [],
   "source": []
  }
 ],
 "metadata": {
  "kernelspec": {
   "display_name": "Python [Root]",
   "language": "python",
   "name": "Python [Root]"
  },
  "language_info": {
   "codemirror_mode": {
    "name": "ipython",
    "version": 3
   },
   "file_extension": ".py",
   "mimetype": "text/x-python",
   "name": "python",
   "nbconvert_exporter": "python",
   "pygments_lexer": "ipython3",
   "version": "3.5.5"
  }
 },
 "nbformat": 4,
 "nbformat_minor": 0
}
