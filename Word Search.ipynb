{
 "cells": [
  {
   "cell_type": "markdown",
   "metadata": {},
   "source": [
    "## [Word Search](https://leetcode.com/explore/interview/card/top-interview-questions-medium/109/backtracking/797/)"
   ]
  },
  {
   "cell_type": "markdown",
   "metadata": {},
   "source": [
    "Given a 2D board and a word, find if the word exists in the grid.\n",
    "\n",
    "The word can be constructed from letters of sequentially adjacent cell, where \"adjacent\" cells are those horizontally or vertically neighboring. The same letter cell may not be used more than once."
   ]
  },
  {
   "cell_type": "raw",
   "metadata": {},
   "source": [
    "Example:\n",
    "\n",
    "board =\n",
    "[\n",
    "  ['A','B','C','E'],\n",
    "  ['S','F','C','S'],\n",
    "  ['A','D','E','E']\n",
    "]\n",
    "\n",
    "Given word = \"ABCCED\", return true.\n",
    "Given word = \"SEE\", return true.\n",
    "Given word = \"ABCB\", return false."
   ]
  },
  {
   "cell_type": "markdown",
   "metadata": {},
   "source": [
    "### [视频](https://www.youtube.com/watch?v=oUeGFKZvoo4)"
   ]
  },
  {
   "cell_type": "code",
   "execution_count": 1,
   "metadata": {
    "collapsed": true
   },
   "outputs": [],
   "source": [
    "class Solution:\n",
    "    def exist(self, board, word):\n",
    "        \"\"\"\n",
    "        :type board: List[List[str]]\n",
    "        :type word: str\n",
    "        :rtype: bool\n",
    "        \"\"\"\n",
    "        if not word or not board:\n",
    "            return False\n",
    "        #four direction\n",
    "        dx,dy = [0,0,-1,1],[-1,1,0,0]\n",
    "        \n",
    "        def bt(x,y,p,visited):\n",
    "            visited.add((x,y))\n",
    "            if p == len(word) -1:\n",
    "                return True\n",
    "            for d in range(4):\n",
    "                nx,ny = x+dx[d],y+dy[d]\n",
    "                if 0<=nx<len(board) and 0<=ny<len(board[0]) and (nx,ny) not in visited and board[nx][ny] == word[p+1]:\n",
    "                    if bt(nx,ny,p+1,visited):\n",
    "                        return True\n",
    "            visited.discard((x,y))\n",
    "            return False\n",
    "        \n",
    "        for i in range(len(board)):\n",
    "            for j in range(len(board[0])):\n",
    "                if board[i][j] == word[0]:\n",
    "                    visited = set()\n",
    "                    if bt(i,j,0,visited):\n",
    "                        return True\n",
    "        return False"
   ]
  },
  {
   "cell_type": "code",
   "execution_count": 16,
   "metadata": {
    "collapsed": false
   },
   "outputs": [],
   "source": [
    "class Solution:\n",
    "    def exist(self, board, word):\n",
    "        \"\"\"\n",
    "        :type board: List[List[str]]\n",
    "        :type word: str\n",
    "        :rtype: bool\n",
    "        \"\"\"\n",
    "        row = len(board)\n",
    "        col = len(board[0])\n",
    "        \n",
    "        for i in range(row):\n",
    "            for j in range(col):\n",
    "                if self.search(row,col,i,j,board,0,word):\n",
    "                    return True\n",
    "        return False\n",
    "        \n",
    "    def search(self,row,col,x,y,board,d,word):\n",
    "        if x < 0 or x > row-1 or y < 0 or y > col-1 or word[d] != board[x][y]:\n",
    "            return False\n",
    "        if d == len(word)-1:\n",
    "            return True\n",
    "        \n",
    "        temp = board[x][y]\n",
    "        board[x][y] = '#'\n",
    "        res = self.search(row,col,x+1,y,board,d+1,word) or self.search(row,col,x,y+1,board,d+1,word) \\\n",
    "    or self.search(row,col,x-1,y,board,d+1,word) or self.search(row,col,x,y-1,board,d+1,word)\n",
    "        board[x][y] = temp\n",
    "        return res"
   ]
  }
 ],
 "metadata": {
  "kernelspec": {
   "display_name": "Python [Root]",
   "language": "python",
   "name": "Python [Root]"
  },
  "language_info": {
   "codemirror_mode": {
    "name": "ipython",
    "version": 3
   },
   "file_extension": ".py",
   "mimetype": "text/x-python",
   "name": "python",
   "nbconvert_exporter": "python",
   "pygments_lexer": "ipython3",
   "version": "3.5.5"
  }
 },
 "nbformat": 4,
 "nbformat_minor": 0
}
