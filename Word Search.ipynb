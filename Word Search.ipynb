{
 "cells": [
  {
   "cell_type": "markdown",
   "metadata": {},
   "source": [
    "## [Word Search](https://leetcode.com/explore/interview/card/top-interview-questions-medium/109/backtracking/797/)"
   ]
  },
  {
   "cell_type": "markdown",
   "metadata": {},
   "source": [
    "Given a 2D board and a word, find if the word exists in the grid.\n",
    "\n",
    "The word can be constructed from letters of sequentially adjacent cell, where \"adjacent\" cells are those horizontally or vertically neighboring. The same letter cell may not be used more than once."
   ]
  },
  {
   "cell_type": "raw",
   "metadata": {},
   "source": [
    "Example:\n",
    "\n",
    "board =\n",
    "[\n",
    "  ['A','B','C','E'],\n",
    "  ['S','F','C','S'],\n",
    "  ['A','D','E','E']\n",
    "]\n",
    "\n",
    "Given word = \"ABCCED\", return true.\n",
    "Given word = \"SEE\", return true.\n",
    "Given word = \"ABCB\", return false."
   ]
  },
  {
   "cell_type": "markdown",
   "metadata": {},
   "source": [
    "### [视频](https://www.youtube.com/watch?v=oUeGFKZvoo4)"
   ]
  },
  {
   "cell_type": "code",
   "execution_count": 7,
   "metadata": {
    "collapsed": false
   },
   "outputs": [],
   "source": [
    "class Solution:\n",
    "    def exist(self, board, word):\n",
    "        \"\"\"\n",
    "        :type board: List[List[str]]\n",
    "        :type word: str\n",
    "        :rtype: bool\n",
    "        \"\"\"\n",
    "        row = len(board)\n",
    "        col = len(board[0])\n",
    "        self.wordLen = len(word)\n",
    "        self.word = word\n",
    "        self.board = board\n",
    "        \n",
    "        for i in range(row):\n",
    "            for j in range(col):\n",
    "                if self.search(row,col,i,j,0):\n",
    "                    return True\n",
    "        return False\n",
    "    def search(self,row,col,x,y,d):\n",
    "        if x < 0 or x > row-1 or y < 0 or y > col-1:\n",
    "            return False\n",
    "        if self.word[d] != self.board[x][y]:\n",
    "            return False\n",
    "        if d == self.wordLen-1:\n",
    "            return True\n",
    "        tmp = self.board[x][y]  # first character is found, check the remaining part\n",
    "        self.board[x][y] = \"#\"\n",
    "        res = self.search(row,col,x-1,y,d+1) or self.search(row,col,x+1,y,d+1) or self.search(row,col,x,y-1,d+1) or self.search(row,col,x,y+1,d+1)\n",
    "        self.board[x][y] = tmp\n",
    "        return res"
   ]
  },
  {
   "cell_type": "code",
   "execution_count": null,
   "metadata": {
    "collapsed": true
   },
   "outputs": [],
   "source": []
  }
 ],
 "metadata": {
  "kernelspec": {
   "display_name": "Python [Root]",
   "language": "python",
   "name": "Python [Root]"
  },
  "language_info": {
   "codemirror_mode": {
    "name": "ipython",
    "version": 3
   },
   "file_extension": ".py",
   "mimetype": "text/x-python",
   "name": "python",
   "nbconvert_exporter": "python",
   "pygments_lexer": "ipython3",
   "version": "3.5.5"
  }
 },
 "nbformat": 4,
 "nbformat_minor": 0
}
